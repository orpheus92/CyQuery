{
 "cells": [
  {
   "cell_type": "code",
   "execution_count": 1,
   "metadata": {},
   "outputs": [],
   "source": [
    "import topopy\n",
    "from test_functions import *\n",
    "import matplotlib.pyplot as plt\n",
    "import samplers\n",
    "import seaborn as sns\n",
    "from matplotlib import patches, collections\n",
    "import numpy as np\n",
    "from ipywidgets import interact, HTML\n",
    "\n"
   ]
  },
  {
   "cell_type": "code",
   "execution_count": 2,
   "metadata": {},
   "outputs": [],
   "source": [
    "from sidepanel import SidePanel\n",
    "import ipywidgets as widgets\n",
    "\n",
    "from regulus.utils import io\n",
    "from regulus.topo import * \n",
    "from regulus.alg import *\n",
    "from regulus.measures import *\n",
    "from regulus.models import *\n",
    "from regulus.tree import *\n",
    "\n",
    "from ipyregulus import TreeWidget, TreeView, DetailsView, DataWidget\n",
    "from ipyregulus.filters.filters import * \n",
    "from ipyregulus.filters.monitor import Monitor\n",
    "from ipyregulus.tree.has_tree import *\n",
    "from ipyregulus.alg.view import *"
   ]
  },
  {
   "cell_type": "code",
   "execution_count": 3,
   "metadata": {},
   "outputs": [],
   "source": [
    "test_function = gerber_different_heights\n",
    "\n",
    "samples = 50\n",
    "\n"
   ]
  },
  {
   "cell_type": "code",
   "execution_count": 4,
   "metadata": {},
   "outputs": [],
   "source": [
    "X = samplers.CVTSampler.generate_samples(samples, 2, 1)\n",
    "Y = test_function(X)\n",
    "Y = (Y - np.min(Y)) / (np.max(Y) - np.min(Y))\n",
    "msc = topopy.MorseSmaleComplex(graph=\"beta skeleton\", gradient=\"steepest\", max_neighbors=8, beta=1.0)\n",
    "msc.build(X, Y)\n"
   ]
  },
  {
   "cell_type": "code",
   "execution_count": 5,
   "metadata": {},
   "outputs": [],
   "source": [
    "all_pts = np.hstack((X,np.expand_dims(Y, axis=1)))"
   ]
  },
  {
   "cell_type": "code",
   "execution_count": 19,
   "metadata": {},
   "outputs": [
    {
     "data": {
      "text/plain": [
       "(50, 1)"
      ]
     },
     "execution_count": 19,
     "metadata": {},
     "output_type": "execute_result"
    }
   ],
   "source": []
  },
  {
   "cell_type": "markdown",
   "metadata": {},
   "source": [
    "# NEW PART IN REG to create pts at runtime "
   ]
  },
  {
   "cell_type": "code",
   "execution_count": 6,
   "metadata": {},
   "outputs": [
    {
     "name": "stdout",
     "output_type": "stream",
     "text": [
      "found 2 singles\n",
      "len(idx)= 48\n"
     ]
    },
    {
     "name": "stderr",
     "output_type": "stream",
     "text": [
      "/media/orpheus92/OS/conda/envs/regulus/lib/python3.6/site-packages/numpy/core/fromnumeric.py:51: FutureWarning: 'argmin' is deprecated, use 'idxmin' instead. The behavior of 'argmin'\n",
      "will be corrected to return the positional minimum in the future.\n",
      "Use 'series.values.argmin' to get the position of the minimum now.\n",
      "  return getattr(obj, method)(*args, **kwds)\n",
      "/media/orpheus92/OS/conda/envs/regulus/lib/python3.6/site-packages/numpy/core/fromnumeric.py:51: FutureWarning: 'argmax' is deprecated, use 'idxmax' instead. The behavior of 'argmax'\n",
      "will be corrected to return the positional maximum in the future.\n",
      "Use 'series.values.argmax' to get the position of the maximum now.\n",
      "  return getattr(obj, method)(*args, **kwds)\n"
     ]
    }
   ],
   "source": [
    "from regulus.topo import morse_smale, Regulus\n",
    "from regulus.data.data import Data\n",
    "from regulus.measures import *\n",
    "from regulus.models import *\n",
    "import pandas as pd\n",
    "\n",
    "cols = ['x'+str(i) for i in range(all_pts.shape[1])]\n",
    "\n",
    "cols[-1] = 'y'\n",
    "\n",
    "df = pd.DataFrame(all_pts, columns=cols)\n",
    "\n",
    "pts = Data.from_pts(df)\n",
    "\n",
    "# Normalize here  \n",
    "pts.normalize()\n",
    "\n",
    "regulus = morse_smale(pts, knn=8)#**kwargs)\n",
    "\n",
    "regulus.add_attr('linear', linear_model)\n",
    "regulus.add_attr('fitness', fitness)\n",
    "regulus.add_attr('relative_fitness', relative_fitness)\n",
    "\n",
    "regulus.tree.add_attr('parent_fitness', parent_fitness)\n",
    "regulus.tree.add_attr('child_fitness', child_fitness)\n",
    "regulus.tree.add_attr('size', node_size)\n",
    "regulus.tree.add_attr('rel_size', node_relative_size)\n",
    "regulus.tree.add_attr('span', node_span)\n",
    "\n",
    "\n"
   ]
  },
  {
   "cell_type": "code",
   "execution_count": 7,
   "metadata": {},
   "outputs": [],
   "source": [
    "from ipyregulus import TreeWidget, TreeView, DetailsView, DataWidget\n",
    "\n",
    "tree = TreeWidget(regulus.tree)\n",
    "data = DataWidget(data=regulus)\n"
   ]
  },
  {
   "cell_type": "markdown",
   "metadata": {},
   "source": [
    "# TreeView"
   ]
  },
  {
   "cell_type": "code",
   "execution_count": 8,
   "metadata": {},
   "outputs": [
    {
     "data": {
      "application/vnd.jupyter.widget-view+json": {
       "model_id": "5d4cbc02a5654f179c92a1c3bdc3d9ab",
       "version_major": 2,
       "version_minor": 0
      },
      "text/plain": [
       "TreeView(field='span', tree_model=TreeWidget(attrs={'span': {0: 0.760456, 1: 0.008900000000000019, 2: 0.160421…"
      ]
     },
     "metadata": {},
     "output_type": "display_data"
    },
    {
     "data": {
      "application/vnd.jupyter.widget-view+json": {
       "model_id": "10131955cdc5468c9c62500420a1c32e",
       "version_major": 2,
       "version_minor": 0
      },
      "text/plain": [
       "HBox(children=(Label(value='span'), FloatSlider(value=0.0, max=1.0, step=0.01)))"
      ]
     },
     "metadata": {},
     "output_type": "display_data"
    },
    {
     "data": {
      "text/plain": [
       "<traitlets.traitlets.link at 0x7fdda9b2e0b8>"
      ]
     },
     "execution_count": 8,
     "metadata": {},
     "output_type": "execute_result"
    }
   ],
   "source": [
    "v2 = show_tree(tree)\n",
    "\n",
    "w = widgets.Dropdown(\n",
    "    options=['span', 'fitness', 'parent_fitness', 'child_fitness'],\n",
    "    value='span',\n",
    "    description='Attribute:',\n",
    "    disabled=False,\n",
    ")\n",
    "panel = SidePanel(title='Fitness')#, side='split-bottom', ref='SidePanel')\n",
    "with panel:\n",
    "    display(w, v2.view, v2.filter)\n",
    "widgets.link((w, 'value'), (v2.view, 'field'))"
   ]
  },
  {
   "cell_type": "markdown",
   "metadata": {},
   "source": [
    "# Details View"
   ]
  },
  {
   "cell_type": "code",
   "execution_count": 9,
   "metadata": {},
   "outputs": [],
   "source": [
    "details = DetailsView(data=data)\n",
    "\n",
    "p7 = SidePanel(title='details')\n",
    "with p7:\n",
    "    display(details)"
   ]
  },
  {
   "cell_type": "markdown",
   "metadata": {},
   "source": [
    "# Linking Two Views"
   ]
  },
  {
   "cell_type": "code",
   "execution_count": 10,
   "metadata": {},
   "outputs": [
    {
     "data": {
      "text/plain": [
       "<traitlets.traitlets.link at 0x7fa5703a92e8>"
      ]
     },
     "execution_count": 10,
     "metadata": {},
     "output_type": "execute_result"
    }
   ],
   "source": [
    "\n",
    "widgets.link((v2.view, 'details'), (details, 'show'))\n"
   ]
  },
  {
   "cell_type": "markdown",
   "metadata": {},
   "source": [
    "# Create resample class, resampling a user specified partition"
   ]
  },
  {
   "cell_type": "code",
   "execution_count": 8,
   "metadata": {},
   "outputs": [],
   "source": [
    "from resample import get_pts, Resample\n",
    "\n",
    "# Change the following line to use differennt partition to resample\n",
    "ind = get_pts(data.partitions[1],data.pts_loc)\n",
    "\n",
    "selectP = df.loc[ind,:]\n",
    "r = Resample(selectP)"
   ]
  },
  {
   "cell_type": "markdown",
   "metadata": {},
   "source": [
    "# A line chart for a specified partition, different interactions could be added "
   ]
  },
  {
   "cell_type": "code",
   "execution_count": 10,
   "metadata": {},
   "outputs": [
    {
     "data": {
      "application/vnd.jupyter.widget-view+json": {
       "model_id": "0b2038350b5b4cf38a3cf85bcb43dfa3",
       "version_major": 2,
       "version_minor": 0
      },
      "text/plain": [
       "VBox(children=(ToggleButtons(description='Interaction: ', icons=('arrows-h',), layout=Layout(justify_content='…"
      ]
     },
     "metadata": {},
     "output_type": "display_data"
    }
   ],
   "source": [
    "from cyplot import plot\n",
    "myp = plot(selectP,index = 'y',debug=True)\n",
    "myp.enable('brush_x')\n",
    "myp.on('brush_x', r.cb)\n",
    "display(myp)"
   ]
  },
  {
   "cell_type": "markdown",
   "metadata": {},
   "source": [
    "# random generate pts based on user selected range of function value"
   ]
  },
  {
   "cell_type": "code",
   "execution_count": 12,
   "metadata": {},
   "outputs": [
    {
     "data": {
      "text/plain": [
       "[0.8089966369169803,\n",
       " 0.8077235196338228,\n",
       " 0.7584859759200364,\n",
       " 0.9321640794729493,\n",
       " 0.9174065419098962,\n",
       " 0.7331196876704524,\n",
       " 0.7217980662966889,\n",
       " 0.8075670870673771,\n",
       " 0.9016502100217578,\n",
       " 0.8534288722062278]"
      ]
     },
     "execution_count": 12,
     "metadata": {},
     "output_type": "execute_result"
    }
   ],
   "source": [
    "r.add_samples(10) # user's specified # of samples\n",
    "# r.vals \n",
    "\n"
   ]
  },
  {
   "cell_type": "markdown",
   "metadata": {},
   "source": [
    "# When user adds enough samples, they could use regression to predict the point locations to resample "
   ]
  },
  {
   "cell_type": "code",
   "execution_count": 15,
   "metadata": {},
   "outputs": [],
   "source": [
    "# Would scale back if needed \n",
    "X2 = r.get_input()\n",
    "\n",
    "new_x = np.vstack((X,X2))\n"
   ]
  },
  {
   "cell_type": "code",
   "execution_count": 17,
   "metadata": {},
   "outputs": [],
   "source": []
  },
  {
   "cell_type": "code",
   "execution_count": 102,
   "metadata": {},
   "outputs": [],
   "source": [
    "from traitlets import link \n",
    "slk = link((selection_interacts, 'value'), (details, 'interaction'))\n"
   ]
  },
  {
   "cell_type": "markdown",
   "metadata": {},
   "source": [
    "# The following part does not work right yet, potential work to add that to details view (or not)"
   ]
  },
  {
   "cell_type": "code",
   "execution_count": 11,
   "metadata": {},
   "outputs": [],
   "source": [
    "from collections import OrderedDict\n",
    "from ipywidgets import ToggleButtons, VBox, HTML, Layout\n",
    "\n",
    "def get_input(enabled, interactions):\n",
    "    ops = {}\n",
    "    ops['options'] = OrderedDict()\n",
    "    ops['tooltips'] = []\n",
    "    ops['icons'] = []\n",
    "    ops['style'] = {'button_width': '40px'}  # ,#,'description_width':'0px'},\n",
    "    ops['description'] = 'Interaction: '  # ,\n",
    "    ops['layout'] = Layout(justify_content='flex-start',\n",
    "                           margin='0px 0px 0px 0px')  # margin)#justify-content='fkex-end'\n",
    "\n",
    "    for i in enabled:\n",
    "        ops['options'].update({interactions[i]['order'] * ' ': interactions[i]['selector']})\n",
    "        ops['tooltips'].append(interactions[i]['tooltip'])\n",
    "        ops['icons'].append(interactions[i]['icon'])\n",
    "\n",
    "    return ops"
   ]
  },
  {
   "cell_type": "code",
   "execution_count": null,
   "metadata": {},
   "outputs": [],
   "source": [
    "# Start with bounding box \n",
    "\n",
    "def enable(self, interactions):\n",
    "    self.old_enabled = self.enabled[:]\n",
    "\n",
    "    if isinstance(interactions, str):\n",
    "        interactions = [interactions]\n",
    "    change = False\n",
    "    for inter in interactions:\n",
    "        if inter in self.interactions and inter not in self.enabled:\n",
    "            change = True\n",
    "            n = len(self.enabled)\n",
    "            i = 0\n",
    "            while (i < n):\n",
    "                e = self.enabled[i]\n",
    "                if self.interactions[e]['order'] > self.interactions[inter]['order']:\n",
    "                    self.enabled.insert(i, inter)\n",
    "                    break\n",
    "                i = i + 1\n",
    "            if inter not in self.enabled:\n",
    "                self.enabled.append(inter)\n",
    "\n",
    "    if change:\n",
    "        self.updatebuttons(self.enabled)\n",
    "\n",
    "def updatebuttons(self, enabled):\n",
    "\n",
    "    ops = self.get_input(enabled)\n",
    "\n",
    "    # Keep try of current selected part\n",
    "    # 　oldind = -1\n",
    "\n",
    "    y = getattr(self, \"selection_interacts\", None)\n",
    "\n",
    "    if y is not None:\n",
    "        oldind = self.selection_interacts.index\n",
    "        if self.old_enabled[oldind] in self.enabled:\n",
    "            ind = self.enabled.index(self.old_enabled[oldind])\n",
    "        else:\n",
    "            # Current Inter is removed \n",
    "            # print(\"Before manually change IDX\\n\")\n",
    "            # print(self.fig.interaction)\n",
    "            # self.fig.interaction = None\n",
    "            # with self.fig.hold_trait_notifications():\n",
    "            #     # hold_trait_notifications()\n",
    "            #     self.selection_interacts.index = self.old_enabled.index(self.enabled[0])\n",
    "            # print(\"After index change due removal\")\n",
    "            # print(self.old_enabled.index(self.enabled[0]))\n",
    "            # unlink((self.selection_interacts, 'value'), (self.fig, 'interaction'))\n",
    "            # self.link[0].observe(self._update_target, names=self.source[1])\n",
    "            # self.link[0].observe(self._update_source, names=self.target[1])\n",
    "            print(\"REMOVE CURRENT INTER\")\n",
    "            # self.link.source[0].unobserve(self.link._update_target, names=self.link.source[1])\n",
    "            # self.link.target[0].unobserve(self.link._update_source, names=self.link.target[1])\n",
    "            self.link.unlink()\n",
    "            oldind = -1\n",
    "            # self.fig.interaction = None\n",
    "            # print(\"After Remove\", type(self.fig.interaction), self.fig.interaction)\n",
    "            ind = 0\n",
    "    else:\n",
    "        oldind = -1\n",
    "\n",
    "    self.selection_interacts = ToggleButtons(**ops)\n",
    "    # print(self.selection_interacts.index)     \n",
    "    # self.selection_interacts.value gives the current interaction (the one that is clicked)\n",
    "    # print(\"Defaut selection interacts :\")\n",
    "    # print(self.selection_interacts.value)\n",
    "\n",
    "    if oldind != -1:\n",
    "        self.selection_interacts.index = ind\n",
    "        # self.fig.interaction = self.selection_interacts.value\n",
    "\n",
    "    # print(\"Before link happend\\n\", self.fig.interaction)\n",
    "    # print(\"\\n ========== \\n\", self.selection_interacts.value)\n",
    "\n",
    "    self.fig.interaction = None\n",
    "\n",
    "    # with dpdown.hold_trait_notifications():\n",
    "\n",
    "    # with self.fig.hold_trait_notifications():\n",
    "\n",
    "    # THERE SHOULD BE A CB HERE INSTEAD OF LINK\n",
    "\n",
    "    self.fig.observe(self.cb0, names='interaction')\n",
    "\n",
    "    self.link = link((self.selection_interacts, 'value'), (self.fig, 'interaction'))\n",
    "\n",
    "    box_layout = Layout(display='flex',\n",
    "                        flex_flow='column',\n",
    "                        align_items='stretch')  # ,\n",
    "    # border='solid',\n",
    "    # width='50%')\n",
    "\n",
    "    self.vbox = VBox([self.selection_interacts, self.fig], layout=box_layout)"
   ]
  },
  {
   "cell_type": "code",
   "execution_count": 112,
   "metadata": {},
   "outputs": [],
   "source": [
    "from bqplot.interacts import (\n",
    "    FastIntervalSelector, IndexSelector, BrushIntervalSelector,\n",
    "    BrushSelector, MultiSelector, LassoSelector, PanZoom, HandDraw\n",
    ")\n",
    "\n",
    "from bqplot import DateScale, LinearScale, OrdinalScale, Axis, Lines, Scatter, Bars, Hist, Figure\n",
    "\n",
    "\n",
    "def interaction_map(cbs=None):#fig, cbs=None):\n",
    "\n",
    "    interactions = {}\n",
    "\n",
    "    xScale = LinearScale()\n",
    "    yScale = LinearScale()\n",
    "    \n",
    "    # fig = fig  # if fig is None else fig\n",
    "    # mark = fig.marks  # if mark is None else mark\n",
    "\n",
    "    multi_sel = MultiSelector(scale=xScale)#, marks=mark)\n",
    "    br_intsel = BrushIntervalSelector(scale=xScale)#, marks=mark)\n",
    "    index_sel = IndexSelector(scale=xScale)#, marks=mark)\n",
    "    int_sel = FastIntervalSelector(scale=xScale)#, marks=mark)\n",
    "    br_sel = BrushSelector(x_scale=xScale, y_scale=yScale)#, marks=mark, color='red')\n",
    "    pz = PanZoom(scales={'x': [xScale], 'y': [yScale]})\n",
    "\n",
    "    def cb1(change):\n",
    "        if len(change.new) > 1:\n",
    "            xr = change.new\n",
    "            yr = [None, None]\n",
    "            box = [[xr[0], yr[0]], [xr[1], yr[1]]]\n",
    "            # y = getattr(self, \"cbs\", None)\n",
    "\n",
    "            if cbs is not None:\n",
    "                if 'brush' in cbs:\n",
    "                    cb = cbs['brush']\n",
    "                    cb(box)\n",
    "        else:\n",
    "            # y = getattr(self, \"cbs\", None)\n",
    "            if cbs is not None:\n",
    "                if 'bar' in cbs:\n",
    "                    cb = cbs['bar']\n",
    "                    cb(change.new)\n",
    "\n",
    "    def cb2(change):\n",
    "        box = interactions['brush']['selector'].selected\n",
    "        # y = getattr(self, \"cbs\", None)\n",
    "\n",
    "        if cbs is not None:\n",
    "            if 'brush' in cbs:\n",
    "                cb = cbs['brush']\n",
    "                cb(box)\n",
    "\n",
    "    def cb3(change):\n",
    "        newscales = change.new\n",
    "        # y = getattr(self, \"cbs\", None)\n",
    "\n",
    "        if cbs is not None:\n",
    "            if 'panzoom' in cbs:\n",
    "                cb = cbs['panzoom']\n",
    "                cb(newscales['x'], newscales['y'])\n",
    "\n",
    "    multi_sel.observe(cb1, names=['selected'])\n",
    "    br_intsel.observe(cb1, names=['selected'])  # 'selected'])\n",
    "    index_sel.observe(cb1, names=['selected'])\n",
    "    int_sel.observe(cb1, names=['selected'])\n",
    "    br_sel.observe(cb2, names=['brushing'])  # 'brushing'])\n",
    "    pz.observe(cb3, names=['scales'])  # 'brushing'])\n",
    "\n",
    "    interactions['brushes'] = {}\n",
    "    interactions['brushes']['selector'] = multi_sel\n",
    "    interactions['brushes']['icon'] = 'th-large'\n",
    "    interactions['brushes']['tooltip'] = 'Multiple Brushes'\n",
    "    interactions['brushes']['order'] = 0  # '   '\n",
    "    interactions['brushes']['watch'] = 'selected'\n",
    "\n",
    "    interactions['brush_x'] = {}\n",
    "    interactions['brush_x']['selector'] = br_intsel\n",
    "    interactions['brush_x']['icon'] = 'arrows-h'\n",
    "    interactions['brush_x']['tooltip'] = 'Horizontal Brush'\n",
    "    interactions['brush_x']['order'] = 2  # '      '\n",
    "    interactions['brush_x']['watch'] = 'selected'\n",
    "\n",
    "    interactions['brush_fast'] = {}\n",
    "    interactions['brush_fast']['selector'] = int_sel\n",
    "    interactions['brush_fast']['icon'] = 'exchange'\n",
    "    interactions['brush_fast']['tooltip'] = 'Fast Brush'\n",
    "    interactions['brush_fast']['order'] = 3  # '      '\n",
    "    interactions['brush_fast']['watch'] = 'selected'\n",
    "\n",
    "    interactions['brush'] = {}\n",
    "    interactions['brush']['selector'] = br_sel\n",
    "    interactions['brush']['icon'] = 'retweet'\n",
    "    interactions['brush']['tooltip'] = 'Brush'\n",
    "    interactions['brush']['order'] = 4  # '       '\n",
    "    interactions['brush']['watch'] = 'brushing'\n",
    "\n",
    "    interactions['bar'] = {}\n",
    "    interactions['bar']['selector'] = index_sel\n",
    "    interactions['bar']['icon'] = 'mouse-pointer'\n",
    "    interactions['bar']['tooltip'] = 'Single Slider'\n",
    "    interactions['bar']['order'] = 5  # ' '\n",
    "    interactions['bar']['watch'] = 'selected'\n",
    "\n",
    "    interactions['panzoom'] = {}\n",
    "    interactions['panzoom']['selector'] = pz\n",
    "    interactions['panzoom']['icon'] = 'arrows'\n",
    "    interactions['panzoom']['tooltip'] = 'Pan Zoom'\n",
    "    interactions['panzoom']['order'] = 6  # ''\n",
    "    interactions['panzoom']['watch'] = 'scales'\n",
    "\n",
    "    # Initialize Selector\n",
    "    # Initialize CB\n",
    "    # Observe\n",
    "\n",
    "    # Can listen to many traitlets here\n",
    "    # General one, brushing\n",
    "    # Other selected, color, line_width ..., selected_x, selected_y\n",
    "\n",
    "    return interactions"
   ]
  }
 ],
 "metadata": {
  "kernelspec": {
   "display_name": "Python 3",
   "language": "python",
   "name": "python3"
  },
  "language_info": {
   "codemirror_mode": {
    "name": "ipython",
    "version": 3
   },
   "file_extension": ".py",
   "mimetype": "text/x-python",
   "name": "python",
   "nbconvert_exporter": "python",
   "pygments_lexer": "ipython3",
   "version": "3.6.6"
  }
 },
 "nbformat": 4,
 "nbformat_minor": 2
}
