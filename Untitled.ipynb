{
 "cells": [
  {
   "cell_type": "code",
   "execution_count": 1,
   "metadata": {},
   "outputs": [],
   "source": [
    "import pandas as pd\n",
    "import numpy as np\n",
    "\n",
    "from bqplot import DateScale, LinearScale, OrdinalScale, Axis, Lines, Scatter, Bars, Hist, Figure\n",
    "from bqplot.interacts import (\n",
    "    FastIntervalSelector, IndexSelector, BrushIntervalSelector,\n",
    "    BrushSelector, MultiSelector, LassoSelector, PanZoom, HandDraw\n",
    ")\n",
    "from traitlets import link# , unlink\n",
    "from collections import OrderedDict\n",
    "from IPython.display import display\n",
    "from ipywidgets import ToggleButtons, VBox, HTML, Layout\n",
    "from bqplot.toolbar import Toolbar\n",
    "\n",
    "\n",
    "class Cyplot:\n",
    "    def __init__(self, data, index=None, ylabel=None):\n",
    "\n",
    "        self.set_data(data, index, ylabel)\n",
    "\n",
    "        self.interaction_map()\n",
    "\n",
    "        self.enabled = []\n",
    "        \n",
    "        self.cbs = {}\n",
    "        \n",
    "        def cb0(change):\n",
    "            # Internal cb for changing interaction in fig\n",
    "            # print(change.new)\n",
    "            self.cur_inter = change.new\n",
    "\n",
    "        self.cb0 = cb0\n",
    "        \n",
    "        \n",
    "    def enable(self, interactions):\n",
    "        self.old_enabled = self.enabled[:]\n",
    "            \n",
    "        if isinstance(interactions, str):\n",
    "            interactions = [interactions]\n",
    "        change = False\n",
    "        for inter in interactions:\n",
    "            if inter in self.interactions and inter not in self.enabled:\n",
    "                change = True\n",
    "                \n",
    "                n = len(self.enabled)\n",
    "                i = 0\n",
    "                while(i<n):\n",
    "                    #for e in self.enabled:\n",
    "                    e = self.enabled[i]\n",
    "                    if self.interactions[e]['order']>self.interactions[inter]['order']:\n",
    "                        self.enabled.insert(i,inter)\n",
    "                        break\n",
    "                    i = i+1\n",
    "                if inter not in self.enabled: #i==0 or i ==n:\n",
    "                    self.enabled.append(inter)\n",
    "                    \n",
    "        if change:\n",
    "            self.updatebuttons(self.enabled)\n",
    "            \n",
    "    def updatebuttons(self, enabled):\n",
    "\n",
    "        ops = self.get_input(enabled)\n",
    "        \n",
    "        # Keep try of current selected part\n",
    "        \n",
    "        oldind = -1 \n",
    "        \n",
    "        y = getattr(self, \"selection_interacts\", None)\n",
    "        \n",
    "        if y is not None:            \n",
    "            oldind = self.selection_interacts.index\n",
    "            if self.old_enabled[oldind] in self.enabled:\n",
    "                ind = self.enabled.index(self.old_enabled[oldind])\n",
    "            else:\n",
    "                # Current Inter is removed \n",
    "                # print(\"Before manually change IDX\\n\")\n",
    "                # print(self.fig.interaction)\n",
    "                # self.fig.interaction = None\n",
    "                # with self.fig.hold_trait_notifications():\n",
    "                #     # hold_trait_notifications()\n",
    "                #     self.selection_interacts.index = self.old_enabled.index(self.enabled[0])\n",
    "                # print(\"After index change due removal\")\n",
    "                # print(self.old_enabled.index(self.enabled[0]))\n",
    "                # unlink((self.selection_interacts, 'value'), (self.fig, 'interaction'))\n",
    "                #self.link[0].observe(self._update_target, names=self.source[1])\n",
    "                #self.link[0].observe(self._update_source, names=self.target[1])\n",
    "                print(\"REMOVE CURRENT INTER\")\n",
    "                #self.link.source[0].unobserve(self.link._update_target, names=self.link.source[1])\n",
    "                #self.link.target[0].unobserve(self.link._update_source, names=self.link.target[1])\n",
    "                self.link.unlink()\n",
    "                oldind = -1\n",
    "                # self.fig.interaction = None\n",
    "                # print(\"After Remove\", type(self.fig.interaction), self.fig.interaction)\n",
    "                ind = 0\n",
    "        else:\n",
    "            oldind = -1\n",
    "            \n",
    "        \n",
    "        self.selection_interacts = ToggleButtons(**ops)\n",
    "        # print(self.selection_interacts.index)     \n",
    "        # self.selection_interacts.value gives the current interaction (the one that is clicked)\n",
    "        \n",
    "        # print(\"Defaut selection interacts :\")\n",
    "        # print(self.selection_interacts.value)\n",
    "\n",
    "        if oldind != -1:\n",
    "            self.selection_interacts.index = ind\n",
    "            # self.fig.interaction = self.selection_interacts.value\n",
    "        \n",
    "        # print(\"Before link happend\\n\", self.fig.interaction)\n",
    "        # print(\"\\n ========== \\n\", self.selection_interacts.value)\n",
    "        \n",
    "        self.fig.interaction = None\n",
    "\n",
    "        # with dpdown.hold_trait_notifications():\n",
    "\n",
    "        # with self.fig.hold_trait_notifications():\n",
    "        \n",
    "        # THERE SHOULD BE A CB HERE INSTEAD OF LINK\n",
    "        \n",
    "        self.fig.observe(self.cb0, names='interaction')\n",
    "        \n",
    "        self.link = link((self.selection_interacts, 'value'), (self.fig, 'interaction'))\n",
    "\n",
    "        box_layout = Layout(display='flex',\n",
    "                            flex_flow='column',\n",
    "                            align_items='stretch')#,\n",
    "                            # border='solid',\n",
    "                            #width='50%')\n",
    "\n",
    "        self.vbox = VBox([self.selection_interacts, self.fig, self.deb, self.deb2], layout=box_layout)\n",
    "                \n",
    "                \n",
    "    def get_input(self, enabled):\n",
    "        ops = {}\n",
    "        ops['options'] = OrderedDict()\n",
    "        ops['tooltips'] = []\n",
    "        ops['icons'] = []\n",
    "        ops['style'] = {'button_width': '40px'} # ,#,'description_width':'0px'},\n",
    "        ops['description'] = 'Interaction: '# ,\n",
    "        ops['layout'] = Layout(justify_content = 'flex-start',  margin='0px 0px 0px 0px')#margin)#justify-content='fkex-end'\n",
    "        \n",
    "        for i in enabled:\n",
    "            \n",
    "            ops['options'].update({self.interactions[i]['order']*' ':self.interactions[i]['selector']})\n",
    "            ops['tooltips'].append(self.interactions[i]['tooltip'])\n",
    "            ops['icons'].append(self.interactions[i]['icon'])\n",
    "            \n",
    "        return ops\n",
    "            \n",
    "    def disable(self, interactions):\n",
    "\n",
    "        self.old_enabled = self.enabled[:]\n",
    "            \n",
    "        if isinstance(interactions, str):\n",
    "            interactions = [interactions]\n",
    "            \n",
    "        change = False\n",
    "        \n",
    "        for inter in interactions:\n",
    "            if inter in self.enabled:\n",
    "                change = True\n",
    "                self.enabled.remove(inter)\n",
    "            else: \n",
    "                print('Could not disable ', inter)\n",
    "                    \n",
    "        if change:\n",
    "            self.updatebuttons(self.enabled)\n",
    "\n",
    "    def on(self, interaction, cb):\n",
    "        if isinstance(interaction, str):\n",
    "            \n",
    "            if interaction in self.enabled:\n",
    "                if cb is not None:\n",
    "                    self.cbs[interaction] = cb\n",
    "                else:\n",
    "                    if interaction in self.cbs:\n",
    "                        del self.cbs[interaction]\n",
    "            else:\n",
    "                print(\"Can't turn on {}\".format(interaction))\n",
    "\n",
    "    def set_data(self, data, index, ylabel, add=False):\n",
    "\n",
    "        # add decide whether draw figure on top\n",
    "\n",
    "        if isinstance(data, pd.Series):\n",
    "            self.data = data\n",
    "\n",
    "        elif isinstance(data, pd.DataFrame):\n",
    "            # Pandas DataFrame\n",
    "\n",
    "            if index is not None:\n",
    "                self.data = data.set_index(index)\n",
    "            else:\n",
    "                self.data = data\n",
    "        else:\n",
    "            print(\"The input data type is not supported\")\n",
    "\n",
    "        self.xlabel = self.data.index.name if self.data.index.name is not None else \"index\"\n",
    "\n",
    "        self.cols = list(self.data)\n",
    "\n",
    "        self.legends = [' '.join(legend) for legend in self.cols]\n",
    "\n",
    "        y = getattr(self.data.columns, \"levels\", None)\n",
    "        \n",
    "        if ylabel is not None:\n",
    "            self.ylabel = ylabel\n",
    "\n",
    "        elif y is None:\n",
    "            # One level \n",
    "            # self.legends\n",
    "            self.ylabel = ''\n",
    "        elif len(self.data.columns.levels[0]) == 1:\n",
    "            self.legends = [' '.join(legend[1::]) for legend in self.cols]\n",
    "            self.ylabel = self.data.columns.levels[0][0]\n",
    "        else:\n",
    "            self.ylabel = ''\n",
    "\n",
    "        self.xScale = LinearScale()\n",
    "        self.yScale = LinearScale()\n",
    "        self.create_fig(self.data)\n",
    "\n",
    "    def add_data(self, data, index=None, ylabel=None):\n",
    "        # compare new data with existing data\n",
    "        if isinstance(data, pd.Series) and isinstance(self.data, pd.Series):\n",
    "            # concatenate\n",
    "            if data.name == self.data.name:\n",
    "                data = data.append(self.data, ignore_index=True)\n",
    "                self.set_data(data, index, ylabel)\n",
    "                # combine to dataframe\n",
    "            elif (data.index == self.data.index).all():\n",
    "                self.set_data(pd.concat([data,self.data]),index, ylabel)\n",
    "            else:\n",
    "                print(\"Could not combine two data series w/o same index and same column\")\n",
    "                \n",
    "        elif isinstance(data, pd.DataFrame) and isinstance(self.data, pd.DataFrame):   \n",
    "            if (data.columns == self.data.columns).all():\n",
    "                data = data.append(self.data, ignore_index=True)\n",
    "                self.set_data(data, index, ylabel)\n",
    "        \n",
    "            elif((data.index == self.data.index).all()) and (data.columns != self.data.columns).any():\n",
    "                self.set_data(pd.concat([data, self.data], axis=1, join_axes=[data.index]),index, ylabel)\n",
    "            else: \n",
    "                print(\"Could not combine two dataframes w/o same index and same column\")\n",
    "\n",
    "        else:\n",
    "            print(\"Could not combine two data of different types\")\n",
    "            \n",
    "    def create_fig(self, ts):\n",
    "\n",
    "        ts.sort_index(inplace=True)\n",
    "\n",
    "        df = ts.reset_index()  # time = ts.Time\n",
    "\n",
    "        self.xd = df[self.xlabel]\n",
    "        self.yd = df[self.cols].T\n",
    "\n",
    "        \n",
    "        line = Lines(x=self.xd, y=self.yd, scales={'x': self.xScale, 'y': self.yScale}, labels=self.legends,\n",
    "                     display_legend=True, line_style='solid', marker='circle', selected_style={'opacity': '1'},\n",
    "                     unselected_style={'opacity': '0.2'})  # enable_hover=True)  # axes_options=axes_options)\n",
    "\n",
    "        x_axis = Axis(scale=self.xScale, label=self.xlabel, grid_lines='none')\n",
    "        y_axis = Axis(scale=self.yScale, label=self.ylabel, orientation='vertical', grid_lines='none')\n",
    "\n",
    "        margin = dict(top=0, bottom=30, left=50, right=50)\n",
    "\n",
    "        self.fig = Figure(marks=[line], axes=[x_axis, y_axis], legend_location='top-right',fig_margin= margin)#{'top':50,'left':60})\n",
    "\n",
    "        self.deb = HTML()\n",
    "        self.deb2 = HTML()\n",
    "\n",
    "    def _ipython_display_(self):\n",
    "        \n",
    "        if len(self.enabled)==0:\n",
    "            display(self.fig)\n",
    "        else:    \n",
    "            display(self.vbox)\n",
    "\n",
    "    def interaction_map(self):  # , xScale, yScale, fig, mark, deb):\n",
    "\n",
    "        self.interactions = {}\n",
    "\n",
    "        xScale = self.xScale  # if xScale is None else xScale\n",
    "        yScale = self.yScale  # if yScale is None else yScale\n",
    "        fig = self.fig  # if fig is None else fig\n",
    "        mark = fig.marks  # if mark is None else mark\n",
    "\n",
    "        multi_sel = MultiSelector(scale=xScale, marks=mark)\n",
    "        br_intsel = BrushIntervalSelector(scale=xScale, marks=mark)\n",
    "        index_sel = IndexSelector(scale=xScale, marks=mark)\n",
    "        int_sel = FastIntervalSelector(scale=xScale, marks=mark)\n",
    "        br_sel = BrushSelector(x_scale=xScale, y_scale=yScale, marks=mark, color='red')\n",
    "        pz = PanZoom(scales={'x': [xScale], 'y': [yScale]})\n",
    "\n",
    "        def cb1(change):\n",
    "            if len(change.new)>1:\n",
    "                xr = change.new\n",
    "                yr = [None, None]\n",
    "                box = [[xr[0], yr[0]], [xr[1], yr[1]]]\n",
    "\n",
    "                y = getattr(self, \"cbs\", None)\n",
    "\n",
    "                if y is not None:\n",
    "                    if 'brush' in self.cbs:\n",
    "                        cb = self.cbs['brush']\n",
    "                        cb(box)\n",
    "            else:\n",
    "                y = getattr(self, \"cbs\", None)\n",
    "                if y is not None:\n",
    "                    if 'bar' in self.cbs:\n",
    "                        cb = self.cbs['bar']\n",
    "                        cb(box)\n",
    "            \n",
    "        def cb2(change):\n",
    "            box = self.interactions['brush']['selector'].selected\n",
    "            y = getattr(self, \"cbs\", None)\n",
    "            \n",
    "            if y is not None:\n",
    "                if 'brush' in self.cbs:\n",
    "                    cb = self.cbs['brush']\n",
    "                    cb(box)\n",
    "        \n",
    "        def cb3(change):\n",
    "            newscales = change.new\n",
    "            \n",
    "            y = getattr(self, \"cbs\", None)\n",
    "\n",
    "            if y is not None:\n",
    "                if 'panzoom' in self.cbs:\n",
    "                    cb = self.cbs['panzoom']\n",
    "                    cb(newscales['x'], newscales['y'])\n",
    "\n",
    "        multi_sel.observe(cb1, names=['selected'])\n",
    "        br_intsel.observe(cb1, names=['selected'])#'selected'])\n",
    "        index_sel.observe(cb1, names=['selected'])\n",
    "        int_sel.observe(cb1, names=['selected'])\n",
    "\n",
    "        br_sel.observe(cb2, names=['brushing'])#'brushing'])\n",
    "        pz.observe(cb3, names=['scales'])#'brushing'])\n",
    "        \n",
    "        self.interactions['brushes'] = {}\n",
    "        self.interactions['brushes']['selector'] = multi_sel\n",
    "        self.interactions['brushes']['icon'] = 'th-large'\n",
    "        self.interactions['brushes']['tooltip'] = 'Multiple Brushes'\n",
    "        self.interactions['brushes']['order'] = 0 # '   '\n",
    "        self.interactions['brushes']['watch'] = 'selected'\n",
    "\n",
    "        self.interactions['brush_x'] = {}\n",
    "        self.interactions['brush_x']['selector'] = br_intsel\n",
    "        self.interactions['brush_x']['icon'] = 'arrows-h'\n",
    "        self.interactions['brush_x']['tooltip'] = 'Horizontal Brush'\n",
    "        self.interactions['brush_x']['order'] = 1# '     '\n",
    "        self.interactions['brush_x']['watch'] = 'selected'\n",
    "\n",
    "        self.interactions['brush_fast'] = {}\n",
    "        self.interactions['brush_fast']['selector'] = int_sel\n",
    "        self.interactions['brush_fast']['icon'] = 'exchange'\n",
    "        self.interactions['brush_fast']['tooltip'] = 'Fast Brush'\n",
    "        self.interactions['brush_fast']['order'] = 3 # '      '\n",
    "        self.interactions['brush_fast']['watch'] = 'selected'\n",
    "\n",
    "        self.interactions['brush'] = {}\n",
    "        self.interactions['brush']['selector'] = br_sel\n",
    "        self.interactions['brush']['icon'] = 'retweet'\n",
    "        self.interactions['brush']['tooltip'] = 'Brush'\n",
    "        self.interactions['brush']['order'] = 4 # '       '\n",
    "        self.interactions['brush']['watch'] = 'brushing'\n",
    "\n",
    "        self.interactions['bar'] = {}\n",
    "        self.interactions['bar']['selector'] = index_sel\n",
    "        self.interactions['bar']['icon'] = 'mouse-pointer'\n",
    "        self.interactions['bar']['tooltip'] = 'Single Slider'\n",
    "        self.interactions['bar']['order'] = 5 # ' '\n",
    "        self.interactions['bar']['watch'] = 'selected'\n",
    "\n",
    "        self.interactions['panzoom'] = {}\n",
    "        self.interactions['panzoom']['selector'] = pz\n",
    "        self.interactions['panzoom']['icon'] = 'arrows'\n",
    "        self.interactions['panzoom']['tooltip'] = 'Pan Zoom'\n",
    "        self.interactions['panzoom']['order'] = 6# ''\n",
    "        self.interactions['panzoom']['watch'] = 'scales'\n",
    "\n",
    "        # Initialize Selector\n",
    "        # Initialize CB\n",
    "        # Observe\n",
    "\n",
    "        # Can listen to many traitlets here\n",
    "        # General one, brushing\n",
    "        # Other selected, color, line_width ..., selected_x, selected_y\n",
    "\n",
    "\n",
    "    def internal_cb(self):\n",
    "        print(\"????????????\")\n",
    "\n",
    "    def setScale(self, xScale=None, yScale=None):\n",
    "        if xScale is not None:\n",
    "            self.xScale = xScale\n",
    "        if yScale is not None:\n",
    "            self.yScale = yScale\n",
    "\n",
    "    def show(self):\n",
    "        # self.fig?\n",
    "        return self.vbox\n",
    "\n",
    "    def show_ref(self):\n",
    "        # self.fig?\n",
    "        return self.fig\n",
    "\n",
    "    def connect(self, fig=None, vbox=None):\n",
    "        # Connect fig / vbox?\n",
    "\n",
    "        if fig is not None:\n",
    "            fig = self.fig\n",
    "        if vbox is not None:\n",
    "            vbox = self.vbox\n",
    "\n",
    "    def save(self, filename):\n",
    "        self.fig.save_png(filename)\n",
    "\n",
    "\n",
    "def plot(data, index=None, ylabel=None):\n",
    "    return Cyplot(data, index, ylabel)\n"
   ]
  },
  {
   "cell_type": "code",
   "execution_count": 1,
   "metadata": {},
   "outputs": [],
   "source": [
    "import pandas as pd\n",
    "import numpy as np\n",
    "from IPython.display import display\n",
    "\n",
    "# df = pd.DataFrame(np.random.randn(50,3),columns=list('ABX'))\n",
    "\n",
    "from cyplot import plot\n",
    "#tf = df.set_index('B')\n",
    "arrays = [['bar', 'bar', 'baz', 'baz', 'foo', 'foo', 'qux', 'qux'],['one', 'two', 'one', 'two', 'one', 'two', 'one', 'two']]\n",
    "tuples = list(zip(*arrays))\n",
    "index = pd.MultiIndex.from_tuples(tuples, names=['first', 'second'])\n",
    "df = pd.DataFrame(np.random.randn(3, 8), index=[0,1,2], columns=index)\n"
   ]
  },
  {
   "cell_type": "code",
   "execution_count": 5,
   "metadata": {},
   "outputs": [
    {
     "data": {
      "application/vnd.jupyter.widget-view+json": {
       "model_id": "b0b1bc83648548f789b3ac60694a6b3a",
       "version_major": 2,
       "version_minor": 0
      },
      "text/plain": [
       "VBox(children=(ToggleButtons(description='Interaction: ', icons=('mouse-pointer',), layout=Layout(justify_cont…"
      ]
     },
     "metadata": {},
     "output_type": "display_data"
    }
   ],
   "source": [
    "cp = plot(df)\n",
    "cp.enable(['bar'])#,'brush', 'panzoom','bar'])#, 'Index_Selector'])\n",
    "# def ccbb(aaaa):\n",
    "    \n",
    "#     print(aaaa)\n",
    "# cp.on('brush',ccbb)\n",
    "# cp.on('panzoom',ccbb)\n",
    "# cp.on('bar',ccbb)\n",
    "cp\n",
    "# display(cp)\n"
   ]
  },
  {
   "cell_type": "code",
   "execution_count": 6,
   "metadata": {},
   "outputs": [
    {
     "data": {
      "application/vnd.jupyter.widget-view+json": {
       "model_id": "cdac26b829d24c2182df37d0e1cc7834",
       "version_major": 2,
       "version_minor": 0
      },
      "text/plain": [
       "VBox(children=(ToggleButtons(description='Interaction: ', icons=('arrows-h', 'retweet', 'mouse-pointer'), inde…"
      ]
     },
     "metadata": {},
     "output_type": "display_data"
    }
   ],
   "source": [
    "# cp.disable('bar')\n",
    "# cp.disable('brush')#display(cp)\n",
    "cp.enable(['brush', 'brush_x'])\n",
    "display(cp)"
   ]
  },
  {
   "cell_type": "code",
   "execution_count": 3,
   "metadata": {},
   "outputs": [
    {
     "data": {
      "application/vnd.jupyter.widget-view+json": {
       "model_id": "ac8f84c1f2a84109b11e9309d019982b",
       "version_major": 2,
       "version_minor": 0
      },
      "text/plain": [
       "VBox(children=(ToggleButtons(description='Interaction: ', icons=('mouse-pointer',), layout=Layout(justify_cont…"
      ]
     },
     "metadata": {},
     "output_type": "display_data"
    }
   ],
   "source": [
    "cp"
   ]
  },
  {
   "cell_type": "code",
   "execution_count": 302,
   "metadata": {},
   "outputs": [
    {
     "data": {
      "application/vnd.jupyter.widget-view+json": {
       "model_id": "339f7955ad3d43caa5954f1ee6b8961a",
       "version_major": 2,
       "version_minor": 0
      },
      "text/plain": [
       "VBox(children=(ToggleButtons(description='interaction', icons=('arrows-h', 'mouse-pointer'), index=1, layout=L…"
      ]
     },
     "metadata": {},
     "output_type": "display_data"
    }
   ],
   "source": [
    "cp.disable('brush')\n",
    "# cp.disable('brush')#display(cp)\n",
    "# cp.enable(['brush', 'brush_x'])\n",
    "display(cp)"
   ]
  },
  {
   "cell_type": "code",
   "execution_count": 303,
   "metadata": {},
   "outputs": [
    {
     "name": "stdout",
     "output_type": "stream",
     "text": [
      "REMOVE CURRENT INTER\n"
     ]
    },
    {
     "ename": "TraitError",
     "evalue": "Invalid selection: value not found",
     "output_type": "error",
     "traceback": [
      "\u001b[1;31m---------------------------------------------------------------------------\u001b[0m",
      "\u001b[1;31mStopIteration\u001b[0m                             Traceback (most recent call last)",
      "\u001b[1;32mE:\\Anaconda\\envs\\CyPlot\\lib\\site-packages\\ipywidgets\\widgets\\widget_selection.py\u001b[0m in \u001b[0;36mfindvalue\u001b[1;34m(array, value, compare)\u001b[0m\n\u001b[0;32m    132\u001b[0m     \u001b[1;32mtry\u001b[0m\u001b[1;33m:\u001b[0m\u001b[1;33m\u001b[0m\u001b[0m\n\u001b[1;32m--> 133\u001b[1;33m         \u001b[1;32mreturn\u001b[0m \u001b[0mnext\u001b[0m\u001b[1;33m(\u001b[0m\u001b[0mx\u001b[0m \u001b[1;32mfor\u001b[0m \u001b[0mx\u001b[0m \u001b[1;32min\u001b[0m \u001b[0marray\u001b[0m \u001b[1;32mif\u001b[0m \u001b[0mcompare\u001b[0m\u001b[1;33m(\u001b[0m\u001b[0mx\u001b[0m\u001b[1;33m,\u001b[0m \u001b[0mvalue\u001b[0m\u001b[1;33m)\u001b[0m\u001b[1;33m)\u001b[0m\u001b[1;33m\u001b[0m\u001b[0m\n\u001b[0m\u001b[0;32m    134\u001b[0m     \u001b[1;32mexcept\u001b[0m \u001b[0mStopIteration\u001b[0m\u001b[1;33m:\u001b[0m\u001b[1;33m\u001b[0m\u001b[0m\n",
      "\u001b[1;31mStopIteration\u001b[0m: ",
      "\nDuring handling of the above exception, another exception occurred:\n",
      "\u001b[1;31mValueError\u001b[0m                                Traceback (most recent call last)",
      "\u001b[1;32mE:\\Anaconda\\envs\\CyPlot\\lib\\site-packages\\ipywidgets\\widgets\\widget_selection.py\u001b[0m in \u001b[0;36m_validate_value\u001b[1;34m(self, proposal)\u001b[0m\n\u001b[0;32m    236\u001b[0m         \u001b[1;32mtry\u001b[0m\u001b[1;33m:\u001b[0m\u001b[1;33m\u001b[0m\u001b[0m\n\u001b[1;32m--> 237\u001b[1;33m             \u001b[1;32mreturn\u001b[0m \u001b[0mfindvalue\u001b[0m\u001b[1;33m(\u001b[0m\u001b[0mself\u001b[0m\u001b[1;33m.\u001b[0m\u001b[0m_options_values\u001b[0m\u001b[1;33m,\u001b[0m \u001b[0mvalue\u001b[0m\u001b[1;33m,\u001b[0m \u001b[0mself\u001b[0m\u001b[1;33m.\u001b[0m\u001b[0mequals\u001b[0m\u001b[1;33m)\u001b[0m \u001b[1;32mif\u001b[0m \u001b[0mvalue\u001b[0m \u001b[1;32mis\u001b[0m \u001b[1;32mnot\u001b[0m \u001b[1;32mNone\u001b[0m \u001b[1;32melse\u001b[0m \u001b[1;32mNone\u001b[0m\u001b[1;33m\u001b[0m\u001b[0m\n\u001b[0m\u001b[0;32m    238\u001b[0m         \u001b[1;32mexcept\u001b[0m \u001b[0mValueError\u001b[0m\u001b[1;33m:\u001b[0m\u001b[1;33m\u001b[0m\u001b[0m\n",
      "\u001b[1;32mE:\\Anaconda\\envs\\CyPlot\\lib\\site-packages\\ipywidgets\\widgets\\widget_selection.py\u001b[0m in \u001b[0;36mfindvalue\u001b[1;34m(array, value, compare)\u001b[0m\n\u001b[0;32m    134\u001b[0m     \u001b[1;32mexcept\u001b[0m \u001b[0mStopIteration\u001b[0m\u001b[1;33m:\u001b[0m\u001b[1;33m\u001b[0m\u001b[0m\n\u001b[1;32m--> 135\u001b[1;33m         \u001b[1;32mraise\u001b[0m \u001b[0mValueError\u001b[0m\u001b[1;33m(\u001b[0m\u001b[1;34m'%r not in array'\u001b[0m\u001b[1;33m%\u001b[0m\u001b[0mvalue\u001b[0m\u001b[1;33m)\u001b[0m\u001b[1;33m\u001b[0m\u001b[0m\n\u001b[0m\u001b[0;32m    136\u001b[0m \u001b[1;33m\u001b[0m\u001b[0m\n",
      "\u001b[1;31mValueError\u001b[0m: BrushIntervalSelector(marks=[Lines(colors=['#1f77b4', '#ff7f0e', '#2ca02c', '#d62728', '#9467bd', '#8c564b', '#e377c2', '#7f7f7f', '#bcbd22', '#17becf'], display_legend=True, interactions={'hover': 'tooltip'}, labels=['bar one', 'bar two', 'baz one', 'baz two', 'foo one', 'foo two', 'qux one', 'qux two'], marker='circle', scales={'x': LinearScale(), 'y': LinearScale()}, scales_metadata={'x': {'orientation': 'horizontal', 'dimension': 'x'}, 'y': {'orientation': 'vertical', 'dimension': 'y'}, 'color': {'dimension': 'color'}}, selected_style={'opacity': '1'}, tooltip_style={'opacity': 0.9}, unselected_style={'opacity': '0.2'}, x=array([0, 1, 2], dtype=int64), y=array([[-0.74146732,  0.29031472,  0.18979026],\n       [ 0.61292585,  1.22688363, -2.74311586],\n       [-1.6988035 ,  0.90657409,  0.71812558],\n       [ 0.30496317,  0.04243719, -0.65523141],\n       [ 0.49652789,  1.11410282,  1.31825383],\n       [ 2.98896642,  0.31618332,  0.69701383],\n       [ 0.83862391, -1.37025646, -1.35436198],\n       [-0.62767786,  2.04172757, -1.23112493]]))], scale=LinearScale()) not in array",
      "\nDuring handling of the above exception, another exception occurred:\n",
      "\u001b[1;31mTraitError\u001b[0m                                Traceback (most recent call last)",
      "\u001b[1;32m<ipython-input-303-7ebda9aae3be>\u001b[0m in \u001b[0;36m<module>\u001b[1;34m()\u001b[0m\n\u001b[1;32m----> 1\u001b[1;33m \u001b[0mcp\u001b[0m\u001b[1;33m.\u001b[0m\u001b[0mdisable\u001b[0m\u001b[1;33m(\u001b[0m\u001b[1;34m'bar'\u001b[0m\u001b[1;33m)\u001b[0m\u001b[1;33m\u001b[0m\u001b[0m\n\u001b[0m\u001b[0;32m      2\u001b[0m \u001b[1;31m# cp.disable('brush')#display(cp)\u001b[0m\u001b[1;33m\u001b[0m\u001b[1;33m\u001b[0m\u001b[0m\n\u001b[0;32m      3\u001b[0m \u001b[1;31m# cp.enable(['brush', 'brush_x'])\u001b[0m\u001b[1;33m\u001b[0m\u001b[1;33m\u001b[0m\u001b[0m\n\u001b[0;32m      4\u001b[0m \u001b[0mdisplay\u001b[0m\u001b[1;33m(\u001b[0m\u001b[0mcp\u001b[0m\u001b[1;33m)\u001b[0m\u001b[1;33m\u001b[0m\u001b[0m\n",
      "\u001b[1;32m<ipython-input-298-8788fa3ea8e0>\u001b[0m in \u001b[0;36mdisable\u001b[1;34m(self, interactions)\u001b[0m\n\u001b[0;32m    152\u001b[0m \u001b[1;33m\u001b[0m\u001b[0m\n\u001b[0;32m    153\u001b[0m         \u001b[1;32mif\u001b[0m \u001b[0mchange\u001b[0m\u001b[1;33m:\u001b[0m\u001b[1;33m\u001b[0m\u001b[0m\n\u001b[1;32m--> 154\u001b[1;33m             \u001b[0mself\u001b[0m\u001b[1;33m.\u001b[0m\u001b[0mupdatebuttons\u001b[0m\u001b[1;33m(\u001b[0m\u001b[0mself\u001b[0m\u001b[1;33m.\u001b[0m\u001b[0menabled\u001b[0m\u001b[1;33m)\u001b[0m\u001b[1;33m\u001b[0m\u001b[0m\n\u001b[0m\u001b[0;32m    155\u001b[0m \u001b[1;33m\u001b[0m\u001b[0m\n\u001b[0;32m    156\u001b[0m     \u001b[1;32mdef\u001b[0m \u001b[0mon\u001b[0m\u001b[1;33m(\u001b[0m\u001b[0mself\u001b[0m\u001b[1;33m,\u001b[0m \u001b[0minteraction\u001b[0m\u001b[1;33m,\u001b[0m \u001b[0mcb\u001b[0m\u001b[1;33m)\u001b[0m\u001b[1;33m:\u001b[0m\u001b[1;33m\u001b[0m\u001b[0m\n",
      "\u001b[1;32m<ipython-input-298-8788fa3ea8e0>\u001b[0m in \u001b[0;36mupdatebuttons\u001b[1;34m(self, enabled)\u001b[0m\n\u001b[0;32m    107\u001b[0m         \u001b[1;32mwith\u001b[0m \u001b[0mself\u001b[0m\u001b[1;33m.\u001b[0m\u001b[0mfig\u001b[0m\u001b[1;33m.\u001b[0m\u001b[0mhold_trait_notifications\u001b[0m\u001b[1;33m(\u001b[0m\u001b[1;33m)\u001b[0m\u001b[1;33m:\u001b[0m\u001b[1;33m\u001b[0m\u001b[0m\n\u001b[0;32m    108\u001b[0m             \u001b[1;31m#dpdown.options=['4','5','6']\u001b[0m\u001b[1;33m\u001b[0m\u001b[1;33m\u001b[0m\u001b[0m\n\u001b[1;32m--> 109\u001b[1;33m             \u001b[0mself\u001b[0m\u001b[1;33m.\u001b[0m\u001b[0mlink\u001b[0m \u001b[1;33m=\u001b[0m \u001b[0mlink\u001b[0m\u001b[1;33m(\u001b[0m\u001b[1;33m(\u001b[0m\u001b[0mself\u001b[0m\u001b[1;33m.\u001b[0m\u001b[0mselection_interacts\u001b[0m\u001b[1;33m,\u001b[0m \u001b[1;34m'value'\u001b[0m\u001b[1;33m)\u001b[0m\u001b[1;33m,\u001b[0m \u001b[1;33m(\u001b[0m\u001b[0mself\u001b[0m\u001b[1;33m.\u001b[0m\u001b[0mfig\u001b[0m\u001b[1;33m,\u001b[0m \u001b[1;34m'interaction'\u001b[0m\u001b[1;33m)\u001b[0m\u001b[1;33m)\u001b[0m\u001b[1;33m\u001b[0m\u001b[0m\n\u001b[0m\u001b[0;32m    110\u001b[0m \u001b[1;33m\u001b[0m\u001b[0m\n\u001b[0;32m    111\u001b[0m         box_layout = Layout(display='flex',\n",
      "\u001b[1;32mE:\\Anaconda\\envs\\CyPlot\\lib\\contextlib.py\u001b[0m in \u001b[0;36m__exit__\u001b[1;34m(self, type, value, traceback)\u001b[0m\n\u001b[0;32m     86\u001b[0m         \u001b[1;32mif\u001b[0m \u001b[0mtype\u001b[0m \u001b[1;32mis\u001b[0m \u001b[1;32mNone\u001b[0m\u001b[1;33m:\u001b[0m\u001b[1;33m\u001b[0m\u001b[0m\n\u001b[0;32m     87\u001b[0m             \u001b[1;32mtry\u001b[0m\u001b[1;33m:\u001b[0m\u001b[1;33m\u001b[0m\u001b[0m\n\u001b[1;32m---> 88\u001b[1;33m                 \u001b[0mnext\u001b[0m\u001b[1;33m(\u001b[0m\u001b[0mself\u001b[0m\u001b[1;33m.\u001b[0m\u001b[0mgen\u001b[0m\u001b[1;33m)\u001b[0m\u001b[1;33m\u001b[0m\u001b[0m\n\u001b[0m\u001b[0;32m     89\u001b[0m             \u001b[1;32mexcept\u001b[0m \u001b[0mStopIteration\u001b[0m\u001b[1;33m:\u001b[0m\u001b[1;33m\u001b[0m\u001b[0m\n\u001b[0;32m     90\u001b[0m                 \u001b[1;32mreturn\u001b[0m \u001b[1;32mFalse\u001b[0m\u001b[1;33m\u001b[0m\u001b[0m\n",
      "\u001b[1;32mE:\\Anaconda\\envs\\CyPlot\\lib\\site-packages\\traitlets\\traitlets.py\u001b[0m in \u001b[0;36mhold_trait_notifications\u001b[1;34m(self)\u001b[0m\n\u001b[0;32m   1129\u001b[0m                 \u001b[1;32mfor\u001b[0m \u001b[0mchanges\u001b[0m \u001b[1;32min\u001b[0m \u001b[0mcache\u001b[0m\u001b[1;33m.\u001b[0m\u001b[0mvalues\u001b[0m\u001b[1;33m(\u001b[0m\u001b[1;33m)\u001b[0m\u001b[1;33m:\u001b[0m\u001b[1;33m\u001b[0m\u001b[0m\n\u001b[0;32m   1130\u001b[0m                     \u001b[1;32mfor\u001b[0m \u001b[0mchange\u001b[0m \u001b[1;32min\u001b[0m \u001b[0mchanges\u001b[0m\u001b[1;33m:\u001b[0m\u001b[1;33m\u001b[0m\u001b[0m\n\u001b[1;32m-> 1131\u001b[1;33m                         \u001b[0mself\u001b[0m\u001b[1;33m.\u001b[0m\u001b[0mnotify_change\u001b[0m\u001b[1;33m(\u001b[0m\u001b[0mchange\u001b[0m\u001b[1;33m)\u001b[0m\u001b[1;33m\u001b[0m\u001b[0m\n\u001b[0m\u001b[0;32m   1132\u001b[0m \u001b[1;33m\u001b[0m\u001b[0m\n\u001b[0;32m   1133\u001b[0m     \u001b[1;32mdef\u001b[0m \u001b[0m_notify_trait\u001b[0m\u001b[1;33m(\u001b[0m\u001b[0mself\u001b[0m\u001b[1;33m,\u001b[0m \u001b[0mname\u001b[0m\u001b[1;33m,\u001b[0m \u001b[0mold_value\u001b[0m\u001b[1;33m,\u001b[0m \u001b[0mnew_value\u001b[0m\u001b[1;33m)\u001b[0m\u001b[1;33m:\u001b[0m\u001b[1;33m\u001b[0m\u001b[0m\n",
      "\u001b[1;32mE:\\Anaconda\\envs\\CyPlot\\lib\\site-packages\\ipywidgets\\widgets\\widget.py\u001b[0m in \u001b[0;36mnotify_change\u001b[1;34m(self, change)\u001b[0m\n\u001b[0;32m    598\u001b[0m                 \u001b[1;31m# Send new state to front-end\u001b[0m\u001b[1;33m\u001b[0m\u001b[1;33m\u001b[0m\u001b[0m\n\u001b[0;32m    599\u001b[0m                 \u001b[0mself\u001b[0m\u001b[1;33m.\u001b[0m\u001b[0msend_state\u001b[0m\u001b[1;33m(\u001b[0m\u001b[0mkey\u001b[0m\u001b[1;33m=\u001b[0m\u001b[0mname\u001b[0m\u001b[1;33m)\u001b[0m\u001b[1;33m\u001b[0m\u001b[0m\n\u001b[1;32m--> 600\u001b[1;33m         \u001b[0msuper\u001b[0m\u001b[1;33m(\u001b[0m\u001b[0mWidget\u001b[0m\u001b[1;33m,\u001b[0m \u001b[0mself\u001b[0m\u001b[1;33m)\u001b[0m\u001b[1;33m.\u001b[0m\u001b[0mnotify_change\u001b[0m\u001b[1;33m(\u001b[0m\u001b[0mchange\u001b[0m\u001b[1;33m)\u001b[0m\u001b[1;33m\u001b[0m\u001b[0m\n\u001b[0m\u001b[0;32m    601\u001b[0m \u001b[1;33m\u001b[0m\u001b[0m\n\u001b[0;32m    602\u001b[0m     \u001b[1;32mdef\u001b[0m \u001b[0m__repr__\u001b[0m\u001b[1;33m(\u001b[0m\u001b[0mself\u001b[0m\u001b[1;33m)\u001b[0m\u001b[1;33m:\u001b[0m\u001b[1;33m\u001b[0m\u001b[0m\n",
      "\u001b[1;32mE:\\Anaconda\\envs\\CyPlot\\lib\\site-packages\\traitlets\\traitlets.py\u001b[0m in \u001b[0;36mnotify_change\u001b[1;34m(self, change)\u001b[0m\n\u001b[0;32m   1174\u001b[0m                 \u001b[0mc\u001b[0m \u001b[1;33m=\u001b[0m \u001b[0mgetattr\u001b[0m\u001b[1;33m(\u001b[0m\u001b[0mself\u001b[0m\u001b[1;33m,\u001b[0m \u001b[0mc\u001b[0m\u001b[1;33m.\u001b[0m\u001b[0mname\u001b[0m\u001b[1;33m)\u001b[0m\u001b[1;33m\u001b[0m\u001b[0m\n\u001b[0;32m   1175\u001b[0m \u001b[1;33m\u001b[0m\u001b[0m\n\u001b[1;32m-> 1176\u001b[1;33m             \u001b[0mc\u001b[0m\u001b[1;33m(\u001b[0m\u001b[0mchange\u001b[0m\u001b[1;33m)\u001b[0m\u001b[1;33m\u001b[0m\u001b[0m\n\u001b[0m\u001b[0;32m   1177\u001b[0m \u001b[1;33m\u001b[0m\u001b[0m\n\u001b[0;32m   1178\u001b[0m     \u001b[1;32mdef\u001b[0m \u001b[0m_add_notifiers\u001b[0m\u001b[1;33m(\u001b[0m\u001b[0mself\u001b[0m\u001b[1;33m,\u001b[0m \u001b[0mhandler\u001b[0m\u001b[1;33m,\u001b[0m \u001b[0mname\u001b[0m\u001b[1;33m,\u001b[0m \u001b[0mtype\u001b[0m\u001b[1;33m)\u001b[0m\u001b[1;33m:\u001b[0m\u001b[1;33m\u001b[0m\u001b[0m\n",
      "\u001b[1;32mE:\\Anaconda\\envs\\CyPlot\\lib\\site-packages\\traitlets\\traitlets.py\u001b[0m in \u001b[0;36m_update_source\u001b[1;34m(self, change)\u001b[0m\n\u001b[0;32m    295\u001b[0m             \u001b[1;32mreturn\u001b[0m\u001b[1;33m\u001b[0m\u001b[0m\n\u001b[0;32m    296\u001b[0m         \u001b[1;32mwith\u001b[0m \u001b[0mself\u001b[0m\u001b[1;33m.\u001b[0m\u001b[0m_busy_updating\u001b[0m\u001b[1;33m(\u001b[0m\u001b[1;33m)\u001b[0m\u001b[1;33m:\u001b[0m\u001b[1;33m\u001b[0m\u001b[0m\n\u001b[1;32m--> 297\u001b[1;33m             \u001b[0msetattr\u001b[0m\u001b[1;33m(\u001b[0m\u001b[0mself\u001b[0m\u001b[1;33m.\u001b[0m\u001b[0msource\u001b[0m\u001b[1;33m[\u001b[0m\u001b[1;36m0\u001b[0m\u001b[1;33m]\u001b[0m\u001b[1;33m,\u001b[0m \u001b[0mself\u001b[0m\u001b[1;33m.\u001b[0m\u001b[0msource\u001b[0m\u001b[1;33m[\u001b[0m\u001b[1;36m1\u001b[0m\u001b[1;33m]\u001b[0m\u001b[1;33m,\u001b[0m \u001b[0mchange\u001b[0m\u001b[1;33m.\u001b[0m\u001b[0mnew\u001b[0m\u001b[1;33m)\u001b[0m\u001b[1;33m\u001b[0m\u001b[0m\n\u001b[0m\u001b[0;32m    298\u001b[0m \u001b[1;33m\u001b[0m\u001b[0m\n\u001b[0;32m    299\u001b[0m     \u001b[1;32mdef\u001b[0m \u001b[0munlink\u001b[0m\u001b[1;33m(\u001b[0m\u001b[0mself\u001b[0m\u001b[1;33m)\u001b[0m\u001b[1;33m:\u001b[0m\u001b[1;33m\u001b[0m\u001b[0m\n",
      "\u001b[1;32mE:\\Anaconda\\envs\\CyPlot\\lib\\site-packages\\traitlets\\traitlets.py\u001b[0m in \u001b[0;36m__set__\u001b[1;34m(self, obj, value)\u001b[0m\n\u001b[0;32m    583\u001b[0m             \u001b[1;32mraise\u001b[0m \u001b[0mTraitError\u001b[0m\u001b[1;33m(\u001b[0m\u001b[1;34m'The \"%s\" trait is read-only.'\u001b[0m \u001b[1;33m%\u001b[0m \u001b[0mself\u001b[0m\u001b[1;33m.\u001b[0m\u001b[0mname\u001b[0m\u001b[1;33m)\u001b[0m\u001b[1;33m\u001b[0m\u001b[0m\n\u001b[0;32m    584\u001b[0m         \u001b[1;32melse\u001b[0m\u001b[1;33m:\u001b[0m\u001b[1;33m\u001b[0m\u001b[0m\n\u001b[1;32m--> 585\u001b[1;33m             \u001b[0mself\u001b[0m\u001b[1;33m.\u001b[0m\u001b[0mset\u001b[0m\u001b[1;33m(\u001b[0m\u001b[0mobj\u001b[0m\u001b[1;33m,\u001b[0m \u001b[0mvalue\u001b[0m\u001b[1;33m)\u001b[0m\u001b[1;33m\u001b[0m\u001b[0m\n\u001b[0m\u001b[0;32m    586\u001b[0m \u001b[1;33m\u001b[0m\u001b[0m\n\u001b[0;32m    587\u001b[0m     \u001b[1;32mdef\u001b[0m \u001b[0m_validate\u001b[0m\u001b[1;33m(\u001b[0m\u001b[0mself\u001b[0m\u001b[1;33m,\u001b[0m \u001b[0mobj\u001b[0m\u001b[1;33m,\u001b[0m \u001b[0mvalue\u001b[0m\u001b[1;33m)\u001b[0m\u001b[1;33m:\u001b[0m\u001b[1;33m\u001b[0m\u001b[0m\n",
      "\u001b[1;32mE:\\Anaconda\\envs\\CyPlot\\lib\\site-packages\\traitlets\\traitlets.py\u001b[0m in \u001b[0;36mset\u001b[1;34m(self, obj, value)\u001b[0m\n\u001b[0;32m    557\u001b[0m \u001b[1;33m\u001b[0m\u001b[0m\n\u001b[0;32m    558\u001b[0m     \u001b[1;32mdef\u001b[0m \u001b[0mset\u001b[0m\u001b[1;33m(\u001b[0m\u001b[0mself\u001b[0m\u001b[1;33m,\u001b[0m \u001b[0mobj\u001b[0m\u001b[1;33m,\u001b[0m \u001b[0mvalue\u001b[0m\u001b[1;33m)\u001b[0m\u001b[1;33m:\u001b[0m\u001b[1;33m\u001b[0m\u001b[0m\n\u001b[1;32m--> 559\u001b[1;33m         \u001b[0mnew_value\u001b[0m \u001b[1;33m=\u001b[0m \u001b[0mself\u001b[0m\u001b[1;33m.\u001b[0m\u001b[0m_validate\u001b[0m\u001b[1;33m(\u001b[0m\u001b[0mobj\u001b[0m\u001b[1;33m,\u001b[0m \u001b[0mvalue\u001b[0m\u001b[1;33m)\u001b[0m\u001b[1;33m\u001b[0m\u001b[0m\n\u001b[0m\u001b[0;32m    560\u001b[0m         \u001b[1;32mtry\u001b[0m\u001b[1;33m:\u001b[0m\u001b[1;33m\u001b[0m\u001b[0m\n\u001b[0;32m    561\u001b[0m             \u001b[0mold_value\u001b[0m \u001b[1;33m=\u001b[0m \u001b[0mobj\u001b[0m\u001b[1;33m.\u001b[0m\u001b[0m_trait_values\u001b[0m\u001b[1;33m[\u001b[0m\u001b[0mself\u001b[0m\u001b[1;33m.\u001b[0m\u001b[0mname\u001b[0m\u001b[1;33m]\u001b[0m\u001b[1;33m\u001b[0m\u001b[0m\n",
      "\u001b[1;32mE:\\Anaconda\\envs\\CyPlot\\lib\\site-packages\\traitlets\\traitlets.py\u001b[0m in \u001b[0;36m_validate\u001b[1;34m(self, obj, value)\u001b[0m\n\u001b[0;32m    591\u001b[0m             \u001b[0mvalue\u001b[0m \u001b[1;33m=\u001b[0m \u001b[0mself\u001b[0m\u001b[1;33m.\u001b[0m\u001b[0mvalidate\u001b[0m\u001b[1;33m(\u001b[0m\u001b[0mobj\u001b[0m\u001b[1;33m,\u001b[0m \u001b[0mvalue\u001b[0m\u001b[1;33m)\u001b[0m\u001b[1;33m\u001b[0m\u001b[0m\n\u001b[0;32m    592\u001b[0m         \u001b[1;32mif\u001b[0m \u001b[0mobj\u001b[0m\u001b[1;33m.\u001b[0m\u001b[0m_cross_validation_lock\u001b[0m \u001b[1;32mis\u001b[0m \u001b[1;32mFalse\u001b[0m\u001b[1;33m:\u001b[0m\u001b[1;33m\u001b[0m\u001b[0m\n\u001b[1;32m--> 593\u001b[1;33m             \u001b[0mvalue\u001b[0m \u001b[1;33m=\u001b[0m \u001b[0mself\u001b[0m\u001b[1;33m.\u001b[0m\u001b[0m_cross_validate\u001b[0m\u001b[1;33m(\u001b[0m\u001b[0mobj\u001b[0m\u001b[1;33m,\u001b[0m \u001b[0mvalue\u001b[0m\u001b[1;33m)\u001b[0m\u001b[1;33m\u001b[0m\u001b[0m\n\u001b[0m\u001b[0;32m    594\u001b[0m         \u001b[1;32mreturn\u001b[0m \u001b[0mvalue\u001b[0m\u001b[1;33m\u001b[0m\u001b[0m\n\u001b[0;32m    595\u001b[0m \u001b[1;33m\u001b[0m\u001b[0m\n",
      "\u001b[1;32mE:\\Anaconda\\envs\\CyPlot\\lib\\site-packages\\traitlets\\traitlets.py\u001b[0m in \u001b[0;36m_cross_validate\u001b[1;34m(self, obj, value)\u001b[0m\n\u001b[0;32m    597\u001b[0m         \u001b[1;32mif\u001b[0m \u001b[0mself\u001b[0m\u001b[1;33m.\u001b[0m\u001b[0mname\u001b[0m \u001b[1;32min\u001b[0m \u001b[0mobj\u001b[0m\u001b[1;33m.\u001b[0m\u001b[0m_trait_validators\u001b[0m\u001b[1;33m:\u001b[0m\u001b[1;33m\u001b[0m\u001b[0m\n\u001b[0;32m    598\u001b[0m             \u001b[0mproposal\u001b[0m \u001b[1;33m=\u001b[0m \u001b[0mBunch\u001b[0m\u001b[1;33m(\u001b[0m\u001b[1;33m{\u001b[0m\u001b[1;34m'trait'\u001b[0m\u001b[1;33m:\u001b[0m \u001b[0mself\u001b[0m\u001b[1;33m,\u001b[0m \u001b[1;34m'value'\u001b[0m\u001b[1;33m:\u001b[0m \u001b[0mvalue\u001b[0m\u001b[1;33m,\u001b[0m \u001b[1;34m'owner'\u001b[0m\u001b[1;33m:\u001b[0m \u001b[0mobj\u001b[0m\u001b[1;33m}\u001b[0m\u001b[1;33m)\u001b[0m\u001b[1;33m\u001b[0m\u001b[0m\n\u001b[1;32m--> 599\u001b[1;33m             \u001b[0mvalue\u001b[0m \u001b[1;33m=\u001b[0m \u001b[0mobj\u001b[0m\u001b[1;33m.\u001b[0m\u001b[0m_trait_validators\u001b[0m\u001b[1;33m[\u001b[0m\u001b[0mself\u001b[0m\u001b[1;33m.\u001b[0m\u001b[0mname\u001b[0m\u001b[1;33m]\u001b[0m\u001b[1;33m(\u001b[0m\u001b[0mobj\u001b[0m\u001b[1;33m,\u001b[0m \u001b[0mproposal\u001b[0m\u001b[1;33m)\u001b[0m\u001b[1;33m\u001b[0m\u001b[0m\n\u001b[0m\u001b[0;32m    600\u001b[0m         \u001b[1;32melif\u001b[0m \u001b[0mhasattr\u001b[0m\u001b[1;33m(\u001b[0m\u001b[0mobj\u001b[0m\u001b[1;33m,\u001b[0m \u001b[1;34m'_%s_validate'\u001b[0m \u001b[1;33m%\u001b[0m \u001b[0mself\u001b[0m\u001b[1;33m.\u001b[0m\u001b[0mname\u001b[0m\u001b[1;33m)\u001b[0m\u001b[1;33m:\u001b[0m\u001b[1;33m\u001b[0m\u001b[0m\n\u001b[0;32m    601\u001b[0m             \u001b[0mmeth_name\u001b[0m \u001b[1;33m=\u001b[0m \u001b[1;34m'_%s_validate'\u001b[0m \u001b[1;33m%\u001b[0m \u001b[0mself\u001b[0m\u001b[1;33m.\u001b[0m\u001b[0mname\u001b[0m\u001b[1;33m\u001b[0m\u001b[0m\n",
      "\u001b[1;32mE:\\Anaconda\\envs\\CyPlot\\lib\\site-packages\\traitlets\\traitlets.py\u001b[0m in \u001b[0;36m__call__\u001b[1;34m(self, *args, **kwargs)\u001b[0m\n\u001b[0;32m    905\u001b[0m         \u001b[1;34m\"\"\"Pass `*args` and `**kwargs` to the handler's function if it exists.\"\"\"\u001b[0m\u001b[1;33m\u001b[0m\u001b[0m\n\u001b[0;32m    906\u001b[0m         \u001b[1;32mif\u001b[0m \u001b[0mhasattr\u001b[0m\u001b[1;33m(\u001b[0m\u001b[0mself\u001b[0m\u001b[1;33m,\u001b[0m \u001b[1;34m'func'\u001b[0m\u001b[1;33m)\u001b[0m\u001b[1;33m:\u001b[0m\u001b[1;33m\u001b[0m\u001b[0m\n\u001b[1;32m--> 907\u001b[1;33m             \u001b[1;32mreturn\u001b[0m \u001b[0mself\u001b[0m\u001b[1;33m.\u001b[0m\u001b[0mfunc\u001b[0m\u001b[1;33m(\u001b[0m\u001b[1;33m*\u001b[0m\u001b[0margs\u001b[0m\u001b[1;33m,\u001b[0m \u001b[1;33m**\u001b[0m\u001b[0mkwargs\u001b[0m\u001b[1;33m)\u001b[0m\u001b[1;33m\u001b[0m\u001b[0m\n\u001b[0m\u001b[0;32m    908\u001b[0m         \u001b[1;32melse\u001b[0m\u001b[1;33m:\u001b[0m\u001b[1;33m\u001b[0m\u001b[0m\n\u001b[0;32m    909\u001b[0m             \u001b[1;32mreturn\u001b[0m \u001b[0mself\u001b[0m\u001b[1;33m.\u001b[0m\u001b[0m_init_call\u001b[0m\u001b[1;33m(\u001b[0m\u001b[1;33m*\u001b[0m\u001b[0margs\u001b[0m\u001b[1;33m,\u001b[0m \u001b[1;33m**\u001b[0m\u001b[0mkwargs\u001b[0m\u001b[1;33m)\u001b[0m\u001b[1;33m\u001b[0m\u001b[0m\n",
      "\u001b[1;32mE:\\Anaconda\\envs\\CyPlot\\lib\\site-packages\\ipywidgets\\widgets\\widget_selection.py\u001b[0m in \u001b[0;36m_validate_value\u001b[1;34m(self, proposal)\u001b[0m\n\u001b[0;32m    237\u001b[0m             \u001b[1;32mreturn\u001b[0m \u001b[0mfindvalue\u001b[0m\u001b[1;33m(\u001b[0m\u001b[0mself\u001b[0m\u001b[1;33m.\u001b[0m\u001b[0m_options_values\u001b[0m\u001b[1;33m,\u001b[0m \u001b[0mvalue\u001b[0m\u001b[1;33m,\u001b[0m \u001b[0mself\u001b[0m\u001b[1;33m.\u001b[0m\u001b[0mequals\u001b[0m\u001b[1;33m)\u001b[0m \u001b[1;32mif\u001b[0m \u001b[0mvalue\u001b[0m \u001b[1;32mis\u001b[0m \u001b[1;32mnot\u001b[0m \u001b[1;32mNone\u001b[0m \u001b[1;32melse\u001b[0m \u001b[1;32mNone\u001b[0m\u001b[1;33m\u001b[0m\u001b[0m\n\u001b[0;32m    238\u001b[0m         \u001b[1;32mexcept\u001b[0m \u001b[0mValueError\u001b[0m\u001b[1;33m:\u001b[0m\u001b[1;33m\u001b[0m\u001b[0m\n\u001b[1;32m--> 239\u001b[1;33m             \u001b[1;32mraise\u001b[0m \u001b[0mTraitError\u001b[0m\u001b[1;33m(\u001b[0m\u001b[1;34m'Invalid selection: value not found'\u001b[0m\u001b[1;33m)\u001b[0m\u001b[1;33m\u001b[0m\u001b[0m\n\u001b[0m\u001b[0;32m    240\u001b[0m \u001b[1;33m\u001b[0m\u001b[0m\n\u001b[0;32m    241\u001b[0m     \u001b[1;33m@\u001b[0m\u001b[0mobserve\u001b[0m\u001b[1;33m(\u001b[0m\u001b[1;34m'value'\u001b[0m\u001b[1;33m)\u001b[0m\u001b[1;33m\u001b[0m\u001b[0m\n",
      "\u001b[1;31mTraitError\u001b[0m: Invalid selection: value not found"
     ]
    }
   ],
   "source": [
    "cp.disable('bar')\n",
    "# cp.disable('brush')#display(cp)\n",
    "# cp.enable(['brush', 'brush_x'])\n",
    "display(cp)"
   ]
  },
  {
   "cell_type": "code",
   "execution_count": 52,
   "metadata": {},
   "outputs": [
    {
     "data": {
      "text/plain": [
       "0"
      ]
     },
     "execution_count": 52,
     "metadata": {},
     "output_type": "execute_result"
    }
   ],
   "source": [
    "cp.selection_interacts.index"
   ]
  },
  {
   "cell_type": "code",
   "execution_count": 254,
   "metadata": {},
   "outputs": [
    {
     "data": {
      "text/plain": [
       "['brush_x']"
      ]
     },
     "execution_count": 254,
     "metadata": {},
     "output_type": "execute_result"
    }
   ],
   "source": [
    "cp.enabled"
   ]
  },
  {
   "cell_type": "code",
   "execution_count": 318,
   "metadata": {},
   "outputs": [],
   "source": [
    "df = pd.DataFrame(np.random.randn(50,3),columns=list('ABX'))\n",
    "\n",
    "cpp = plot(df)"
   ]
  },
  {
   "cell_type": "code",
   "execution_count": 320,
   "metadata": {},
   "outputs": [],
   "source": [
    "cpp.enable('brush')"
   ]
  },
  {
   "cell_type": "code",
   "execution_count": 325,
   "metadata": {},
   "outputs": [],
   "source": [
    "a = np.ndarray([1])"
   ]
  },
  {
   "cell_type": "code",
   "execution_count": 352,
   "metadata": {},
   "outputs": [],
   "source": [
    "s1 = pd.Series([1, 2], index=['A', 'B'], name='s1')\n",
    "s2 = pd.Series([5, 6], index=['A', 'B'], name='s2')"
   ]
  },
  {
   "cell_type": "code",
   "execution_count": 366,
   "metadata": {},
   "outputs": [],
   "source": [
    "df2 = pd.DataFrame(np.random.randn(3, 8), index=[3,4,5], columns=index)\n",
    "\n"
   ]
  },
  {
   "cell_type": "code",
   "execution_count": 377,
   "metadata": {},
   "outputs": [
    {
     "data": {
      "application/vnd.jupyter.widget-view+json": {
       "model_id": "fbf7895998ac4d7b95e247132b7746d6",
       "version_major": 2,
       "version_minor": 0
      },
      "text/plain": [
       "VBox(children=(ToggleButtons(description='Interaction: ', icons=('mouse-pointer',), layout=Layout(justify_cont…"
      ]
     },
     "metadata": {},
     "output_type": "display_data"
    },
    {
     "data": {
      "application/vnd.jupyter.widget-view+json": {
       "model_id": "bd4eda6d482d408d828742b6ae3c2306",
       "version_major": 2,
       "version_minor": 0
      },
      "text/plain": [
       "Figure(axes=[Axis(grid_lines='none', label='index', scale=LinearScale(), side='bottom'), Axis(grid_lines='none…"
      ]
     },
     "metadata": {},
     "output_type": "display_data"
    }
   ],
   "source": [
    "display(cp)\n",
    "cp.fig"
   ]
  },
  {
   "cell_type": "code",
   "execution_count": 378,
   "metadata": {},
   "outputs": [],
   "source": [
    "arrays = [['ba1', 'ba2', 'ba3', 'ba4', 'fo', 'fo', 'qaux', 'qaux'],['one', 'two', 'one', 'two', 'one', 'two', 'one', 'two']]\n",
    "tuples = list(zip(*arrays))\n",
    "index = pd.MultiIndex.from_tuples(tuples, names=['first', 'second'])\n",
    "df2 = pd.DataFrame(np.random.randn(3, 8), index=[0,1,2], columns=index)"
   ]
  },
  {
   "cell_type": "code",
   "execution_count": 379,
   "metadata": {},
   "outputs": [
    {
     "data": {
      "text/html": [
       "<div>\n",
       "<style scoped>\n",
       "    .dataframe tbody tr th:only-of-type {\n",
       "        vertical-align: middle;\n",
       "    }\n",
       "\n",
       "    .dataframe tbody tr th {\n",
       "        vertical-align: top;\n",
       "    }\n",
       "\n",
       "    .dataframe thead tr th {\n",
       "        text-align: left;\n",
       "    }\n",
       "</style>\n",
       "<table border=\"1\" class=\"dataframe\">\n",
       "  <thead>\n",
       "    <tr>\n",
       "      <th>first</th>\n",
       "      <th>ba1</th>\n",
       "      <th>ba2</th>\n",
       "      <th>ba3</th>\n",
       "      <th>ba4</th>\n",
       "      <th colspan=\"2\" halign=\"left\">fo</th>\n",
       "      <th colspan=\"2\" halign=\"left\">qaux</th>\n",
       "    </tr>\n",
       "    <tr>\n",
       "      <th>second</th>\n",
       "      <th>one</th>\n",
       "      <th>two</th>\n",
       "      <th>one</th>\n",
       "      <th>two</th>\n",
       "      <th>one</th>\n",
       "      <th>two</th>\n",
       "      <th>one</th>\n",
       "      <th>two</th>\n",
       "    </tr>\n",
       "  </thead>\n",
       "  <tbody>\n",
       "    <tr>\n",
       "      <th>0</th>\n",
       "      <td>0.225806</td>\n",
       "      <td>0.647563</td>\n",
       "      <td>1.528399</td>\n",
       "      <td>-0.340610</td>\n",
       "      <td>-0.762711</td>\n",
       "      <td>0.268617</td>\n",
       "      <td>0.386637</td>\n",
       "      <td>0.772077</td>\n",
       "    </tr>\n",
       "    <tr>\n",
       "      <th>1</th>\n",
       "      <td>0.700473</td>\n",
       "      <td>1.110420</td>\n",
       "      <td>-0.282433</td>\n",
       "      <td>-0.566107</td>\n",
       "      <td>-0.281459</td>\n",
       "      <td>1.005626</td>\n",
       "      <td>-0.825125</td>\n",
       "      <td>-1.337222</td>\n",
       "    </tr>\n",
       "    <tr>\n",
       "      <th>2</th>\n",
       "      <td>-1.274799</td>\n",
       "      <td>2.320212</td>\n",
       "      <td>-0.555397</td>\n",
       "      <td>0.579416</td>\n",
       "      <td>-1.928062</td>\n",
       "      <td>-1.350676</td>\n",
       "      <td>-0.081056</td>\n",
       "      <td>2.234460</td>\n",
       "    </tr>\n",
       "  </tbody>\n",
       "</table>\n",
       "</div>"
      ],
      "text/plain": [
       "first        ba1       ba2       ba3       ba4        fo                qaux  \\\n",
       "second       one       two       one       two       one       two       one   \n",
       "0       0.225806  0.647563  1.528399 -0.340610 -0.762711  0.268617  0.386637   \n",
       "1       0.700473  1.110420 -0.282433 -0.566107 -0.281459  1.005626 -0.825125   \n",
       "2      -1.274799  2.320212 -0.555397  0.579416 -1.928062 -1.350676 -0.081056   \n",
       "\n",
       "first             \n",
       "second       two  \n",
       "0       0.772077  \n",
       "1      -1.337222  \n",
       "2       2.234460  "
      ]
     },
     "execution_count": 379,
     "metadata": {},
     "output_type": "execute_result"
    }
   ],
   "source": [
    "df2"
   ]
  },
  {
   "cell_type": "code",
   "execution_count": 380,
   "metadata": {},
   "outputs": [
    {
     "data": {
      "text/html": [
       "<div>\n",
       "<style scoped>\n",
       "    .dataframe tbody tr th:only-of-type {\n",
       "        vertical-align: middle;\n",
       "    }\n",
       "\n",
       "    .dataframe tbody tr th {\n",
       "        vertical-align: top;\n",
       "    }\n",
       "\n",
       "    .dataframe thead tr th {\n",
       "        text-align: left;\n",
       "    }\n",
       "</style>\n",
       "<table border=\"1\" class=\"dataframe\">\n",
       "  <thead>\n",
       "    <tr>\n",
       "      <th>first</th>\n",
       "      <th colspan=\"2\" halign=\"left\">bar</th>\n",
       "      <th colspan=\"2\" halign=\"left\">baz</th>\n",
       "      <th colspan=\"2\" halign=\"left\">foo</th>\n",
       "      <th colspan=\"2\" halign=\"left\">qux</th>\n",
       "    </tr>\n",
       "    <tr>\n",
       "      <th>second</th>\n",
       "      <th>one</th>\n",
       "      <th>two</th>\n",
       "      <th>one</th>\n",
       "      <th>two</th>\n",
       "      <th>one</th>\n",
       "      <th>two</th>\n",
       "      <th>one</th>\n",
       "      <th>two</th>\n",
       "    </tr>\n",
       "  </thead>\n",
       "  <tbody>\n",
       "    <tr>\n",
       "      <th>0</th>\n",
       "      <td>0.787315</td>\n",
       "      <td>-1.722515</td>\n",
       "      <td>1.138306</td>\n",
       "      <td>0.560657</td>\n",
       "      <td>1.159831</td>\n",
       "      <td>-0.654990</td>\n",
       "      <td>0.771065</td>\n",
       "      <td>-1.153239</td>\n",
       "    </tr>\n",
       "    <tr>\n",
       "      <th>1</th>\n",
       "      <td>-0.842648</td>\n",
       "      <td>1.909692</td>\n",
       "      <td>-0.333868</td>\n",
       "      <td>0.943755</td>\n",
       "      <td>-0.154170</td>\n",
       "      <td>-1.280038</td>\n",
       "      <td>-0.790867</td>\n",
       "      <td>-1.102575</td>\n",
       "    </tr>\n",
       "    <tr>\n",
       "      <th>2</th>\n",
       "      <td>-0.101589</td>\n",
       "      <td>-0.184241</td>\n",
       "      <td>1.377886</td>\n",
       "      <td>0.357656</td>\n",
       "      <td>1.582900</td>\n",
       "      <td>-1.062797</td>\n",
       "      <td>-0.893713</td>\n",
       "      <td>0.938964</td>\n",
       "    </tr>\n",
       "  </tbody>\n",
       "</table>\n",
       "</div>"
      ],
      "text/plain": [
       "first        bar                 baz                 foo                 qux  \\\n",
       "second       one       two       one       two       one       two       one   \n",
       "0       0.787315 -1.722515  1.138306  0.560657  1.159831 -0.654990  0.771065   \n",
       "1      -0.842648  1.909692 -0.333868  0.943755 -0.154170 -1.280038 -0.790867   \n",
       "2      -0.101589 -0.184241  1.377886  0.357656  1.582900 -1.062797 -0.893713   \n",
       "\n",
       "first             \n",
       "second       two  \n",
       "0      -1.153239  \n",
       "1      -1.102575  \n",
       "2       0.938964  "
      ]
     },
     "execution_count": 380,
     "metadata": {},
     "output_type": "execute_result"
    }
   ],
   "source": [
    "df"
   ]
  },
  {
   "cell_type": "code",
   "execution_count": 381,
   "metadata": {},
   "outputs": [],
   "source": [
    "cp = plot(df)"
   ]
  },
  {
   "cell_type": "code",
   "execution_count": 382,
   "metadata": {},
   "outputs": [],
   "source": [
    "cp.add_data(df2)"
   ]
  },
  {
   "cell_type": "code",
   "execution_count": 383,
   "metadata": {},
   "outputs": [
    {
     "data": {
      "application/vnd.jupyter.widget-view+json": {
       "model_id": "b6cac7e7e02f4b36a59d1cbb39c98a18",
       "version_major": 2,
       "version_minor": 0
      },
      "text/plain": [
       "Figure(axes=[Axis(grid_lines='none', label='index', scale=LinearScale(), side='bottom'), Axis(grid_lines='none…"
      ]
     },
     "metadata": {},
     "output_type": "display_data"
    }
   ],
   "source": [
    "cp.fig"
   ]
  }
 ],
 "metadata": {
  "kernelspec": {
   "display_name": "Python 3",
   "language": "python",
   "name": "python3"
  },
  "language_info": {
   "codemirror_mode": {
    "name": "ipython",
    "version": 3
   },
   "file_extension": ".py",
   "mimetype": "text/x-python",
   "name": "python",
   "nbconvert_exporter": "python",
   "pygments_lexer": "ipython3",
   "version": "3.6.6"
  }
 },
 "nbformat": 4,
 "nbformat_minor": 2
}
