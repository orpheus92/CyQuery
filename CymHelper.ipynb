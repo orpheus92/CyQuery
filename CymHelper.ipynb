{
 "cells": [
  {
   "cell_type": "code",
   "execution_count": 1,
   "metadata": {},
   "outputs": [],
   "source": [
    "import cymetric as cym\n",
    "from cymetric import graphs as cgr\n",
    "from cymetric import timeseries as tm\n",
    "import pandas as pd"
   ]
  },
  {
   "cell_type": "code",
   "execution_count": 2,
   "metadata": {},
   "outputs": [],
   "source": [
    "def Trans(file, rec=(), send=(), nucs_=(), coms=()):\n",
    "    ''' Return the transactions between senders (send) and receivers (rec),\n",
    "    filtered by nuclide (nucs) and commodities (coms)\n",
    "    '''\n",
    "    db = cym.dbopen(file)\n",
    "    ev = cym.Evaluator(db=db, write=False)\n",
    "    df1 = tm.transactions(ev, receivers=rec, senders=send,\n",
    "                          nucs=nucs_, commodities=coms)\n",
    "    return df1"
   ]
  },
  {
   "cell_type": "code",
   "execution_count": 3,
   "metadata": {},
   "outputs": [],
   "source": [
    "def InvFrac(file, facility, nucs1=(), nucs2=(), factor1=1, factor2=1):\n",
    "    ''' Return the fraction nucs1 / (nucs1+nucs2) the inventory of the\n",
    "    facilities (fac), weighting factor can be added on nucs1 and nucs2\n",
    "    '''\n",
    "    db = cym.dbopen(file)\n",
    "    ev = cym.Evaluator(db=db, write=False)\n",
    "    df1 = tm.inventories(ev, facilities=facility, nucs=nucs1)\n",
    "    df2 = tm.inventories(ev, facilities=facility, nucs=nucs2)\n",
    "    df_r = df2\n",
    "    df_r[df_r.columns[1]] = (df2[df2.columns[1]] / factor2) / \\\n",
    "        (df1[df1.columns[1]] / factor1 + df2[df2.columns[1]] / factor2)\n",
    "    return df_r\n"
   ]
  },
  {
   "cell_type": "code",
   "execution_count": 4,
   "metadata": {},
   "outputs": [],
   "source": [
    "def TransFrac(file='', ev=None, rec=(), send=(), nucs1=(), nucs2=(), factor1=1, factor2=1):\n",
    "    ''' Return the fraction nucs1 / (nucs1+nucs2) in the transaction between\n",
    "    senders and receivers, weighting factor can be added on nucs1 and nucs2\n",
    "    '''\n",
    "    if(file != ''):\n",
    "        db = cym.dbopen(file)\n",
    "        ev = cym.Evaluator(db=db, write=False)\n",
    "    elif (ev == None):\n",
    "        print('Need either a Filename or a cymetric evaler....')\n",
    "        return None\n",
    "    df1 = tm.transactions(ev, receivers=rec, senders=send, nucs=nucs1)\n",
    "    df2 = tm.transactions(ev, receivers=rec, senders=send, nucs=nucs2)\n",
    "    df_r = df2\n",
    "    df_r[df_r.columns[1]] = (df2[df2.columns[1]] / factor2) / \\\n",
    "        (df1[df1.columns[1]] / factor1 + df2[df2.columns[1]] / factor2)\n",
    "    return df_r\n"
   ]
  },
  {
   "cell_type": "code",
   "execution_count": 5,
   "metadata": {},
   "outputs": [],
   "source": [
    "def MakeFlowGraph(file, label=''):\n",
    "    ''' Generate the transaction flow graph between facilities\n",
    "    '''\n",
    "    db_ = cym.dbopen(file)\n",
    "    ev_ = cym.Evaluator(db=db_, write=False)\n",
    "    return cgr.flow_graph(evaler=ev_, label=label)"
   ]
  },
  {
   "cell_type": "code",
   "execution_count": 6,
   "metadata": {},
   "outputs": [],
   "source": [
    "# mode 0 non cumulative\n",
    "# mode 1 cumul\n",
    "# mode 2 mean\n",
    "def month2year(df, mode=0, division=12):\n",
    "    ''' Convert Month timestep into X timestep (default is year)\n",
    "        different mode corresponds to way to assess the quantity conversion:\n",
    "        0: keep only the first value of the year\n",
    "        1: mean value \n",
    "        2: cumulativ value \n",
    "    '''\n",
    "    dfn = pd.DataFrame(columns=['Time', 'Mass'])\n",
    "    df.rename(index=str, columns={\"Quantity\": \"Mass\"})\n",
    "    val = 0\n",
    "    for index, row in df.iterrows():\n",
    "        if mode == 0:\n",
    "            val = row['Mass']\n",
    "        else:\n",
    "            val += row['Mass']\n",
    "        if row['Time'] % division == 0:\n",
    "            if mode == 2:\n",
    "                val *= 1. / float(division)\n",
    "            dfn.loc[int(row['Time'] / division)] = int(row['Time'] / 12)\n",
    "            dfn.loc[int(row['Time'] / division)]['Mass'] = val\n",
    "            val = 0\n",
    "    return dfn"
   ]
  },
  {
   "cell_type": "code",
   "execution_count": 7,
   "metadata": {},
   "outputs": [],
   "source": [
    "def maxperdiv(df, division=12):\n",
    "    ''' Only keep the max value accross the time periode\n",
    "    '''\n",
    "    dfn = pd.DataFrame(columns=['Time', 'Mass'])\n",
    "    val = 0\n",
    "    for index, row in df.iterrows():\n",
    "        if val < row['Mass']:\n",
    "            val = row['Mass']\n",
    "        if row['Time'] % division == 0:\n",
    "            dfn.loc[int(row['Time'] / division)] = int(row['Time'] / 12)\n",
    "            dfn.loc[int(row['Time'] / division)]['Mass'] = val\n",
    "            val = 0\n",
    "    return dfn"
   ]
  },
  {
   "cell_type": "code",
   "execution_count": 8,
   "metadata": {},
   "outputs": [],
   "source": [
    "def cumul(df):\n",
    "    ''' Compute the cumulative of the panda dataframe \n",
    "    '''\n",
    "    dfn = pd.DataFrame(columns=['Time', 'Mass'])\n",
    "    val = 0\n",
    "    for index, row in df.iterrows():\n",
    "            val += row['Mass']\n",
    "            dfn.loc[row['Time']] = row['Time']\n",
    "            dfn.loc[row['Time']]['Mass'] = val\n",
    "    return dfn"
   ]
  },
  {
   "cell_type": "code",
   "execution_count": 9,
   "metadata": {},
   "outputs": [],
   "source": [
    "def increaseonly(df):\n",
    "    ''' only keep increasing value \n",
    "    '''\n",
    "    dfn = pd.DataFrame(columns=['Time', 'Mass'])\n",
    "    val = 0\n",
    "    for index, row in df.iterrows():\n",
    "        if val < row['Mass']:\n",
    "            val = row['Mass']\n",
    "            dfn.loc[int(row['Time'])] = int(row['Time'])\n",
    "            dfn.loc[int(row['Time'])]['Mass'] = row['Mass']\n",
    "            val = row['Mass']\n",
    "    return dfn"
   ]
  },
  {
   "cell_type": "code",
   "execution_count": null,
   "metadata": {},
   "outputs": [],
   "source": []
  },
  {
   "cell_type": "code",
   "execution_count": null,
   "metadata": {},
   "outputs": [],
   "source": []
  },
  {
   "cell_type": "code",
   "execution_count": null,
   "metadata": {},
   "outputs": [],
   "source": []
  },
  {
   "cell_type": "code",
   "execution_count": null,
   "metadata": {},
   "outputs": [],
   "source": []
  },
  {
   "cell_type": "code",
   "execution_count": null,
   "metadata": {},
   "outputs": [],
   "source": []
  },
  {
   "cell_type": "code",
   "execution_count": null,
   "metadata": {},
   "outputs": [],
   "source": []
  },
  {
   "cell_type": "code",
   "execution_count": null,
   "metadata": {},
   "outputs": [],
   "source": []
  },
  {
   "cell_type": "code",
   "execution_count": null,
   "metadata": {},
   "outputs": [],
   "source": []
  },
  {
   "cell_type": "code",
   "execution_count": null,
   "metadata": {},
   "outputs": [],
   "source": []
  }
 ],
 "metadata": {
  "kernelspec": {
   "display_name": "Python 3",
   "language": "python",
   "name": "python3"
  },
  "language_info": {
   "codemirror_mode": {
    "name": "ipython",
    "version": 3
   },
   "file_extension": ".py",
   "mimetype": "text/x-python",
   "name": "python",
   "nbconvert_exporter": "python",
   "pygments_lexer": "ipython3",
   "version": "3.6.6"
  }
 },
 "nbformat": 4,
 "nbformat_minor": 2
}
