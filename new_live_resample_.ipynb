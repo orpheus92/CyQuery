{
 "cells": [
  {
   "cell_type": "code",
   "execution_count": 3,
   "metadata": {},
   "outputs": [],
   "source": [
    "# import topopy\n",
    "from test_functions import *\n",
    "# import matplotlib.pyplot as plt\n",
    "# import samplers\n",
    "# import seaborn as sns\n",
    "# from matplotlib import patches, collections\n",
    "import numpy as np\n",
    "from ipywidgets import interact, HTML\n",
    "import random\n",
    "import pdir\n",
    "\n"
   ]
  },
  {
   "cell_type": "code",
   "execution_count": 4,
   "metadata": {},
   "outputs": [],
   "source": [
    "from sidepanel import SidePanel\n",
    "\n",
    "import ipywidgets as widgets\n",
    "\n",
    "from regulus.utils import io\n",
    "from regulus.topo import * \n",
    "from regulus.alg import *\n",
    "from regulus.measures import *\n",
    "from regulus.models import *\n",
    "from regulus.tree import *\n",
    "\n",
    "from ipyregulus import TreeWidget, TreeView, DetailsView, DataWidget\n",
    "from ipyregulus.filters.filters import * \n",
    "from ipyregulus.filters.monitor import Monitor\n",
    "from ipyregulus.tree.has_tree import *\n",
    "from ipyregulus.alg.view import *\n",
    "\n",
    "\n",
    "from regulus.topo import morse_smale, Regulus\n",
    "from regulus.data.data import Data\n",
    "from regulus.measures import *\n",
    "from regulus.models import *\n",
    "import pandas as pd"
   ]
  },
  {
   "cell_type": "code",
   "execution_count": 5,
   "metadata": {},
   "outputs": [],
   "source": [
    "test_function = gerber_different_heights\n",
    "samples = 200\n",
    "X = np.random.rand(samples,2)\n",
    "Y = test_function(X)\n",
    "\n",
    "# Y = (Y - np.min(Y)) / (np.max(Y) - np.min(Y)) # Not sure whether this is needed \n",
    "\n",
    "all_pts = np.hstack((X,np.expand_dims(Y, axis=1)))\n",
    "\n",
    "# X = samplers.CVTSampler.generate_samples(samples, 2, 1)\n",
    "\n",
    "# msc = topopy.MorseSmaleComplex(graph=\"beta skeleton\", gradient=\"steepest\", max_neighbors=8, beta=1.0)\n",
    "# msc.build(X, Y)\n"
   ]
  },
  {
   "cell_type": "markdown",
   "metadata": {},
   "source": [
    "# NEW PART IN REG to create pts at runtime "
   ]
  },
  {
   "cell_type": "code",
   "execution_count": 1,
   "metadata": {},
   "outputs": [],
   "source": [
    "from Hartmann import create, calc_Hartmanny"
   ]
  },
  {
   "cell_type": "code",
   "execution_count": 34,
   "metadata": {},
   "outputs": [],
   "source": [
    "all_pts = create(500)"
   ]
  },
  {
   "cell_type": "code",
   "execution_count": 22,
   "metadata": {},
   "outputs": [
    {
     "name": "stderr",
     "output_type": "stream",
     "text": [
      "E:\\Anaconda\\envs\\CyPlot\\lib\\site-packages\\numpy\\core\\fromnumeric.py:51: FutureWarning: 'argmin' is deprecated, use 'idxmin' instead. The behavior of 'argmin'\n",
      "will be corrected to return the positional minimum in the future.\n",
      "Use 'series.values.argmin' to get the position of the minimum now.\n",
      "  return getattr(obj, method)(*args, **kwds)\n",
      "E:\\Anaconda\\envs\\CyPlot\\lib\\site-packages\\numpy\\core\\fromnumeric.py:51: FutureWarning: 'argmax' is deprecated, use 'idxmax' instead. The behavior of 'argmax'\n",
      "will be corrected to return the positional maximum in the future.\n",
      "Use 'series.values.argmax' to get the position of the maximum now.\n",
      "  return getattr(obj, method)(*args, **kwds)\n"
     ]
    },
    {
     "name": "stdout",
     "output_type": "stream",
     "text": [
      "found 10 singles\n",
      "len(idx)= 258\n"
     ]
    }
   ],
   "source": [
    "regulus, df = create_reg(all_pts)\n",
    "tree, data = process(regulus)"
   ]
  },
  {
   "cell_type": "code",
   "execution_count": 21,
   "metadata": {},
   "outputs": [],
   "source": [
    "all_pts = regenerate(all_pts, tree, data, test_function, df, 10)"
   ]
  },
  {
   "cell_type": "code",
   "execution_count": 23,
   "metadata": {},
   "outputs": [
    {
     "data": {
      "application/vnd.jupyter.widget-view+json": {
       "model_id": "c1c72602f7e64a268b42b9e5d33bcaa3",
       "version_major": 2,
       "version_minor": 0
      },
      "text/plain": [
       "TreeView(field='span', tree_model=TreeWidget(attrs={'span': {0: 0.39232641952006786, 1: 0.22021486845974464, 2…"
      ]
     },
     "metadata": {},
     "output_type": "display_data"
    },
    {
     "data": {
      "application/vnd.jupyter.widget-view+json": {
       "model_id": "4f64427cbe74456683d081d86ba5d984",
       "version_major": 2,
       "version_minor": 0
      },
      "text/plain": [
       "HBox(children=(Label(value='span'), FloatSlider(value=0.0, max=1.0, step=0.01)))"
      ]
     },
     "metadata": {},
     "output_type": "display_data"
    }
   ],
   "source": [
    "treev = draw_tree(tree)\n",
    "details = draw_details(data)\n",
    "link_views(treev, details)\n",
    "#widgets.link((treev.view, 'details'), (details, 'show'))"
   ]
  },
  {
   "cell_type": "code",
   "execution_count": 7,
   "metadata": {},
   "outputs": [],
   "source": [
    "\n",
    "def create_reg(all_pts):\n",
    "    cols = ['x'+str(i) for i in range(all_pts.shape[1])]\n",
    "\n",
    "    cols[-1] = 'y'\n",
    "\n",
    "    df = pd.DataFrame(all_pts, columns=cols)\n",
    "\n",
    "    pts = Data.from_pts(df)\n",
    "\n",
    "    # Normalize here  \n",
    "    pts.normalize()\n",
    "\n",
    "    regulus = morse_smale(pts, knn=8)#**kwargs)\n",
    "\n",
    "    regulus.add_attr('linear', linear_model)\n",
    "    regulus.add_attr('fitness', fitness)\n",
    "    regulus.add_attr('relative_fitness', relative_fitness)\n",
    "\n",
    "    regulus.tree.add_attr('parent_fitness', parent_fitness)\n",
    "    regulus.tree.add_attr('child_fitness', child_fitness)\n",
    "    regulus.tree.add_attr('size', node_size)\n",
    "    regulus.tree.add_attr('rel_size', node_relative_size)\n",
    "    regulus.tree.add_attr('span', node_span)\n",
    "    return regulus, df\n",
    "\n",
    "\n"
   ]
  },
  {
   "cell_type": "code",
   "execution_count": 9,
   "metadata": {},
   "outputs": [],
   "source": [
    "def process(regulus):\n",
    "    from ipyregulus import TreeWidget, TreeView, DetailsView, DataWidget\n",
    "\n",
    "    tree = TreeWidget(regulus.tree)\n",
    "    data = DataWidget(data=regulus)\n",
    "    return tree, data"
   ]
  },
  {
   "cell_type": "markdown",
   "metadata": {},
   "source": [
    "# Use compute paraent similarity in the tree structure, stop at the level where value is below threshold "
   ]
  },
  {
   "cell_type": "code",
   "execution_count": 20,
   "metadata": {},
   "outputs": [],
   "source": [
    "import old_code.refine_topo_ as rt\n",
    "from old_code.resample_ import get_pts, Resample\n",
    "\n",
    "# new_x = np.vstack((X,X2))\n",
    "def regenerate(all_pts, tree, data, test_function,df, step):\n",
    "    dims = all_pts.shape[1]-1\n",
    "    new_x = np.array([], dtype=np.float64).reshape(0,dims)\n",
    "\n",
    "    leafnodes = rt.check_fit(0.4, tree=tree, reg_data = data, raw_data=all_pts)\n",
    "\n",
    "\n",
    "    for i in leafnodes:\n",
    "        ind = i.id\n",
    "        ind = get_pts(data.partitions[ind],data.pts_loc)\n",
    "        cur_p = df.loc[ind,:]\n",
    "        r = Resample(cur_p)\n",
    "        r.add_samples(step)\n",
    "        out = r.get_input()\n",
    "        new_x = np.vstack((new_x, out))\n",
    "        # May need to rm duplicates \n",
    "    #print(new_x.shape)    \n",
    "    new_y = test_function(new_x).reshape(-1,1)\n",
    "    #print(new_y.shape)\n",
    "    new_pts = np.hstack((new_x,new_y))\n",
    "\n",
    "    all_pts2 = np.vstack((all_pts, new_pts))\n",
    "    return all_pts2\n"
   ]
  },
  {
   "cell_type": "markdown",
   "metadata": {},
   "source": [
    "# TreeView"
   ]
  },
  {
   "cell_type": "code",
   "execution_count": 12,
   "metadata": {},
   "outputs": [],
   "source": [
    "\n",
    "def draw_tree(tree):\n",
    "    treev = show_tree(tree)\n",
    "    w = widgets.Dropdown(\n",
    "        options=['span', 'fitness', 'parent_fitness', 'child_fitness'],\n",
    "        value='span',\n",
    "        description='Attribute:',\n",
    "        disabled=False,\n",
    "    )\n",
    "    panel = SidePanel(title='Fitness')#, side='split-bottom', ref='SidePanel')\n",
    "    with panel:\n",
    "        display(w, treev.view, treev.filter)\n",
    "    return treev\n",
    "#widgets.link((w, 'value'), (v2.view, 'field'))"
   ]
  },
  {
   "cell_type": "markdown",
   "metadata": {},
   "source": [
    "# Details View"
   ]
  },
  {
   "cell_type": "code",
   "execution_count": 13,
   "metadata": {},
   "outputs": [],
   "source": [
    "def draw_details(data):\n",
    "    details = DetailsView(data=data)\n",
    "\n",
    "    p7 = SidePanel(title='details')\n",
    "    with p7:\n",
    "        display(details)\n",
    "    return details"
   ]
  },
  {
   "cell_type": "markdown",
   "metadata": {},
   "source": [
    "# Linking Two Views"
   ]
  },
  {
   "cell_type": "code",
   "execution_count": 14,
   "metadata": {},
   "outputs": [],
   "source": [
    "def link_views(treev, details):\n",
    "    widgets.link((treev.view, 'details'), (details, 'show'))\n"
   ]
  },
  {
   "cell_type": "code",
   "execution_count": 43,
   "metadata": {},
   "outputs": [],
   "source": [
    "details.show = list(map(lambda x: x.id, leafnodes))\n",
    "#details.show(ids)\n",
    "#map(lambda x: x**2, items)\n",
    "#map(function_to_apply, list_of_inputs)"
   ]
  },
  {
   "cell_type": "code",
   "execution_count": 37,
   "metadata": {},
   "outputs": [
    {
     "data": {
      "text/plain": [
       "array([[0.58544045, 0.08079815],\n",
       "       [0.58629714, 0.07967075],\n",
       "       [0.58421014, 0.08164452],\n",
       "       [0.58421471, 0.08164199],\n",
       "       [0.58402994, 0.08174176]])"
      ]
     },
     "execution_count": 37,
     "metadata": {},
     "output_type": "execute_result"
    }
   ],
   "source": [
    "out"
   ]
  },
  {
   "cell_type": "markdown",
   "metadata": {},
   "source": [
    "# Create resample class, resampling a user specified partition, for User-guided resampling"
   ]
  },
  {
   "cell_type": "code",
   "execution_count": 28,
   "metadata": {},
   "outputs": [],
   "source": [
    "from resample import get_pts, Resample\n",
    "\n",
    "# Change the following line to use differennt partition to resample\n",
    "ind = get_pts(data.partitions[0],data.pts_loc)\n",
    "\n",
    "selectP = df.loc[ind,:]\n",
    "r = Resample(selectP,pred_method=\"bounding_box\")"
   ]
  },
  {
   "cell_type": "markdown",
   "metadata": {},
   "source": [
    "# A line chart for a specified partition, different interactions could be added "
   ]
  },
  {
   "cell_type": "code",
   "execution_count": 1,
   "metadata": {},
   "outputs": [
    {
     "ename": "NameError",
     "evalue": "name 'selectP' is not defined",
     "output_type": "error",
     "traceback": [
      "\u001b[1;31m---------------------------------------------------------------------------\u001b[0m",
      "\u001b[1;31mNameError\u001b[0m                                 Traceback (most recent call last)",
      "\u001b[1;32m<ipython-input-1-6194af77970a>\u001b[0m in \u001b[0;36m<module>\u001b[1;34m()\u001b[0m\n\u001b[0;32m      1\u001b[0m \u001b[1;32mfrom\u001b[0m \u001b[0mcyplot\u001b[0m \u001b[1;32mimport\u001b[0m \u001b[0mplot\u001b[0m\u001b[1;33m\u001b[0m\u001b[0m\n\u001b[1;32m----> 2\u001b[1;33m \u001b[0mmyp\u001b[0m \u001b[1;33m=\u001b[0m \u001b[0mplot\u001b[0m\u001b[1;33m(\u001b[0m\u001b[0mselectP\u001b[0m\u001b[1;33m,\u001b[0m\u001b[0mindex\u001b[0m \u001b[1;33m=\u001b[0m \u001b[1;34m'y'\u001b[0m\u001b[1;33m,\u001b[0m\u001b[0mdebug\u001b[0m\u001b[1;33m=\u001b[0m\u001b[1;32mTrue\u001b[0m\u001b[1;33m)\u001b[0m\u001b[1;31m#, dims=['x0','x1','y'])#ptype='PCA')#, ptype='line'/ PCA. line. dims=[]\u001b[0m\u001b[1;33m\u001b[0m\u001b[0m\n\u001b[0m\u001b[0;32m      3\u001b[0m \u001b[0mmyp\u001b[0m\u001b[1;33m.\u001b[0m\u001b[0menable\u001b[0m\u001b[1;33m(\u001b[0m\u001b[1;33m[\u001b[0m\u001b[1;34m'brush_x'\u001b[0m\u001b[1;33m,\u001b[0m\u001b[1;34m'brush'\u001b[0m\u001b[1;33m]\u001b[0m\u001b[1;33m)\u001b[0m\u001b[1;33m\u001b[0m\u001b[0m\n\u001b[0;32m      4\u001b[0m \u001b[0mmyp\u001b[0m\u001b[1;33m.\u001b[0m\u001b[0mon\u001b[0m\u001b[1;33m(\u001b[0m\u001b[1;34m'brush_x'\u001b[0m\u001b[1;33m,\u001b[0m \u001b[0mr\u001b[0m\u001b[1;33m.\u001b[0m\u001b[0mcb\u001b[0m\u001b[1;33m)\u001b[0m\u001b[1;33m\u001b[0m\u001b[0m\n\u001b[0;32m      5\u001b[0m \u001b[0mmyp\u001b[0m\u001b[1;33m.\u001b[0m\u001b[0mon\u001b[0m\u001b[1;33m(\u001b[0m\u001b[1;34m'brush'\u001b[0m\u001b[1;33m,\u001b[0m \u001b[0mr\u001b[0m\u001b[1;33m.\u001b[0m\u001b[0mcb\u001b[0m\u001b[1;33m)\u001b[0m\u001b[1;33m\u001b[0m\u001b[0m\n",
      "\u001b[1;31mNameError\u001b[0m: name 'selectP' is not defined"
     ]
    }
   ],
   "source": [
    "from cyplot import plot\n",
    "myp = plot(selectP,index = 'y',debug=True, dims=['x0','x1','y'])#ptype='PCA')#, ptype='line'/ PCA. line. dims=[]\n",
    "myp.enable(['brush_x','brush'])\n",
    "myp.on('brush_x', r.cb)\n",
    "myp.on('brush', r.cb)\n",
    "\n",
    "display(myp)"
   ]
  },
  {
   "cell_type": "code",
   "execution_count": 30,
   "metadata": {},
   "outputs": [
    {
     "data": {
      "application/vnd.jupyter.widget-view+json": {
       "model_id": "adfc585dbf7041db8dd9a5fe7933125d",
       "version_major": 2,
       "version_minor": 0
      },
      "text/plain": [
       "VBox(children=(ToggleButtons(description='Interaction: ', icons=('arrows-h', 'retweet'), layout=Layout(justify…"
      ]
     },
     "metadata": {},
     "output_type": "display_data"
    }
   ],
   "source": [
    "# from cyplot import plot\n",
    "myp2 = plot(selectP,index = 'y',debug=True, ptype='PCA')#, ptype='line'/ PCA. line. dims=[]\n",
    "myp2.enable(['brush_x','brush'])\n",
    "myp2.on('brush_x', r.cb)\n",
    "myp2.on('brush', r.cb)\n",
    "display(myp2)"
   ]
  },
  {
   "cell_type": "code",
   "execution_count": 31,
   "metadata": {},
   "outputs": [
    {
     "data": {
      "application/vnd.jupyter.widget-view+json": {
       "model_id": "adfc585dbf7041db8dd9a5fe7933125d",
       "version_major": 2,
       "version_minor": 0
      },
      "text/plain": [
       "VBox(children=(ToggleButtons(description='Interaction: ', icons=('arrows-h', 'retweet'), layout=Layout(justify…"
      ]
     },
     "metadata": {},
     "output_type": "display_data"
    }
   ],
   "source": [
    "myp2.enable('x_brush')\n",
    "display(myp2)"
   ]
  },
  {
   "cell_type": "markdown",
   "metadata": {},
   "source": [
    "# random generate pts based on user selected range of function value"
   ]
  },
  {
   "cell_type": "code",
   "execution_count": 32,
   "metadata": {},
   "outputs": [],
   "source": [
    "r.add_samples(5) # user's specified # of samples\n"
   ]
  },
  {
   "cell_type": "markdown",
   "metadata": {},
   "source": [
    "# When user adds enough samples, they could use regression to predict the point locations to resample "
   ]
  },
  {
   "cell_type": "code",
   "execution_count": 33,
   "metadata": {},
   "outputs": [],
   "source": [
    "# Would scale back if needed \n",
    "new_x = r.get_input()\n",
    "new_y = test_function(new_x).reshape(-1,1)\n",
    "new_pts = np.hstack((new_x,new_y))\n",
    "\n"
   ]
  },
  {
   "cell_type": "code",
   "execution_count": 34,
   "metadata": {},
   "outputs": [],
   "source": [
    "all_pts = np.vstack((all_pts, new_pts))"
   ]
  },
  {
   "cell_type": "code",
   "execution_count": null,
   "metadata": {},
   "outputs": [],
   "source": []
  }
 ],
 "metadata": {
  "kernelspec": {
   "display_name": "Python 3",
   "language": "python",
   "name": "python3"
  },
  "language_info": {
   "codemirror_mode": {
    "name": "ipython",
    "version": 3
   },
   "file_extension": ".py",
   "mimetype": "text/x-python",
   "name": "python",
   "nbconvert_exporter": "python",
   "pygments_lexer": "ipython3",
   "version": "3.6.6"
  }
 },
 "nbformat": 4,
 "nbformat_minor": 2
}
