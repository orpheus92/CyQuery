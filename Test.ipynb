{
 "cells": [
  {
   "cell_type": "code",
   "execution_count": 16,
   "metadata": {},
   "outputs": [],
   "source": [
    "import cymetric as cym\n",
    "from cymetric import metric\n",
    "\n",
    "def read_db(filename):\n",
    "    db = cym.dbopen(filename)\n",
    "    return db\n",
    "\n",
    "def register_table():\n",
    "    return \n",
    "    \n",
    "def get_table(db, table_name):\n",
    "    # Resources, Materials, Products, Recipes, Compostions, TimeSeriesEnrichmentFeed, TimeSeriesEnrichmentSWU, Transactions\n",
    "    evaler = cym.Evaluator(db)\n",
    "    return evaler.eval(table_name)# if attr is not None else \n",
    "\n",
    "def get_data(table, attr, func):\n",
    "    return table[func(table[attr])]\n",
    "    # return table[attr]\n",
    "    \n",
    "def func(x, cmp=None):\n",
    "    return x==x if cmp is None else cmp(x)\n",
    "\n",
    "def get_commodity(db, cmd=None):\n",
    "    # Commodity lists or df for given commodity\n",
    "    table = get_table(db,'Transactions')\n",
    "    return table.Commodity.unique() if cmd is None else table[table.Commodity==cmd]\n",
    "\n",
    "def get_recipe(db):\n",
    "    # Return recipe name and QualId\n",
    "    recipe = get_table(db, 'Recipes')\n",
    "    return recipe.Recipe.unique(), recipe.QualId.unique()\n",
    "\n",
    "class CyclusData:\n",
    "    def __init__(self, filename):\n",
    "        db = cym.dbopen(filename)\n",
    "        self.db = db\n",
    "    def transactions(self):\n",
    "        self.transactions_table = get_table(self.db,'Transactions')\n",
    "        return self.transactions_table\n",
    "    def resources(self):\n",
    "        self.resources_table = get_table(self.db,'Resources')\n",
    "        return self.resources_table\n",
    "    def compositions(self):\n",
    "        self.compositions_table = get_table(self.db,'Compositions')\n",
    "        return self.compostions_table\n",
    "    def materials(self):\n",
    "        self.materials_table = get_table(self.db,'Materials')\n",
    "        return self.materials_table\n",
    "    def tables(self):\n",
    "        #self.tables = self.db.tables\n",
    "        return self.db.tables\n",
    "    def get_table(self, attr):\n",
    "        self.select_table = get_table(self.db, attr)\n",
    "        return self.select_table\n",
    "    # Time Series Transaction Query\n",
    "    def get_time_transaction(self,commod=None, rec=None, send=None):\n",
    "        # return resources\n",
    "        if not hasattr(self, 'transactions_table'):\n",
    "        #if self.transactions_table is None:\n",
    "            self.transactions()\n",
    "        selections = []\n",
    "        if commod is not None:\n",
    "            selections.append(self.transactions_table.Commodity==commod)\n",
    "        if rec is not None:\n",
    "            selections.append(self.transactions_table.ReceiverId==rec)\n",
    "        if send is not None:\n",
    "            selections.append(self.transactions_table.SenderId==send)\n",
    "        if len(selections)==0:\n",
    "            return self.transactions_table\n",
    "        elif len(selections)==1:\n",
    "            return self.transactions_table[selections[0]]\n",
    "        else:\n",
    "            sel = selections[0]\n",
    "            for i in range(1, len(selections)):\n",
    "                sel = sel & selections[i]\n",
    "            \n",
    "            return self.transactions_table[sel]\n",
    "    def get_time_commod(self,commod=None, rec=None, send=None):\n",
    "        selectionrId = self.get_time_transaction(commod, rec, send)\n",
    "        if not hasattr(self, 'resources_table'):\n",
    "            self.resources()\n",
    "            df = self.resources_table\n",
    "            return df.loc[df['ResourceId'].isin(selectionrId.ResourceId)]\n",
    "    #def get_time_resource()\n",
    "    def get_agent_entry(self, prototype=None, kind=None):\n",
    "        # Return Entry Table for selection\n",
    "        tb = get_table(self.db, 'AgentEntry')\n",
    "        if prototype is not None:\n",
    "            return tb[tb.Prototype == prototype]\n",
    "        if kind is not None:\n",
    "            return tb[tb.Kind == kind]\n",
    "            \n",
    "        \n",
    "    def get_agent_exit(self, prototype=None, kind=None):\n",
    "        # Return Exit Table for selection\n",
    "        entertb = get_table(self.db, 'AgentEntry')\n",
    "        exittb = get_table(self.db, 'AgentExit')\n",
    "        if prototype is not None:\n",
    "            #entertb.loc[entertb.Pro]\n",
    "            stb = entertb[entertb.Prototype == prototype]\n",
    "            return exittb.loc[exittb.AgentId.isin(stb.AgentId)]"
   ]
  },
  {
   "cell_type": "code",
   "execution_count": 17,
   "metadata": {},
   "outputs": [],
   "source": [
    "# Create CyclusData Class\n",
    "cdt = CyclusData('data/new2.sqlite')\n",
    "tb_ent = cdt.get_agent_entry(prototype='lwr')\n",
    "#cdt.tables()\n",
    "tb1 = tb_ent.rename(columns = {'EnterTime':'time'})\n",
    "tb1 = tb1.groupby('time').count()\n",
    "tb1 = tb1.rename(columns = {'AgentId':'num'})\n",
    "tb1 = tb1[['num']]\n",
    "\n",
    "\n",
    "tb_exi = cdt.get_agent_exit(prototype='lwr')\n",
    "tb2 = tb_exi.rename(columns = {'ExitTime':'time'})\n",
    "tb2 = tb2.groupby('time').count()\n",
    "tb2 = tb2.rename(columns = {'AgentId':'num'})\n",
    "tb2 = tb2[['num']]"
   ]
  },
  {
   "cell_type": "code",
   "execution_count": 19,
   "metadata": {},
   "outputs": [
    {
     "data": {
      "text/plain": [
       "cymetric.root_metrics._genrootclass.<locals>.Cls"
      ]
     },
     "execution_count": 19,
     "metadata": {},
     "output_type": "execute_result"
    }
   ],
   "source": [
    "cym.root_metric(name=\"Agents\")"
   ]
  },
  {
   "cell_type": "code",
   "execution_count": 18,
   "metadata": {},
   "outputs": [
    {
     "data": {
      "text/plain": [
       "{'AgentEntry',\n",
       " 'AgentExit',\n",
       " 'AgentStateAgent',\n",
       " 'AgentStateInventories',\n",
       " 'AgentState_agents_NullInstInfo',\n",
       " 'AgentState_agents_NullRegionInfo',\n",
       " 'AgentState_cycamore_DeployInstInfo',\n",
       " 'AgentState_cycamore_EnrichmentInfo',\n",
       " 'AgentState_cycamore_MixerInfo',\n",
       " 'AgentState_cycamore_ReactorInfo',\n",
       " 'AgentState_cycamore_SeparationsInfo',\n",
       " 'AgentState_cycamore_SinkInfo',\n",
       " 'AgentState_cycamore_SourceInfo',\n",
       " 'AgentState_cycamore_StorageInfo',\n",
       " 'AgentVersions',\n",
       " 'Agents',\n",
       " 'BuildSchedule',\n",
       " 'Compositions',\n",
       " 'DecayMode',\n",
       " 'DecomSchedule',\n",
       " 'Enrichments',\n",
       " 'Epsilon',\n",
       " 'Finish',\n",
       " 'GreedySolverInfo',\n",
       " 'Info',\n",
       " 'InfoExplicitInv',\n",
       " 'InputFiles',\n",
       " 'Inventories',\n",
       " 'MaterialInfo',\n",
       " 'Materials',\n",
       " 'NextIds',\n",
       " 'Products',\n",
       " 'Prototypes',\n",
       " 'ReactorEvents',\n",
       " 'Recipes',\n",
       " 'ResCreators',\n",
       " 'Resources',\n",
       " 'Snapshots',\n",
       " 'SolverInfo',\n",
       " 'TimeList',\n",
       " 'TimeSeriesEnrichmentFeed',\n",
       " 'TimeSeriesEnrichmentSWU',\n",
       " 'TimeSeriesPower',\n",
       " 'TimeSeriesUsedFuel',\n",
       " 'TimeStepDur',\n",
       " 'Transactions',\n",
       " 'XMLPPInfo',\n",
       " 'sqlite_stat1',\n",
       " 'sqlite_stat4'}"
      ]
     },
     "execution_count": 18,
     "metadata": {},
     "output_type": "execute_result"
    }
   ],
   "source": [
    "#cdt.get_table('Agents')\n",
    "#cdt.get_table('AgentEntry')\n",
    "cdt.tables()"
   ]
  },
  {
   "cell_type": "code",
   "execution_count": 27,
   "metadata": {},
   "outputs": [
    {
     "ename": "KeyError",
     "evalue": "'EnterTime'",
     "output_type": "error",
     "traceback": [
      "\u001b[0;31m---------------------------------------------------------------------------\u001b[0m",
      "\u001b[0;31mKeyError\u001b[0m                                  Traceback (most recent call last)",
      "\u001b[0;32m/media/orpheus92/OS/conda/envs/cyclus/lib/python3.6/site-packages/pandas/core/indexes/base.py\u001b[0m in \u001b[0;36mget_loc\u001b[0;34m(self, key, method, tolerance)\u001b[0m\n\u001b[1;32m   3077\u001b[0m             \u001b[0;32mtry\u001b[0m\u001b[0;34m:\u001b[0m\u001b[0;34m\u001b[0m\u001b[0m\n\u001b[0;32m-> 3078\u001b[0;31m                 \u001b[0;32mreturn\u001b[0m \u001b[0mself\u001b[0m\u001b[0;34m.\u001b[0m\u001b[0m_engine\u001b[0m\u001b[0;34m.\u001b[0m\u001b[0mget_loc\u001b[0m\u001b[0;34m(\u001b[0m\u001b[0mkey\u001b[0m\u001b[0;34m)\u001b[0m\u001b[0;34m\u001b[0m\u001b[0m\n\u001b[0m\u001b[1;32m   3079\u001b[0m             \u001b[0;32mexcept\u001b[0m \u001b[0mKeyError\u001b[0m\u001b[0;34m:\u001b[0m\u001b[0;34m\u001b[0m\u001b[0m\n",
      "\u001b[0;32mpandas/_libs/index.pyx\u001b[0m in \u001b[0;36mpandas._libs.index.IndexEngine.get_loc\u001b[0;34m()\u001b[0m\n",
      "\u001b[0;32mpandas/_libs/index.pyx\u001b[0m in \u001b[0;36mpandas._libs.index.IndexEngine.get_loc\u001b[0;34m()\u001b[0m\n",
      "\u001b[0;32mpandas/_libs/hashtable_class_helper.pxi\u001b[0m in \u001b[0;36mpandas._libs.hashtable.PyObjectHashTable.get_item\u001b[0;34m()\u001b[0m\n",
      "\u001b[0;32mpandas/_libs/hashtable_class_helper.pxi\u001b[0m in \u001b[0;36mpandas._libs.hashtable.PyObjectHashTable.get_item\u001b[0;34m()\u001b[0m\n",
      "\u001b[0;31mKeyError\u001b[0m: 'EnterTime'",
      "\nDuring handling of the above exception, another exception occurred:\n",
      "\u001b[0;31mKeyError\u001b[0m                                  Traceback (most recent call last)",
      "\u001b[0;32m<ipython-input-27-6a7ed2608d25>\u001b[0m in \u001b[0;36m<module>\u001b[0;34m()\u001b[0m\n\u001b[1;32m      1\u001b[0m \u001b[0;31m# cdt.get_agent_exit(prototype='lwr')\u001b[0m\u001b[0;34m\u001b[0m\u001b[0;34m\u001b[0m\u001b[0m\n\u001b[0;32m----> 2\u001b[0;31m \u001b[0mtb1\u001b[0m\u001b[0;34m[\u001b[0m\u001b[0;34m'EnterTime'\u001b[0m\u001b[0;34m]\u001b[0m\u001b[0;34m\u001b[0m\u001b[0m\n\u001b[0m",
      "\u001b[0;32m/media/orpheus92/OS/conda/envs/cyclus/lib/python3.6/site-packages/pandas/core/frame.py\u001b[0m in \u001b[0;36m__getitem__\u001b[0;34m(self, key)\u001b[0m\n\u001b[1;32m   2686\u001b[0m             \u001b[0;32mreturn\u001b[0m \u001b[0mself\u001b[0m\u001b[0;34m.\u001b[0m\u001b[0m_getitem_multilevel\u001b[0m\u001b[0;34m(\u001b[0m\u001b[0mkey\u001b[0m\u001b[0;34m)\u001b[0m\u001b[0;34m\u001b[0m\u001b[0m\n\u001b[1;32m   2687\u001b[0m         \u001b[0;32melse\u001b[0m\u001b[0;34m:\u001b[0m\u001b[0;34m\u001b[0m\u001b[0m\n\u001b[0;32m-> 2688\u001b[0;31m             \u001b[0;32mreturn\u001b[0m \u001b[0mself\u001b[0m\u001b[0;34m.\u001b[0m\u001b[0m_getitem_column\u001b[0m\u001b[0;34m(\u001b[0m\u001b[0mkey\u001b[0m\u001b[0;34m)\u001b[0m\u001b[0;34m\u001b[0m\u001b[0m\n\u001b[0m\u001b[1;32m   2689\u001b[0m \u001b[0;34m\u001b[0m\u001b[0m\n\u001b[1;32m   2690\u001b[0m     \u001b[0;32mdef\u001b[0m \u001b[0m_getitem_column\u001b[0m\u001b[0;34m(\u001b[0m\u001b[0mself\u001b[0m\u001b[0;34m,\u001b[0m \u001b[0mkey\u001b[0m\u001b[0;34m)\u001b[0m\u001b[0;34m:\u001b[0m\u001b[0;34m\u001b[0m\u001b[0m\n",
      "\u001b[0;32m/media/orpheus92/OS/conda/envs/cyclus/lib/python3.6/site-packages/pandas/core/frame.py\u001b[0m in \u001b[0;36m_getitem_column\u001b[0;34m(self, key)\u001b[0m\n\u001b[1;32m   2693\u001b[0m         \u001b[0;31m# get column\u001b[0m\u001b[0;34m\u001b[0m\u001b[0;34m\u001b[0m\u001b[0m\n\u001b[1;32m   2694\u001b[0m         \u001b[0;32mif\u001b[0m \u001b[0mself\u001b[0m\u001b[0;34m.\u001b[0m\u001b[0mcolumns\u001b[0m\u001b[0;34m.\u001b[0m\u001b[0mis_unique\u001b[0m\u001b[0;34m:\u001b[0m\u001b[0;34m\u001b[0m\u001b[0m\n\u001b[0;32m-> 2695\u001b[0;31m             \u001b[0;32mreturn\u001b[0m \u001b[0mself\u001b[0m\u001b[0;34m.\u001b[0m\u001b[0m_get_item_cache\u001b[0m\u001b[0;34m(\u001b[0m\u001b[0mkey\u001b[0m\u001b[0;34m)\u001b[0m\u001b[0;34m\u001b[0m\u001b[0m\n\u001b[0m\u001b[1;32m   2696\u001b[0m \u001b[0;34m\u001b[0m\u001b[0m\n\u001b[1;32m   2697\u001b[0m         \u001b[0;31m# duplicate columns & possible reduce dimensionality\u001b[0m\u001b[0;34m\u001b[0m\u001b[0;34m\u001b[0m\u001b[0m\n",
      "\u001b[0;32m/media/orpheus92/OS/conda/envs/cyclus/lib/python3.6/site-packages/pandas/core/generic.py\u001b[0m in \u001b[0;36m_get_item_cache\u001b[0;34m(self, item)\u001b[0m\n\u001b[1;32m   2487\u001b[0m         \u001b[0mres\u001b[0m \u001b[0;34m=\u001b[0m \u001b[0mcache\u001b[0m\u001b[0;34m.\u001b[0m\u001b[0mget\u001b[0m\u001b[0;34m(\u001b[0m\u001b[0mitem\u001b[0m\u001b[0;34m)\u001b[0m\u001b[0;34m\u001b[0m\u001b[0m\n\u001b[1;32m   2488\u001b[0m         \u001b[0;32mif\u001b[0m \u001b[0mres\u001b[0m \u001b[0;32mis\u001b[0m \u001b[0;32mNone\u001b[0m\u001b[0;34m:\u001b[0m\u001b[0;34m\u001b[0m\u001b[0m\n\u001b[0;32m-> 2489\u001b[0;31m             \u001b[0mvalues\u001b[0m \u001b[0;34m=\u001b[0m \u001b[0mself\u001b[0m\u001b[0;34m.\u001b[0m\u001b[0m_data\u001b[0m\u001b[0;34m.\u001b[0m\u001b[0mget\u001b[0m\u001b[0;34m(\u001b[0m\u001b[0mitem\u001b[0m\u001b[0;34m)\u001b[0m\u001b[0;34m\u001b[0m\u001b[0m\n\u001b[0m\u001b[1;32m   2490\u001b[0m             \u001b[0mres\u001b[0m \u001b[0;34m=\u001b[0m \u001b[0mself\u001b[0m\u001b[0;34m.\u001b[0m\u001b[0m_box_item_values\u001b[0m\u001b[0;34m(\u001b[0m\u001b[0mitem\u001b[0m\u001b[0;34m,\u001b[0m \u001b[0mvalues\u001b[0m\u001b[0;34m)\u001b[0m\u001b[0;34m\u001b[0m\u001b[0m\n\u001b[1;32m   2491\u001b[0m             \u001b[0mcache\u001b[0m\u001b[0;34m[\u001b[0m\u001b[0mitem\u001b[0m\u001b[0;34m]\u001b[0m \u001b[0;34m=\u001b[0m \u001b[0mres\u001b[0m\u001b[0;34m\u001b[0m\u001b[0m\n",
      "\u001b[0;32m/media/orpheus92/OS/conda/envs/cyclus/lib/python3.6/site-packages/pandas/core/internals.py\u001b[0m in \u001b[0;36mget\u001b[0;34m(self, item, fastpath)\u001b[0m\n\u001b[1;32m   4113\u001b[0m \u001b[0;34m\u001b[0m\u001b[0m\n\u001b[1;32m   4114\u001b[0m             \u001b[0;32mif\u001b[0m \u001b[0;32mnot\u001b[0m \u001b[0misna\u001b[0m\u001b[0;34m(\u001b[0m\u001b[0mitem\u001b[0m\u001b[0;34m)\u001b[0m\u001b[0;34m:\u001b[0m\u001b[0;34m\u001b[0m\u001b[0m\n\u001b[0;32m-> 4115\u001b[0;31m                 \u001b[0mloc\u001b[0m \u001b[0;34m=\u001b[0m \u001b[0mself\u001b[0m\u001b[0;34m.\u001b[0m\u001b[0mitems\u001b[0m\u001b[0;34m.\u001b[0m\u001b[0mget_loc\u001b[0m\u001b[0;34m(\u001b[0m\u001b[0mitem\u001b[0m\u001b[0;34m)\u001b[0m\u001b[0;34m\u001b[0m\u001b[0m\n\u001b[0m\u001b[1;32m   4116\u001b[0m             \u001b[0;32melse\u001b[0m\u001b[0;34m:\u001b[0m\u001b[0;34m\u001b[0m\u001b[0m\n\u001b[1;32m   4117\u001b[0m                 \u001b[0mindexer\u001b[0m \u001b[0;34m=\u001b[0m \u001b[0mnp\u001b[0m\u001b[0;34m.\u001b[0m\u001b[0marange\u001b[0m\u001b[0;34m(\u001b[0m\u001b[0mlen\u001b[0m\u001b[0;34m(\u001b[0m\u001b[0mself\u001b[0m\u001b[0;34m.\u001b[0m\u001b[0mitems\u001b[0m\u001b[0;34m)\u001b[0m\u001b[0;34m)\u001b[0m\u001b[0;34m[\u001b[0m\u001b[0misna\u001b[0m\u001b[0;34m(\u001b[0m\u001b[0mself\u001b[0m\u001b[0;34m.\u001b[0m\u001b[0mitems\u001b[0m\u001b[0;34m)\u001b[0m\u001b[0;34m]\u001b[0m\u001b[0;34m\u001b[0m\u001b[0m\n",
      "\u001b[0;32m/media/orpheus92/OS/conda/envs/cyclus/lib/python3.6/site-packages/pandas/core/indexes/base.py\u001b[0m in \u001b[0;36mget_loc\u001b[0;34m(self, key, method, tolerance)\u001b[0m\n\u001b[1;32m   3078\u001b[0m                 \u001b[0;32mreturn\u001b[0m \u001b[0mself\u001b[0m\u001b[0;34m.\u001b[0m\u001b[0m_engine\u001b[0m\u001b[0;34m.\u001b[0m\u001b[0mget_loc\u001b[0m\u001b[0;34m(\u001b[0m\u001b[0mkey\u001b[0m\u001b[0;34m)\u001b[0m\u001b[0;34m\u001b[0m\u001b[0m\n\u001b[1;32m   3079\u001b[0m             \u001b[0;32mexcept\u001b[0m \u001b[0mKeyError\u001b[0m\u001b[0;34m:\u001b[0m\u001b[0;34m\u001b[0m\u001b[0m\n\u001b[0;32m-> 3080\u001b[0;31m                 \u001b[0;32mreturn\u001b[0m \u001b[0mself\u001b[0m\u001b[0;34m.\u001b[0m\u001b[0m_engine\u001b[0m\u001b[0;34m.\u001b[0m\u001b[0mget_loc\u001b[0m\u001b[0;34m(\u001b[0m\u001b[0mself\u001b[0m\u001b[0;34m.\u001b[0m\u001b[0m_maybe_cast_indexer\u001b[0m\u001b[0;34m(\u001b[0m\u001b[0mkey\u001b[0m\u001b[0;34m)\u001b[0m\u001b[0;34m)\u001b[0m\u001b[0;34m\u001b[0m\u001b[0m\n\u001b[0m\u001b[1;32m   3081\u001b[0m \u001b[0;34m\u001b[0m\u001b[0m\n\u001b[1;32m   3082\u001b[0m         \u001b[0mindexer\u001b[0m \u001b[0;34m=\u001b[0m \u001b[0mself\u001b[0m\u001b[0;34m.\u001b[0m\u001b[0mget_indexer\u001b[0m\u001b[0;34m(\u001b[0m\u001b[0;34m[\u001b[0m\u001b[0mkey\u001b[0m\u001b[0;34m]\u001b[0m\u001b[0;34m,\u001b[0m \u001b[0mmethod\u001b[0m\u001b[0;34m=\u001b[0m\u001b[0mmethod\u001b[0m\u001b[0;34m,\u001b[0m \u001b[0mtolerance\u001b[0m\u001b[0;34m=\u001b[0m\u001b[0mtolerance\u001b[0m\u001b[0;34m)\u001b[0m\u001b[0;34m\u001b[0m\u001b[0m\n",
      "\u001b[0;32mpandas/_libs/index.pyx\u001b[0m in \u001b[0;36mpandas._libs.index.IndexEngine.get_loc\u001b[0;34m()\u001b[0m\n",
      "\u001b[0;32mpandas/_libs/index.pyx\u001b[0m in \u001b[0;36mpandas._libs.index.IndexEngine.get_loc\u001b[0;34m()\u001b[0m\n",
      "\u001b[0;32mpandas/_libs/hashtable_class_helper.pxi\u001b[0m in \u001b[0;36mpandas._libs.hashtable.PyObjectHashTable.get_item\u001b[0;34m()\u001b[0m\n",
      "\u001b[0;32mpandas/_libs/hashtable_class_helper.pxi\u001b[0m in \u001b[0;36mpandas._libs.hashtable.PyObjectHashTable.get_item\u001b[0;34m()\u001b[0m\n",
      "\u001b[0;31mKeyError\u001b[0m: 'EnterTime'"
     ]
    }
   ],
   "source": [
    "# cdt.get_agent_exit(prototype='lwr')\n",
    "tb1['EnterTime']"
   ]
  },
  {
   "cell_type": "code",
   "execution_count": 13,
   "metadata": {},
   "outputs": [
    {
     "ename": "RuntimeError",
     "evalue": "Invalid table name Agents",
     "output_type": "error",
     "traceback": [
      "\u001b[0;31m---------------------------------------------------------------------------\u001b[0m",
      "\u001b[0;31mRuntimeError\u001b[0m                              Traceback (most recent call last)",
      "\u001b[0;32m<ipython-input-13-cc358fa829fd>\u001b[0m in \u001b[0;36m<module>\u001b[0;34m()\u001b[0m\n\u001b[1;32m      3\u001b[0m \u001b[0;31m# Examples on querying commodity\u001b[0m\u001b[0;34m\u001b[0m\u001b[0;34m\u001b[0m\u001b[0m\n\u001b[1;32m      4\u001b[0m \u001b[0;31m# cdt.get_time_commod(commod='uox', rec = 46, send=39)\u001b[0m\u001b[0;34m\u001b[0m\u001b[0;34m\u001b[0m\u001b[0m\n\u001b[0;32m----> 5\u001b[0;31m \u001b[0mcdt\u001b[0m\u001b[0;34m.\u001b[0m\u001b[0mdb\u001b[0m\u001b[0;34m.\u001b[0m\u001b[0mquery\u001b[0m\u001b[0;34m(\u001b[0m\u001b[0;34m'Agents'\u001b[0m\u001b[0;34m)\u001b[0m\u001b[0;31m#.query('Agents')\u001b[0m\u001b[0;34m\u001b[0m\u001b[0m\n\u001b[0m",
      "\u001b[0;32mlib.pyx\u001b[0m in \u001b[0;36mcyclus.lib._FullBackend.query\u001b[0;34m()\u001b[0m\n",
      "\u001b[0;31mRuntimeError\u001b[0m: Invalid table name Agents"
     ]
    }
   ],
   "source": [
    "# Exmples on querying transaction\n",
    "# cdt.get_time_transaction(commod='uox', rec = 46, send=39)\n",
    "# Examples on querying commodity\n",
    "# cdt.get_time_commod(commod='uox', rec = 46, send=39)\n",
    "cdt.db.query('Agents')#.query('Agents')"
   ]
  },
  {
   "cell_type": "code",
   "execution_count": null,
   "metadata": {},
   "outputs": [],
   "source": []
  },
  {
   "cell_type": "code",
   "execution_count": null,
   "metadata": {},
   "outputs": [],
   "source": []
  }
 ],
 "metadata": {
  "kernelspec": {
   "display_name": "Python 3",
   "language": "python",
   "name": "python3"
  },
  "language_info": {
   "codemirror_mode": {
    "name": "ipython",
    "version": 3
   },
   "file_extension": ".py",
   "mimetype": "text/x-python",
   "name": "python",
   "nbconvert_exporter": "python",
   "pygments_lexer": "ipython3",
   "version": "3.6.6"
  }
 },
 "nbformat": 4,
 "nbformat_minor": 2
}
