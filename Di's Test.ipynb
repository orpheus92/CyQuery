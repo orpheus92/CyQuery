{
 "cells": [
  {
   "cell_type": "code",
   "execution_count": 1,
   "metadata": {},
   "outputs": [
    {
     "name": "stderr",
     "output_type": "stream",
     "text": [
      "/media/orpheus92/OS/conda/envs/cyclus/lib/python3.6/importlib/_bootstrap.py:219: QAWarning: pyne.data is not yet QA compliant.\n",
      "  return f(*args, **kwds)\n",
      "/media/orpheus92/OS/conda/envs/cyclus/lib/python3.6/importlib/_bootstrap.py:219: QAWarning: pyne.material is not yet QA compliant.\n",
      "  return f(*args, **kwds)\n",
      "/media/orpheus92/OS/conda/envs/cyclus/lib/python3.6/importlib/_bootstrap.py:219: QAWarning: pyne.enrichment is not yet QA compliant.\n",
      "  return f(*args, **kwds)\n"
     ]
    }
   ],
   "source": [
    "from cymetric import timeseries as com\n",
    "import pandas as pd\n",
    "import numpy as np\n",
    "import matplotlib.pyplot as plt\n",
    "%matplotlib inline\n",
    "import cymetric as cym\n",
    "from cymetric import graphs\n",
    "\n"
   ]
  },
  {
   "cell_type": "code",
   "execution_count": 2,
   "metadata": {},
   "outputs": [],
   "source": [
    "def month2year(df, mode=0, division=12):\n",
    "    dfn = pd.DataFrame(columns=['Time','Mass'])\n",
    "    val = 0\n",
    "    for index, row in df.iterrows():\n",
    "        if mode == 0:\n",
    "            val = row['Mass']\n",
    "        else:\n",
    "            val += row['Mass']\n",
    "        if row['Time'] % division == 0:\n",
    "            if mode == 2:\n",
    "                val *= 1./double(division)\n",
    "            dfn.loc[int(row['Time'] / division)] = int(row['Time'] / 12)\n",
    "            dfn.loc[int(row['Time'] / division)]['Mass'] = val\n",
    "            val = 0\n",
    "    return dfn\n",
    "\n",
    "\n",
    "db_mlp = cym.dbopen('data/cyclus.sqlite')\n",
    "\n",
    "ev_mlp = cym.Evaluator(db=db_mlp, write=False)\n",
    "\n",
    "power_m = com.get_power(ev_mlp, facilities=['PWR', 'FBR_driver'])\n",
    "\n",
    "power_dat_m = pd.DataFrame({'Time': power_m.Time/12., 'MLP Power': power_m.Value})\n"
   ]
  },
  {
   "cell_type": "code",
   "execution_count": 3,
   "metadata": {},
   "outputs": [],
   "source": [
    "ts = power_dat_m.set_index('Time') # This is the data that cyplot will usually get"
   ]
  },
  {
   "cell_type": "code",
   "execution_count": 18,
   "metadata": {},
   "outputs": [
    {
     "data": {
      "text/plain": [
       "True"
      ]
     },
     "execution_count": 18,
     "metadata": {},
     "output_type": "execute_result"
    }
   ],
   "source": [
    "#ts.index.name\n",
    "#type(power_dat_m)\n",
    "\n"
   ]
  },
  {
   "cell_type": "code",
   "execution_count": null,
   "metadata": {},
   "outputs": [],
   "source": [
    "class Cyplot:\n",
    "    def __init__(self, ts, index=None):\n",
    "        if not isinstance(ts, pd.DataFrame):\n",
    "            print(\"You need to give df as input\")  \n",
    "            return\n",
    "        elif ts.index.name is not None:\n",
    "            self.ts = ts\n",
    "        elif index is not None:\n",
    "            self.ts = ts.set_index(index)\n",
    "        else:\n",
    "            print(\"You need to specify index for DF\")\n",
    "            return \n",
    "        self.xl = self.ts.index.name\n",
    "        self.yl = self.ts."
   ]
  },
  {
   "cell_type": "code",
   "execution_count": 20,
   "metadata": {},
   "outputs": [],
   "source": [
    "def cyplot(ts):\n",
    "    # if hasattr(power_dat_m, 'Time'):\n",
    "    if hasattr(ts, 'Time'):\n",
    "        time = ts.Time\n",
    "    elif hasattr(ts, 'time'):\n",
    "        time = ts.time\n",
    "    else:\n",
    "        time = [range(ts.count)]\n",
    "    val = ts.loc[:, ts.columns!='Time']\n",
    "    return time, val\n"
   ]
  },
  {
   "cell_type": "code",
   "execution_count": 21,
   "metadata": {},
   "outputs": [
    {
     "data": {
      "application/vnd.jupyter.widget-view+json": {
       "model_id": "ad96e612ec14457fb13348a81ee74e1c",
       "version_major": 2,
       "version_minor": 0
      },
      "text/plain": [
       "Figure(axes=[Axis(label='Time', scale=LinearScale()), Axis(label='TS value', orientation='vertical', scale=Lin…"
      ]
     },
     "metadata": {},
     "output_type": "display_data"
    }
   ],
   "source": [
    "import numpy as np\n",
    "from pandas import date_range\n",
    "import bqplot.pyplot as plt\n",
    "from bqplot import *\n",
    "\n",
    "# Get attr\n",
    "Y = \"TS value\"\n",
    "\n",
    "fig = plt.figure(title=Y)\n",
    "\n",
    "xd,yd = cyplot(power_dat_m)\n",
    "\n",
    "# THIS WILL BE CHANGED TO LABEL\n",
    "axes_options = {'x': {'label': xd.name}, 'y': {'label': Y}}\n",
    "# x values default to range of values when not specified\n",
    "\n",
    "line = plt.plot(xd,yd,labels=list(yd),axes_options=axes_options, display_legend=True)\n",
    "fig"
   ]
  },
  {
   "cell_type": "code",
   "execution_count": 24,
   "metadata": {},
   "outputs": [
    {
     "ename": "NameError",
     "evalue": "name 'index' is not defined",
     "output_type": "error",
     "traceback": [
      "\u001b[0;31m---------------------------------------------------------------------------\u001b[0m",
      "\u001b[0;31mNameError\u001b[0m                                 Traceback (most recent call last)",
      "\u001b[0;32m<ipython-input-24-ed35fcd43352>\u001b[0m in \u001b[0;36m<module>\u001b[0;34m()\u001b[0m\n\u001b[0;32m----> 1\u001b[0;31m \u001b[0mdf\u001b[0m \u001b[0;34m=\u001b[0m \u001b[0mpd\u001b[0m\u001b[0;34m.\u001b[0m\u001b[0mDataFrame\u001b[0m\u001b[0;34m(\u001b[0m\u001b[0mnp\u001b[0m\u001b[0;34m.\u001b[0m\u001b[0mrandom\u001b[0m\u001b[0;34m.\u001b[0m\u001b[0mrandn\u001b[0m\u001b[0;34m(\u001b[0m\u001b[0;36m3\u001b[0m\u001b[0;34m,\u001b[0m \u001b[0;36m8\u001b[0m\u001b[0;34m)\u001b[0m\u001b[0;34m,\u001b[0m \u001b[0mindex\u001b[0m\u001b[0;34m=\u001b[0m\u001b[0;34m[\u001b[0m\u001b[0;34m'A'\u001b[0m\u001b[0;34m,\u001b[0m \u001b[0;34m'B'\u001b[0m\u001b[0;34m,\u001b[0m \u001b[0;34m'C'\u001b[0m\u001b[0;34m]\u001b[0m\u001b[0;34m,\u001b[0m \u001b[0mcolumns\u001b[0m\u001b[0;34m=\u001b[0m\u001b[0mindex\u001b[0m\u001b[0;34m)\u001b[0m\u001b[0;34m\u001b[0m\u001b[0m\n\u001b[0m",
      "\u001b[0;31mNameError\u001b[0m: name 'index' is not defined"
     ]
    }
   ],
   "source": []
  },
  {
   "cell_type": "markdown",
   "metadata": {},
   "source": [
    "# ALL TEST"
   ]
  },
  {
   "cell_type": "code",
   "execution_count": 171,
   "metadata": {},
   "outputs": [],
   "source": [
    "from bqplot import DateScale, LinearScale, Axis, Lines, Scatter, Bars, Hist, Figure\n",
    "from bqplot.interacts import (\n",
    "    FastIntervalSelector, IndexSelector, BrushIntervalSelector,\n",
    "    BrushSelector, MultiSelector, LassoSelector, PanZoom, HandDraw\n",
    ")\n",
    "from traitlets import link\n",
    "\n",
    "from ipywidgets import ToggleButtons, VBox, HTML\n",
    "Y = \"TS value\"\n",
    "\n",
    "fig = plt.figure(title=Y)\n",
    "\n",
    "xd,yd = cyplot(power_dat_m)\n",
    "\n",
    "axes_options = {'x': {'label': xd.name}, 'y': {'label': Y}}\n",
    "\n",
    "\n",
    "xs_hd = LinearScale()\n",
    "ys_hd = LinearScale()\n",
    "\n",
    "line = Lines(x = xd,y = yd, scales = {'x': xs_hd, 'y': ys_hd},labels=list(yd),display_legend=True)# axes_options=axes_options)\n",
    "\n",
    "xax = Axis(scale=xs_hd, label=xd.name, grid_lines='none')\n",
    "yax = Axis(scale=ys_hd, label=Y, orientation='vertical', grid_lines='none')\n",
    "\n",
    "fig = Figure(marks=[line], axes=[xax,yax])"
   ]
  },
  {
   "cell_type": "code",
   "execution_count": 172,
   "metadata": {},
   "outputs": [],
   "source": [
    "multi_sel = MultiSelector(scale=xs_hd, marks=[line])\n",
    "br_intsel = BrushIntervalSelector(scale=xs_hd, marks=[line])\n",
    "index_sel = IndexSelector(scale=xs_hd, marks=[line])\n",
    "int_sel = FastIntervalSelector(scale=xs_hd, marks=[line])\n",
    "\n",
    "hd = HandDraw(lines=line)\n",
    "#hd2 = HandDraw(lines=lc3)\n",
    "pz = PanZoom(scales={'x': [xs_hd], 'y': [ys_hd]})\n",
    "\n",
    "deb = HTML()\n",
    "deb.value = '[]'"
   ]
  },
  {
   "cell_type": "code",
   "execution_count": 173,
   "metadata": {},
   "outputs": [],
   "source": [
    "def test_callback(change):\n",
    "    # PRINTING IS DONE HERE\n",
    "    # MORE Functions could be added \n",
    "    deb.value = str(change.new)\n",
    "    \n",
    "multi_sel.observe(test_callback, names=['selected'])\n",
    "br_intsel.observe(test_callback, names=['selected'])\n",
    "index_sel.observe(test_callback, names=['selected'])\n",
    "int_sel.observe(test_callback, names=['selected'])"
   ]
  },
  {
   "cell_type": "code",
   "execution_count": 174,
   "metadata": {},
   "outputs": [
    {
     "data": {
      "application/vnd.jupyter.widget-view+json": {
       "model_id": "107cbd0825cf4427b3eb68c5cbaa657d",
       "version_major": 2,
       "version_minor": 0
      },
      "text/plain": [
       "VBox(children=(HTML(value='[93.34738351058078]'), Figure(axes=[Axis(grid_lines='none', label='Time', scale=Lin…"
      ]
     },
     "metadata": {},
     "output_type": "display_data"
    }
   ],
   "source": [
    "from collections import OrderedDict\n",
    "selection_interacts = ToggleButtons(options=OrderedDict([ ('FastIntervalSelector', int_sel), ('IndexSelector', index_sel),\n",
    "                                                       ('BrushIntervalSelector', br_intsel), ('MultiSelector', multi_sel),\n",
    "                                                       ('PanZoom', pz), ('HandDraw', hd),\n",
    "                                                       ('None', None)]))\n",
    "\n",
    "link((selection_interacts, 'value'), (fig, 'interaction'))\n",
    "VBox([deb, fig, selection_interacts], align_self='stretch')"
   ]
  },
  {
   "cell_type": "code",
   "execution_count": 176,
   "metadata": {},
   "outputs": [
    {
     "data": {
      "application/vnd.jupyter.widget-view+json": {
       "model_id": "0b165237683f4b399226f6af28d424fe",
       "version_major": 2,
       "version_minor": 0
      },
      "text/plain": [
       "Figure(axes=[Axis(grid_lines='none', label='Time', scale=LinearScale(max=398.3502508673887, min=-99.3906111328…"
      ]
     },
     "metadata": {},
     "output_type": "display_data"
    }
   ],
   "source": [
    "fig"
   ]
  },
  {
   "cell_type": "code",
   "execution_count": null,
   "metadata": {},
   "outputs": [],
   "source": []
  },
  {
   "cell_type": "code",
   "execution_count": null,
   "metadata": {},
   "outputs": [],
   "source": []
  },
  {
   "cell_type": "code",
   "execution_count": 25,
   "metadata": {},
   "outputs": [
    {
     "data": {
      "text/plain": [
       "<matplotlib.legend.Legend at 0x7fbd709749b0>"
      ]
     },
     "execution_count": 25,
     "metadata": {},
     "output_type": "execute_result"
    },
    {
     "data": {
      "image/png": "[encoded data removed]",
      "text/plain": [
       "<Figure size 1440x864 with 1 Axes>"
      ]
     },
     "metadata": {
      "needs_background": "light"
     },
     "output_type": "display_data"
    }
   ],
   "source": [
    "FBR_dr_trans_m = month2year(com.transactions(ev_mlp, receivers=['FBR_driver']), 1, 4*12)\n",
    "\n",
    "# FBR_dr_trans_dat_r = pd.DataFrame({'Time': FBR_dr_trans_r.Time, 'Recipe Total Mass': FBR_dr_trans_r.Mass})\n",
    "\n",
    "# FBR_dr_trans_dat_md = pd.DataFrame({'Time': FBR_dr_trans_md.Time, 'MLP-Decay Total Mass': FBR_dr_trans_md.Mass})\n",
    "\n",
    "FBR_dr_trans_dat_m = pd.DataFrame({'Time': FBR_dr_trans_m.Time, 'MLP Total Mass': FBR_dr_trans_m.Mass})\n",
    "\n",
    "\n",
    "e1x = FBR_dr_trans_dat_m.plot(x='Time', y='MLP Total Mass', figsize=(20, 12), marker='o',markersize=14, mfc='none', linestyle=' ')\n",
    "# FBR_dr_trans_dat_md.plot(x='Time', y='MLP-Decay Total Mass', ax=e1x, linestyle=' ', marker='+',markersize=14, mfc='none')\n",
    "# FBR_dr_trans_dat_m.plot(x='Time', y='MLP Total Mass', ax=e1x, marker='v',markersize=14, mfc='none', linestyle=' ')\n",
    "\n",
    "plt.ylim([0,3000000])\n",
    "plt.xlim([0,140])\n",
    "plt.xlabel('Time [Years]')\n",
    "plt.ylabel('Transaction [Kg]')\n",
    "plt.savefig('trans.png', dpi=326)\n",
    "plt.legend()\n"
   ]
  },
  {
   "cell_type": "code",
   "execution_count": 27,
   "metadata": {},
   "outputs": [
    {
     "data": {
      "text/plain": [
       "<matplotlib.axes._subplots.AxesSubplot at 0x7fbd70974748>"
      ]
     },
     "execution_count": 27,
     "metadata": {},
     "output_type": "execute_result"
    }
   ],
   "source": [
    "e1x"
   ]
  },
  {
   "cell_type": "code",
   "execution_count": 4,
   "metadata": {},
   "outputs": [],
   "source": [
    "comm"
   ]
  },
  {
   "cell_type": "code",
   "execution_count": 24,
   "metadata": {},
   "outputs": [
    {
     "data": {
      "image/png": "[encoded data removed]",
      "text/plain": [
       "<Figure size 1080x720 with 1 Axes>"
      ]
     },
     "metadata": {
      "needs_background": "light"
     },
     "output_type": "display_data"
    }
   ],
   "source": [
    "\n",
    "#power_dat_md = pd.DataFrame({'Time': power_md.Time/12., 'MLP-Decay Power': power_md.Value})\n",
    "#power_dat_r = pd.DataFrame({'Time': power_r.Time/12., 'Recipe Power': power_r.Value})\n",
    "\n",
    "#e1x = power_dat_md.plot(x='Time', y='MLP-Decay Power', figsize=(15, 10))\n",
    "e1x = power_dat_m.plot(x='Time', y='MLP Power', figsize=(15, 10))\n",
    "\n",
    "#power_dat_m.plot(x='Time', y='MLP Power', ax=e1x)\n",
    "#power_dat_r.plot(x='Time', y='Recipe Power', ax=e1x)\n",
    "\n",
    "plt.xlim([0,140])\n",
    "plt.xlabel('Time [Years]')\n",
    "plt.ylabel('Power [W]')\n",
    "plt.legend(prop={'size':20})\n",
    "for item in ([e1x.title, e1x.xaxis.label, e1x.yaxis.label] +\n",
    "             e1x.get_xticklabels() + e1x.get_yticklabels()):\n",
    "    item.set_fontsize(20)\n",
    "plt.savefig('power.png', dpi=326)\n"
   ]
  },
  {
   "cell_type": "code",
   "execution_count": null,
   "metadata": {},
   "outputs": [],
   "source": []
  }
 ],
 "metadata": {
  "kernelspec": {
   "display_name": "Python 3",
   "language": "python",
   "name": "python3"
  },
  "language_info": {
   "codemirror_mode": {
    "name": "ipython",
    "version": 3
   },
   "file_extension": ".py",
   "mimetype": "text/x-python",
   "name": "python",
   "nbconvert_exporter": "python",
   "pygments_lexer": "ipython3",
   "version": "3.6.6"
  }
 },
 "nbformat": 4,
 "nbformat_minor": 2
}
