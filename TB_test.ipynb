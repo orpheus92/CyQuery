{
 "cells": [
  {
   "cell_type": "code",
   "execution_count": 2,
   "metadata": {},
   "outputs": [
    {
     "data": {
      "application/vnd.jupyter.widget-view+json": {
       "model_id": "652f008b12f948abb6774272b53571ef",
       "version_major": 2,
       "version_minor": 0
      },
      "text/plain": [
       "VBox(children=(Figure(axes=[Axis(scale=LinearScale()), Axis(orientation='vertical', scale=LinearScale(), tick_…"
      ]
     },
     "metadata": {},
     "output_type": "display_data"
    }
   ],
   "source": [
    "from bqplot.interacts import PanZoom\n",
    "import ipywidgets as widgets\n",
    "import bqplot as bq\n",
    "from traitlets import link\n",
    "from collections import OrderedDict\n",
    "\n",
    "import numpy as np\n",
    "\n",
    "buttonWidth = '50px'\n",
    "\n",
    "x_sc = bq.LinearScale()\n",
    "y_sc = bq.LinearScale()\n",
    "\n",
    "x_data = np.arange(500)\n",
    "y_data = np.random.randn(3, 500)\n",
    "\n",
    "line_chart = bq.Lines(x=x_data, y=y_data, scales= {'x': x_sc, 'y': y_sc}, \n",
    "                       display_legend=True, labels=[\"line 1\", \"line 2\", \"line 3\"] )\n",
    "\n",
    "ax_x = bq.Axis(scale=x_sc)\n",
    "ax_y = bq.Axis(scale=y_sc, orientation='vertical', tick_format='0.2f')\n",
    "\n",
    "fig = bq.Figure(marks=[line_chart], axes=[ax_x, ax_y])\n",
    "fig.layout.width = '95%'\n",
    "\n",
    "pz = PanZoom(scales={'x': [x_sc], 'y': [y_sc]})\n",
    "pzx = PanZoom(scales={'x': [x_sc]})\n",
    "pzy = PanZoom(scales={'y': [y_sc], })\n",
    "\n",
    "#\n",
    "zoom_interacts = widgets.ToggleButtons(\n",
    "                                        options=OrderedDict([\n",
    "                                            ('a ', pz), \n",
    "                                            ('x ', pzx), \n",
    "                                            ('y ', pzy),   \n",
    "                                            (' ', None)]),\n",
    "                                            icons = [\"arrows\", \"arrows-h\", \"arrows-v\", \"stop\"],\n",
    "                                            tooltips = [\"zoom/pan in x & y\", \"zoom/pan in x only\", \"zoom/pan in y only\", \"cancel zoom/pan\"]\n",
    "                                        )\n",
    "zoom_interacts.style.button_width = buttonWidth\n",
    "\n",
    "ResetZoomButton = widgets.Button(\n",
    "    description='',\n",
    "    disabled=False,\n",
    "    button_style='', # 'success', 'info', 'warning', 'danger' or ''\n",
    "    tooltip='Reset zoom',\n",
    "    icon='arrows-alt'\n",
    ")\n",
    "\n",
    "def resetZoom(new):\n",
    "    # Reset the x and y axes on the figure\n",
    "    fig.axes[0].scale.min = None\n",
    "    fig.axes[1].scale.min = None\n",
    "    fig.axes[0].scale.max = None\n",
    "    fig.axes[1].scale.max = None  \n",
    "    \n",
    "ResetZoomButton.on_click(resetZoom)\n",
    "ResetZoomButton.layout.width = buttonWidth\n",
    "\n",
    "link((zoom_interacts, 'value'), (fig, 'interaction'))\n",
    "widgets.VBox([fig, widgets.HBox([zoom_interacts,ResetZoomButton])], align_self='stretch')"
   ]
  },
  {
   "cell_type": "code",
   "execution_count": 63,
   "metadata": {},
   "outputs": [
    {
     "data": {
      "text/plain": [
       "PanZoom(scales={'y': [LinearScale(max=5.593458418397699, min=-7.054974965996605)]})"
      ]
     },
     "execution_count": 63,
     "metadata": {},
     "output_type": "execute_result"
    }
   ],
   "source": [
    "zoom_interacts.value # +ResetZoomButton"
   ]
  },
  {
   "cell_type": "code",
   "execution_count": 57,
   "metadata": {},
   "outputs": [
    {
     "data": {
      "application/vnd.jupyter.widget-view+json": {
       "model_id": "73a582d7d42f432ebe15824240b462fb",
       "version_major": 2,
       "version_minor": 0
      },
      "text/plain": [
       "ToggleButtons(icons=('check', 'check', 'check'), options=('', ' ', ' '), style=ToggleButtonsStyle(button_width…"
      ]
     },
     "metadata": {},
     "output_type": "display_data"
    }
   ],
   "source": [
    "bt = widgets.ToggleButtons(\n",
    "    options=['', ' ', ' '],\n",
    "    # description='Speed:',\n",
    "    disabled=False,\n",
    "    button_style='', # 'success', 'info', 'warning', 'danger' or ''\n",
    "    \n",
    "    tooltips=['Description of slow', 'Description of regular', 'Description of fast'],\n",
    "     icons=['check'] * 3\n",
    ")\n",
    "bt.style.button_width = '38px'\n",
    "bt"
   ]
  },
  {
   "cell_type": "code",
   "execution_count": 32,
   "metadata": {},
   "outputs": [
    {
     "data": {
      "text/plain": [
       "{'a': <function __main__.aa()>,\n",
       " 'b': <function __main__.bb()>,\n",
       " 'c': <function __main__.cc()>}"
      ]
     },
     "execution_count": 32,
     "metadata": {},
     "output_type": "execute_result"
    }
   ],
   "source": [
    "\n",
    "def aa():\n",
    "    print('aaa')\n",
    "def bb():\n",
    "    print('bbb')\n",
    "def cc():\n",
    "    print('ccc')\n",
    "    \n",
    "a = {'a':aa, 'b':bb, 'c': cc}\n",
    "a"
   ]
  },
  {
   "cell_type": "code",
   "execution_count": 36,
   "metadata": {},
   "outputs": [],
   "source": [
    "t = widgets.ToggleButtons(options=['An extremely long option', 'option'])\n",
    "t.style.button_width=''\n"
   ]
  },
  {
   "cell_type": "code",
   "execution_count": 37,
   "metadata": {},
   "outputs": [
    {
     "data": {
      "application/vnd.jupyter.widget-view+json": {
       "model_id": "d37c02403c1747409c85d260cbf625fe",
       "version_major": 2,
       "version_minor": 0
      },
      "text/plain": [
       "ToggleButtons(options=('An extremely long option', 'option'), value='An extremely long option')"
      ]
     },
     "metadata": {},
     "output_type": "display_data"
    }
   ],
   "source": [
    "t"
   ]
  }
 ],
 "metadata": {
  "kernelspec": {
   "display_name": "Python 3",
   "language": "python",
   "name": "python3"
  },
  "language_info": {
   "codemirror_mode": {
    "name": "ipython",
    "version": 3
   },
   "file_extension": ".py",
   "mimetype": "text/x-python",
   "name": "python",
   "nbconvert_exporter": "python",
   "pygments_lexer": "ipython3",
   "version": "3.6.6"
  }
 },
 "nbformat": 4,
 "nbformat_minor": 2
}
