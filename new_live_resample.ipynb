{
 "cells": [
  {
   "cell_type": "code",
   "execution_count": 1,
   "metadata": {},
   "outputs": [],
   "source": [
    "# import topopy\n",
    "from test_functions import *\n",
    "# import matplotlib.pyplot as plt\n",
    "# import samplers\n",
    "# import seaborn as sns\n",
    "# from matplotlib import patches, collections\n",
    "import numpy as np\n",
    "from ipywidgets import interact, HTML\n",
    "import random\n",
    "import pdir"
   ]
  },
  {
   "cell_type": "code",
   "execution_count": 2,
   "metadata": {},
   "outputs": [],
   "source": [
    "from sidepanel import SidePanel\n",
    "\n",
    "import ipywidgets as widgets\n",
    "\n",
    "from regulus.utils import io\n",
    "from regulus.topo import * \n",
    "from regulus.alg import *\n",
    "from regulus.measures import *\n",
    "from regulus.models import *\n",
    "from regulus.tree import *\n",
    "\n",
    "from ipyregulus import TreeWidget, TreeView, DetailsView, DataWidget\n",
    "from ipyregulus.filters.filters import * \n",
    "from ipyregulus.filters.monitor import Monitor\n",
    "from ipyregulus.tree.has_tree import *\n",
    "from ipyregulus.alg.view import *"
   ]
  },
  {
   "cell_type": "code",
   "execution_count": 3,
   "metadata": {},
   "outputs": [],
   "source": [
    "test_function = gerber_different_heights\n",
    "samples = 200\n",
    "X = np.random.rand(samples,2)\n",
    "Y = test_function(X)\n",
    "\n",
    "# Y = (Y - np.min(Y)) / (np.max(Y) - np.min(Y)) # Not sure whether this is needed \n",
    "\n",
    "all_pts = np.hstack((X,np.expand_dims(Y, axis=1)))\n",
    "\n",
    "# X = samplers.CVTSampler.generate_samples(samples, 2, 1)\n",
    "\n",
    "\n",
    "# msc = topopy.MorseSmaleComplex(graph=\"beta skeleton\", gradient=\"steepest\", max_neighbors=8, beta=1.0)\n",
    "# msc.build(X, Y)\n"
   ]
  },
  {
   "cell_type": "markdown",
   "metadata": {},
   "source": [
    "# NEW PART IN REG to create pts at runtime "
   ]
  },
  {
   "cell_type": "code",
   "execution_count": 4,
   "metadata": {},
   "outputs": [
    {
     "name": "stdout",
     "output_type": "stream",
     "text": [
      "found 8 singles\n",
      "len(idx)= 198\n"
     ]
    },
    {
     "name": "stderr",
     "output_type": "stream",
     "text": [
      "/media/orpheus92/OS/conda/envs/regulus/lib/python3.6/site-packages/numpy/core/fromnumeric.py:51: FutureWarning: 'argmin' is deprecated, use 'idxmin' instead. The behavior of 'argmin'\n",
      "will be corrected to return the positional minimum in the future.\n",
      "Use 'series.values.argmin' to get the position of the minimum now.\n",
      "  return getattr(obj, method)(*args, **kwds)\n",
      "/media/orpheus92/OS/conda/envs/regulus/lib/python3.6/site-packages/numpy/core/fromnumeric.py:51: FutureWarning: 'argmax' is deprecated, use 'idxmax' instead. The behavior of 'argmax'\n",
      "will be corrected to return the positional maximum in the future.\n",
      "Use 'series.values.argmax' to get the position of the maximum now.\n",
      "  return getattr(obj, method)(*args, **kwds)\n"
     ]
    }
   ],
   "source": [
    "from regulus.topo import morse_smale, Regulus\n",
    "from regulus.data.data import Data\n",
    "from regulus.measures import *\n",
    "from regulus.models import *\n",
    "import pandas as pd\n",
    "\n",
    "cols = ['x'+str(i) for i in range(all_pts.shape[1])]\n",
    "\n",
    "cols[-1] = 'y'\n",
    "\n",
    "df = pd.DataFrame(all_pts, columns=cols)\n",
    "\n",
    "pts = Data.from_pts(df)\n",
    "\n",
    "# Normalize here  \n",
    "pts.normalize()\n",
    "\n",
    "regulus = morse_smale(pts, knn=8)#**kwargs)\n",
    "\n",
    "regulus.add_attr('linear', linear_model)\n",
    "regulus.add_attr('fitness', fitness)\n",
    "regulus.add_attr('relative_fitness', relative_fitness)\n",
    "\n",
    "regulus.tree.add_attr('parent_fitness', parent_fitness)\n",
    "regulus.tree.add_attr('child_fitness', child_fitness)\n",
    "regulus.tree.add_attr('size', node_size)\n",
    "regulus.tree.add_attr('rel_size', node_relative_size)\n",
    "regulus.tree.add_attr('span', node_span)\n",
    "\n",
    "\n"
   ]
  },
  {
   "cell_type": "code",
   "execution_count": 5,
   "metadata": {},
   "outputs": [],
   "source": [
    "from ipyregulus import TreeWidget, TreeView, DetailsView, DataWidget\n",
    "\n",
    "tree = TreeWidget(regulus.tree)\n",
    "data = DataWidget(data=regulus)\n"
   ]
  },
  {
   "cell_type": "markdown",
   "metadata": {},
   "source": [
    "# TreeView"
   ]
  },
  {
   "cell_type": "code",
   "execution_count": 6,
   "metadata": {},
   "outputs": [
    {
     "data": {
      "application/vnd.jupyter.widget-view+json": {
       "model_id": "280410e80aa34d2d93f85e6a9c1cb32c",
       "version_major": 2,
       "version_minor": 0
      },
      "text/plain": [
       "TreeView(field='span', tree_model=TreeWidget(attrs={'span': {0: 0.6797178418716125, 1: 0.05489350981834029, 2:…"
      ]
     },
     "metadata": {},
     "output_type": "display_data"
    },
    {
     "data": {
      "application/vnd.jupyter.widget-view+json": {
       "model_id": "75f0d0f3cef44212a9aedbeb30cb29eb",
       "version_major": 2,
       "version_minor": 0
      },
      "text/plain": [
       "HBox(children=(Label(value='span'), FloatSlider(value=0.0, max=1.0, step=0.01)))"
      ]
     },
     "metadata": {},
     "output_type": "display_data"
    },
    {
     "data": {
      "text/plain": [
       "<traitlets.traitlets.link at 0x7fec4312be48>"
      ]
     },
     "execution_count": 6,
     "metadata": {},
     "output_type": "execute_result"
    }
   ],
   "source": [
    "v2 = show_tree(tree)\n",
    "\n",
    "w = widgets.Dropdown(\n",
    "    options=['span', 'fitness', 'parent_fitness', 'child_fitness'],\n",
    "    value='span',\n",
    "    description='Attribute:',\n",
    "    disabled=False,\n",
    ")\n",
    "panel = SidePanel(title='Fitness')#, side='split-bottom', ref='SidePanel')\n",
    "with panel:\n",
    "    display(w, v2.view, v2.filter)\n",
    "widgets.link((w, 'value'), (v2.view, 'field'))"
   ]
  },
  {
   "cell_type": "markdown",
   "metadata": {},
   "source": [
    "# Details View"
   ]
  },
  {
   "cell_type": "code",
   "execution_count": 7,
   "metadata": {},
   "outputs": [],
   "source": [
    "details = DetailsView(data=data)\n",
    "\n",
    "p7 = SidePanel(title='details')\n",
    "with p7:\n",
    "    display(details)"
   ]
  },
  {
   "cell_type": "markdown",
   "metadata": {},
   "source": [
    "# Linking Two Views"
   ]
  },
  {
   "cell_type": "code",
   "execution_count": 8,
   "metadata": {},
   "outputs": [
    {
     "data": {
      "text/plain": [
       "<traitlets.traitlets.link at 0x7fec43138898>"
      ]
     },
     "execution_count": 8,
     "metadata": {},
     "output_type": "execute_result"
    }
   ],
   "source": [
    "\n",
    "widgets.link((v2.view, 'details'), (details, 'show'))\n"
   ]
  },
  {
   "cell_type": "markdown",
   "metadata": {},
   "source": [
    "# Create resample class, resampling a user specified partition"
   ]
  },
  {
   "cell_type": "code",
   "execution_count": 9,
   "metadata": {},
   "outputs": [],
   "source": [
    "from resample import get_pts, Resample\n",
    "\n",
    "# Change the following line to use differennt partition to resample\n",
    "ind = get_pts(data.partitions[0],data.pts_loc)\n",
    "\n",
    "selectP = df.loc[ind,:]\n",
    "r = Resample(selectP,pred_method=\"bounding_box\")"
   ]
  },
  {
   "cell_type": "markdown",
   "metadata": {},
   "source": [
    "# A line chart for a specified partition, different interactions could be added "
   ]
  },
  {
   "cell_type": "code",
   "execution_count": 10,
   "metadata": {},
   "outputs": [
    {
     "data": {
      "application/vnd.jupyter.widget-view+json": {
       "model_id": "caa869119fd74771b95efa5f8e941dbf",
       "version_major": 2,
       "version_minor": 0
      },
      "text/plain": [
       "VBox(children=(ToggleButtons(description='Interaction: ', icons=('arrows-h', 'retweet'), layout=Layout(justify…"
      ]
     },
     "metadata": {},
     "output_type": "display_data"
    }
   ],
   "source": [
    "from cyplot import plot\n",
    "myp = plot(selectP,index = 'y',debug=True, dims=['x0','x1','y'])#ptype='PCA')#, ptype='line'/ PCA. line. dims=[]\n",
    "myp.enable(['brush_x','brush'])\n",
    "myp.on('brush_x', r.cb)\n",
    "myp.on('brush', r.cb)\n",
    "\n",
    "display(myp)"
   ]
  },
  {
   "cell_type": "code",
   "execution_count": 11,
   "metadata": {},
   "outputs": [
    {
     "data": {
      "application/vnd.jupyter.widget-view+json": {
       "model_id": "9dda579ef7424cdf8ffbcb29ffa54d7d",
       "version_major": 2,
       "version_minor": 0
      },
      "text/plain": [
       "VBox(children=(ToggleButtons(description='Interaction: ', icons=('arrows-h', 'retweet'), layout=Layout(justify…"
      ]
     },
     "metadata": {},
     "output_type": "display_data"
    }
   ],
   "source": [
    "# from cyplot import plot\n",
    "myp2 = plot(selectP,index = 'y',debug=True, ptype='PCA')#, ptype='line'/ PCA. line. dims=[]\n",
    "myp2.enable(['brush_x','brush'])\n",
    "myp2.on('brush_x', r.cb)\n",
    "myp2.on('brush', r.cb)\n",
    "display(myp2)"
   ]
  },
  {
   "cell_type": "code",
   "execution_count": null,
   "metadata": {},
   "outputs": [],
   "source": [
    "myp2.enable('x_brush')\n",
    "display(myp2)"
   ]
  },
  {
   "cell_type": "code",
   "execution_count": null,
   "metadata": {},
   "outputs": [],
   "source": [
    "pdir(regulus.tree.attr.values)\n",
    "regulus.tree.attr.values()['parent_fitness']"
   ]
  },
  {
   "cell_type": "markdown",
   "metadata": {},
   "source": [
    "# random generate pts based on user selected range of function value"
   ]
  },
  {
   "cell_type": "code",
   "execution_count": 17,
   "metadata": {},
   "outputs": [
    {
     "data": {
      "text/plain": [
       "[[0.16336204231323384, 0.055537546377243126],\n",
       " [0.5424718088861109, 0.10052110368288422],\n",
       " [0.3258533909078509, 0.38889215251199505],\n",
       " [0.6815924270323849, 0.6013073008119757],\n",
       " [0.6699362402803362, 0.2247699932307624]]"
      ]
     },
     "execution_count": 17,
     "metadata": {},
     "output_type": "execute_result"
    }
   ],
   "source": [
    "r.add_samples(5) # user's specified # of samples\n",
    "r.x\n",
    "\n"
   ]
  },
  {
   "cell_type": "code",
   "execution_count": 34,
   "metadata": {},
   "outputs": [
    {
     "data": {
      "text/plain": [
       "<bound method HasTraits.traits of Figure(axes=[Axis(grid_lines='none', label='x0', scale=LinearScale(allow_padding=False), side='bottom'), Axis(grid_lines='none', label='x1', orientation='vertical', scale=LinearScale(allow_padding=False), side='left'), ColorAxis(orientation='vertical', scale=ColorScale(scheme='YlOrRd'), side='right')], fig_margin={'top': 0, 'bottom': 40, 'left': 50, 'right': 50}, interaction=BrushSelector(color='red', marks=[Scatter(color=array([0.57072211, 0.85112575, 0.4248163 , 0.74874592, 1.05133737,\n",
       "       1.31793813, 0.91380612, 1.25084817, 1.39489838, 0.45243176,\n",
       "       0.91257904, 1.36025941, 0.59876907, 0.98410549, 1.00349326,\n",
       "       0.42114979, 0.9282147 , 0.56330083, 1.41439761, 0.89164359,\n",
       "       0.67147186, 0.61432548, 0.81084219, 0.58790321, 0.99754027,\n",
       "       0.59827649, 0.53362929, 1.37918171, 1.12118799, 0.81556179,\n",
       "       0.97125254, 0.42692826, 1.09513888, 0.48463088, 1.03410736,\n",
       "       0.52054281, 1.09943024, 0.93430875, 1.13164339, 1.10184812,\n",
       "       0.88017835, 0.69922338, 0.41688551, 1.23252279, 0.14980035,\n",
       "       0.26863291, 0.13593167, 0.22779335, 0.58969118, 0.5633063 ,\n",
       "       0.39411838, 0.44770757, 1.1438326 , 1.19046081, 0.80495931,\n",
       "       1.16197691, 0.53921796, 0.54212376, 0.51999329, 0.4461285 ,\n",
       "       0.4218746 , 0.63248368, 0.52788336, 1.07471641, 0.54887954,\n",
       "       1.13673237, 1.21265444, 0.80180777, 1.01920898, 1.05074027,\n",
       "       0.97277134, 0.95445751, 1.17937682, 0.67196453, 0.62373707,\n",
       "       0.86476792, 1.08088726, 0.55276273, 0.98083037, 0.9055349 ,\n",
       "       1.06055802, 1.11930353, 1.19486417, 0.58058743, 0.54800448,\n",
       "       0.52971375, 0.49518912, 0.57678867, 0.51716845, 0.46970569,\n",
       "       0.24957535, 0.22154346, 0.43963756, 0.5789685 , 0.31284144,\n",
       "       0.20358824, 0.27084897, 0.25280937, 0.20983809, 0.25250469,\n",
       "       0.36952053, 0.16280235, 0.22947774, 0.45690321, 0.4714997 ,\n",
       "       0.44499805, 0.21634582, 0.43557104, 0.34647261, 0.59828588,\n",
       "       0.25283426, 0.25081228, 0.11137281, 0.34640096, 0.37863038,\n",
       "       0.3369829 , 0.0997478 , 0.34737054, 0.66464083, 0.06730889,\n",
       "       0.28776362, 0.42581406, 0.27595159, 0.31157724, 0.59284575,\n",
       "       0.20485457, 0.40347756, 0.4426936 , 0.58359033, 0.58857294,\n",
       "       0.42507838, 0.79887795, 0.3890798 , 0.61956782, 0.5005425 ,\n",
       "       0.76258346, 0.71048359, 0.18169063, 0.41667755, 0.43429972,\n",
       "       0.20202853, 0.4580516 , 0.4533459 , 0.49640134, 0.7305591 ,\n",
       "       0.61385825, 0.9916299 , 1.06927183, 0.90022972, 1.30850398,\n",
       "       0.75571836, 1.42881643, 1.13825271, 0.64540825, 1.08162526,\n",
       "       0.68629862, 1.44370865, 0.787464  , 1.15276706, 1.10441091,\n",
       "       1.03661687, 1.28681632, 1.45257854, 1.03304313, 1.11391982,\n",
       "       1.05361235, 0.84788423, 0.87905602, 1.1107404 , 0.99369324,\n",
       "       1.08993082, 1.10352092, 1.0971695 , 1.24704729, 1.08818817,\n",
       "       0.9689831 , 0.91494503, 0.97127933, 0.96946203, 1.05711795,\n",
       "       1.11331657, 0.8000977 , 0.94494384, 0.99096328, 0.8014816 ,\n",
       "       0.90420026, 1.14324436, 0.85337525, 1.21349139, 0.98938772,\n",
       "       1.14252971, 1.15461688, 1.23632607, 1.1491826 , 0.98497621,\n",
       "       1.19146273, 1.11619592, 1.15090486, 0.04000429, 1.51185897]), colors=['steelblue'], default_size=32, interactions={'hover': 'tooltip'}, scales={'x': LinearScale(allow_padding=False), 'y': LinearScale(allow_padding=False), 'color': ColorScale(scheme='YlOrRd')}, scales_metadata={'x': {'orientation': 'horizontal', 'dimension': 'x'}, 'y': {'orientation': 'vertical', 'dimension': 'y'}, 'color': {'dimension': 'color'}, 'size': {'dimension': 'size'}, 'opacity': {'dimension': 'opacity'}, 'rotation': {'dimension': 'rotation'}, 'skew': {'dimension': 'skew'}}, tooltip_style={'opacity': 0.9}, x=array([0.02469561, 0.68228876, 0.55838489, 0.42249426, 0.2625628 ,\n",
       "       0.31662446, 0.35728424, 0.34916641, 0.32864718, 0.52101105,\n",
       "       0.37423996, 0.3226567 , 0.46683515, 0.29864709, 0.2574593 ,\n",
       "       0.53170105, 0.44161082, 0.53049199, 0.3377836 , 0.4163333 ,\n",
       "       0.49284627, 0.49672789, 0.44657572, 0.50857652, 0.35891267,\n",
       "       0.50855814, 0.52750758, 0.29573008, 0.26976652, 0.42741593,\n",
       "       0.36281081, 0.5932091 , 0.27007678, 0.59227914, 0.33558647,\n",
       "       0.55319418, 0.24870072, 0.42026237, 0.37873507, 0.46391904,\n",
       "       0.53293766, 0.53566264, 0.57945764, 0.41386825, 0.98757971,\n",
       "       0.89723383, 0.91131036, 0.89743338, 0.77994653, 0.74101321,\n",
       "       0.82274126, 0.57927734, 0.34286795, 0.31452067, 0.46902679,\n",
       "       0.32984582, 0.66899668, 0.73313096, 0.6924716 , 0.64368752,\n",
       "       0.67075192, 0.75518279, 0.62702877, 0.36619337, 0.54358167,\n",
       "       0.32390978, 0.29073928, 0.4452191 , 0.39009726, 0.37128244,\n",
       "       0.38862839, 0.39903515, 0.27444773, 0.49490598, 0.55011181,\n",
       "       0.45813088, 0.37537763, 0.58965529, 0.4176292 , 0.44438648,\n",
       "       0.38748259, 0.36207509, 0.31929851, 0.68753075, 0.67221777,\n",
       "       0.63344261, 0.63485108, 0.67995751, 0.68246476, 0.65972439,\n",
       "       0.9928125 , 0.9324485 , 0.80978912, 0.75603709, 0.88564452,\n",
       "       0.98092242, 0.92328278, 0.89653226, 0.875959  , 0.99324366,\n",
       "       0.84427368, 0.96917038, 0.97819702, 0.81129884, 0.78913114,\n",
       "       0.81636539, 0.99237553, 0.81482658, 0.84317005, 0.76641035,\n",
       "       0.99596031, 0.9297073 , 0.99987783, 0.67144921, 0.70607309,\n",
       "       0.7977812 , 0.87478144, 0.79733574, 0.82037003, 0.90287976,\n",
       "       0.8148728 , 0.83196231, 0.80720291, 0.80856205, 0.70903485,\n",
       "       0.84356595, 0.8621388 , 0.99189816, 0.86510417, 0.69782072,\n",
       "       0.61983386, 0.71731037, 0.60770424, 0.81736285, 0.78884377,\n",
       "       0.73138902, 0.81419252, 0.91105748, 0.97339044, 0.80110143,\n",
       "       0.87734499, 0.94349292, 0.68528106, 0.74804923, 0.00554393,\n",
       "       0.02164883, 0.21071408, 0.19560196, 0.15151466, 0.18306225,\n",
       "       0.0664739 , 0.17060684, 0.18088637, 0.02656532, 0.05089083,\n",
       "       0.05584245, 0.18670793, 0.04599722, 0.21213143, 0.23990977,\n",
       "       0.00869729, 0.15976166, 0.18337399, 0.02424085, 0.15587313,\n",
       "       0.02515254, 0.05172518, 0.07794682, 0.16234829, 0.1360003 ,\n",
       "       0.20158673, 0.21094748, 0.18968008, 0.25087233, 0.16092462,\n",
       "       0.09756704, 0.07779544, 0.08174867, 0.0783294 , 0.13206233,\n",
       "       0.16323737, 0.03966557, 0.09476464, 0.10920822, 0.02941087,\n",
       "       0.06809654, 0.15654705, 0.04704835, 0.19256907, 0.09495982,\n",
       "       0.22499428, 0.20427562, 0.23820568, 0.20848945, 0.12961253,\n",
       "       0.23443974, 0.16937424, 0.24952274, 0.92243609, 0.23188473]), y=array([0.99434896, 0.74446193, 0.8922088 , 0.91923011, 0.90119145,\n",
       "       0.80775634, 0.91576136, 0.81050146, 0.7822604 , 0.95490477,\n",
       "       0.89145716, 0.79508806, 0.96587505, 0.9504742 , 0.97361399,\n",
       "       0.97281549, 0.83150041, 0.86296623, 0.72817986, 0.45573793,\n",
       "       0.46218317, 0.53732622, 0.45067215, 0.52474525, 0.50756701,\n",
       "       0.50676703, 0.53507318, 0.69631825, 0.60711568, 0.52574604,\n",
       "       0.54325096, 0.49622743, 0.56914351, 0.41482884, 0.59545527,\n",
       "       0.45963706, 0.56749153, 0.64483769, 0.6702477 , 0.76600243,\n",
       "       0.71547018, 0.66822858, 0.56359251, 0.72518913, 0.03033581,\n",
       "       0.35539746, 0.54221882, 0.42140425, 0.30804564, 0.44484012,\n",
       "       0.43403397, 0.00719264, 0.32407947, 0.32290827, 0.36100631,\n",
       "       0.3358036 , 0.34923675, 0.47402756, 0.44059065, 0.45080364,\n",
       "       0.54042082, 0.1937542 , 0.2746342 , 0.13173532, 0.05013267,\n",
       "       0.10142566, 0.16548636, 0.03137514, 0.13375732, 0.11071235,\n",
       "       0.05668041, 0.06818998, 0.08685497, 0.04668261, 0.24947175,\n",
       "       0.28441325, 0.19303258, 0.25945795, 0.23103122, 0.27435784,\n",
       "       0.24777812, 0.26249488, 0.28392019, 0.17736452, 0.15898287,\n",
       "       0.22937181, 0.13132722, 0.20519461, 0.07914027, 0.0598669 ,\n",
       "       0.28570627, 0.11462273, 0.07189502, 0.09092927, 0.22810308,\n",
       "       0.10723252, 0.22181611, 0.11513918, 0.00564408, 0.23588596,\n",
       "       0.12941454, 0.04520581, 0.15239785, 0.1048178 , 0.02986955,\n",
       "       0.11162737, 0.13032172, 0.08944194, 0.08760372, 0.1469019 ,\n",
       "       0.25243692, 0.33266044, 0.52954923, 0.9220189 , 0.9705309 ,\n",
       "       0.91380553, 0.9370732 , 0.90661091, 0.7903671 , 0.92341009,\n",
       "       0.91044015, 0.83885486, 0.97502415, 0.90757432, 0.84319322,\n",
       "       0.90595632, 0.82456388, 0.78895187, 0.77554087, 0.84016743,\n",
       "       0.86244767, 0.79672086, 0.58321181, 0.69049536, 0.63221336,\n",
       "       0.68656422, 0.71350276, 0.62107376, 0.69881574, 0.61814607,\n",
       "       0.60565509, 0.70859509, 0.59544137, 0.56956941, 0.64678006,\n",
       "       0.90085925, 0.954525  , 0.87747045, 0.98720853, 0.80986816,\n",
       "       0.89263917, 0.76814976, 0.8496198 , 0.89095692, 0.78941755,\n",
       "       0.92103812, 0.77254952, 0.45374527, 0.43837116, 0.53680499,\n",
       "       0.75566978, 0.68882253, 0.73058192, 0.71515634, 0.64418582,\n",
       "       0.77418604, 0.6422393 , 0.62597125, 0.63906783, 0.60897689,\n",
       "       0.51661411, 0.50870639, 0.48354344, 0.21734694, 0.4326695 ,\n",
       "       0.10282299, 0.39852534, 0.19305892, 0.2716191 , 0.39121513,\n",
       "       0.40176232, 0.40952908, 0.42218064, 0.40920528, 0.35893218,\n",
       "       0.37208711, 0.32274787, 0.3560888 , 0.23625684, 0.1501374 ,\n",
       "       0.03481879, 0.07454658, 0.18309628, 0.06106518, 0.01268525,\n",
       "       0.09915244, 0.08667891, 0.03685331, 0.93713846, 0.74624116]))], selected_x=array([0.3406712787799195, 0.6997362979860545], dtype=object), selected_y=array([None, None], dtype=object), x_scale=LinearScale(allow_padding=False), y_scale=LinearScale(allow_padding=False)), layout=Layout(min_width='125px'), marks=[Scatter(color=array([0.57072211, 0.85112575, 0.4248163 , 0.74874592, 1.05133737,\n",
       "       1.31793813, 0.91380612, 1.25084817, 1.39489838, 0.45243176,\n",
       "       0.91257904, 1.36025941, 0.59876907, 0.98410549, 1.00349326,\n",
       "       0.42114979, 0.9282147 , 0.56330083, 1.41439761, 0.89164359,\n",
       "       0.67147186, 0.61432548, 0.81084219, 0.58790321, 0.99754027,\n",
       "       0.59827649, 0.53362929, 1.37918171, 1.12118799, 0.81556179,\n",
       "       0.97125254, 0.42692826, 1.09513888, 0.48463088, 1.03410736,\n",
       "       0.52054281, 1.09943024, 0.93430875, 1.13164339, 1.10184812,\n",
       "       0.88017835, 0.69922338, 0.41688551, 1.23252279, 0.14980035,\n",
       "       0.26863291, 0.13593167, 0.22779335, 0.58969118, 0.5633063 ,\n",
       "       0.39411838, 0.44770757, 1.1438326 , 1.19046081, 0.80495931,\n",
       "       1.16197691, 0.53921796, 0.54212376, 0.51999329, 0.4461285 ,\n",
       "       0.4218746 , 0.63248368, 0.52788336, 1.07471641, 0.54887954,\n",
       "       1.13673237, 1.21265444, 0.80180777, 1.01920898, 1.05074027,\n",
       "       0.97277134, 0.95445751, 1.17937682, 0.67196453, 0.62373707,\n",
       "       0.86476792, 1.08088726, 0.55276273, 0.98083037, 0.9055349 ,\n",
       "       1.06055802, 1.11930353, 1.19486417, 0.58058743, 0.54800448,\n",
       "       0.52971375, 0.49518912, 0.57678867, 0.51716845, 0.46970569,\n",
       "       0.24957535, 0.22154346, 0.43963756, 0.5789685 , 0.31284144,\n",
       "       0.20358824, 0.27084897, 0.25280937, 0.20983809, 0.25250469,\n",
       "       0.36952053, 0.16280235, 0.22947774, 0.45690321, 0.4714997 ,\n",
       "       0.44499805, 0.21634582, 0.43557104, 0.34647261, 0.59828588,\n",
       "       0.25283426, 0.25081228, 0.11137281, 0.34640096, 0.37863038,\n",
       "       0.3369829 , 0.0997478 , 0.34737054, 0.66464083, 0.06730889,\n",
       "       0.28776362, 0.42581406, 0.27595159, 0.31157724, 0.59284575,\n",
       "       0.20485457, 0.40347756, 0.4426936 , 0.58359033, 0.58857294,\n",
       "       0.42507838, 0.79887795, 0.3890798 , 0.61956782, 0.5005425 ,\n",
       "       0.76258346, 0.71048359, 0.18169063, 0.41667755, 0.43429972,\n",
       "       0.20202853, 0.4580516 , 0.4533459 , 0.49640134, 0.7305591 ,\n",
       "       0.61385825, 0.9916299 , 1.06927183, 0.90022972, 1.30850398,\n",
       "       0.75571836, 1.42881643, 1.13825271, 0.64540825, 1.08162526,\n",
       "       0.68629862, 1.44370865, 0.787464  , 1.15276706, 1.10441091,\n",
       "       1.03661687, 1.28681632, 1.45257854, 1.03304313, 1.11391982,\n",
       "       1.05361235, 0.84788423, 0.87905602, 1.1107404 , 0.99369324,\n",
       "       1.08993082, 1.10352092, 1.0971695 , 1.24704729, 1.08818817,\n",
       "       0.9689831 , 0.91494503, 0.97127933, 0.96946203, 1.05711795,\n",
       "       1.11331657, 0.8000977 , 0.94494384, 0.99096328, 0.8014816 ,\n",
       "       0.90420026, 1.14324436, 0.85337525, 1.21349139, 0.98938772,\n",
       "       1.14252971, 1.15461688, 1.23632607, 1.1491826 , 0.98497621,\n",
       "       1.19146273, 1.11619592, 1.15090486, 0.04000429, 1.51185897]), colors=['steelblue'], default_size=32, interactions={'hover': 'tooltip'}, scales={'x': LinearScale(allow_padding=False), 'y': LinearScale(allow_padding=False), 'color': ColorScale(scheme='YlOrRd')}, scales_metadata={'x': {'orientation': 'horizontal', 'dimension': 'x'}, 'y': {'orientation': 'vertical', 'dimension': 'y'}, 'color': {'dimension': 'color'}, 'size': {'dimension': 'size'}, 'opacity': {'dimension': 'opacity'}, 'rotation': {'dimension': 'rotation'}, 'skew': {'dimension': 'skew'}}, tooltip_style={'opacity': 0.9}, x=array([0.02469561, 0.68228876, 0.55838489, 0.42249426, 0.2625628 ,\n",
       "       0.31662446, 0.35728424, 0.34916641, 0.32864718, 0.52101105,\n",
       "       0.37423996, 0.3226567 , 0.46683515, 0.29864709, 0.2574593 ,\n",
       "       0.53170105, 0.44161082, 0.53049199, 0.3377836 , 0.4163333 ,\n",
       "       0.49284627, 0.49672789, 0.44657572, 0.50857652, 0.35891267,\n",
       "       0.50855814, 0.52750758, 0.29573008, 0.26976652, 0.42741593,\n",
       "       0.36281081, 0.5932091 , 0.27007678, 0.59227914, 0.33558647,\n",
       "       0.55319418, 0.24870072, 0.42026237, 0.37873507, 0.46391904,\n",
       "       0.53293766, 0.53566264, 0.57945764, 0.41386825, 0.98757971,\n",
       "       0.89723383, 0.91131036, 0.89743338, 0.77994653, 0.74101321,\n",
       "       0.82274126, 0.57927734, 0.34286795, 0.31452067, 0.46902679,\n",
       "       0.32984582, 0.66899668, 0.73313096, 0.6924716 , 0.64368752,\n",
       "       0.67075192, 0.75518279, 0.62702877, 0.36619337, 0.54358167,\n",
       "       0.32390978, 0.29073928, 0.4452191 , 0.39009726, 0.37128244,\n",
       "       0.38862839, 0.39903515, 0.27444773, 0.49490598, 0.55011181,\n",
       "       0.45813088, 0.37537763, 0.58965529, 0.4176292 , 0.44438648,\n",
       "       0.38748259, 0.36207509, 0.31929851, 0.68753075, 0.67221777,\n",
       "       0.63344261, 0.63485108, 0.67995751, 0.68246476, 0.65972439,\n",
       "       0.9928125 , 0.9324485 , 0.80978912, 0.75603709, 0.88564452,\n",
       "       0.98092242, 0.92328278, 0.89653226, 0.875959  , 0.99324366,\n",
       "       0.84427368, 0.96917038, 0.97819702, 0.81129884, 0.78913114,\n",
       "       0.81636539, 0.99237553, 0.81482658, 0.84317005, 0.76641035,\n",
       "       0.99596031, 0.9297073 , 0.99987783, 0.67144921, 0.70607309,\n",
       "       0.7977812 , 0.87478144, 0.79733574, 0.82037003, 0.90287976,\n",
       "       0.8148728 , 0.83196231, 0.80720291, 0.80856205, 0.70903485,\n",
       "       0.84356595, 0.8621388 , 0.99189816, 0.86510417, 0.69782072,\n",
       "       0.61983386, 0.71731037, 0.60770424, 0.81736285, 0.78884377,\n",
       "       0.73138902, 0.81419252, 0.91105748, 0.97339044, 0.80110143,\n",
       "       0.87734499, 0.94349292, 0.68528106, 0.74804923, 0.00554393,\n",
       "       0.02164883, 0.21071408, 0.19560196, 0.15151466, 0.18306225,\n",
       "       0.0664739 , 0.17060684, 0.18088637, 0.02656532, 0.05089083,\n",
       "       0.05584245, 0.18670793, 0.04599722, 0.21213143, 0.23990977,\n",
       "       0.00869729, 0.15976166, 0.18337399, 0.02424085, 0.15587313,\n",
       "       0.02515254, 0.05172518, 0.07794682, 0.16234829, 0.1360003 ,\n",
       "       0.20158673, 0.21094748, 0.18968008, 0.25087233, 0.16092462,\n",
       "       0.09756704, 0.07779544, 0.08174867, 0.0783294 , 0.13206233,\n",
       "       0.16323737, 0.03966557, 0.09476464, 0.10920822, 0.02941087,\n",
       "       0.06809654, 0.15654705, 0.04704835, 0.19256907, 0.09495982,\n",
       "       0.22499428, 0.20427562, 0.23820568, 0.20848945, 0.12961253,\n",
       "       0.23443974, 0.16937424, 0.24952274, 0.92243609, 0.23188473]), y=array([0.99434896, 0.74446193, 0.8922088 , 0.91923011, 0.90119145,\n",
       "       0.80775634, 0.91576136, 0.81050146, 0.7822604 , 0.95490477,\n",
       "       0.89145716, 0.79508806, 0.96587505, 0.9504742 , 0.97361399,\n",
       "       0.97281549, 0.83150041, 0.86296623, 0.72817986, 0.45573793,\n",
       "       0.46218317, 0.53732622, 0.45067215, 0.52474525, 0.50756701,\n",
       "       0.50676703, 0.53507318, 0.69631825, 0.60711568, 0.52574604,\n",
       "       0.54325096, 0.49622743, 0.56914351, 0.41482884, 0.59545527,\n",
       "       0.45963706, 0.56749153, 0.64483769, 0.6702477 , 0.76600243,\n",
       "       0.71547018, 0.66822858, 0.56359251, 0.72518913, 0.03033581,\n",
       "       0.35539746, 0.54221882, 0.42140425, 0.30804564, 0.44484012,\n",
       "       0.43403397, 0.00719264, 0.32407947, 0.32290827, 0.36100631,\n",
       "       0.3358036 , 0.34923675, 0.47402756, 0.44059065, 0.45080364,\n",
       "       0.54042082, 0.1937542 , 0.2746342 , 0.13173532, 0.05013267,\n",
       "       0.10142566, 0.16548636, 0.03137514, 0.13375732, 0.11071235,\n",
       "       0.05668041, 0.06818998, 0.08685497, 0.04668261, 0.24947175,\n",
       "       0.28441325, 0.19303258, 0.25945795, 0.23103122, 0.27435784,\n",
       "       0.24777812, 0.26249488, 0.28392019, 0.17736452, 0.15898287,\n",
       "       0.22937181, 0.13132722, 0.20519461, 0.07914027, 0.0598669 ,\n",
       "       0.28570627, 0.11462273, 0.07189502, 0.09092927, 0.22810308,\n",
       "       0.10723252, 0.22181611, 0.11513918, 0.00564408, 0.23588596,\n",
       "       0.12941454, 0.04520581, 0.15239785, 0.1048178 , 0.02986955,\n",
       "       0.11162737, 0.13032172, 0.08944194, 0.08760372, 0.1469019 ,\n",
       "       0.25243692, 0.33266044, 0.52954923, 0.9220189 , 0.9705309 ,\n",
       "       0.91380553, 0.9370732 , 0.90661091, 0.7903671 , 0.92341009,\n",
       "       0.91044015, 0.83885486, 0.97502415, 0.90757432, 0.84319322,\n",
       "       0.90595632, 0.82456388, 0.78895187, 0.77554087, 0.84016743,\n",
       "       0.86244767, 0.79672086, 0.58321181, 0.69049536, 0.63221336,\n",
       "       0.68656422, 0.71350276, 0.62107376, 0.69881574, 0.61814607,\n",
       "       0.60565509, 0.70859509, 0.59544137, 0.56956941, 0.64678006,\n",
       "       0.90085925, 0.954525  , 0.87747045, 0.98720853, 0.80986816,\n",
       "       0.89263917, 0.76814976, 0.8496198 , 0.89095692, 0.78941755,\n",
       "       0.92103812, 0.77254952, 0.45374527, 0.43837116, 0.53680499,\n",
       "       0.75566978, 0.68882253, 0.73058192, 0.71515634, 0.64418582,\n",
       "       0.77418604, 0.6422393 , 0.62597125, 0.63906783, 0.60897689,\n",
       "       0.51661411, 0.50870639, 0.48354344, 0.21734694, 0.4326695 ,\n",
       "       0.10282299, 0.39852534, 0.19305892, 0.2716191 , 0.39121513,\n",
       "       0.40176232, 0.40952908, 0.42218064, 0.40920528, 0.35893218,\n",
       "       0.37208711, 0.32274787, 0.3560888 , 0.23625684, 0.1501374 ,\n",
       "       0.03481879, 0.07454658, 0.18309628, 0.06106518, 0.01268525,\n",
       "       0.09915244, 0.08667891, 0.03685331, 0.93713846, 0.74624116]))], scale_x=LinearScale(allow_padding=False, max=1.0, min=0.0), scale_y=LinearScale(allow_padding=False, max=1.0, min=0.0))>"
      ]
     },
     "execution_count": 34,
     "metadata": {},
     "output_type": "execute_result"
    }
   ],
   "source": [
    "myp.fig.traits"
   ]
  },
  {
   "cell_type": "code",
   "execution_count": 25,
   "metadata": {},
   "outputs": [
    {
     "data": {
      "text/plain": [
       "[]"
      ]
     },
     "execution_count": 25,
     "metadata": {},
     "output_type": "execute_result"
    }
   ],
   "source": [
    "myp.old_enabled"
   ]
  },
  {
   "cell_type": "markdown",
   "metadata": {},
   "source": [
    "# When user adds enough samples, they could use regression to predict the point locations to resample "
   ]
  },
  {
   "cell_type": "code",
   "execution_count": 19,
   "metadata": {},
   "outputs": [],
   "source": [
    "# Would scale back if needed \n",
    "X2 = r.get_input()\n",
    "\n",
    "new_x = np.vstack((X,X2))\n",
    "new_y = test_function(new_x)"
   ]
  },
  {
   "cell_type": "code",
   "execution_count": 21,
   "metadata": {},
   "outputs": [
    {
     "data": {
      "text/plain": [
       "(205,)"
      ]
     },
     "execution_count": 21,
     "metadata": {},
     "output_type": "execute_result"
    }
   ],
   "source": [
    "new_y.shape"
   ]
  },
  {
   "cell_type": "code",
   "execution_count": null,
   "metadata": {},
   "outputs": [],
   "source": [
    "all_pts"
   ]
  },
  {
   "cell_type": "code",
   "execution_count": null,
   "metadata": {},
   "outputs": [],
   "source": [
    "\n",
    "import numpy as np\n",
    "import seaborn as sns\n",
    "import matplotlib.pyplot as plt\n",
    "\n",
    "sns.set(style=\"dark\")\n",
    "rs = np.random.RandomState(50)\n",
    "\n",
    "# Set up the matplotlib figure\n",
    "f, axes = plt.subplots(3, 3, figsize=(9, 9), sharex=True, sharey=True)\n",
    "\n",
    "# Rotate the starting point around the cubehelix hue circle\n",
    "for ax, s in zip(axes.flat, np.linspace(0, 3, 10)):\n",
    "\n",
    "    # Create a cubehelix colormap to use with kdeplot\n",
    "    cmap = sns.cubehelix_palette(start=s, light=1, as_cmap=True)\n",
    "\n",
    "    # Generate and plot a random bivariate dataset\n",
    "    x, y = rs.randn(2, 50)\n",
    "    sns.kdeplot(x, y, cmap=cmap, shade=True, cut=5, ax=ax)\n",
    "    ax.set(xlim=(-3, 3), ylim=(-3, 3))\n",
    "\n",
    "f.tight_layout()"
   ]
  },
  {
   "cell_type": "markdown",
   "metadata": {},
   "source": [
    "# Bivariate Distribution"
   ]
  },
  {
   "cell_type": "code",
   "execution_count": null,
   "metadata": {},
   "outputs": [],
   "source": [
    "mean, cov = [0, 1], [(1, .5), (.5, 1)]\n",
    "data = np.random.multivariate_normal(mean, cov, 200)\n",
    "df = pd.DataFrame(data, columns=[\"x\", \"y\"])\n",
    "sns.jointplot(x=\"x\", y=\"y\", data=df, kind=\"kde\");\n",
    "sns.kdeplot(df.x, df.y, ax=ax)\n"
   ]
  },
  {
   "cell_type": "code",
   "execution_count": null,
   "metadata": {},
   "outputs": [],
   "source": [
    "import os\n",
    "import ipywidgets as widgets\n",
    "\n",
    "import bqplot.pyplot as plt\n",
    "from bqplot import *"
   ]
  },
  {
   "cell_type": "code",
   "execution_count": null,
   "metadata": {},
   "outputs": [],
   "source": [
    "image_path = os.path.abspath('KDE.png')\n",
    "\n",
    "from bqplot import Image\n",
    "\n",
    "with open(image_path, 'rb') as f:\n",
    "    raw_image = f.read()\n",
    "ipyimage = widgets.Image(value=raw_image, format='png')\n",
    "scales = {'x': LinearScale(), 'y': LinearScale()}\n",
    "image = Image(image=ipyimage, scales=scales)\n",
    "fig = Figure(marks=[image], padding_x=0, padding_y=0, animation_duration=1000)\n",
    "fig.axes = [Axis(scale=scales['x']), Axis(scale=scales['y'], orientation='vertical')]\n",
    "fig\n"
   ]
  },
  {
   "cell_type": "code",
   "execution_count": null,
   "metadata": {},
   "outputs": [],
   "source": [
    "from bqplot import DateScale, LinearScale, OrdinalScale, Axis, Lines, Scatter, Bars, Hist, Figure\n",
    "from bqplot.interacts import (\n",
    "    FastIntervalSelector, IndexSelector, BrushIntervalSelector,\n",
    "    BrushSelector, MultiSelector, LassoSelector, PanZoom, HandDraw\n",
    ")\n",
    "from traitlets import link\n",
    "\n",
    "from ipywidgets import ToggleButtons, VBox, HTML\n",
    "\n",
    "#multi_sel = MultiSelector(scale=dt_x, marks=[lc2, lc3])\n",
    "#br_intsel = BrushIntervalSelector(scale=lc1_x, marks=[lc2, lc3])\n",
    "#index_sel = IndexSelector(scale=dt_x, marks=[lc2, lc3])\n",
    "int_sel = FastIntervalSelector(scale=LinearScale(), marks=fig.marks, color='FireBrick')\n",
    "\n",
    "\n",
    "from collections import OrderedDict\n",
    "selection_interacts = ToggleButtons(options=OrderedDict([#('HandDraw1', hd), ('HandDraw2', hd2), ('PanZoom', pz), \n",
    "                                                       ('FastIntervalSelector', int_sel),# ('IndexSelector', index_sel),\n",
    "                                                       #('BrushIntervalSelector', br_intsel), ('MultiSelector', multi_sel),\n",
    "                                                       ('None', None)]))\n",
    "\n",
    "deb = HTML()\n",
    "\n",
    "\n",
    "link((selection_interacts, 'value'), (fig, 'interaction'))\n",
    "VBox([fig, selection_interacts, deb], align_self='stretch')"
   ]
  },
  {
   "cell_type": "code",
   "execution_count": null,
   "metadata": {},
   "outputs": [],
   "source": [
    "from ipywidgets import ToggleButtons, VBox, HTML, Layout\n",
    "\n",
    "#fig = plt.figure(padding_x=0, padding_y=0)\n",
    "#image = plt.imshow(ipyimage, 'widget')\n",
    "b = HTML()\n",
    "\n",
    "A = VBox([fig,b])"
   ]
  },
  {
   "cell_type": "code",
   "execution_count": null,
   "metadata": {},
   "outputs": [],
   "source": [
    "fig.marks"
   ]
  },
  {
   "cell_type": "code",
   "execution_count": null,
   "metadata": {},
   "outputs": [],
   "source": [
    "pdir(fig.interaction)"
   ]
  },
  {
   "cell_type": "code",
   "execution_count": null,
   "metadata": {},
   "outputs": [],
   "source": [
    "pdir(myp.fig.interaction)"
   ]
  },
  {
   "cell_type": "code",
   "execution_count": null,
   "metadata": {},
   "outputs": [],
   "source": [
    "myp.enabled"
   ]
  },
  {
   "cell_type": "code",
   "execution_count": null,
   "metadata": {},
   "outputs": [],
   "source": []
  },
  {
   "cell_type": "code",
   "execution_count": null,
   "metadata": {},
   "outputs": [],
   "source": []
  },
  {
   "cell_type": "code",
   "execution_count": null,
   "metadata": {},
   "outputs": [],
   "source": []
  },
  {
   "cell_type": "code",
   "execution_count": null,
   "metadata": {},
   "outputs": [],
   "source": []
  },
  {
   "cell_type": "code",
   "execution_count": null,
   "metadata": {},
   "outputs": [],
   "source": [
    "selection_interacts.value"
   ]
  },
  {
   "cell_type": "code",
   "execution_count": null,
   "metadata": {},
   "outputs": [],
   "source": [
    "\n",
    "from string import ascii_letters\n",
    "import numpy as np\n",
    "import pandas as pd\n",
    "import seaborn as sns\n",
    "import matplotlib.pyplot as plt\n",
    "\n",
    "sns.set(style=\"white\")\n",
    "\n",
    "# Generate a large random dataset\n",
    "rs = np.random.RandomState(33)\n",
    "d = pd.DataFrame(data=rs.normal(size=(100, 26)),\n",
    "                 columns=list(ascii_letters[26:]))\n",
    "\n",
    "# Compute the correlation matrix\n",
    "corr = d.corr()\n",
    "\n",
    "# Generate a mask for the upper triangle\n",
    "mask = np.zeros_like(corr, dtype=np.bool)\n",
    "mask[np.triu_indices_from(mask)] = True\n",
    "\n",
    "# Set up the matplotlib figure\n",
    "f, ax = plt.subplots(figsize=(11, 9))\n",
    "\n",
    "# Generate a custom diverging colormap\n",
    "cmap = sns.diverging_palette(220, 10, as_cmap=True)\n",
    "\n",
    "# Draw the heatmap with the mask and correct aspect ratio\n",
    "sns.heatmap(corr, mask=mask, cmap=cmap, vmax=.3, center=0,\n",
    "            square=True, linewidths=.5, cbar_kws={\"shrink\": .5})"
   ]
  }
 ],
 "metadata": {
  "kernelspec": {
   "display_name": "Python 3",
   "language": "python",
   "name": "python3"
  },
  "language_info": {
   "codemirror_mode": {
    "name": "ipython",
    "version": 3
   },
   "file_extension": ".py",
   "mimetype": "text/x-python",
   "name": "python",
   "nbconvert_exporter": "python",
   "pygments_lexer": "ipython3",
   "version": "3.6.6"
  }
 },
 "nbformat": 4,
 "nbformat_minor": 2
}
