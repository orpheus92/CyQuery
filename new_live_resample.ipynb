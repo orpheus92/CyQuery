{
 "cells": [
  {
   "cell_type": "code",
   "execution_count": 4,
   "metadata": {},
   "outputs": [],
   "source": [
    "# import topopy\n",
    "from test_functions import *\n",
    "# import matplotlib.pyplot as plt\n",
    "# import samplers\n",
    "# import seaborn as sns\n",
    "# from matplotlib import patches, collections\n",
    "import numpy as np\n",
    "from ipywidgets import interact, HTML\n",
    "import random\n"
   ]
  },
  {
   "cell_type": "code",
   "execution_count": 5,
   "metadata": {},
   "outputs": [],
   "source": [
    "from sidepanel import SidePanel\n",
    "\n",
    "import ipywidgets as widgets\n",
    "\n",
    "from regulus.utils import io\n",
    "from regulus.topo import * \n",
    "from regulus.alg import *\n",
    "from regulus.measures import *\n",
    "from regulus.models import *\n",
    "from regulus.tree import *\n",
    "\n",
    "from ipyregulus import TreeWidget, TreeView, DetailsView, DataWidget\n",
    "from ipyregulus.filters.filters import * \n",
    "from ipyregulus.filters.monitor import Monitor\n",
    "from ipyregulus.tree.has_tree import *\n",
    "from ipyregulus.alg.view import *"
   ]
  },
  {
   "cell_type": "code",
   "execution_count": 68,
   "metadata": {},
   "outputs": [],
   "source": [
    "test_function = gerber_different_heights\n",
    "samples = 200\n",
    "X = np.random.rand(samples,2)\n",
    "Y = test_function(X)\n",
    "\n",
    "# Y = (Y - np.min(Y)) / (np.max(Y) - np.min(Y)) # Not sure whether this is needed \n",
    "\n",
    "all_pts = np.hstack((X,np.expand_dims(Y, axis=1)))\n",
    "\n",
    "# X = samplers.CVTSampler.generate_samples(samples, 2, 1)\n",
    "\n",
    "\n",
    "# msc = topopy.MorseSmaleComplex(graph=\"beta skeleton\", gradient=\"steepest\", max_neighbors=8, beta=1.0)\n",
    "# msc.build(X, Y)\n"
   ]
  },
  {
   "cell_type": "markdown",
   "metadata": {},
   "source": [
    "# NEW PART IN REG to create pts at runtime "
   ]
  },
  {
   "cell_type": "code",
   "execution_count": 69,
   "metadata": {},
   "outputs": [
    {
     "name": "stdout",
     "output_type": "stream",
     "text": [
      "found 12 singles\n",
      "len(idx)= 198\n"
     ]
    },
    {
     "name": "stderr",
     "output_type": "stream",
     "text": [
      "/media/orpheus92/OS/conda/envs/regulus/lib/python3.6/site-packages/numpy/core/fromnumeric.py:51: FutureWarning: 'argmin' is deprecated, use 'idxmin' instead. The behavior of 'argmin'\n",
      "will be corrected to return the positional minimum in the future.\n",
      "Use 'series.values.argmin' to get the position of the minimum now.\n",
      "  return getattr(obj, method)(*args, **kwds)\n",
      "/media/orpheus92/OS/conda/envs/regulus/lib/python3.6/site-packages/numpy/core/fromnumeric.py:51: FutureWarning: 'argmax' is deprecated, use 'idxmax' instead. The behavior of 'argmax'\n",
      "will be corrected to return the positional maximum in the future.\n",
      "Use 'series.values.argmax' to get the position of the maximum now.\n",
      "  return getattr(obj, method)(*args, **kwds)\n"
     ]
    }
   ],
   "source": [
    "from regulus.topo import morse_smale, Regulus\n",
    "from regulus.data.data import Data\n",
    "from regulus.measures import *\n",
    "from regulus.models import *\n",
    "import pandas as pd\n",
    "\n",
    "cols = ['x'+str(i) for i in range(all_pts.shape[1])]\n",
    "\n",
    "cols[-1] = 'y'\n",
    "\n",
    "df = pd.DataFrame(all_pts, columns=cols)\n",
    "\n",
    "pts = Data.from_pts(df)\n",
    "\n",
    "# Normalize here  \n",
    "pts.normalize()\n",
    "\n",
    "regulus = morse_smale(pts, knn=8)#**kwargs)\n",
    "\n",
    "regulus.add_attr('linear', linear_model)\n",
    "regulus.add_attr('fitness', fitness)\n",
    "regulus.add_attr('relative_fitness', relative_fitness)\n",
    "\n",
    "regulus.tree.add_attr('parent_fitness', parent_fitness)\n",
    "regulus.tree.add_attr('child_fitness', child_fitness)\n",
    "regulus.tree.add_attr('size', node_size)\n",
    "regulus.tree.add_attr('rel_size', node_relative_size)\n",
    "regulus.tree.add_attr('span', node_span)\n",
    "\n",
    "\n"
   ]
  },
  {
   "cell_type": "code",
   "execution_count": 70,
   "metadata": {},
   "outputs": [],
   "source": [
    "from ipyregulus import TreeWidget, TreeView, DetailsView, DataWidget\n",
    "\n",
    "tree = TreeWidget(regulus.tree)\n",
    "data = DataWidget(data=regulus)\n"
   ]
  },
  {
   "cell_type": "markdown",
   "metadata": {},
   "source": [
    "# TreeView"
   ]
  },
  {
   "cell_type": "code",
   "execution_count": 13,
   "metadata": {},
   "outputs": [
    {
     "data": {
      "application/vnd.jupyter.widget-view+json": {
       "model_id": "446a18078ca04d738155bda06131689a",
       "version_major": 2,
       "version_minor": 0
      },
      "text/plain": [
       "TreeView(field='span', tree_model=TreeWidget(attrs={'span': {0: 0.5638920083770904, 1: 0.15788159771754634, 2:…"
      ]
     },
     "metadata": {},
     "output_type": "display_data"
    },
    {
     "data": {
      "application/vnd.jupyter.widget-view+json": {
       "model_id": "e5677cd9c2bd4ec0b8e18cfb5d0ea9fe",
       "version_major": 2,
       "version_minor": 0
      },
      "text/plain": [
       "HBox(children=(Label(value='span'), FloatSlider(value=0.0, max=1.0, step=0.01)))"
      ]
     },
     "metadata": {},
     "output_type": "display_data"
    },
    {
     "data": {
      "text/plain": [
       "<traitlets.traitlets.link at 0x7f5d639c87f0>"
      ]
     },
     "execution_count": 13,
     "metadata": {},
     "output_type": "execute_result"
    }
   ],
   "source": [
    "v2 = show_tree(tree)\n",
    "\n",
    "w = widgets.Dropdown(\n",
    "    options=['span', 'fitness', 'parent_fitness', 'child_fitness'],\n",
    "    value='span',\n",
    "    description='Attribute:',\n",
    "    disabled=False,\n",
    ")\n",
    "panel = SidePanel(title='Fitness')#, side='split-bottom', ref='SidePanel')\n",
    "with panel:\n",
    "    display(w, v2.view, v2.filter)\n",
    "widgets.link((w, 'value'), (v2.view, 'field'))"
   ]
  },
  {
   "cell_type": "markdown",
   "metadata": {},
   "source": [
    "# Details View"
   ]
  },
  {
   "cell_type": "code",
   "execution_count": 14,
   "metadata": {},
   "outputs": [],
   "source": [
    "details = DetailsView(data=data)\n",
    "\n",
    "p7 = SidePanel(title='details')\n",
    "with p7:\n",
    "    display(details)"
   ]
  },
  {
   "cell_type": "markdown",
   "metadata": {},
   "source": [
    "# Linking Two Views"
   ]
  },
  {
   "cell_type": "code",
   "execution_count": 15,
   "metadata": {},
   "outputs": [
    {
     "data": {
      "text/plain": [
       "<traitlets.traitlets.link at 0x7f5d63992160>"
      ]
     },
     "execution_count": 15,
     "metadata": {},
     "output_type": "execute_result"
    }
   ],
   "source": [
    "\n",
    "widgets.link((v2.view, 'details'), (details, 'show'))\n"
   ]
  },
  {
   "cell_type": "markdown",
   "metadata": {},
   "source": [
    "# Create resample class, resampling a user specified partition"
   ]
  },
  {
   "cell_type": "code",
   "execution_count": 71,
   "metadata": {},
   "outputs": [],
   "source": [
    "from resample import get_pts, Resample\n",
    "\n",
    "# Change the following line to use differennt partition to resample\n",
    "ind = get_pts(data.partitions[0],data.pts_loc)\n",
    "\n",
    "selectP = df.loc[ind,:]\n",
    "r = Resample(selectP)"
   ]
  },
  {
   "cell_type": "markdown",
   "metadata": {},
   "source": [
    "# A line chart for a specified partition, different interactions could be added "
   ]
  },
  {
   "cell_type": "code",
   "execution_count": 97,
   "metadata": {},
   "outputs": [
    {
     "name": "stdout",
     "output_type": "stream",
     "text": [
      "<class 'bqplot.marks.Scatter'>\n"
     ]
    },
    {
     "data": {
      "application/vnd.jupyter.widget-view+json": {
       "model_id": "c386ee8d054743b1a397df435cec0faa",
       "version_major": 2,
       "version_minor": 0
      },
      "text/plain": [
       "VBox(children=(ToggleButtons(description='Interaction: ', icons=('retweet',), layout=Layout(justify_content='f…"
      ]
     },
     "metadata": {},
     "output_type": "display_data"
    }
   ],
   "source": [
    "# from cyplot import plot\n",
    "myp = plot(selectP,index = 'y',debug=True, dims=['x0','x1','y'])#ptype='PCA')#, ptype='line'/ PCA. line. dims=[]\n",
    "myp.enable('brush')\n",
    "myp.on('brush', r.cb)\n",
    "display(myp)"
   ]
  },
  {
   "cell_type": "code",
   "execution_count": 94,
   "metadata": {},
   "outputs": [
    {
     "name": "stdout",
     "output_type": "stream",
     "text": [
      "<class 'bqplot.marks.Scatter'>\n"
     ]
    },
    {
     "data": {
      "application/vnd.jupyter.widget-view+json": {
       "model_id": "7aaea08603ae4732803d832afd29f4bb",
       "version_major": 2,
       "version_minor": 0
      },
      "text/plain": [
       "VBox(children=(ToggleButtons(description='Interaction: ', icons=('retweet',), layout=Layout(justify_content='f…"
      ]
     },
     "metadata": {},
     "output_type": "display_data"
    }
   ],
   "source": [
    "# from cyplot import plot\n",
    "myp2 = plot(selectP,index = 'y',debug=True, ptype='PCA')#, ptype='line'/ PCA. line. dims=[]\n",
    "myp2.enable('brush')\n",
    "myp2.on('brush', r.cb)\n",
    "display(myp2)"
   ]
  },
  {
   "cell_type": "code",
   "execution_count": 76,
   "metadata": {},
   "outputs": [
    {
     "data": {
      "text/plain": [
       "array([0.1085854 , 0.60340928, 0.37904165, 0.39736327, 0.34156293,\n",
       "       0.67823101, 0.05465979, 0.3426732 , 0.21225359, 0.49042684,\n",
       "       0.07839825, 0.34836595, 0.55379019, 0.81430947, 0.38915635,\n",
       "       0.58742352, 1.31446429, 0.70574041, 0.54752255, 0.87298222,\n",
       "       1.26108832, 0.69654956, 0.9418096 , 0.5423896 , 0.77783421,\n",
       "       0.79408281, 1.21111016, 0.42448423, 0.836367  , 1.13301237,\n",
       "       0.92881527, 0.62030028, 0.68263199, 0.77687154, 0.81074913,\n",
       "       0.79283075, 0.70151562, 0.70834537, 0.77986463, 1.01551906,\n",
       "       0.75928501, 1.00928265, 0.73605869, 0.85302104, 0.76236907,\n",
       "       1.2138088 , 0.43746651, 0.73184002, 1.08115864, 1.09761425,\n",
       "       1.15010685, 1.19227501, 0.46215911, 0.48628183, 0.71853691,\n",
       "       1.11381412, 0.45478758, 0.88946813, 0.57924939, 0.5559194 ,\n",
       "       0.28276298, 0.24126641, 0.52545289, 0.60197978, 0.18755438,\n",
       "       0.14938549, 0.80949697, 0.77516935, 0.47517932, 0.15731868,\n",
       "       1.21311669, 0.90637017, 0.61058817, 1.19436409, 0.86401137,\n",
       "       0.45727415, 0.4714054 , 0.87667556, 0.66478223, 0.96418703,\n",
       "       1.16167908, 1.08509716, 0.97094326, 1.12138106, 1.13216788,\n",
       "       0.98400049, 1.05174405, 1.18523112, 0.76700469, 1.09369311,\n",
       "       0.4911687 , 0.82956419, 0.49736314, 0.52978907, 1.01552067,\n",
       "       0.59858522, 0.60276349, 1.18859467, 0.87145643, 1.16646064,\n",
       "       0.90561583, 0.39232788, 0.25962451, 0.18063181, 0.47245861,\n",
       "       0.53178622, 0.62997967, 0.26402685, 0.61289696, 0.29380359,\n",
       "       0.15429966, 0.12755542, 0.50289711, 0.28654791, 0.34027154,\n",
       "       0.51405961, 0.56052155, 0.57140449, 0.53953364, 0.56020786,\n",
       "       0.41907463, 0.57292821, 0.57953699, 0.47016435, 0.55140893,\n",
       "       0.53469239, 0.44686676, 0.63127643, 0.64680611, 1.18193045,\n",
       "       0.78344214, 1.15979098, 1.03479119, 0.80464506, 0.69005498,\n",
       "       0.8234555 , 0.48671531, 1.05676575, 1.00098629, 0.88638797,\n",
       "       1.16427677, 0.78704235, 0.58717914, 0.25179705, 0.25332409,\n",
       "       0.37860466, 0.27360433, 0.26093524, 0.26788431, 0.4211697 ,\n",
       "       0.29135445, 0.28153969, 0.26315078, 0.5310107 , 0.25459262,\n",
       "       0.1595907 , 0.33667588, 0.51004061, 0.26107815, 0.43984087,\n",
       "       0.19578935, 0.54287744, 0.2426474 , 0.54309999, 0.43775389,\n",
       "       0.80554146, 0.92178261, 0.92325774, 0.95136931, 0.83615759,\n",
       "       0.90011964, 1.14471796, 0.78604143, 0.77255881, 0.89958118,\n",
       "       0.81481928, 1.17527805, 0.99534911, 0.90103217, 0.8947423 ,\n",
       "       1.15279676, 1.01268996, 1.09753655, 1.01839384, 1.16791558,\n",
       "       1.08505602, 1.12357774, 1.05799031, 1.22666828, 1.42446535,\n",
       "       0.91385148, 1.22024545, 1.01445476, 1.45077241, 1.01092141,\n",
       "       1.15407653, 1.09665909, 1.1039249 , 0.04517695, 1.49018907])"
      ]
     },
     "execution_count": 76,
     "metadata": {},
     "output_type": "execute_result"
    }
   ],
   "source": [
    "myp.colors"
   ]
  },
  {
   "cell_type": "code",
   "execution_count": 24,
   "metadata": {},
   "outputs": [
    {
     "data": {
      "text/plain": [
       "array([0.10607484, 0.28265737, 0.19716463, 0.8517812 , 0.70404958,\n",
       "       0.40676666, 0.86500786, 0.91594832, 0.6212846 , 0.39319468,\n",
       "       0.00557662, 1.46321729])"
      ]
     },
     "execution_count": 24,
     "metadata": {},
     "output_type": "execute_result"
    }
   ],
   "source": [
    "myp.colors"
   ]
  },
  {
   "cell_type": "markdown",
   "metadata": {},
   "source": [
    "# random generate pts based on user selected range of function value"
   ]
  },
  {
   "cell_type": "code",
   "execution_count": 14,
   "metadata": {},
   "outputs": [
    {
     "name": "stdout",
     "output_type": "stream",
     "text": [
      "No range selected!\n"
     ]
    },
    {
     "data": {
      "text/plain": [
       "[1.1621052306376272,\n",
       " 1.0148518685149772,\n",
       " 0.8454366940191201,\n",
       " 1.0578985653621602,\n",
       " 0.7272299970103264]"
      ]
     },
     "execution_count": 14,
     "metadata": {},
     "output_type": "execute_result"
    }
   ],
   "source": [
    "r.add_samples(5) # user's specified # of samples\n",
    "r.vals \n",
    "\n"
   ]
  },
  {
   "cell_type": "markdown",
   "metadata": {},
   "source": [
    "# When user adds enough samples, they could use regression to predict the point locations to resample "
   ]
  },
  {
   "cell_type": "code",
   "execution_count": 12,
   "metadata": {},
   "outputs": [],
   "source": [
    "# Would scale back if needed \n",
    "X2 = r.get_input()\n",
    "\n",
    "new_x = np.vstack((X,X2))\n",
    "new_y = test_function(new_x)"
   ]
  },
  {
   "cell_type": "code",
   "execution_count": 15,
   "metadata": {},
   "outputs": [
    {
     "ename": "NameError",
     "evalue": "name 'new_y' is not defined",
     "output_type": "error",
     "traceback": [
      "\u001b[0;31m---------------------------------------------------------------------------\u001b[0m",
      "\u001b[0;31mNameError\u001b[0m                                 Traceback (most recent call last)",
      "\u001b[0;32m<ipython-input-15-dd1fed6081d8>\u001b[0m in \u001b[0;36m<module>\u001b[0;34m()\u001b[0m\n\u001b[0;32m----> 1\u001b[0;31m \u001b[0mnew_y\u001b[0m\u001b[0;34m.\u001b[0m\u001b[0mshape\u001b[0m\u001b[0;34m\u001b[0m\u001b[0m\n\u001b[0m",
      "\u001b[0;31mNameError\u001b[0m: name 'new_y' is not defined"
     ]
    }
   ],
   "source": [
    "new_y.shape"
   ]
  },
  {
   "cell_type": "code",
   "execution_count": 16,
   "metadata": {},
   "outputs": [
    {
     "data": {
      "text/plain": [
       "array([[0.68886878, 0.1447842 , 0.56810611],\n",
       "       [0.05439015, 0.75435814, 1.16753127],\n",
       "       [0.09879684, 0.94667778, 0.78725618],\n",
       "       [0.20515179, 0.90452266, 1.02596   ],\n",
       "       [0.3565398 , 0.57784061, 0.98305412],\n",
       "       [0.99454009, 0.0601041 , 0.17042411],\n",
       "       [0.21099599, 0.63862847, 1.17455886],\n",
       "       [0.40091182, 0.19626317, 1.0185379 ],\n",
       "       [0.27897419, 0.50488062, 1.11341096],\n",
       "       [0.67940113, 0.84172488, 0.55206983],\n",
       "       [0.29176133, 0.44560405, 1.14427855],\n",
       "       [0.59330539, 0.08477821, 0.48314799],\n",
       "       [0.57637368, 0.01175398, 0.45560136],\n",
       "       [0.32231544, 0.83592936, 1.18800422],\n",
       "       [0.97448724, 0.67419288, 0.32039254],\n",
       "       [0.67994153, 0.88295668, 0.42055108],\n",
       "       [0.77403281, 0.697466  , 0.7683645 ],\n",
       "       [0.96992208, 0.21753414, 0.25288899],\n",
       "       [0.89761831, 0.76283327, 0.55246588],\n",
       "       [0.11651265, 0.29163023, 1.06561208],\n",
       "       [0.3563637 , 0.69494298, 1.27883828],\n",
       "       [0.04163426, 0.87996196, 0.71268963],\n",
       "       [0.84337248, 0.74365522, 0.67405483],\n",
       "       [0.21212678, 0.61284054, 1.11828279],\n",
       "       [0.4870088 , 0.17533496, 0.77103311],\n",
       "       [0.61510143, 0.90016577, 0.33612775],\n",
       "       [0.07361277, 0.76655691, 1.20710148],\n",
       "       [0.68191843, 0.28127465, 0.58281914],\n",
       "       [0.10602298, 0.09970462, 0.98878264],\n",
       "       [0.63771364, 0.18567169, 0.52144037],\n",
       "       [0.17083325, 0.89973016, 0.98815486],\n",
       "       [0.06119224, 0.2498913 , 0.92294406],\n",
       "       [0.41022357, 0.55616325, 0.85174111],\n",
       "       [0.57756221, 0.05262532, 0.48276176],\n",
       "       [0.77090328, 0.80644288, 0.73973733],\n",
       "       [0.6314944 , 0.25665921, 0.53019411],\n",
       "       [0.02409755, 0.79032268, 1.00193462],\n",
       "       [0.77243378, 0.58658809, 0.47077439],\n",
       "       [0.45495364, 0.05754502, 0.79275921],\n",
       "       [0.39298452, 0.06955118, 0.97089856],\n",
       "       [0.56896099, 0.1712317 , 0.56882374],\n",
       "       [0.86459035, 0.65432421, 0.34553684],\n",
       "       [0.9416632 , 0.89970543, 0.06884049],\n",
       "       [0.04464234, 0.79091892, 1.05849239],\n",
       "       [0.41042105, 0.61707083, 0.89267262],\n",
       "       [0.70287055, 0.07811912, 0.54939214],\n",
       "       [0.73593867, 0.32766749, 0.63313161],\n",
       "       [0.45405276, 0.67785407, 0.9594859 ],\n",
       "       [0.72211811, 0.09269302, 0.58233124],\n",
       "       [0.93732494, 0.85286962, 0.19317129]])"
      ]
     },
     "execution_count": 16,
     "metadata": {},
     "output_type": "execute_result"
    }
   ],
   "source": [
    "all_pts"
   ]
  },
  {
   "cell_type": "code",
   "execution_count": 96,
   "metadata": {},
   "outputs": [],
   "source": [
    "import pandas as pd\n",
    "import numpy as np\n",
    "\n",
    "from bqplot import DateScale, LinearScale, OrdinalScale, Axis, Lines, Scatter, Bars, Hist, Figure, ColorScale, ColorAxis\n",
    "from bqplot.interacts import (\n",
    "    FastIntervalSelector, IndexSelector, BrushIntervalSelector,\n",
    "    BrushSelector, MultiSelector, LassoSelector, PanZoom, HandDraw\n",
    ")\n",
    "from traitlets import link  # , unlink\n",
    "from collections import OrderedDict\n",
    "from IPython.display import display\n",
    "from ipywidgets import ToggleButtons, VBox, HTML, Layout\n",
    "from bqplot.toolbar import Toolbar\n",
    "\n",
    "\n",
    "class Cyplot:\n",
    "    def __init__(self, data, index=None, ylabel=None, enable=None, debug=False, ptype=None, dims=None):\n",
    "        self.debug = debug\n",
    "\n",
    "        self.ptype = ptype\n",
    "        \n",
    "        self.dims = dims\n",
    "        \n",
    "        self.set_data(data, index, ylabel)\n",
    "\n",
    "        self.interaction_map()\n",
    "\n",
    "        self.enabled = []\n",
    "\n",
    "        self.cbs = {}\n",
    "\n",
    "        def cb0(change):\n",
    "            # Internal cb for changing interaction in fig\n",
    "            # print(change.new)\n",
    "            self.cur_inter = change.new\n",
    "\n",
    "        self.cb0 = cb0\n",
    "        if enable is not None:\n",
    "            \n",
    "            self.enable(enable)\n",
    "\n",
    "    def enable(self, interactions):\n",
    "        self.old_enabled = self.enabled[:]\n",
    "\n",
    "        if isinstance(interactions, str):\n",
    "            interactions = [interactions]\n",
    "        change = False\n",
    "        for inter in interactions:\n",
    "            if inter in self.interactions and inter not in self.enabled:\n",
    "                change = True\n",
    "                n = len(self.enabled)\n",
    "                i = 0\n",
    "                while (i < n):\n",
    "                    e = self.enabled[i]\n",
    "                    if self.interactions[e]['order'] > self.interactions[inter]['order']:\n",
    "                        self.enabled.insert(i, inter)\n",
    "                        break\n",
    "                    i = i + 1\n",
    "                if inter not in self.enabled:\n",
    "                    self.enabled.append(inter)\n",
    "\n",
    "        if change:\n",
    "            self.updatebuttons(self.enabled)\n",
    "\n",
    "    def updatebuttons(self, enabled):\n",
    "\n",
    "        ops = self.get_input(enabled)\n",
    "\n",
    "        # Keep try of current selected part\n",
    "        # 　oldind = -1\n",
    "\n",
    "        y = getattr(self, \"selection_interacts\", None)\n",
    "\n",
    "        if y is not None:\n",
    "            oldind = self.selection_interacts.index\n",
    "            if self.old_enabled[oldind] in self.enabled:\n",
    "                ind = self.enabled.index(self.old_enabled[oldind])\n",
    "            else:\n",
    "                # Current Inter is removed \n",
    "                # print(\"Before manually change IDX\\n\")\n",
    "                # print(self.fig.interaction)\n",
    "                # self.fig.interaction = None\n",
    "                # with self.fig.hold_trait_notifications():\n",
    "                #     # hold_trait_notifications()\n",
    "                #     self.selection_interacts.index = self.old_enabled.index(self.enabled[0])\n",
    "                # print(\"After index change due removal\")\n",
    "                # print(self.old_enabled.index(self.enabled[0]))\n",
    "                # unlink((self.selection_interacts, 'value'), (self.fig, 'interaction'))\n",
    "                # self.link[0].observe(self._update_target, names=self.source[1])\n",
    "                # self.link[0].observe(self._update_source, names=self.target[1])\n",
    "                print(\"REMOVE CURRENT INTER\")\n",
    "                # self.link.source[0].unobserve(self.link._update_target, names=self.link.source[1])\n",
    "                # self.link.target[0].unobserve(self.link._update_source, names=self.link.target[1])\n",
    "                self.link.unlink()\n",
    "                oldind = -1\n",
    "                # self.fig.interaction = None\n",
    "                # print(\"After Remove\", type(self.fig.interaction), self.fig.interaction)\n",
    "                ind = 0\n",
    "        else:\n",
    "            oldind = -1\n",
    "\n",
    "        self.selection_interacts = ToggleButtons(**ops)\n",
    "        # print(self.selection_interacts.index)     \n",
    "        # self.selection_interacts.value gives the current interaction (the one that is clicked)\n",
    "        # print(\"Defaut selection interacts :\")\n",
    "        # print(self.selection_interacts.value)\n",
    "\n",
    "        if oldind != -1:\n",
    "            self.selection_interacts.index = ind\n",
    "            # self.fig.interaction = self.selection_interacts.value\n",
    "\n",
    "        # print(\"Before link happend\\n\", self.fig.interaction)\n",
    "        # print(\"\\n ========== \\n\", self.selection_interacts.value)\n",
    "\n",
    "        self.fig.interaction = None\n",
    "\n",
    "        # with dpdown.hold_trait_notifications():\n",
    "\n",
    "        # with self.fig.hold_trait_notifications():\n",
    "\n",
    "        # THERE SHOULD BE A CB HERE INSTEAD OF LINK\n",
    "\n",
    "        self.fig.observe(self.cb0, names='interaction')\n",
    "\n",
    "        self.link = link((self.selection_interacts, 'value'), (self.fig, 'interaction'))\n",
    "\n",
    "        box_layout = Layout(display='flex',\n",
    "                            flex_flow='column',\n",
    "                            align_items='stretch')  # ,\n",
    "        # border='solid',\n",
    "        # width='50%')\n",
    "\n",
    "        if self.debug:\n",
    "            self.vbox = VBox([self.selection_interacts, self.fig, self.deb], layout=box_layout)            \n",
    "        else:\n",
    "            self.vbox = VBox([self.selection_interacts, self.fig], layout=box_layout)\n",
    "        # self.vbox = VBox([self.selection_interacts, self.fig], layout=box_layout)\n",
    "\n",
    "    def get_input(self, enabled):\n",
    "        ops = {}\n",
    "        ops['options'] = OrderedDict()\n",
    "        ops['tooltips'] = []\n",
    "        ops['icons'] = []\n",
    "        ops['style'] = {'button_width': '40px'}  # ,#,'description_width':'0px'},\n",
    "        ops['description'] = 'Interaction: '  # ,\n",
    "        ops['layout'] = Layout(justify_content='flex-start',\n",
    "                               margin='0px 0px 0px 0px')  # margin)#justify-content='fkex-end'\n",
    "\n",
    "        for i in enabled:\n",
    "            ops['options'].update({self.interactions[i]['order'] * ' ': self.interactions[i]['selector']})\n",
    "            ops['tooltips'].append(self.interactions[i]['tooltip'])\n",
    "            ops['icons'].append(self.interactions[i]['icon'])\n",
    "\n",
    "        return ops\n",
    "\n",
    "    def disable(self, interactions):\n",
    "\n",
    "        self.old_enabled = self.enabled[:]\n",
    "\n",
    "        if isinstance(interactions, str):\n",
    "            interactions = [interactions]\n",
    "\n",
    "        change = False\n",
    "\n",
    "        for inter in interactions:\n",
    "            if inter in self.enabled:\n",
    "                change = True\n",
    "                self.enabled.remove(inter)\n",
    "            else:\n",
    "                print('Could not disable ', inter)\n",
    "\n",
    "        if change:\n",
    "            self.updatebuttons(self.enabled)\n",
    "\n",
    "    def on(self, interaction, cb):\n",
    "        if isinstance(interaction, str):\n",
    "            if interaction in self.enabled:\n",
    "                if cb is not None:\n",
    "                    self.cbs[interaction] = cb\n",
    "                else:\n",
    "                    if interaction in self.cbs:\n",
    "                        del self.cbs[interaction]\n",
    "            else:\n",
    "                print(\"Can't turn on {}\".format(interaction))\n",
    "\n",
    "    def set_data(self, data, index, ylabel, add=False):\n",
    "\n",
    "        \n",
    "        self.xScale = LinearScale()\n",
    "        #self.xScale.min, self.xScale.max = self.data.index.min(), self.data.index.max() # min=self.data.index.min(),max=self.data.index.max()\n",
    "        self.xScale.allow_padding = False\n",
    "        \n",
    "        self.yScale = LinearScale()\n",
    "        self.yScale.allow_padding = False\n",
    "        \n",
    "        # add decide whether draw figure on top\n",
    "        if self.ptype == 'PCA':\n",
    "            from sklearn.decomposition import IncrementalPCA\n",
    "            ipca = IncrementalPCA(n_components=2, batch_size=3)\n",
    "            # data.values\n",
    "            if index is not None:\n",
    "                Y = data[index].values\n",
    "                xlist = list(data)#.columns\n",
    "                xlist.remove(index)\n",
    "                X = data[xlist].values\n",
    "                \n",
    "            else:\n",
    "                X = data.values[:,:-1]\n",
    "                Y = data.values[:,-1]\n",
    "                \n",
    "            ipca.fit(X)\n",
    "            pca_data = ipca.transform(X)\n",
    "            self.colors = Y\n",
    "            \n",
    "            cols = ['component1','component2']\n",
    "\n",
    "\n",
    "            df = pd.DataFrame(pca_data, columns=cols)\n",
    "            self.data = df#.set_index('component1')\n",
    "            self.cols = ['component2']\n",
    "            self.xlabel = 'component1'\n",
    "            self.ylabel = 'component2'\n",
    "            \n",
    "            self.create_fig(self.data)\n",
    "            \n",
    "            return\n",
    "        \n",
    "        if isinstance(data, pd.Series):\n",
    "            self.data = data\n",
    "\n",
    "        elif isinstance(data, pd.DataFrame):\n",
    "            # Pandas DataFrame\n",
    "            if self.dims is not None and len(self.dims)>1:\n",
    "                \n",
    "                self.data = data[self.dims[0:2]]#.set_index(self.dims[0])\n",
    "                self.colors = data.values[:,-1] if len(self.dims)==2 else data[self.dims[2]].values\n",
    "                self.data.index.name = self.dims[0]\n",
    "\n",
    "            elif index is not None:\n",
    "                self.data = data.set_index(index)\n",
    "            else:\n",
    "                self.data = data\n",
    "        else:\n",
    "            print(\"The input data type is not supported\")\n",
    "\n",
    "        self.xlabel = self.data.index.name if self.data.index.name is not None else \"index\"\n",
    "        \n",
    "        self.cols = list(self.data) if self.dims is None else self.dims[1]\n",
    "        \n",
    "        \n",
    "        # self.legends = [' '.join(legend) for legend in self.cols] if self.dims is None else self.dims[1:]\n",
    "\n",
    "        y = getattr(self.data.columns, \"levels\", None)\n",
    "        \n",
    "        # Depends on dims/ylabel/level\n",
    "        if ylabel is not None:\n",
    "            self.ylabel = ylabel\n",
    "\n",
    "        elif y is None:\n",
    "            # One level \n",
    "            # self.legends\n",
    "            self.ylabel = '' \n",
    "            if self.dims is not None and len(self.dims)>1:\n",
    "                self.ylabel = self.dims[1]\n",
    "                \n",
    "        elif len(self.data.columns.levels[0]) == 1:\n",
    "            self.legends = [' '.join(legend[1::]) for legend in self.cols]\n",
    "            self.ylabel = self.data.columns.levels[0][0]\n",
    "        else:\n",
    "            self.ylabel = ''\n",
    "        \n",
    "        self.create_fig(self.data)\n",
    "\n",
    "    def add_data(self, data, index=None, ylabel=None):\n",
    "        # compare new data with existing data\n",
    "        if isinstance(data, pd.Series) and isinstance(self.data, pd.Series):\n",
    "            # concatenate\n",
    "            if data.name == self.data.name:\n",
    "                data = data.append(self.data, ignore_index=True)\n",
    "                self.set_data(data, index, ylabel)\n",
    "                # combine to dataframe\n",
    "            elif (data.index == self.data.index).all():\n",
    "                self.set_data(pd.concat([data, self.data]), index, ylabel)\n",
    "            else:\n",
    "                print(\"Could not combine two data series w/o same index and same column\")\n",
    "\n",
    "        elif isinstance(data, pd.DataFrame) and isinstance(self.data, pd.DataFrame):\n",
    "            if (data.columns == self.data.columns).all():\n",
    "                data = data.append(self.data, ignore_index=True)\n",
    "                self.set_data(data, index, ylabel)\n",
    "\n",
    "            elif ((data.index == self.data.index).all()) and (data.columns != self.data.columns).any():\n",
    "                self.set_data(pd.concat([data, self.data], axis=1, join_axes=[data.index]), index, ylabel)\n",
    "            else:\n",
    "                print(\"Could not combine two dataframes w/o same index and same column\")\n",
    "\n",
    "        else:\n",
    "            print(\"Could not combine two data of different types\")\n",
    "\n",
    "    def create_fig(self, ts):\n",
    "        \n",
    "        if self.ptype != 'PCA' and self.dims == None:\n",
    "            ts.sort_index(inplace=True)\n",
    "            df = ts.reset_index()  # time = ts.Time\n",
    "        \n",
    "        else:\n",
    "            df = ts\n",
    "        self.xd = df[self.xlabel] #  if self.dims == None else df[self.dims[0]]\n",
    "        self.yd = df[self.cols].T\n",
    "\n",
    "        if self.ptype =='PCA' or self.dims is not None:\n",
    "            \n",
    "            pplt = Scatter(x=self.xd.values.ravel(), y=self.yd.values.ravel(), scales={'x': self.xScale, 'y': self.yScale, 'color': ColorScale(scheme='YlOrRd')}, color = self.colors, default_size=32)#labels=self.legends,\n",
    "                         #display_legend=True, line_style='solid', stroke_width = 0, marker = 'circle')\n",
    "            # elif self.dims is not None:\n",
    "            \n",
    "        \n",
    "        elif not self.ptype:\n",
    "            pplt = Lines(x=self.xd, y=self.yd, scales={'x': self.xScale, 'y': self.yScale}, labels=self.legends,\n",
    "                         display_legend=True, line_style='solid', stroke_width = 0, marker = 'circle')\n",
    "        \n",
    "        else: \n",
    "            pplt = Lines(x=self.xd, y=self.yd, scales={'x': self.xScale, 'y': self.yScale}, labels=self.legends,\n",
    "                         display_legend=True, line_style='solid', selected_style={'opacity': '1'}, unselected_style={'opacity': '0.2'})  # enable_hover=True)  # axes_options=axes_options) \n",
    "            \n",
    "        x_axis = Axis(scale=self.xScale, label=self.xlabel, grid_lines='none')\n",
    "        y_axis = Axis(scale=self.yScale, label=self.ylabel, orientation='vertical', grid_lines='none')\n",
    "        c_axis = ColorAxis(scale=ColorScale(scheme='YlOrRd'), orientation='vertical', side='right')\n",
    "\n",
    "        print(type(pplt))\n",
    "        axis = [x_axis, y_axis, c_axis] if isinstance(pplt, Scatter) else [x_axis, y_axis]\n",
    "        \n",
    "        if self.debug:\n",
    "            margin = dict(top=0, bottom=40, left=50, right=50)\n",
    "        else:\n",
    "            margin = dict(top=0, bottom=50, left=50, right=50)\n",
    "\n",
    "        self.fig = Figure(marks=[pplt], axes=axis, legend_location='top-right',\n",
    "                          fig_margin=margin)  # {'top':50,'left':60})\n",
    "        \n",
    "        if self.debug:\n",
    "            self.deb = HTML()\n",
    "        # self.deb2 = HTML()\n",
    "        y = getattr(self, \"vbox\", None)\n",
    "        if y is not None:\n",
    "            box_layout = Layout(display='flex',\n",
    "                                flex_flow='column',\n",
    "                                align_items='stretch')\n",
    "            if self.debug:\n",
    "                self.vbox = VBox([self.selection_interacts, self.fig, self.deb], layout=box_layout)            \n",
    "            else:\n",
    "                self.vbox = VBox([self.selection_interacts, self.fig], layout=box_layout)\n",
    "\n",
    "\n",
    "    def _ipython_display_(self):\n",
    "\n",
    "        if len(self.enabled) == 0:\n",
    "            display(self.fig)\n",
    "        else:\n",
    "            display(self.vbox)\n",
    "\n",
    "    def interaction_map(self):  # , xScale, yScale, fig, mark, deb):\n",
    "\n",
    "        self.interactions = {}\n",
    "\n",
    "        xScale = self.xScale  # if xScale is None else xScale\n",
    "        yScale = self.yScale  # if yScale is None else yScale\n",
    "        fig = self.fig  # if fig is None else fig\n",
    "        mark = fig.marks  # if mark is None else mark\n",
    "\n",
    "        multi_sel = MultiSelector(scale=xScale, marks=mark)\n",
    "        br_intsel = BrushIntervalSelector(scale=xScale, marks=mark)\n",
    "        index_sel = IndexSelector(scale=xScale, marks=mark)\n",
    "        int_sel = FastIntervalSelector(scale=xScale, marks=mark)\n",
    "        br_sel = BrushSelector(x_scale=xScale, y_scale=yScale, marks=mark, color='red')\n",
    "        pz = PanZoom(scales={'x': [xScale], 'y': [yScale]})\n",
    "\n",
    "        def cb1(change):\n",
    "            if len(change.new) > 1:\n",
    "                xr = change.new\n",
    "                yr = [None, None]\n",
    "                box = [[xr[0], yr[0]], [xr[1], yr[1]]]\n",
    "                y = getattr(self, \"cbs\", None)\n",
    "\n",
    "                if y is not None:\n",
    "                    for k in self.cbs:\n",
    "                        if 'brush' in k:\n",
    "                            if self.debug:\n",
    "                                self.deb.value = str(box)\n",
    "                            cb = self.cbs[k]\n",
    "                            cb(box)\n",
    "                    #if 'brush' in self.cbs:\n",
    "                    #    cb = self.cbs['brush']\n",
    "                    #    cb(box)\n",
    "            else:\n",
    "                y = getattr(self, \"cbs\", None)\n",
    "                if y is not None:\n",
    "                    if 'bar' in self.cbs:\n",
    "                        cb = self.cbs['bar']\n",
    "                        cb(change.new)\n",
    "\n",
    "        def cb2(change):\n",
    "            box = self.interactions['brush']['selector'].selected\n",
    "            y = getattr(self, \"cbs\", None)\n",
    "\n",
    "            if y is not None:\n",
    "                if 'brush' in self.cbs:\n",
    "                    if self.debug:\n",
    "                        self.deb.value = str(box)\n",
    "                    cb = self.cbs['brush']\n",
    "                    cb(box)\n",
    "\n",
    "        def cb3(change):\n",
    "            newscales = change.new\n",
    "            y = getattr(self, \"cbs\", None)\n",
    "\n",
    "            if y is not None:\n",
    "                if 'panzoom' in self.cbs:\n",
    "                    cb = self.cbs['panzoom']\n",
    "                    cb(newscales['x'], newscales['y'])\n",
    "\n",
    "        multi_sel.observe(cb1, names=['selected'])\n",
    "        br_intsel.observe(cb1, names=['selected'])  # 'selected'])\n",
    "        index_sel.observe(cb1, names=['selected'])\n",
    "        int_sel.observe(cb1, names=['selected'])\n",
    "        br_sel.observe(cb2, names=['brushing'])  # 'brushing'])\n",
    "        pz.observe(cb3, names=['scales'])  # 'brushing'])\n",
    "\n",
    "        self.interactions['brushes'] = {}\n",
    "        self.interactions['brushes']['selector'] = multi_sel\n",
    "        self.interactions['brushes']['icon'] = 'th-large'\n",
    "        self.interactions['brushes']['tooltip'] = 'Multiple Brushes'\n",
    "        self.interactions['brushes']['order'] = 0  # '   '\n",
    "        self.interactions['brushes']['watch'] = 'selected'\n",
    "\n",
    "        self.interactions['brush_x'] = {}\n",
    "        self.interactions['brush_x']['selector'] = br_intsel\n",
    "        self.interactions['brush_x']['icon'] = 'arrows-h'\n",
    "        self.interactions['brush_x']['tooltip'] = 'Horizontal Brush'\n",
    "        self.interactions['brush_x']['order'] = 1  # '     '\n",
    "        self.interactions['brush_x']['watch'] = 'selected'\n",
    "\n",
    "        self.interactions['brush_fast'] = {}\n",
    "        self.interactions['brush_fast']['selector'] = int_sel\n",
    "        self.interactions['brush_fast']['icon'] = 'exchange'\n",
    "        self.interactions['brush_fast']['tooltip'] = 'Fast Brush'\n",
    "        self.interactions['brush_fast']['order'] = 3  # '      '\n",
    "        self.interactions['brush_fast']['watch'] = 'selected'\n",
    "\n",
    "        self.interactions['brush'] = {}\n",
    "        self.interactions['brush']['selector'] = br_sel\n",
    "        self.interactions['brush']['icon'] = 'retweet'\n",
    "        self.interactions['brush']['tooltip'] = 'Brush'\n",
    "        self.interactions['brush']['order'] = 4  # '       '\n",
    "        self.interactions['brush']['watch'] = 'brushing'\n",
    "\n",
    "        self.interactions['bar'] = {}\n",
    "        self.interactions['bar']['selector'] = index_sel\n",
    "        self.interactions['bar']['icon'] = 'mouse-pointer'\n",
    "        self.interactions['bar']['tooltip'] = 'Single Slider'\n",
    "        self.interactions['bar']['order'] = 5  # ' '\n",
    "        self.interactions['bar']['watch'] = 'selected'\n",
    "\n",
    "        self.interactions['panzoom'] = {}\n",
    "        self.interactions['panzoom']['selector'] = pz\n",
    "        self.interactions['panzoom']['icon'] = 'arrows'\n",
    "        self.interactions['panzoom']['tooltip'] = 'Pan Zoom'\n",
    "        self.interactions['panzoom']['order'] = 6  # ''\n",
    "        self.interactions['panzoom']['watch'] = 'scales'\n",
    "\n",
    "        # Initialize Selector\n",
    "        # Initialize CB\n",
    "        # Observe\n",
    "\n",
    "        # Can listen to many traitlets here\n",
    "        # General one, brushing\n",
    "        # Other selected, color, line_width ..., selected_x, selected_y\n",
    "\n",
    "    def setScale(self, xScale=None, yScale=None):\n",
    "        if xScale is not None:\n",
    "            self.xScale = xScale\n",
    "        if yScale is not None:\n",
    "            self.yScale = yScale\n",
    "\n",
    "    def show(self):\n",
    "        if len(self.enabled) == 0:\n",
    "            display(self.fig)\n",
    "        else:\n",
    "            display(self.vbox)\n",
    "\n",
    "    def get_fig(self):\n",
    "        return self.fig\n",
    "\n",
    "    def connect(self, fig=None, vbox=None):\n",
    "\n",
    "        if fig is not None:\n",
    "            fig = self.fig\n",
    "        if vbox is not None:\n",
    "            vbox = self.vbox\n",
    "\n",
    "    def save(self, filename):\n",
    "        self.fig.save_png(filename)\n",
    "\n",
    "\n",
    "def plot(data, index=None, ylabel=None,enable=None,debug=False,ptype=None,dims=None):\n",
    "    return Cyplot(data, index=index, ylabel=ylabel,enable=enable,debug=debug,ptype=ptype,dims = dims)\n"
   ]
  },
  {
   "cell_type": "code",
   "execution_count": 19,
   "metadata": {},
   "outputs": [
    {
     "data": {
      "text/plain": [
       "array([1, 2, 3, 4])"
      ]
     },
     "execution_count": 19,
     "metadata": {},
     "output_type": "execute_result"
    }
   ],
   "source": [
    "aaa = np.array([[1,2],[3,4]])\n",
    "aaa.ravel()"
   ]
  }
 ],
 "metadata": {
  "kernelspec": {
   "display_name": "Python 3",
   "language": "python",
   "name": "python3"
  },
  "language_info": {
   "codemirror_mode": {
    "name": "ipython",
    "version": 3
   },
   "file_extension": ".py",
   "mimetype": "text/x-python",
   "name": "python",
   "nbconvert_exporter": "python",
   "pygments_lexer": "ipython3",
   "version": "3.6.6"
  }
 },
 "nbformat": 4,
 "nbformat_minor": 2
}
