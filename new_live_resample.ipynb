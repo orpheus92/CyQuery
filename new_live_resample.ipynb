{
 "cells": [
  {
   "cell_type": "code",
   "execution_count": 1,
   "metadata": {},
   "outputs": [],
   "source": [
    "# import topopy\n",
    "from test_functions import *\n",
    "# import matplotlib.pyplot as plt\n",
    "# import samplers\n",
    "# import seaborn as sns\n",
    "# from matplotlib import patches, collections\n",
    "import numpy as np\n",
    "from ipywidgets import interact, HTML\n",
    "import random\n"
   ]
  },
  {
   "cell_type": "code",
   "execution_count": 2,
   "metadata": {},
   "outputs": [],
   "source": [
    "from sidepanel import SidePanel\n",
    "\n",
    "import ipywidgets as widgets\n",
    "\n",
    "from regulus.utils import io\n",
    "from regulus.topo import * \n",
    "from regulus.alg import *\n",
    "from regulus.measures import *\n",
    "from regulus.models import *\n",
    "from regulus.tree import *\n",
    "\n",
    "from ipyregulus import TreeWidget, TreeView, DetailsView, DataWidget\n",
    "from ipyregulus.filters.filters import * \n",
    "from ipyregulus.filters.monitor import Monitor\n",
    "from ipyregulus.tree.has_tree import *\n",
    "from ipyregulus.alg.view import *"
   ]
  },
  {
   "cell_type": "code",
   "execution_count": 3,
   "metadata": {},
   "outputs": [],
   "source": [
    "test_function = gerber_different_heights\n",
    "samples = 50\n",
    "X = np.random.rand(samples,2)\n",
    "Y = test_function(X)\n",
    "\n",
    "# Y = (Y - np.min(Y)) / (np.max(Y) - np.min(Y)) # Not sure whether this is needed \n",
    "\n",
    "all_pts = np.hstack((X,np.expand_dims(Y, axis=1)))\n",
    "\n",
    "# X = samplers.CVTSampler.generate_samples(samples, 2, 1)\n",
    "\n",
    "\n",
    "# msc = topopy.MorseSmaleComplex(graph=\"beta skeleton\", gradient=\"steepest\", max_neighbors=8, beta=1.0)\n",
    "# msc.build(X, Y)\n"
   ]
  },
  {
   "cell_type": "markdown",
   "metadata": {},
   "source": [
    "# NEW PART IN REG to create pts at runtime "
   ]
  },
  {
   "cell_type": "code",
   "execution_count": 4,
   "metadata": {},
   "outputs": [
    {
     "name": "stdout",
     "output_type": "stream",
     "text": [
      "found 4 singles\n",
      "len(idx)= 48\n"
     ]
    },
    {
     "name": "stderr",
     "output_type": "stream",
     "text": [
      "/media/orpheus92/OS/conda/envs/regulus/lib/python3.6/site-packages/numpy/core/fromnumeric.py:51: FutureWarning: 'argmin' is deprecated, use 'idxmin' instead. The behavior of 'argmin'\n",
      "will be corrected to return the positional minimum in the future.\n",
      "Use 'series.values.argmin' to get the position of the minimum now.\n",
      "  return getattr(obj, method)(*args, **kwds)\n",
      "/media/orpheus92/OS/conda/envs/regulus/lib/python3.6/site-packages/numpy/core/fromnumeric.py:51: FutureWarning: 'argmax' is deprecated, use 'idxmax' instead. The behavior of 'argmax'\n",
      "will be corrected to return the positional maximum in the future.\n",
      "Use 'series.values.argmax' to get the position of the maximum now.\n",
      "  return getattr(obj, method)(*args, **kwds)\n"
     ]
    }
   ],
   "source": [
    "from regulus.topo import morse_smale, Regulus\n",
    "from regulus.data.data import Data\n",
    "from regulus.measures import *\n",
    "from regulus.models import *\n",
    "import pandas as pd\n",
    "\n",
    "cols = ['x'+str(i) for i in range(all_pts.shape[1])]\n",
    "\n",
    "cols[-1] = 'y'\n",
    "\n",
    "df = pd.DataFrame(all_pts, columns=cols)\n",
    "\n",
    "pts = Data.from_pts(df)\n",
    "\n",
    "# Normalize here  \n",
    "pts.normalize()\n",
    "\n",
    "regulus = morse_smale(pts, knn=8)#**kwargs)\n",
    "\n",
    "regulus.add_attr('linear', linear_model)\n",
    "regulus.add_attr('fitness', fitness)\n",
    "regulus.add_attr('relative_fitness', relative_fitness)\n",
    "\n",
    "regulus.tree.add_attr('parent_fitness', parent_fitness)\n",
    "regulus.tree.add_attr('child_fitness', child_fitness)\n",
    "regulus.tree.add_attr('size', node_size)\n",
    "regulus.tree.add_attr('rel_size', node_relative_size)\n",
    "regulus.tree.add_attr('span', node_span)\n",
    "\n",
    "\n"
   ]
  },
  {
   "cell_type": "code",
   "execution_count": 5,
   "metadata": {},
   "outputs": [],
   "source": [
    "from ipyregulus import TreeWidget, TreeView, DetailsView, DataWidget\n",
    "\n",
    "tree = TreeWidget(regulus.tree)\n",
    "data = DataWidget(data=regulus)\n"
   ]
  },
  {
   "cell_type": "markdown",
   "metadata": {},
   "source": [
    "# TreeView"
   ]
  },
  {
   "cell_type": "code",
   "execution_count": 6,
   "metadata": {},
   "outputs": [
    {
     "data": {
      "application/vnd.jupyter.widget-view+json": {
       "model_id": "380a3443218c438a83f650bcbde51b30",
       "version_major": 2,
       "version_minor": 0
      },
      "text/plain": [
       "TreeView(field='span', tree_model=TreeWidget(attrs={'span': {0: 0.7397690679594018, 1: 0.0349604286143379, 2: …"
      ]
     },
     "metadata": {},
     "output_type": "display_data"
    },
    {
     "data": {
      "application/vnd.jupyter.widget-view+json": {
       "model_id": "bca134b1d1234a478dd5de0607524475",
       "version_major": 2,
       "version_minor": 0
      },
      "text/plain": [
       "HBox(children=(Label(value='span'), FloatSlider(value=0.0, max=1.0, step=0.01)))"
      ]
     },
     "metadata": {},
     "output_type": "display_data"
    },
    {
     "data": {
      "text/plain": [
       "<traitlets.traitlets.link at 0x7fa65e7abcc0>"
      ]
     },
     "execution_count": 6,
     "metadata": {},
     "output_type": "execute_result"
    }
   ],
   "source": [
    "v2 = show_tree(tree)\n",
    "\n",
    "w = widgets.Dropdown(\n",
    "    options=['span', 'fitness', 'parent_fitness', 'child_fitness'],\n",
    "    value='span',\n",
    "    description='Attribute:',\n",
    "    disabled=False,\n",
    ")\n",
    "panel = SidePanel(title='Fitness')#, side='split-bottom', ref='SidePanel')\n",
    "with panel:\n",
    "    display(w, v2.view, v2.filter)\n",
    "widgets.link((w, 'value'), (v2.view, 'field'))"
   ]
  },
  {
   "cell_type": "markdown",
   "metadata": {},
   "source": [
    "# Details View"
   ]
  },
  {
   "cell_type": "code",
   "execution_count": 7,
   "metadata": {},
   "outputs": [],
   "source": [
    "details = DetailsView(data=data)\n",
    "\n",
    "p7 = SidePanel(title='details')\n",
    "with p7:\n",
    "    display(details)"
   ]
  },
  {
   "cell_type": "markdown",
   "metadata": {},
   "source": [
    "# Linking Two Views"
   ]
  },
  {
   "cell_type": "code",
   "execution_count": 8,
   "metadata": {},
   "outputs": [
    {
     "data": {
      "text/plain": [
       "<traitlets.traitlets.link at 0x7fa65e7a7160>"
      ]
     },
     "execution_count": 8,
     "metadata": {},
     "output_type": "execute_result"
    }
   ],
   "source": [
    "\n",
    "widgets.link((v2.view, 'details'), (details, 'show'))\n"
   ]
  },
  {
   "cell_type": "markdown",
   "metadata": {},
   "source": [
    "# Create resample class, resampling a user specified partition"
   ]
  },
  {
   "cell_type": "code",
   "execution_count": 11,
   "metadata": {},
   "outputs": [],
   "source": [
    "from resample import get_pts, Resample\n",
    "\n",
    "# Change the following line to use differennt partition to resample\n",
    "ind = get_pts(data.partitions[2],data.pts_loc)\n",
    "\n",
    "selectP = df.loc[ind,:]\n",
    "r = Resample(selectP)"
   ]
  },
  {
   "cell_type": "markdown",
   "metadata": {},
   "source": [
    "# A line chart for a specified partition, different interactions could be added "
   ]
  },
  {
   "cell_type": "code",
   "execution_count": 12,
   "metadata": {},
   "outputs": [
    {
     "data": {
      "application/vnd.jupyter.widget-view+json": {
       "model_id": "8e0f333777634ffa8649f234f9170e7b",
       "version_major": 2,
       "version_minor": 0
      },
      "text/plain": [
       "VBox(children=(ToggleButtons(description='Interaction: ', icons=('retweet',), layout=Layout(justify_content='f…"
      ]
     },
     "metadata": {},
     "output_type": "display_data"
    }
   ],
   "source": [
    "from cyplot import plot\n",
    "myp = plot(selectP,index = 'y',debug=True)#, ptype='line')\n",
    "myp.enable('brush')\n",
    "myp.on('brush', r.cb)\n",
    "display(myp)"
   ]
  },
  {
   "cell_type": "markdown",
   "metadata": {},
   "source": [
    "# random generate pts based on user selected range of function value"
   ]
  },
  {
   "cell_type": "code",
   "execution_count": 14,
   "metadata": {},
   "outputs": [
    {
     "name": "stdout",
     "output_type": "stream",
     "text": [
      "No range selected!\n"
     ]
    },
    {
     "data": {
      "text/plain": [
       "[1.1621052306376272,\n",
       " 1.0148518685149772,\n",
       " 0.8454366940191201,\n",
       " 1.0578985653621602,\n",
       " 0.7272299970103264]"
      ]
     },
     "execution_count": 14,
     "metadata": {},
     "output_type": "execute_result"
    }
   ],
   "source": [
    "r.add_samples(5) # user's specified # of samples\n",
    "r.vals \n",
    "\n"
   ]
  },
  {
   "cell_type": "markdown",
   "metadata": {},
   "source": [
    "# When user adds enough samples, they could use regression to predict the point locations to resample "
   ]
  },
  {
   "cell_type": "code",
   "execution_count": 12,
   "metadata": {},
   "outputs": [],
   "source": [
    "# Would scale back if needed \n",
    "X2 = r.get_input()\n",
    "\n",
    "new_x = np.vstack((X,X2))\n",
    "new_y = test_function(new_x)"
   ]
  },
  {
   "cell_type": "code",
   "execution_count": 15,
   "metadata": {},
   "outputs": [
    {
     "ename": "NameError",
     "evalue": "name 'new_y' is not defined",
     "output_type": "error",
     "traceback": [
      "\u001b[0;31m---------------------------------------------------------------------------\u001b[0m",
      "\u001b[0;31mNameError\u001b[0m                                 Traceback (most recent call last)",
      "\u001b[0;32m<ipython-input-15-dd1fed6081d8>\u001b[0m in \u001b[0;36m<module>\u001b[0;34m()\u001b[0m\n\u001b[0;32m----> 1\u001b[0;31m \u001b[0mnew_y\u001b[0m\u001b[0;34m.\u001b[0m\u001b[0mshape\u001b[0m\u001b[0;34m\u001b[0m\u001b[0m\n\u001b[0m",
      "\u001b[0;31mNameError\u001b[0m: name 'new_y' is not defined"
     ]
    }
   ],
   "source": [
    "new_y.shape"
   ]
  },
  {
   "cell_type": "code",
   "execution_count": 16,
   "metadata": {},
   "outputs": [
    {
     "data": {
      "text/plain": [
       "array([[0.68886878, 0.1447842 , 0.56810611],\n",
       "       [0.05439015, 0.75435814, 1.16753127],\n",
       "       [0.09879684, 0.94667778, 0.78725618],\n",
       "       [0.20515179, 0.90452266, 1.02596   ],\n",
       "       [0.3565398 , 0.57784061, 0.98305412],\n",
       "       [0.99454009, 0.0601041 , 0.17042411],\n",
       "       [0.21099599, 0.63862847, 1.17455886],\n",
       "       [0.40091182, 0.19626317, 1.0185379 ],\n",
       "       [0.27897419, 0.50488062, 1.11341096],\n",
       "       [0.67940113, 0.84172488, 0.55206983],\n",
       "       [0.29176133, 0.44560405, 1.14427855],\n",
       "       [0.59330539, 0.08477821, 0.48314799],\n",
       "       [0.57637368, 0.01175398, 0.45560136],\n",
       "       [0.32231544, 0.83592936, 1.18800422],\n",
       "       [0.97448724, 0.67419288, 0.32039254],\n",
       "       [0.67994153, 0.88295668, 0.42055108],\n",
       "       [0.77403281, 0.697466  , 0.7683645 ],\n",
       "       [0.96992208, 0.21753414, 0.25288899],\n",
       "       [0.89761831, 0.76283327, 0.55246588],\n",
       "       [0.11651265, 0.29163023, 1.06561208],\n",
       "       [0.3563637 , 0.69494298, 1.27883828],\n",
       "       [0.04163426, 0.87996196, 0.71268963],\n",
       "       [0.84337248, 0.74365522, 0.67405483],\n",
       "       [0.21212678, 0.61284054, 1.11828279],\n",
       "       [0.4870088 , 0.17533496, 0.77103311],\n",
       "       [0.61510143, 0.90016577, 0.33612775],\n",
       "       [0.07361277, 0.76655691, 1.20710148],\n",
       "       [0.68191843, 0.28127465, 0.58281914],\n",
       "       [0.10602298, 0.09970462, 0.98878264],\n",
       "       [0.63771364, 0.18567169, 0.52144037],\n",
       "       [0.17083325, 0.89973016, 0.98815486],\n",
       "       [0.06119224, 0.2498913 , 0.92294406],\n",
       "       [0.41022357, 0.55616325, 0.85174111],\n",
       "       [0.57756221, 0.05262532, 0.48276176],\n",
       "       [0.77090328, 0.80644288, 0.73973733],\n",
       "       [0.6314944 , 0.25665921, 0.53019411],\n",
       "       [0.02409755, 0.79032268, 1.00193462],\n",
       "       [0.77243378, 0.58658809, 0.47077439],\n",
       "       [0.45495364, 0.05754502, 0.79275921],\n",
       "       [0.39298452, 0.06955118, 0.97089856],\n",
       "       [0.56896099, 0.1712317 , 0.56882374],\n",
       "       [0.86459035, 0.65432421, 0.34553684],\n",
       "       [0.9416632 , 0.89970543, 0.06884049],\n",
       "       [0.04464234, 0.79091892, 1.05849239],\n",
       "       [0.41042105, 0.61707083, 0.89267262],\n",
       "       [0.70287055, 0.07811912, 0.54939214],\n",
       "       [0.73593867, 0.32766749, 0.63313161],\n",
       "       [0.45405276, 0.67785407, 0.9594859 ],\n",
       "       [0.72211811, 0.09269302, 0.58233124],\n",
       "       [0.93732494, 0.85286962, 0.19317129]])"
      ]
     },
     "execution_count": 16,
     "metadata": {},
     "output_type": "execute_result"
    }
   ],
   "source": [
    "all_pts"
   ]
  }
 ],
 "metadata": {
  "kernelspec": {
   "display_name": "Python 3",
   "language": "python",
   "name": "python3"
  },
  "language_info": {
   "codemirror_mode": {
    "name": "ipython",
    "version": 3
   },
   "file_extension": ".py",
   "mimetype": "text/x-python",
   "name": "python",
   "nbconvert_exporter": "python",
   "pygments_lexer": "ipython3",
   "version": "3.6.6"
  }
 },
 "nbformat": 4,
 "nbformat_minor": 2
}
