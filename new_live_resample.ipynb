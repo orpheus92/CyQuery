{
 "cells": [
  {
   "cell_type": "code",
   "execution_count": 1,
   "metadata": {},
   "outputs": [],
   "source": [
    "# import topopy\n",
    "from test_functions import *\n",
    "# import matplotlib.pyplot as plt\n",
    "# import samplers\n",
    "# import seaborn as sns\n",
    "# from matplotlib import patches, collections\n",
    "import numpy as np\n",
    "from ipywidgets import interact, HTML\n",
    "import random\n",
    "import pdir"
   ]
  },
  {
   "cell_type": "code",
   "execution_count": 2,
   "metadata": {},
   "outputs": [],
   "source": [
    "from sidepanel import SidePanel\n",
    "\n",
    "import ipywidgets as widgets\n",
    "\n",
    "from regulus.utils import io\n",
    "from regulus.topo import * \n",
    "from regulus.alg import *\n",
    "from regulus.measures import *\n",
    "from regulus.models import *\n",
    "from regulus.tree import *\n",
    "\n",
    "from ipyregulus import TreeWidget, TreeView, DetailsView, DataWidget\n",
    "from ipyregulus.filters.filters import * \n",
    "from ipyregulus.filters.monitor import Monitor\n",
    "from ipyregulus.tree.has_tree import *\n",
    "from ipyregulus.alg.view import *"
   ]
  },
  {
   "cell_type": "code",
   "execution_count": 3,
   "metadata": {},
   "outputs": [],
   "source": [
    "test_function = gerber_different_heights\n",
    "samples = 200\n",
    "X = np.random.rand(samples,2)\n",
    "Y = test_function(X)\n",
    "\n",
    "# Y = (Y - np.min(Y)) / (np.max(Y) - np.min(Y)) # Not sure whether this is needed \n",
    "\n",
    "all_pts = np.hstack((X,np.expand_dims(Y, axis=1)))\n",
    "\n",
    "# X = samplers.CVTSampler.generate_samples(samples, 2, 1)\n",
    "\n",
    "\n",
    "# msc = topopy.MorseSmaleComplex(graph=\"beta skeleton\", gradient=\"steepest\", max_neighbors=8, beta=1.0)\n",
    "# msc.build(X, Y)\n"
   ]
  },
  {
   "cell_type": "markdown",
   "metadata": {},
   "source": [
    "# NEW PART IN REG to create pts at runtime "
   ]
  },
  {
   "cell_type": "code",
   "execution_count": 4,
   "metadata": {},
   "outputs": [
    {
     "name": "stdout",
     "output_type": "stream",
     "text": [
      "found 7 singles\n",
      "len(idx)= 198\n"
     ]
    },
    {
     "name": "stderr",
     "output_type": "stream",
     "text": [
      "/media/orpheus92/OS/conda/envs/regulus/lib/python3.6/site-packages/numpy/core/fromnumeric.py:51: FutureWarning: 'argmin' is deprecated, use 'idxmin' instead. The behavior of 'argmin'\n",
      "will be corrected to return the positional minimum in the future.\n",
      "Use 'series.values.argmin' to get the position of the minimum now.\n",
      "  return getattr(obj, method)(*args, **kwds)\n",
      "/media/orpheus92/OS/conda/envs/regulus/lib/python3.6/site-packages/numpy/core/fromnumeric.py:51: FutureWarning: 'argmax' is deprecated, use 'idxmax' instead. The behavior of 'argmax'\n",
      "will be corrected to return the positional maximum in the future.\n",
      "Use 'series.values.argmax' to get the position of the maximum now.\n",
      "  return getattr(obj, method)(*args, **kwds)\n"
     ]
    }
   ],
   "source": [
    "from regulus.topo import morse_smale, Regulus\n",
    "from regulus.data.data import Data\n",
    "from regulus.measures import *\n",
    "from regulus.models import *\n",
    "import pandas as pd\n",
    "\n",
    "cols = ['x'+str(i) for i in range(all_pts.shape[1])]\n",
    "\n",
    "cols[-1] = 'y'\n",
    "\n",
    "df = pd.DataFrame(all_pts, columns=cols)\n",
    "\n",
    "pts = Data.from_pts(df)\n",
    "\n",
    "# Normalize here  \n",
    "pts.normalize()\n",
    "\n",
    "regulus = morse_smale(pts, knn=8)#**kwargs)\n",
    "\n",
    "regulus.add_attr('linear', linear_model)\n",
    "regulus.add_attr('fitness', fitness)\n",
    "regulus.add_attr('relative_fitness', relative_fitness)\n",
    "\n",
    "regulus.tree.add_attr('parent_fitness', parent_fitness)\n",
    "regulus.tree.add_attr('child_fitness', child_fitness)\n",
    "regulus.tree.add_attr('size', node_size)\n",
    "regulus.tree.add_attr('rel_size', node_relative_size)\n",
    "regulus.tree.add_attr('span', node_span)\n",
    "\n",
    "\n"
   ]
  },
  {
   "cell_type": "code",
   "execution_count": 5,
   "metadata": {},
   "outputs": [],
   "source": [
    "from ipyregulus import TreeWidget, TreeView, DetailsView, DataWidget\n",
    "\n",
    "tree = TreeWidget(regulus.tree)\n",
    "data = DataWidget(data=regulus)\n"
   ]
  },
  {
   "cell_type": "markdown",
   "metadata": {},
   "source": [
    "# TreeView"
   ]
  },
  {
   "cell_type": "code",
   "execution_count": 13,
   "metadata": {},
   "outputs": [
    {
     "data": {
      "application/vnd.jupyter.widget-view+json": {
       "model_id": "446a18078ca04d738155bda06131689a",
       "version_major": 2,
       "version_minor": 0
      },
      "text/plain": [
       "TreeView(field='span', tree_model=TreeWidget(attrs={'span': {0: 0.5638920083770904, 1: 0.15788159771754634, 2:…"
      ]
     },
     "metadata": {},
     "output_type": "display_data"
    },
    {
     "data": {
      "application/vnd.jupyter.widget-view+json": {
       "model_id": "e5677cd9c2bd4ec0b8e18cfb5d0ea9fe",
       "version_major": 2,
       "version_minor": 0
      },
      "text/plain": [
       "HBox(children=(Label(value='span'), FloatSlider(value=0.0, max=1.0, step=0.01)))"
      ]
     },
     "metadata": {},
     "output_type": "display_data"
    },
    {
     "data": {
      "text/plain": [
       "<traitlets.traitlets.link at 0x7f5d639c87f0>"
      ]
     },
     "execution_count": 13,
     "metadata": {},
     "output_type": "execute_result"
    }
   ],
   "source": [
    "v2 = show_tree(tree)\n",
    "\n",
    "w = widgets.Dropdown(\n",
    "    options=['span', 'fitness', 'parent_fitness', 'child_fitness'],\n",
    "    value='span',\n",
    "    description='Attribute:',\n",
    "    disabled=False,\n",
    ")\n",
    "panel = SidePanel(title='Fitness')#, side='split-bottom', ref='SidePanel')\n",
    "with panel:\n",
    "    display(w, v2.view, v2.filter)\n",
    "widgets.link((w, 'value'), (v2.view, 'field'))"
   ]
  },
  {
   "cell_type": "markdown",
   "metadata": {},
   "source": [
    "# Details View"
   ]
  },
  {
   "cell_type": "code",
   "execution_count": 45,
   "metadata": {},
   "outputs": [],
   "source": [
    "details = DetailsView(data=data)\n",
    "\n",
    "p7 = SidePanel(title='details')\n",
    "with p7:\n",
    "    display(details)"
   ]
  },
  {
   "cell_type": "markdown",
   "metadata": {},
   "source": [
    "# Linking Two Views"
   ]
  },
  {
   "cell_type": "code",
   "execution_count": 15,
   "metadata": {},
   "outputs": [
    {
     "data": {
      "text/plain": [
       "<traitlets.traitlets.link at 0x7f5d63992160>"
      ]
     },
     "execution_count": 15,
     "metadata": {},
     "output_type": "execute_result"
    }
   ],
   "source": [
    "\n",
    "widgets.link((v2.view, 'details'), (details, 'show'))\n"
   ]
  },
  {
   "cell_type": "markdown",
   "metadata": {},
   "source": [
    "# Create resample class, resampling a user specified partition"
   ]
  },
  {
   "cell_type": "code",
   "execution_count": 6,
   "metadata": {},
   "outputs": [],
   "source": [
    "from resample import get_pts, Resample\n",
    "\n",
    "# Change the following line to use differennt partition to resample\n",
    "ind = get_pts(data.partitions[0],data.pts_loc)\n",
    "\n",
    "selectP = df.loc[ind,:]\n",
    "r = Resample(selectP)"
   ]
  },
  {
   "cell_type": "markdown",
   "metadata": {},
   "source": [
    "# A line chart for a specified partition, different interactions could be added "
   ]
  },
  {
   "cell_type": "code",
   "execution_count": 7,
   "metadata": {},
   "outputs": [
    {
     "name": "stdout",
     "output_type": "stream",
     "text": [
      "<class 'bqplot.marks.Scatter'>\n"
     ]
    },
    {
     "data": {
      "application/vnd.jupyter.widget-view+json": {
       "model_id": "651b539797d7479eb5d1027631a0e094",
       "version_major": 2,
       "version_minor": 0
      },
      "text/plain": [
       "VBox(children=(ToggleButtons(description='Interaction: ', icons=('retweet',), layout=Layout(justify_content='f…"
      ]
     },
     "metadata": {},
     "output_type": "display_data"
    }
   ],
   "source": [
    "from cyplot import plot\n",
    "myp = plot(selectP,index = 'y',debug=True, dims=['x0','x1','y'])#ptype='PCA')#, ptype='line'/ PCA. line. dims=[]\n",
    "myp.enable('brush')\n",
    "myp.on('brush', r.cb)\n",
    "display(myp)"
   ]
  },
  {
   "cell_type": "code",
   "execution_count": 8,
   "metadata": {},
   "outputs": [
    {
     "name": "stdout",
     "output_type": "stream",
     "text": [
      "<class 'bqplot.marks.Scatter'>\n"
     ]
    },
    {
     "data": {
      "application/vnd.jupyter.widget-view+json": {
       "model_id": "630f4c3f8aeb41c58a2004df654f48cd",
       "version_major": 2,
       "version_minor": 0
      },
      "text/plain": [
       "VBox(children=(ToggleButtons(description='Interaction: ', icons=('retweet',), layout=Layout(justify_content='f…"
      ]
     },
     "metadata": {},
     "output_type": "display_data"
    }
   ],
   "source": [
    "# from cyplot import plot\n",
    "myp2 = plot(selectP,index = 'y',debug=True, ptype='PCA')#, ptype='line'/ PCA. line. dims=[]\n",
    "myp2.enable('brush')\n",
    "myp2.on('brush', r.cb)\n",
    "display(myp2)"
   ]
  },
  {
   "cell_type": "code",
   "execution_count": 51,
   "metadata": {},
   "outputs": [
    {
     "data": {
      "application/vnd.jupyter.widget-view+json": {
       "model_id": "f7ba258e478b467096c6a74ba5c4de10",
       "version_major": 2,
       "version_minor": 0
      },
      "text/plain": [
       "VBox(children=(ToggleButtons(description='Interaction: ', icons=('retweet',), layout=Layout(justify_content='f…"
      ]
     },
     "metadata": {},
     "output_type": "display_data"
    }
   ],
   "source": [
    "myp2.enable('x_brush')\n",
    "display(myp2)"
   ]
  },
  {
   "cell_type": "code",
   "execution_count": 41,
   "metadata": {},
   "outputs": [
    {
     "data": {
      "application/vnd.jupyter.widget-view+json": {
       "model_id": "ed1dbdd5d48f4e36a361e6db380b8dcf",
       "version_major": 2,
       "version_minor": 0
      },
      "text/plain": [
       "TreeView(field='span', tree_model=TreeWidget(attrs={'span': {0: 0.6236396593822076, 1: 0.11466969678523359, 2:…"
      ]
     },
     "metadata": {},
     "output_type": "display_data"
    },
    {
     "data": {
      "application/vnd.jupyter.widget-view+json": {
       "model_id": "b3e3404400f149fb9aaf7c6708969fc2",
       "version_major": 2,
       "version_minor": 0
      },
      "text/plain": [
       "HBox(children=(Label(value='span'), FloatSlider(value=0.0, max=1.0, step=0.01)))"
      ]
     },
     "metadata": {},
     "output_type": "display_data"
    }
   ],
   "source": [
    "pdir(regulus.tree)\n",
    "\n",
    "v1 = show_tree(regulus.tree)"
   ]
  },
  {
   "cell_type": "code",
   "execution_count": 57,
   "metadata": {},
   "outputs": [
    {
     "data": {
      "text/plain": [
       "<regulus.utils.cache.Cache at 0x7f5b10f10908>"
      ]
     },
     "execution_count": 57,
     "metadata": {},
     "output_type": "execute_result"
    }
   ],
   "source": [
    "pdir(regulus.tree.attr.values)\n",
    "regulus.tree.attr.values()['parent_fitness']"
   ]
  },
  {
   "cell_type": "markdown",
   "metadata": {},
   "source": [
    "# random generate pts based on user selected range of function value"
   ]
  },
  {
   "cell_type": "code",
   "execution_count": 14,
   "metadata": {},
   "outputs": [
    {
     "name": "stdout",
     "output_type": "stream",
     "text": [
      "No range selected!\n"
     ]
    },
    {
     "data": {
      "text/plain": [
       "[1.1621052306376272,\n",
       " 1.0148518685149772,\n",
       " 0.8454366940191201,\n",
       " 1.0578985653621602,\n",
       " 0.7272299970103264]"
      ]
     },
     "execution_count": 14,
     "metadata": {},
     "output_type": "execute_result"
    }
   ],
   "source": [
    "r.add_samples(5) # user's specified # of samples\n",
    "r.vals \n",
    "\n"
   ]
  },
  {
   "cell_type": "markdown",
   "metadata": {},
   "source": [
    "# When user adds enough samples, they could use regression to predict the point locations to resample "
   ]
  },
  {
   "cell_type": "code",
   "execution_count": 12,
   "metadata": {},
   "outputs": [],
   "source": [
    "# Would scale back if needed \n",
    "X2 = r.get_input()\n",
    "\n",
    "new_x = np.vstack((X,X2))\n",
    "new_y = test_function(new_x)"
   ]
  },
  {
   "cell_type": "code",
   "execution_count": 9,
   "metadata": {},
   "outputs": [],
   "source": []
  },
  {
   "cell_type": "code",
   "execution_count": 16,
   "metadata": {},
   "outputs": [
    {
     "data": {
      "text/plain": [
       "array([[0.68886878, 0.1447842 , 0.56810611],\n",
       "       [0.05439015, 0.75435814, 1.16753127],\n",
       "       [0.09879684, 0.94667778, 0.78725618],\n",
       "       [0.20515179, 0.90452266, 1.02596   ],\n",
       "       [0.3565398 , 0.57784061, 0.98305412],\n",
       "       [0.99454009, 0.0601041 , 0.17042411],\n",
       "       [0.21099599, 0.63862847, 1.17455886],\n",
       "       [0.40091182, 0.19626317, 1.0185379 ],\n",
       "       [0.27897419, 0.50488062, 1.11341096],\n",
       "       [0.67940113, 0.84172488, 0.55206983],\n",
       "       [0.29176133, 0.44560405, 1.14427855],\n",
       "       [0.59330539, 0.08477821, 0.48314799],\n",
       "       [0.57637368, 0.01175398, 0.45560136],\n",
       "       [0.32231544, 0.83592936, 1.18800422],\n",
       "       [0.97448724, 0.67419288, 0.32039254],\n",
       "       [0.67994153, 0.88295668, 0.42055108],\n",
       "       [0.77403281, 0.697466  , 0.7683645 ],\n",
       "       [0.96992208, 0.21753414, 0.25288899],\n",
       "       [0.89761831, 0.76283327, 0.55246588],\n",
       "       [0.11651265, 0.29163023, 1.06561208],\n",
       "       [0.3563637 , 0.69494298, 1.27883828],\n",
       "       [0.04163426, 0.87996196, 0.71268963],\n",
       "       [0.84337248, 0.74365522, 0.67405483],\n",
       "       [0.21212678, 0.61284054, 1.11828279],\n",
       "       [0.4870088 , 0.17533496, 0.77103311],\n",
       "       [0.61510143, 0.90016577, 0.33612775],\n",
       "       [0.07361277, 0.76655691, 1.20710148],\n",
       "       [0.68191843, 0.28127465, 0.58281914],\n",
       "       [0.10602298, 0.09970462, 0.98878264],\n",
       "       [0.63771364, 0.18567169, 0.52144037],\n",
       "       [0.17083325, 0.89973016, 0.98815486],\n",
       "       [0.06119224, 0.2498913 , 0.92294406],\n",
       "       [0.41022357, 0.55616325, 0.85174111],\n",
       "       [0.57756221, 0.05262532, 0.48276176],\n",
       "       [0.77090328, 0.80644288, 0.73973733],\n",
       "       [0.6314944 , 0.25665921, 0.53019411],\n",
       "       [0.02409755, 0.79032268, 1.00193462],\n",
       "       [0.77243378, 0.58658809, 0.47077439],\n",
       "       [0.45495364, 0.05754502, 0.79275921],\n",
       "       [0.39298452, 0.06955118, 0.97089856],\n",
       "       [0.56896099, 0.1712317 , 0.56882374],\n",
       "       [0.86459035, 0.65432421, 0.34553684],\n",
       "       [0.9416632 , 0.89970543, 0.06884049],\n",
       "       [0.04464234, 0.79091892, 1.05849239],\n",
       "       [0.41042105, 0.61707083, 0.89267262],\n",
       "       [0.70287055, 0.07811912, 0.54939214],\n",
       "       [0.73593867, 0.32766749, 0.63313161],\n",
       "       [0.45405276, 0.67785407, 0.9594859 ],\n",
       "       [0.72211811, 0.09269302, 0.58233124],\n",
       "       [0.93732494, 0.85286962, 0.19317129]])"
      ]
     },
     "execution_count": 16,
     "metadata": {},
     "output_type": "execute_result"
    }
   ],
   "source": [
    "all_pts"
   ]
  },
  {
   "cell_type": "code",
   "execution_count": 3,
   "metadata": {},
   "outputs": [
    {
     "data": {
      "image/png": "[encoded data removed]",
      "text/plain": [
       "<Figure size 648x648 with 9 Axes>"
      ]
     },
     "metadata": {},
     "output_type": "display_data"
    }
   ],
   "source": [
    "\n",
    "import numpy as np\n",
    "import seaborn as sns\n",
    "import matplotlib.pyplot as plt\n",
    "\n",
    "sns.set(style=\"dark\")\n",
    "rs = np.random.RandomState(50)\n",
    "\n",
    "# Set up the matplotlib figure\n",
    "f, axes = plt.subplots(3, 3, figsize=(9, 9), sharex=True, sharey=True)\n",
    "\n",
    "# Rotate the starting point around the cubehelix hue circle\n",
    "for ax, s in zip(axes.flat, np.linspace(0, 3, 10)):\n",
    "\n",
    "    # Create a cubehelix colormap to use with kdeplot\n",
    "    cmap = sns.cubehelix_palette(start=s, light=1, as_cmap=True)\n",
    "\n",
    "    # Generate and plot a random bivariate dataset\n",
    "    x, y = rs.randn(2, 50)\n",
    "    sns.kdeplot(x, y, cmap=cmap, shade=True, cut=5, ax=ax)\n",
    "    ax.set(xlim=(-3, 3), ylim=(-3, 3))\n",
    "\n",
    "f.tight_layout()"
   ]
  },
  {
   "cell_type": "markdown",
   "metadata": {},
   "source": [
    "# Bivariate Distribution"
   ]
  },
  {
   "cell_type": "code",
   "execution_count": 11,
   "metadata": {},
   "outputs": [
    {
     "data": {
      "text/plain": [
       "<matplotlib.axes._subplots.AxesSubplot at 0x7f603e4734e0>"
      ]
     },
     "execution_count": 11,
     "metadata": {},
     "output_type": "execute_result"
    },
    {
     "data": {
      "image/png": "[encoded data removed]",
      "text/plain": [
       "<Figure size 432x432 with 3 Axes>"
      ]
     },
     "metadata": {},
     "output_type": "display_data"
    }
   ],
   "source": [
    "mean, cov = [0, 1], [(1, .5), (.5, 1)]\n",
    "data = np.random.multivariate_normal(mean, cov, 200)\n",
    "df = pd.DataFrame(data, columns=[\"x\", \"y\"])\n",
    "sns.jointplot(x=\"x\", y=\"y\", data=df, kind=\"kde\");\n",
    "sns.kdeplot(df.x, df.y, ax=ax)\n"
   ]
  },
  {
   "cell_type": "code",
   "execution_count": 59,
   "metadata": {},
   "outputs": [],
   "source": [
    "import os\n",
    "import ipywidgets as widgets\n",
    "\n",
    "import bqplot.pyplot as plt\n",
    "from bqplot import *"
   ]
  },
  {
   "cell_type": "code",
   "execution_count": 98,
   "metadata": {},
   "outputs": [
    {
     "data": {
      "application/vnd.jupyter.widget-view+json": {
       "model_id": "9f904b13a59b4931b92120e6dbd9b874",
       "version_major": 2,
       "version_minor": 0
      },
      "text/plain": [
       "Figure(animation_duration=1000, axes=[Axis(scale=LinearScale()), Axis(orientation='vertical', scale=LinearScal…"
      ]
     },
     "metadata": {},
     "output_type": "display_data"
    }
   ],
   "source": [
    "image_path = os.path.abspath('KDE.png')\n",
    "\n",
    "from bqplot import Image\n",
    "\n",
    "with open(image_path, 'rb') as f:\n",
    "    raw_image = f.read()\n",
    "ipyimage = widgets.Image(value=raw_image, format='png')\n",
    "scales = {'x': LinearScale(), 'y': LinearScale()}\n",
    "image = Image(image=ipyimage, scales=scales)\n",
    "fig = Figure(marks=[image], padding_x=0, padding_y=0, animation_duration=1000)\n",
    "fig.axes = [Axis(scale=scales['x']), Axis(scale=scales['y'], orientation='vertical')]\n",
    "fig\n"
   ]
  },
  {
   "cell_type": "code",
   "execution_count": 100,
   "metadata": {},
   "outputs": [
    {
     "ename": "TraitError",
     "evalue": "Invalid selection: value not found",
     "output_type": "error",
     "traceback": [
      "\u001b[0;31m---------------------------------------------------------------------------\u001b[0m",
      "\u001b[0;31mStopIteration\u001b[0m                             Traceback (most recent call last)",
      "\u001b[0;32m/media/orpheus92/OS/conda/envs/regulus/lib/python3.6/site-packages/ipywidgets/widgets/widget_selection.py\u001b[0m in \u001b[0;36mfindvalue\u001b[0;34m(array, value, compare)\u001b[0m\n\u001b[1;32m    132\u001b[0m     \u001b[0;32mtry\u001b[0m\u001b[0;34m:\u001b[0m\u001b[0;34m\u001b[0m\u001b[0m\n\u001b[0;32m--> 133\u001b[0;31m         \u001b[0;32mreturn\u001b[0m \u001b[0mnext\u001b[0m\u001b[0;34m(\u001b[0m\u001b[0mx\u001b[0m \u001b[0;32mfor\u001b[0m \u001b[0mx\u001b[0m \u001b[0;32min\u001b[0m \u001b[0marray\u001b[0m \u001b[0;32mif\u001b[0m \u001b[0mcompare\u001b[0m\u001b[0;34m(\u001b[0m\u001b[0mx\u001b[0m\u001b[0;34m,\u001b[0m \u001b[0mvalue\u001b[0m\u001b[0;34m)\u001b[0m\u001b[0;34m)\u001b[0m\u001b[0;34m\u001b[0m\u001b[0m\n\u001b[0m\u001b[1;32m    134\u001b[0m     \u001b[0;32mexcept\u001b[0m \u001b[0mStopIteration\u001b[0m\u001b[0;34m:\u001b[0m\u001b[0;34m\u001b[0m\u001b[0m\n",
      "\u001b[0;31mStopIteration\u001b[0m: ",
      "\nDuring handling of the above exception, another exception occurred:\n",
      "\u001b[0;31mValueError\u001b[0m                                Traceback (most recent call last)",
      "\u001b[0;32m/media/orpheus92/OS/conda/envs/regulus/lib/python3.6/site-packages/ipywidgets/widgets/widget_selection.py\u001b[0m in \u001b[0;36m_validate_value\u001b[0;34m(self, proposal)\u001b[0m\n\u001b[1;32m    236\u001b[0m         \u001b[0;32mtry\u001b[0m\u001b[0;34m:\u001b[0m\u001b[0;34m\u001b[0m\u001b[0m\n\u001b[0;32m--> 237\u001b[0;31m             \u001b[0;32mreturn\u001b[0m \u001b[0mfindvalue\u001b[0m\u001b[0;34m(\u001b[0m\u001b[0mself\u001b[0m\u001b[0;34m.\u001b[0m\u001b[0m_options_values\u001b[0m\u001b[0;34m,\u001b[0m \u001b[0mvalue\u001b[0m\u001b[0;34m,\u001b[0m \u001b[0mself\u001b[0m\u001b[0;34m.\u001b[0m\u001b[0mequals\u001b[0m\u001b[0;34m)\u001b[0m \u001b[0;32mif\u001b[0m \u001b[0mvalue\u001b[0m \u001b[0;32mis\u001b[0m \u001b[0;32mnot\u001b[0m \u001b[0;32mNone\u001b[0m \u001b[0;32melse\u001b[0m \u001b[0;32mNone\u001b[0m\u001b[0;34m\u001b[0m\u001b[0m\n\u001b[0m\u001b[1;32m    238\u001b[0m         \u001b[0;32mexcept\u001b[0m \u001b[0mValueError\u001b[0m\u001b[0;34m:\u001b[0m\u001b[0;34m\u001b[0m\u001b[0m\n",
      "\u001b[0;32m/media/orpheus92/OS/conda/envs/regulus/lib/python3.6/site-packages/ipywidgets/widgets/widget_selection.py\u001b[0m in \u001b[0;36mfindvalue\u001b[0;34m(array, value, compare)\u001b[0m\n\u001b[1;32m    134\u001b[0m     \u001b[0;32mexcept\u001b[0m \u001b[0mStopIteration\u001b[0m\u001b[0;34m:\u001b[0m\u001b[0;34m\u001b[0m\u001b[0m\n\u001b[0;32m--> 135\u001b[0;31m         \u001b[0;32mraise\u001b[0m \u001b[0mValueError\u001b[0m\u001b[0;34m(\u001b[0m\u001b[0;34m'%r not in array'\u001b[0m\u001b[0;34m%\u001b[0m\u001b[0mvalue\u001b[0m\u001b[0;34m)\u001b[0m\u001b[0;34m\u001b[0m\u001b[0m\n\u001b[0m\u001b[1;32m    136\u001b[0m \u001b[0;34m\u001b[0m\u001b[0m\n",
      "\u001b[0;31mValueError\u001b[0m: FastIntervalSelector(color='FireBrick', marks=[Image(image=Image(value=b'\\x89PNG\\r\\n\\x1a\\n\\x00\\x00\\x00\\rIHDR\\x00\\x00\\x01,\\x00\\x00\\x014\\x08\\x02\\x00\\x00\\x00\\x19\\x9a\\x99\\xd4\\x0...'), interactions={'hover': 'tooltip'}, scales={'x': LinearScale(), 'y': LinearScale()}, scales_metadata={'x': {'orientation': 'horizontal', 'dimension': 'x'}, 'y': {'orientation': 'vertical', 'dimension': 'y'}}, tooltip_style={'opacity': 0.9})], scale=LinearScale()) not in array",
      "\nDuring handling of the above exception, another exception occurred:\n",
      "\u001b[0;31mTraitError\u001b[0m                                Traceback (most recent call last)",
      "\u001b[0;32m<ipython-input-100-15ce7bcb3bf7>\u001b[0m in \u001b[0;36m<module>\u001b[0;34m()\u001b[0m\n\u001b[1;32m     23\u001b[0m \u001b[0;34m\u001b[0m\u001b[0m\n\u001b[1;32m     24\u001b[0m \u001b[0;34m\u001b[0m\u001b[0m\n\u001b[0;32m---> 25\u001b[0;31m \u001b[0mlink\u001b[0m\u001b[0;34m(\u001b[0m\u001b[0;34m(\u001b[0m\u001b[0mselection_interacts\u001b[0m\u001b[0;34m,\u001b[0m \u001b[0;34m'value'\u001b[0m\u001b[0;34m)\u001b[0m\u001b[0;34m,\u001b[0m \u001b[0;34m(\u001b[0m\u001b[0mfig\u001b[0m\u001b[0;34m,\u001b[0m \u001b[0;34m'interaction'\u001b[0m\u001b[0;34m)\u001b[0m\u001b[0;34m)\u001b[0m\u001b[0;34m\u001b[0m\u001b[0m\n\u001b[0m\u001b[1;32m     26\u001b[0m \u001b[0mVBox\u001b[0m\u001b[0;34m(\u001b[0m\u001b[0;34m[\u001b[0m\u001b[0mfig\u001b[0m\u001b[0;34m,\u001b[0m \u001b[0mselection_interacts\u001b[0m\u001b[0;34m,\u001b[0m \u001b[0mdeb\u001b[0m\u001b[0;34m]\u001b[0m\u001b[0;34m,\u001b[0m \u001b[0malign_self\u001b[0m\u001b[0;34m=\u001b[0m\u001b[0;34m'stretch'\u001b[0m\u001b[0;34m)\u001b[0m\u001b[0;34m\u001b[0m\u001b[0m\n",
      "\u001b[0;32m/media/orpheus92/OS/conda/envs/regulus/lib/python3.6/site-packages/traitlets/traitlets.py\u001b[0m in \u001b[0;36m__init__\u001b[0;34m(self, source, target)\u001b[0m\n\u001b[1;32m    272\u001b[0m         \u001b[0mself\u001b[0m\u001b[0;34m.\u001b[0m\u001b[0msource\u001b[0m\u001b[0;34m,\u001b[0m \u001b[0mself\u001b[0m\u001b[0;34m.\u001b[0m\u001b[0mtarget\u001b[0m \u001b[0;34m=\u001b[0m \u001b[0msource\u001b[0m\u001b[0;34m,\u001b[0m \u001b[0mtarget\u001b[0m\u001b[0;34m\u001b[0m\u001b[0m\n\u001b[1;32m    273\u001b[0m         \u001b[0;32mtry\u001b[0m\u001b[0;34m:\u001b[0m\u001b[0;34m\u001b[0m\u001b[0m\n\u001b[0;32m--> 274\u001b[0;31m             \u001b[0msetattr\u001b[0m\u001b[0;34m(\u001b[0m\u001b[0mtarget\u001b[0m\u001b[0;34m[\u001b[0m\u001b[0;36m0\u001b[0m\u001b[0;34m]\u001b[0m\u001b[0;34m,\u001b[0m \u001b[0mtarget\u001b[0m\u001b[0;34m[\u001b[0m\u001b[0;36m1\u001b[0m\u001b[0;34m]\u001b[0m\u001b[0;34m,\u001b[0m \u001b[0mgetattr\u001b[0m\u001b[0;34m(\u001b[0m\u001b[0msource\u001b[0m\u001b[0;34m[\u001b[0m\u001b[0;36m0\u001b[0m\u001b[0;34m]\u001b[0m\u001b[0;34m,\u001b[0m \u001b[0msource\u001b[0m\u001b[0;34m[\u001b[0m\u001b[0;36m1\u001b[0m\u001b[0;34m]\u001b[0m\u001b[0;34m)\u001b[0m\u001b[0;34m)\u001b[0m\u001b[0;34m\u001b[0m\u001b[0m\n\u001b[0m\u001b[1;32m    275\u001b[0m         \u001b[0;32mfinally\u001b[0m\u001b[0;34m:\u001b[0m\u001b[0;34m\u001b[0m\u001b[0m\n\u001b[1;32m    276\u001b[0m             \u001b[0msource\u001b[0m\u001b[0;34m[\u001b[0m\u001b[0;36m0\u001b[0m\u001b[0;34m]\u001b[0m\u001b[0;34m.\u001b[0m\u001b[0mobserve\u001b[0m\u001b[0;34m(\u001b[0m\u001b[0mself\u001b[0m\u001b[0;34m.\u001b[0m\u001b[0m_update_target\u001b[0m\u001b[0;34m,\u001b[0m \u001b[0mnames\u001b[0m\u001b[0;34m=\u001b[0m\u001b[0msource\u001b[0m\u001b[0;34m[\u001b[0m\u001b[0;36m1\u001b[0m\u001b[0;34m]\u001b[0m\u001b[0;34m)\u001b[0m\u001b[0;34m\u001b[0m\u001b[0m\n",
      "\u001b[0;32m/media/orpheus92/OS/conda/envs/regulus/lib/python3.6/site-packages/traitlets/traitlets.py\u001b[0m in \u001b[0;36m__set__\u001b[0;34m(self, obj, value)\u001b[0m\n\u001b[1;32m    583\u001b[0m             \u001b[0;32mraise\u001b[0m \u001b[0mTraitError\u001b[0m\u001b[0;34m(\u001b[0m\u001b[0;34m'The \"%s\" trait is read-only.'\u001b[0m \u001b[0;34m%\u001b[0m \u001b[0mself\u001b[0m\u001b[0;34m.\u001b[0m\u001b[0mname\u001b[0m\u001b[0;34m)\u001b[0m\u001b[0;34m\u001b[0m\u001b[0m\n\u001b[1;32m    584\u001b[0m         \u001b[0;32melse\u001b[0m\u001b[0;34m:\u001b[0m\u001b[0;34m\u001b[0m\u001b[0m\n\u001b[0;32m--> 585\u001b[0;31m             \u001b[0mself\u001b[0m\u001b[0;34m.\u001b[0m\u001b[0mset\u001b[0m\u001b[0;34m(\u001b[0m\u001b[0mobj\u001b[0m\u001b[0;34m,\u001b[0m \u001b[0mvalue\u001b[0m\u001b[0;34m)\u001b[0m\u001b[0;34m\u001b[0m\u001b[0m\n\u001b[0m\u001b[1;32m    586\u001b[0m \u001b[0;34m\u001b[0m\u001b[0m\n\u001b[1;32m    587\u001b[0m     \u001b[0;32mdef\u001b[0m \u001b[0m_validate\u001b[0m\u001b[0;34m(\u001b[0m\u001b[0mself\u001b[0m\u001b[0;34m,\u001b[0m \u001b[0mobj\u001b[0m\u001b[0;34m,\u001b[0m \u001b[0mvalue\u001b[0m\u001b[0;34m)\u001b[0m\u001b[0;34m:\u001b[0m\u001b[0;34m\u001b[0m\u001b[0m\n",
      "\u001b[0;32m/media/orpheus92/OS/conda/envs/regulus/lib/python3.6/site-packages/traitlets/traitlets.py\u001b[0m in \u001b[0;36mset\u001b[0;34m(self, obj, value)\u001b[0m\n\u001b[1;32m    572\u001b[0m             \u001b[0;31m# we explicitly compare silent to True just in case the equality\u001b[0m\u001b[0;34m\u001b[0m\u001b[0;34m\u001b[0m\u001b[0m\n\u001b[1;32m    573\u001b[0m             \u001b[0;31m# comparison above returns something other than True/False\u001b[0m\u001b[0;34m\u001b[0m\u001b[0;34m\u001b[0m\u001b[0m\n\u001b[0;32m--> 574\u001b[0;31m             \u001b[0mobj\u001b[0m\u001b[0;34m.\u001b[0m\u001b[0m_notify_trait\u001b[0m\u001b[0;34m(\u001b[0m\u001b[0mself\u001b[0m\u001b[0;34m.\u001b[0m\u001b[0mname\u001b[0m\u001b[0;34m,\u001b[0m \u001b[0mold_value\u001b[0m\u001b[0;34m,\u001b[0m \u001b[0mnew_value\u001b[0m\u001b[0;34m)\u001b[0m\u001b[0;34m\u001b[0m\u001b[0m\n\u001b[0m\u001b[1;32m    575\u001b[0m \u001b[0;34m\u001b[0m\u001b[0m\n\u001b[1;32m    576\u001b[0m     \u001b[0;32mdef\u001b[0m \u001b[0m__set__\u001b[0m\u001b[0;34m(\u001b[0m\u001b[0mself\u001b[0m\u001b[0;34m,\u001b[0m \u001b[0mobj\u001b[0m\u001b[0;34m,\u001b[0m \u001b[0mvalue\u001b[0m\u001b[0;34m)\u001b[0m\u001b[0;34m:\u001b[0m\u001b[0;34m\u001b[0m\u001b[0m\n",
      "\u001b[0;32m/media/orpheus92/OS/conda/envs/regulus/lib/python3.6/site-packages/traitlets/traitlets.py\u001b[0m in \u001b[0;36m_notify_trait\u001b[0;34m(self, name, old_value, new_value)\u001b[0m\n\u001b[1;32m   1137\u001b[0m             \u001b[0mnew\u001b[0m\u001b[0;34m=\u001b[0m\u001b[0mnew_value\u001b[0m\u001b[0;34m,\u001b[0m\u001b[0;34m\u001b[0m\u001b[0m\n\u001b[1;32m   1138\u001b[0m             \u001b[0mowner\u001b[0m\u001b[0;34m=\u001b[0m\u001b[0mself\u001b[0m\u001b[0;34m,\u001b[0m\u001b[0;34m\u001b[0m\u001b[0m\n\u001b[0;32m-> 1139\u001b[0;31m             \u001b[0mtype\u001b[0m\u001b[0;34m=\u001b[0m\u001b[0;34m'change'\u001b[0m\u001b[0;34m,\u001b[0m\u001b[0;34m\u001b[0m\u001b[0m\n\u001b[0m\u001b[1;32m   1140\u001b[0m         ))\n\u001b[1;32m   1141\u001b[0m \u001b[0;34m\u001b[0m\u001b[0m\n",
      "\u001b[0;32m/media/orpheus92/OS/conda/envs/regulus/lib/python3.6/site-packages/ipywidgets/widgets/widget.py\u001b[0m in \u001b[0;36mnotify_change\u001b[0;34m(self, change)\u001b[0m\n\u001b[1;32m    598\u001b[0m                 \u001b[0;31m# Send new state to front-end\u001b[0m\u001b[0;34m\u001b[0m\u001b[0;34m\u001b[0m\u001b[0m\n\u001b[1;32m    599\u001b[0m                 \u001b[0mself\u001b[0m\u001b[0;34m.\u001b[0m\u001b[0msend_state\u001b[0m\u001b[0;34m(\u001b[0m\u001b[0mkey\u001b[0m\u001b[0;34m=\u001b[0m\u001b[0mname\u001b[0m\u001b[0;34m)\u001b[0m\u001b[0;34m\u001b[0m\u001b[0m\n\u001b[0;32m--> 600\u001b[0;31m         \u001b[0msuper\u001b[0m\u001b[0;34m(\u001b[0m\u001b[0mWidget\u001b[0m\u001b[0;34m,\u001b[0m \u001b[0mself\u001b[0m\u001b[0;34m)\u001b[0m\u001b[0;34m.\u001b[0m\u001b[0mnotify_change\u001b[0m\u001b[0;34m(\u001b[0m\u001b[0mchange\u001b[0m\u001b[0;34m)\u001b[0m\u001b[0;34m\u001b[0m\u001b[0m\n\u001b[0m\u001b[1;32m    601\u001b[0m \u001b[0;34m\u001b[0m\u001b[0m\n\u001b[1;32m    602\u001b[0m     \u001b[0;32mdef\u001b[0m \u001b[0m__repr__\u001b[0m\u001b[0;34m(\u001b[0m\u001b[0mself\u001b[0m\u001b[0;34m)\u001b[0m\u001b[0;34m:\u001b[0m\u001b[0;34m\u001b[0m\u001b[0m\n",
      "\u001b[0;32m/media/orpheus92/OS/conda/envs/regulus/lib/python3.6/site-packages/traitlets/traitlets.py\u001b[0m in \u001b[0;36mnotify_change\u001b[0;34m(self, change)\u001b[0m\n\u001b[1;32m   1174\u001b[0m                 \u001b[0mc\u001b[0m \u001b[0;34m=\u001b[0m \u001b[0mgetattr\u001b[0m\u001b[0;34m(\u001b[0m\u001b[0mself\u001b[0m\u001b[0;34m,\u001b[0m \u001b[0mc\u001b[0m\u001b[0;34m.\u001b[0m\u001b[0mname\u001b[0m\u001b[0;34m)\u001b[0m\u001b[0;34m\u001b[0m\u001b[0m\n\u001b[1;32m   1175\u001b[0m \u001b[0;34m\u001b[0m\u001b[0m\n\u001b[0;32m-> 1176\u001b[0;31m             \u001b[0mc\u001b[0m\u001b[0;34m(\u001b[0m\u001b[0mchange\u001b[0m\u001b[0;34m)\u001b[0m\u001b[0;34m\u001b[0m\u001b[0m\n\u001b[0m\u001b[1;32m   1177\u001b[0m \u001b[0;34m\u001b[0m\u001b[0m\n\u001b[1;32m   1178\u001b[0m     \u001b[0;32mdef\u001b[0m \u001b[0m_add_notifiers\u001b[0m\u001b[0;34m(\u001b[0m\u001b[0mself\u001b[0m\u001b[0;34m,\u001b[0m \u001b[0mhandler\u001b[0m\u001b[0;34m,\u001b[0m \u001b[0mname\u001b[0m\u001b[0;34m,\u001b[0m \u001b[0mtype\u001b[0m\u001b[0;34m)\u001b[0m\u001b[0;34m:\u001b[0m\u001b[0;34m\u001b[0m\u001b[0m\n",
      "\u001b[0;32m/media/orpheus92/OS/conda/envs/regulus/lib/python3.6/site-packages/traitlets/traitlets.py\u001b[0m in \u001b[0;36m_update_source\u001b[0;34m(self, change)\u001b[0m\n\u001b[1;32m    295\u001b[0m             \u001b[0;32mreturn\u001b[0m\u001b[0;34m\u001b[0m\u001b[0m\n\u001b[1;32m    296\u001b[0m         \u001b[0;32mwith\u001b[0m \u001b[0mself\u001b[0m\u001b[0;34m.\u001b[0m\u001b[0m_busy_updating\u001b[0m\u001b[0;34m(\u001b[0m\u001b[0;34m)\u001b[0m\u001b[0;34m:\u001b[0m\u001b[0;34m\u001b[0m\u001b[0m\n\u001b[0;32m--> 297\u001b[0;31m             \u001b[0msetattr\u001b[0m\u001b[0;34m(\u001b[0m\u001b[0mself\u001b[0m\u001b[0;34m.\u001b[0m\u001b[0msource\u001b[0m\u001b[0;34m[\u001b[0m\u001b[0;36m0\u001b[0m\u001b[0;34m]\u001b[0m\u001b[0;34m,\u001b[0m \u001b[0mself\u001b[0m\u001b[0;34m.\u001b[0m\u001b[0msource\u001b[0m\u001b[0;34m[\u001b[0m\u001b[0;36m1\u001b[0m\u001b[0;34m]\u001b[0m\u001b[0;34m,\u001b[0m \u001b[0mchange\u001b[0m\u001b[0;34m.\u001b[0m\u001b[0mnew\u001b[0m\u001b[0;34m)\u001b[0m\u001b[0;34m\u001b[0m\u001b[0m\n\u001b[0m\u001b[1;32m    298\u001b[0m \u001b[0;34m\u001b[0m\u001b[0m\n\u001b[1;32m    299\u001b[0m     \u001b[0;32mdef\u001b[0m \u001b[0munlink\u001b[0m\u001b[0;34m(\u001b[0m\u001b[0mself\u001b[0m\u001b[0;34m)\u001b[0m\u001b[0;34m:\u001b[0m\u001b[0;34m\u001b[0m\u001b[0m\n",
      "\u001b[0;32m/media/orpheus92/OS/conda/envs/regulus/lib/python3.6/site-packages/traitlets/traitlets.py\u001b[0m in \u001b[0;36m__set__\u001b[0;34m(self, obj, value)\u001b[0m\n\u001b[1;32m    583\u001b[0m             \u001b[0;32mraise\u001b[0m \u001b[0mTraitError\u001b[0m\u001b[0;34m(\u001b[0m\u001b[0;34m'The \"%s\" trait is read-only.'\u001b[0m \u001b[0;34m%\u001b[0m \u001b[0mself\u001b[0m\u001b[0;34m.\u001b[0m\u001b[0mname\u001b[0m\u001b[0;34m)\u001b[0m\u001b[0;34m\u001b[0m\u001b[0m\n\u001b[1;32m    584\u001b[0m         \u001b[0;32melse\u001b[0m\u001b[0;34m:\u001b[0m\u001b[0;34m\u001b[0m\u001b[0m\n\u001b[0;32m--> 585\u001b[0;31m             \u001b[0mself\u001b[0m\u001b[0;34m.\u001b[0m\u001b[0mset\u001b[0m\u001b[0;34m(\u001b[0m\u001b[0mobj\u001b[0m\u001b[0;34m,\u001b[0m \u001b[0mvalue\u001b[0m\u001b[0;34m)\u001b[0m\u001b[0;34m\u001b[0m\u001b[0m\n\u001b[0m\u001b[1;32m    586\u001b[0m \u001b[0;34m\u001b[0m\u001b[0m\n\u001b[1;32m    587\u001b[0m     \u001b[0;32mdef\u001b[0m \u001b[0m_validate\u001b[0m\u001b[0;34m(\u001b[0m\u001b[0mself\u001b[0m\u001b[0;34m,\u001b[0m \u001b[0mobj\u001b[0m\u001b[0;34m,\u001b[0m \u001b[0mvalue\u001b[0m\u001b[0;34m)\u001b[0m\u001b[0;34m:\u001b[0m\u001b[0;34m\u001b[0m\u001b[0m\n",
      "\u001b[0;32m/media/orpheus92/OS/conda/envs/regulus/lib/python3.6/site-packages/traitlets/traitlets.py\u001b[0m in \u001b[0;36mset\u001b[0;34m(self, obj, value)\u001b[0m\n\u001b[1;32m    557\u001b[0m \u001b[0;34m\u001b[0m\u001b[0m\n\u001b[1;32m    558\u001b[0m     \u001b[0;32mdef\u001b[0m \u001b[0mset\u001b[0m\u001b[0;34m(\u001b[0m\u001b[0mself\u001b[0m\u001b[0;34m,\u001b[0m \u001b[0mobj\u001b[0m\u001b[0;34m,\u001b[0m \u001b[0mvalue\u001b[0m\u001b[0;34m)\u001b[0m\u001b[0;34m:\u001b[0m\u001b[0;34m\u001b[0m\u001b[0m\n\u001b[0;32m--> 559\u001b[0;31m         \u001b[0mnew_value\u001b[0m \u001b[0;34m=\u001b[0m \u001b[0mself\u001b[0m\u001b[0;34m.\u001b[0m\u001b[0m_validate\u001b[0m\u001b[0;34m(\u001b[0m\u001b[0mobj\u001b[0m\u001b[0;34m,\u001b[0m \u001b[0mvalue\u001b[0m\u001b[0;34m)\u001b[0m\u001b[0;34m\u001b[0m\u001b[0m\n\u001b[0m\u001b[1;32m    560\u001b[0m         \u001b[0;32mtry\u001b[0m\u001b[0;34m:\u001b[0m\u001b[0;34m\u001b[0m\u001b[0m\n\u001b[1;32m    561\u001b[0m             \u001b[0mold_value\u001b[0m \u001b[0;34m=\u001b[0m \u001b[0mobj\u001b[0m\u001b[0;34m.\u001b[0m\u001b[0m_trait_values\u001b[0m\u001b[0;34m[\u001b[0m\u001b[0mself\u001b[0m\u001b[0;34m.\u001b[0m\u001b[0mname\u001b[0m\u001b[0;34m]\u001b[0m\u001b[0;34m\u001b[0m\u001b[0m\n",
      "\u001b[0;32m/media/orpheus92/OS/conda/envs/regulus/lib/python3.6/site-packages/traitlets/traitlets.py\u001b[0m in \u001b[0;36m_validate\u001b[0;34m(self, obj, value)\u001b[0m\n\u001b[1;32m    591\u001b[0m             \u001b[0mvalue\u001b[0m \u001b[0;34m=\u001b[0m \u001b[0mself\u001b[0m\u001b[0;34m.\u001b[0m\u001b[0mvalidate\u001b[0m\u001b[0;34m(\u001b[0m\u001b[0mobj\u001b[0m\u001b[0;34m,\u001b[0m \u001b[0mvalue\u001b[0m\u001b[0;34m)\u001b[0m\u001b[0;34m\u001b[0m\u001b[0m\n\u001b[1;32m    592\u001b[0m         \u001b[0;32mif\u001b[0m \u001b[0mobj\u001b[0m\u001b[0;34m.\u001b[0m\u001b[0m_cross_validation_lock\u001b[0m \u001b[0;32mis\u001b[0m \u001b[0;32mFalse\u001b[0m\u001b[0;34m:\u001b[0m\u001b[0;34m\u001b[0m\u001b[0m\n\u001b[0;32m--> 593\u001b[0;31m             \u001b[0mvalue\u001b[0m \u001b[0;34m=\u001b[0m \u001b[0mself\u001b[0m\u001b[0;34m.\u001b[0m\u001b[0m_cross_validate\u001b[0m\u001b[0;34m(\u001b[0m\u001b[0mobj\u001b[0m\u001b[0;34m,\u001b[0m \u001b[0mvalue\u001b[0m\u001b[0;34m)\u001b[0m\u001b[0;34m\u001b[0m\u001b[0m\n\u001b[0m\u001b[1;32m    594\u001b[0m         \u001b[0;32mreturn\u001b[0m \u001b[0mvalue\u001b[0m\u001b[0;34m\u001b[0m\u001b[0m\n\u001b[1;32m    595\u001b[0m \u001b[0;34m\u001b[0m\u001b[0m\n",
      "\u001b[0;32m/media/orpheus92/OS/conda/envs/regulus/lib/python3.6/site-packages/traitlets/traitlets.py\u001b[0m in \u001b[0;36m_cross_validate\u001b[0;34m(self, obj, value)\u001b[0m\n\u001b[1;32m    597\u001b[0m         \u001b[0;32mif\u001b[0m \u001b[0mself\u001b[0m\u001b[0;34m.\u001b[0m\u001b[0mname\u001b[0m \u001b[0;32min\u001b[0m \u001b[0mobj\u001b[0m\u001b[0;34m.\u001b[0m\u001b[0m_trait_validators\u001b[0m\u001b[0;34m:\u001b[0m\u001b[0;34m\u001b[0m\u001b[0m\n\u001b[1;32m    598\u001b[0m             \u001b[0mproposal\u001b[0m \u001b[0;34m=\u001b[0m \u001b[0mBunch\u001b[0m\u001b[0;34m(\u001b[0m\u001b[0;34m{\u001b[0m\u001b[0;34m'trait'\u001b[0m\u001b[0;34m:\u001b[0m \u001b[0mself\u001b[0m\u001b[0;34m,\u001b[0m \u001b[0;34m'value'\u001b[0m\u001b[0;34m:\u001b[0m \u001b[0mvalue\u001b[0m\u001b[0;34m,\u001b[0m \u001b[0;34m'owner'\u001b[0m\u001b[0;34m:\u001b[0m \u001b[0mobj\u001b[0m\u001b[0;34m}\u001b[0m\u001b[0;34m)\u001b[0m\u001b[0;34m\u001b[0m\u001b[0m\n\u001b[0;32m--> 599\u001b[0;31m             \u001b[0mvalue\u001b[0m \u001b[0;34m=\u001b[0m \u001b[0mobj\u001b[0m\u001b[0;34m.\u001b[0m\u001b[0m_trait_validators\u001b[0m\u001b[0;34m[\u001b[0m\u001b[0mself\u001b[0m\u001b[0;34m.\u001b[0m\u001b[0mname\u001b[0m\u001b[0;34m]\u001b[0m\u001b[0;34m(\u001b[0m\u001b[0mobj\u001b[0m\u001b[0;34m,\u001b[0m \u001b[0mproposal\u001b[0m\u001b[0;34m)\u001b[0m\u001b[0;34m\u001b[0m\u001b[0m\n\u001b[0m\u001b[1;32m    600\u001b[0m         \u001b[0;32melif\u001b[0m \u001b[0mhasattr\u001b[0m\u001b[0;34m(\u001b[0m\u001b[0mobj\u001b[0m\u001b[0;34m,\u001b[0m \u001b[0;34m'_%s_validate'\u001b[0m \u001b[0;34m%\u001b[0m \u001b[0mself\u001b[0m\u001b[0;34m.\u001b[0m\u001b[0mname\u001b[0m\u001b[0;34m)\u001b[0m\u001b[0;34m:\u001b[0m\u001b[0;34m\u001b[0m\u001b[0m\n\u001b[1;32m    601\u001b[0m             \u001b[0mmeth_name\u001b[0m \u001b[0;34m=\u001b[0m \u001b[0;34m'_%s_validate'\u001b[0m \u001b[0;34m%\u001b[0m \u001b[0mself\u001b[0m\u001b[0;34m.\u001b[0m\u001b[0mname\u001b[0m\u001b[0;34m\u001b[0m\u001b[0m\n",
      "\u001b[0;32m/media/orpheus92/OS/conda/envs/regulus/lib/python3.6/site-packages/traitlets/traitlets.py\u001b[0m in \u001b[0;36m__call__\u001b[0;34m(self, *args, **kwargs)\u001b[0m\n\u001b[1;32m    905\u001b[0m         \u001b[0;34m\"\"\"Pass `*args` and `**kwargs` to the handler's function if it exists.\"\"\"\u001b[0m\u001b[0;34m\u001b[0m\u001b[0m\n\u001b[1;32m    906\u001b[0m         \u001b[0;32mif\u001b[0m \u001b[0mhasattr\u001b[0m\u001b[0;34m(\u001b[0m\u001b[0mself\u001b[0m\u001b[0;34m,\u001b[0m \u001b[0;34m'func'\u001b[0m\u001b[0;34m)\u001b[0m\u001b[0;34m:\u001b[0m\u001b[0;34m\u001b[0m\u001b[0m\n\u001b[0;32m--> 907\u001b[0;31m             \u001b[0;32mreturn\u001b[0m \u001b[0mself\u001b[0m\u001b[0;34m.\u001b[0m\u001b[0mfunc\u001b[0m\u001b[0;34m(\u001b[0m\u001b[0;34m*\u001b[0m\u001b[0margs\u001b[0m\u001b[0;34m,\u001b[0m \u001b[0;34m**\u001b[0m\u001b[0mkwargs\u001b[0m\u001b[0;34m)\u001b[0m\u001b[0;34m\u001b[0m\u001b[0m\n\u001b[0m\u001b[1;32m    908\u001b[0m         \u001b[0;32melse\u001b[0m\u001b[0;34m:\u001b[0m\u001b[0;34m\u001b[0m\u001b[0m\n\u001b[1;32m    909\u001b[0m             \u001b[0;32mreturn\u001b[0m \u001b[0mself\u001b[0m\u001b[0;34m.\u001b[0m\u001b[0m_init_call\u001b[0m\u001b[0;34m(\u001b[0m\u001b[0;34m*\u001b[0m\u001b[0margs\u001b[0m\u001b[0;34m,\u001b[0m \u001b[0;34m**\u001b[0m\u001b[0mkwargs\u001b[0m\u001b[0;34m)\u001b[0m\u001b[0;34m\u001b[0m\u001b[0m\n",
      "\u001b[0;32m/media/orpheus92/OS/conda/envs/regulus/lib/python3.6/site-packages/ipywidgets/widgets/widget_selection.py\u001b[0m in \u001b[0;36m_validate_value\u001b[0;34m(self, proposal)\u001b[0m\n\u001b[1;32m    237\u001b[0m             \u001b[0;32mreturn\u001b[0m \u001b[0mfindvalue\u001b[0m\u001b[0;34m(\u001b[0m\u001b[0mself\u001b[0m\u001b[0;34m.\u001b[0m\u001b[0m_options_values\u001b[0m\u001b[0;34m,\u001b[0m \u001b[0mvalue\u001b[0m\u001b[0;34m,\u001b[0m \u001b[0mself\u001b[0m\u001b[0;34m.\u001b[0m\u001b[0mequals\u001b[0m\u001b[0;34m)\u001b[0m \u001b[0;32mif\u001b[0m \u001b[0mvalue\u001b[0m \u001b[0;32mis\u001b[0m \u001b[0;32mnot\u001b[0m \u001b[0;32mNone\u001b[0m \u001b[0;32melse\u001b[0m \u001b[0;32mNone\u001b[0m\u001b[0;34m\u001b[0m\u001b[0m\n\u001b[1;32m    238\u001b[0m         \u001b[0;32mexcept\u001b[0m \u001b[0mValueError\u001b[0m\u001b[0;34m:\u001b[0m\u001b[0;34m\u001b[0m\u001b[0m\n\u001b[0;32m--> 239\u001b[0;31m             \u001b[0;32mraise\u001b[0m \u001b[0mTraitError\u001b[0m\u001b[0;34m(\u001b[0m\u001b[0;34m'Invalid selection: value not found'\u001b[0m\u001b[0;34m)\u001b[0m\u001b[0;34m\u001b[0m\u001b[0m\n\u001b[0m\u001b[1;32m    240\u001b[0m \u001b[0;34m\u001b[0m\u001b[0m\n\u001b[1;32m    241\u001b[0m     \u001b[0;34m@\u001b[0m\u001b[0mobserve\u001b[0m\u001b[0;34m(\u001b[0m\u001b[0;34m'value'\u001b[0m\u001b[0;34m)\u001b[0m\u001b[0;34m\u001b[0m\u001b[0m\n",
      "\u001b[0;31mTraitError\u001b[0m: Invalid selection: value not found"
     ]
    }
   ],
   "source": [
    "from bqplot import DateScale, LinearScale, OrdinalScale, Axis, Lines, Scatter, Bars, Hist, Figure\n",
    "from bqplot.interacts import (\n",
    "    FastIntervalSelector, IndexSelector, BrushIntervalSelector,\n",
    "    BrushSelector, MultiSelector, LassoSelector, PanZoom, HandDraw\n",
    ")\n",
    "from traitlets import link\n",
    "\n",
    "from ipywidgets import ToggleButtons, VBox, HTML\n",
    "\n",
    "#multi_sel = MultiSelector(scale=dt_x, marks=[lc2, lc3])\n",
    "#br_intsel = BrushIntervalSelector(scale=lc1_x, marks=[lc2, lc3])\n",
    "#index_sel = IndexSelector(scale=dt_x, marks=[lc2, lc3])\n",
    "int_sel = FastIntervalSelector(scale=LinearScale(), marks=fig.marks, color='FireBrick')\n",
    "\n",
    "\n",
    "from collections import OrderedDict\n",
    "selection_interacts = ToggleButtons(options=OrderedDict([#('HandDraw1', hd), ('HandDraw2', hd2), ('PanZoom', pz), \n",
    "                                                       ('FastIntervalSelector', int_sel),# ('IndexSelector', index_sel),\n",
    "                                                       #('BrushIntervalSelector', br_intsel), ('MultiSelector', multi_sel),\n",
    "                                                       ('None', None)]))\n",
    "\n",
    "deb = HTML()\n",
    "\n",
    "\n",
    "link((selection_interacts, 'value'), (fig, 'interaction'))\n",
    "VBox([fig, selection_interacts, deb], align_self='stretch')"
   ]
  },
  {
   "cell_type": "code",
   "execution_count": 80,
   "metadata": {},
   "outputs": [],
   "source": [
    "from ipywidgets import ToggleButtons, VBox, HTML, Layout\n",
    "\n",
    "#fig = plt.figure(padding_x=0, padding_y=0)\n",
    "#image = plt.imshow(ipyimage, 'widget')\n",
    "b = HTML()\n",
    "\n",
    "A = VBox([fig,b])"
   ]
  },
  {
   "cell_type": "code",
   "execution_count": 82,
   "metadata": {},
   "outputs": [
    {
     "data": {
      "text/plain": [
       "[Image(image=Image(value=b'\\x89PNG\\r\\n\\x1a\\n\\x00\\x00\\x00\\rIHDR\\x00\\x00\\x01,\\x00\\x00\\x014\\x08\\x02\\x00\\x00\\x00\\x19\\x9a\\x99\\xd4\\x0...'), interactions={'hover': 'tooltip'}, scales={'x': LinearScale(), 'y': LinearScale()}, scales_metadata={'x': {'orientation': 'horizontal', 'dimension': 'x'}, 'y': {'orientation': 'vertical', 'dimension': 'y'}}, tooltip_style={'opacity': 0.9})]"
      ]
     },
     "execution_count": 82,
     "metadata": {},
     "output_type": "execute_result"
    }
   ],
   "source": [
    "fig.marks"
   ]
  },
  {
   "cell_type": "code",
   "execution_count": 71,
   "metadata": {},
   "outputs": [
    {
     "data": {
      "text/plain": [
       "\u001b[0;33mabstract class:\u001b[0m\n",
       "    \u001b[0;36m__subclasshook__\u001b[0m\n",
       "\u001b[0;33mattribute access:\u001b[0m\n",
       "    \u001b[0;36m__delattr__\u001b[0m\u001b[1;30m, \u001b[0m\u001b[0;36m__dir__\u001b[0m\u001b[1;30m, \u001b[0m\u001b[0;36m__getattribute__\u001b[0m\u001b[1;30m, \u001b[0m\u001b[0;36m__setattr__\u001b[0m\n",
       "\u001b[0;33mclass customization:\u001b[0m\n",
       "    \u001b[0;36m__init_subclass__\u001b[0m\n",
       "\u001b[0;33mobject customization:\u001b[0m\n",
       "    \u001b[0;36m__del__\u001b[0m\u001b[1;30m, \u001b[0m\u001b[0;36m__format__\u001b[0m\u001b[1;30m, \u001b[0m\u001b[0;36m__hash__\u001b[0m\u001b[1;30m, \u001b[0m\u001b[0;36m__init__\u001b[0m\u001b[1;30m, \u001b[0m\u001b[0;36m__new__\u001b[0m\u001b[1;30m, \u001b[0m\u001b[0;36m__repr__\u001b[0m\u001b[1;30m, \u001b[0m\u001b[0;36m__sizeof__\u001b[0m\u001b[1;30m, \u001b[0m\u001b[0;36m__str__\u001b[0m\n",
       "\u001b[0;33mpickle:\u001b[0m\n",
       "    \u001b[0;36m__getstate__\u001b[0m\u001b[1;30m, \u001b[0m\u001b[0;36m__reduce__\u001b[0m\u001b[1;30m, \u001b[0m\u001b[0;36m__reduce_ex__\u001b[0m\u001b[1;30m, \u001b[0m\u001b[0;36m__setstate__\u001b[0m\n",
       "\u001b[0;33mproperty:\u001b[0m\n",
       "    \u001b[0;36m_cross_validation_lock\u001b[0m\u001b[1;30m, \u001b[0m\u001b[0;36m_holding_sync\u001b[0m\u001b[1;30m, \u001b[0m\u001b[0;36m_ipython_display_\u001b[0m\u001b[1;30m, \u001b[0m\u001b[0;36m_model_id\u001b[0m\u001b[1;30m, \u001b[0m\u001b[0;36m_trait_default_generators\u001b[0m\u001b[1;30m, \u001b[0m\u001b[0;36m_trait_notifiers\u001b[0m\u001b[1;30m, \u001b[0m\u001b[0;36m_trait_validators\u001b[0m\u001b[1;30m, \u001b[0m\u001b[0;36m_trait_values\u001b[0m\u001b[1;30m, \u001b[0m\u001b[0;36m_widget_construction_callback\u001b[0m\u001b[1;30m, \u001b[0m\u001b[0;36mtypes\u001b[0m\u001b[1;30m, \u001b[0m\u001b[0;36mwidget_types\u001b[0m\u001b[1;30m, \u001b[0m\u001b[0;36mwidgets\u001b[0m\n",
       "\u001b[0;33mrich comparison:\u001b[0m\n",
       "    \u001b[0;36m__eq__\u001b[0m\u001b[1;30m, \u001b[0m\u001b[0;36m__ge__\u001b[0m\u001b[1;30m, \u001b[0m\u001b[0;36m__gt__\u001b[0m\u001b[1;30m, \u001b[0m\u001b[0;36m__le__\u001b[0m\u001b[1;30m, \u001b[0m\u001b[0;36m__lt__\u001b[0m\u001b[1;30m, \u001b[0m\u001b[0;36m__ne__\u001b[0m\n",
       "\u001b[0;33mspecial attribute:\u001b[0m\n",
       "    \u001b[0;36m__class__\u001b[0m\u001b[1;30m, \u001b[0m\u001b[0;36m__dict__\u001b[0m\u001b[1;30m, \u001b[0m\u001b[0;36m__doc__\u001b[0m\u001b[1;30m, \u001b[0m\u001b[0;36m__module__\u001b[0m\u001b[1;30m, \u001b[0m\u001b[0;36m__weakref__\u001b[0m\n",
       "\u001b[0;33mdescriptor:\u001b[0m\n",
       "    \u001b[0;36m_call_widget_constructed:\u001b[0m \u001b[1;30mclass staticmethod with getter, staticmethod(function) -> method\u001b[0m\n",
       "    \u001b[0;36m_comm_changed:\u001b[0m \u001b[1;30mclass ObserveHandler with getter\u001b[0m\n",
       "    \u001b[0;36m_default_keys:\u001b[0m \u001b[1;30mclass DefaultHandler with getter\u001b[0m\n",
       "    \u001b[0;36m_display_callbacks:\u001b[0m \u001b[1;30mclass Instance with getter, setter, A trait whose value must be an instance of a specified class.\u001b[0m\n",
       "    \u001b[0;36m_log_default:\u001b[0m \u001b[1;30mclass DefaultHandler with getter\u001b[0m\n",
       "    \u001b[0;36m_model_module:\u001b[0m \u001b[1;30mclass Unicode with getter, setter, A trait for unicode strings.\u001b[0m\n",
       "    \u001b[0;36m_model_module_version:\u001b[0m \u001b[1;30mclass Unicode with getter, setter, A trait for unicode strings.\u001b[0m\n",
       "    \u001b[0;36m_model_name:\u001b[0m \u001b[1;30mclass Unicode with getter, setter, A trait for unicode strings.\u001b[0m\n",
       "    \u001b[0;36m_msg_callbacks:\u001b[0m \u001b[1;30mclass Instance with getter, setter, A trait whose value must be an instance of a specified class.\u001b[0m\n",
       "    \u001b[0;36m_property_lock:\u001b[0m \u001b[1;30mclass Dict with getter, setter, An instance of a Python dict.\u001b[0m\n",
       "    \u001b[0;36m_states_to_send:\u001b[0m \u001b[1;30mclass Set with getter, setter, An instance of a Python set.\u001b[0m\n",
       "    \u001b[0;36m_trait_from_json:\u001b[0m \u001b[1;30mclass staticmethod with getter, staticmethod(function) -> method\u001b[0m\n",
       "    \u001b[0;36m_trait_to_json:\u001b[0m \u001b[1;30mclass staticmethod with getter, staticmethod(function) -> method\u001b[0m\n",
       "    \u001b[0;36m_view_count:\u001b[0m \u001b[1;30mclass Int with getter, setter, An int trait.\u001b[0m\n",
       "    \u001b[0;36m_view_module:\u001b[0m \u001b[1;30mclass Unicode with getter, setter, A trait for unicode strings.\u001b[0m\n",
       "    \u001b[0;36m_view_module_version:\u001b[0m \u001b[1;30mclass Unicode with getter, setter, A trait for unicode strings.\u001b[0m\n",
       "    \u001b[0;36m_view_name:\u001b[0m \u001b[1;30mclass Unicode with getter, setter, A trait for unicode strings.\u001b[0m\n",
       "    \u001b[0;36mclass_own_trait_events:\u001b[0m \u001b[1;30mclass classmethod with getter, classmethod(function) -> method\u001b[0m\n",
       "    \u001b[0;36mclass_own_traits:\u001b[0m \u001b[1;30mclass classmethod with getter, classmethod(function) -> method\u001b[0m\n",
       "    \u001b[0;36mclass_trait_names:\u001b[0m \u001b[1;30mclass classmethod with getter, classmethod(function) -> method\u001b[0m\n",
       "    \u001b[0;36mclass_traits:\u001b[0m \u001b[1;30mclass classmethod with getter, classmethod(function) -> method\u001b[0m\n",
       "    \u001b[0;36mclose_all:\u001b[0m \u001b[1;30mclass classmethod with getter, classmethod(function) -> method\u001b[0m\n",
       "    \u001b[0;36mcolor:\u001b[0m \u001b[1;30mclass Color with getter, setter, A string holding a valid HTML color such as 'blue', '#060482', '#A80'\u001b[0m\n",
       "    \u001b[0;36mcomm:\u001b[0m \u001b[1;30mclass Instance with getter, setter, A trait whose value must be an instance of a specified class.\u001b[0m\n",
       "    \u001b[0;36mcross_validation_lock:\u001b[0m \u001b[1;30m@property with getter, A contextmanager for running a block with our cross validation lock set\u001b[0m\n",
       "    \u001b[0;36mget_manager_state:\u001b[0m \u001b[1;30mclass staticmethod with getter, staticmethod(function) -> method\u001b[0m\n",
       "    \u001b[0;36mhandle_comm_opened:\u001b[0m \u001b[1;30mclass staticmethod with getter, staticmethod(function) -> method\u001b[0m\n",
       "    \u001b[0;36mkeys:\u001b[0m \u001b[1;30mclass List with getter, setter, An instance of a Python list.\u001b[0m\n",
       "    \u001b[0;36mlog:\u001b[0m \u001b[1;30mclass Instance with getter, setter, A trait whose value must be an instance of a specified class.\u001b[0m\n",
       "    \u001b[0;36mmarks:\u001b[0m \u001b[1;30mclass List with getter, setter, An instance of a Python list.\u001b[0m\n",
       "    \u001b[0;36mmodel_id:\u001b[0m \u001b[1;30m@property with getter, Gets the model id of this widget.\u001b[0m\n",
       "    \u001b[0;36mon_widget_constructed:\u001b[0m \u001b[1;30mclass staticmethod with getter, staticmethod(function) -> method\u001b[0m\n",
       "    \u001b[0;36mscale:\u001b[0m \u001b[1;30mclass Instance with getter, setter, A trait whose value must be an instance of a specified class.\u001b[0m\n",
       "    \u001b[0;36mselected:\u001b[0m \u001b[1;30mclass Array with getter, setter, A numpy array trait type.\u001b[0m\n",
       "    \u001b[0;36msize:\u001b[0m \u001b[1;30mclass Float with getter, setter, A float trait.\u001b[0m\n",
       "    \u001b[0;36mtrait_events:\u001b[0m \u001b[1;30mclass classmethod with getter, classmethod(function) -> method\u001b[0m\n",
       "\u001b[0;33mfunction:\u001b[0m\n",
       "    \u001b[0;36m_add_notifiers:\u001b[0m \u001b[1;30m\u001b[0m\n",
       "    \u001b[0;36m_compare:\u001b[0m \u001b[1;30m\u001b[0m\n",
       "    \u001b[0;36m_gen_repr_from_keys:\u001b[0m \u001b[1;30m\u001b[0m\n",
       "    \u001b[0;36m_get_embed_state:\u001b[0m \u001b[1;30m\u001b[0m\n",
       "    \u001b[0;36m_handle_custom_msg:\u001b[0m \u001b[1;30mCalled when a custom msg is received.\u001b[0m\n",
       "    \u001b[0;36m_handle_displayed:\u001b[0m \u001b[1;30mCalled when a view has been displayed for this widget instance\u001b[0m\n",
       "    \u001b[0;36m_handle_msg:\u001b[0m \u001b[1;30m\u001b[0m\n",
       "    \u001b[0;36m_is_numpy:\u001b[0m \u001b[1;30m\u001b[0m\n",
       "    \u001b[0;36m_lock_property:\u001b[0m \u001b[1;30mLock a property-value pair.\u001b[0m\n",
       "    \u001b[0;36m_notify_trait:\u001b[0m \u001b[1;30m\u001b[0m\n",
       "    \u001b[0;36m_register_validator:\u001b[0m \u001b[1;30mSetup a handler to be called when a trait should be cross validated.\u001b[0m\n",
       "    \u001b[0;36m_remove_notifiers:\u001b[0m \u001b[1;30m\u001b[0m\n",
       "    \u001b[0;36m_repr_keys:\u001b[0m \u001b[1;30m\u001b[0m\n",
       "    \u001b[0;36m_send:\u001b[0m \u001b[1;30mSends a message to the model in the front-end.\u001b[0m\n",
       "    \u001b[0;36m_should_send_property:\u001b[0m \u001b[1;30mCheck the property lock (property_lock)\u001b[0m\n",
       "    \u001b[0;36madd_traits:\u001b[0m \u001b[1;30mDynamically add trait attributes to the Widget.\u001b[0m\n",
       "    \u001b[0;36mclose:\u001b[0m \u001b[1;30mClose method.\u001b[0m\n",
       "    \u001b[0;36mget_state:\u001b[0m \u001b[1;30mGets the widget state, or a piece of it.\u001b[0m\n",
       "    \u001b[0;36mget_view_spec:\u001b[0m \u001b[1;30m\u001b[0m\n",
       "    \u001b[0;36mhas_trait:\u001b[0m \u001b[1;30mReturns True if the object has a trait with the specified name.\u001b[0m\n",
       "    \u001b[0;36mhold_sync:\u001b[0m \u001b[1;30mHold syncing any state until the outermost context manager exits\u001b[0m\n",
       "    \u001b[0;36mhold_trait_notifications:\u001b[0m \u001b[1;30mContext manager for bundling trait change notifications and cross\u001b[0m\n",
       "    \u001b[0;36mnotify_change:\u001b[0m \u001b[1;30mCalled when a property has changed.\u001b[0m\n",
       "    \u001b[0;36mobserve:\u001b[0m \u001b[1;30mSetup a handler to be called when a trait changes.\u001b[0m\n",
       "    \u001b[0;36mon_displayed:\u001b[0m \u001b[1;30m(Un)Register a widget displayed callback.\u001b[0m\n",
       "    \u001b[0;36mon_msg:\u001b[0m \u001b[1;30m(Un)Register a custom msg receive callback.\u001b[0m\n",
       "    \u001b[0;36mon_trait_change:\u001b[0m \u001b[1;30mDEPRECATED: Setup a handler to be called when a trait changes.\u001b[0m\n",
       "    \u001b[0;36mopen:\u001b[0m \u001b[1;30mOpen a comm to the frontend if one isn't already open.\u001b[0m\n",
       "    \u001b[0;36mreset:\u001b[0m \u001b[1;30m\u001b[0m\n",
       "    \u001b[0;36msend:\u001b[0m \u001b[1;30mSends a custom msg to the widget model in the front-end.\u001b[0m\n",
       "    \u001b[0;36msend_state:\u001b[0m \u001b[1;30mSends the widget state, or a piece of it, to the front-end, if it exists.\u001b[0m\n",
       "    \u001b[0;36mset_state:\u001b[0m \u001b[1;30mCalled when a state is received from the front-end.\u001b[0m\n",
       "    \u001b[0;36mset_trait:\u001b[0m \u001b[1;30mForcibly sets trait attribute, including read-only attributes.\u001b[0m\n",
       "    \u001b[0;36msetup_instance:\u001b[0m \u001b[1;30mThis is called **before** self.__init__ is called.\u001b[0m\n",
       "    \u001b[0;36mtrait_metadata:\u001b[0m \u001b[1;30mGet metadata values for trait by key.\u001b[0m\n",
       "    \u001b[0;36mtrait_names:\u001b[0m \u001b[1;30mGet a list of all the names of this class' traits.\u001b[0m\n",
       "    \u001b[0;36mtraits:\u001b[0m \u001b[1;30mGet a ``dict`` of all the traits of this class.  The dictionary\u001b[0m\n",
       "    \u001b[0;36munobserve:\u001b[0m \u001b[1;30mRemove a trait change handler.\u001b[0m\n",
       "    \u001b[0;36munobserve_all:\u001b[0m \u001b[1;30mRemove trait change handlers of any type for the specified name.\u001b[0m"
      ]
     },
     "execution_count": 71,
     "metadata": {},
     "output_type": "execute_result"
    }
   ],
   "source": [
    "pdir(fig.interaction)"
   ]
  },
  {
   "cell_type": "code",
   "execution_count": 70,
   "metadata": {},
   "outputs": [
    {
     "data": {
      "text/plain": [
       "\u001b[0;33mabstract class:\u001b[0m\n",
       "    \u001b[0;36m__subclasshook__\u001b[0m\n",
       "\u001b[0;33mattribute access:\u001b[0m\n",
       "    \u001b[0;36m__delattr__\u001b[0m\u001b[1;30m, \u001b[0m\u001b[0;36m__dir__\u001b[0m\u001b[1;30m, \u001b[0m\u001b[0;36m__getattribute__\u001b[0m\u001b[1;30m, \u001b[0m\u001b[0;36m__setattr__\u001b[0m\n",
       "\u001b[0;33mclass customization:\u001b[0m\n",
       "    \u001b[0;36m__init_subclass__\u001b[0m\n",
       "\u001b[0;33mobject customization:\u001b[0m\n",
       "    \u001b[0;36m__del__\u001b[0m\u001b[1;30m, \u001b[0m\u001b[0;36m__format__\u001b[0m\u001b[1;30m, \u001b[0m\u001b[0;36m__hash__\u001b[0m\u001b[1;30m, \u001b[0m\u001b[0;36m__init__\u001b[0m\u001b[1;30m, \u001b[0m\u001b[0;36m__new__\u001b[0m\u001b[1;30m, \u001b[0m\u001b[0;36m__repr__\u001b[0m\u001b[1;30m, \u001b[0m\u001b[0;36m__sizeof__\u001b[0m\u001b[1;30m, \u001b[0m\u001b[0;36m__str__\u001b[0m\n",
       "\u001b[0;33mpickle:\u001b[0m\n",
       "    \u001b[0;36m__getstate__\u001b[0m\u001b[1;30m, \u001b[0m\u001b[0;36m__reduce__\u001b[0m\u001b[1;30m, \u001b[0m\u001b[0;36m__reduce_ex__\u001b[0m\u001b[1;30m, \u001b[0m\u001b[0;36m__setstate__\u001b[0m\n",
       "\u001b[0;33mproperty:\u001b[0m\n",
       "    \u001b[0;36m_cross_validation_lock\u001b[0m\u001b[1;30m, \u001b[0m\u001b[0;36m_holding_sync\u001b[0m\u001b[1;30m, \u001b[0m\u001b[0;36m_ipython_display_\u001b[0m\u001b[1;30m, \u001b[0m\u001b[0;36m_model_id\u001b[0m\u001b[1;30m, \u001b[0m\u001b[0;36m_trait_default_generators\u001b[0m\u001b[1;30m, \u001b[0m\u001b[0;36m_trait_notifiers\u001b[0m\u001b[1;30m, \u001b[0m\u001b[0;36m_trait_validators\u001b[0m\u001b[1;30m, \u001b[0m\u001b[0;36m_trait_values\u001b[0m\u001b[1;30m, \u001b[0m\u001b[0;36m_widget_construction_callback\u001b[0m\u001b[1;30m, \u001b[0m\u001b[0;36mtypes\u001b[0m\u001b[1;30m, \u001b[0m\u001b[0;36mwidget_types\u001b[0m\u001b[1;30m, \u001b[0m\u001b[0;36mwidgets\u001b[0m\n",
       "\u001b[0;33mrich comparison:\u001b[0m\n",
       "    \u001b[0;36m__eq__\u001b[0m\u001b[1;30m, \u001b[0m\u001b[0;36m__ge__\u001b[0m\u001b[1;30m, \u001b[0m\u001b[0;36m__gt__\u001b[0m\u001b[1;30m, \u001b[0m\u001b[0;36m__le__\u001b[0m\u001b[1;30m, \u001b[0m\u001b[0;36m__lt__\u001b[0m\u001b[1;30m, \u001b[0m\u001b[0;36m__ne__\u001b[0m\n",
       "\u001b[0;33mspecial attribute:\u001b[0m\n",
       "    \u001b[0;36m__class__\u001b[0m\u001b[1;30m, \u001b[0m\u001b[0;36m__dict__\u001b[0m\u001b[1;30m, \u001b[0m\u001b[0;36m__doc__\u001b[0m\u001b[1;30m, \u001b[0m\u001b[0;36m__module__\u001b[0m\u001b[1;30m, \u001b[0m\u001b[0;36m__weakref__\u001b[0m\n",
       "\u001b[0;33mdescriptor:\u001b[0m\n",
       "    \u001b[0;36m_call_widget_constructed:\u001b[0m \u001b[1;30mclass staticmethod with getter, staticmethod(function) -> method\u001b[0m\n",
       "    \u001b[0;36m_comm_changed:\u001b[0m \u001b[1;30mclass ObserveHandler with getter\u001b[0m\n",
       "    \u001b[0;36m_default_keys:\u001b[0m \u001b[1;30mclass DefaultHandler with getter\u001b[0m\n",
       "    \u001b[0;36m_display_callbacks:\u001b[0m \u001b[1;30mclass Instance with getter, setter, A trait whose value must be an instance of a specified class.\u001b[0m\n",
       "    \u001b[0;36m_log_default:\u001b[0m \u001b[1;30mclass DefaultHandler with getter\u001b[0m\n",
       "    \u001b[0;36m_model_module:\u001b[0m \u001b[1;30mclass Unicode with getter, setter, A trait for unicode strings.\u001b[0m\n",
       "    \u001b[0;36m_model_module_version:\u001b[0m \u001b[1;30mclass Unicode with getter, setter, A trait for unicode strings.\u001b[0m\n",
       "    \u001b[0;36m_model_name:\u001b[0m \u001b[1;30mclass Unicode with getter, setter, A trait for unicode strings.\u001b[0m\n",
       "    \u001b[0;36m_msg_callbacks:\u001b[0m \u001b[1;30mclass Instance with getter, setter, A trait whose value must be an instance of a specified class.\u001b[0m\n",
       "    \u001b[0;36m_property_lock:\u001b[0m \u001b[1;30mclass Dict with getter, setter, An instance of a Python dict.\u001b[0m\n",
       "    \u001b[0;36m_states_to_send:\u001b[0m \u001b[1;30mclass Set with getter, setter, An instance of a Python set.\u001b[0m\n",
       "    \u001b[0;36m_trait_from_json:\u001b[0m \u001b[1;30mclass staticmethod with getter, staticmethod(function) -> method\u001b[0m\n",
       "    \u001b[0;36m_trait_to_json:\u001b[0m \u001b[1;30mclass staticmethod with getter, staticmethod(function) -> method\u001b[0m\n",
       "    \u001b[0;36m_view_count:\u001b[0m \u001b[1;30mclass Int with getter, setter, An int trait.\u001b[0m\n",
       "    \u001b[0;36m_view_module:\u001b[0m \u001b[1;30mclass Unicode with getter, setter, A trait for unicode strings.\u001b[0m\n",
       "    \u001b[0;36m_view_module_version:\u001b[0m \u001b[1;30mclass Unicode with getter, setter, A trait for unicode strings.\u001b[0m\n",
       "    \u001b[0;36m_view_name:\u001b[0m \u001b[1;30mclass Unicode with getter, setter, A trait for unicode strings.\u001b[0m\n",
       "    \u001b[0;36mbrushing:\u001b[0m \u001b[1;30mclass Bool with getter, setter, A boolean (True, False) trait.\u001b[0m\n",
       "    \u001b[0;36mclass_own_trait_events:\u001b[0m \u001b[1;30mclass classmethod with getter, classmethod(function) -> method\u001b[0m\n",
       "    \u001b[0;36mclass_own_traits:\u001b[0m \u001b[1;30mclass classmethod with getter, classmethod(function) -> method\u001b[0m\n",
       "    \u001b[0;36mclass_trait_names:\u001b[0m \u001b[1;30mclass classmethod with getter, classmethod(function) -> method\u001b[0m\n",
       "    \u001b[0;36mclass_traits:\u001b[0m \u001b[1;30mclass classmethod with getter, classmethod(function) -> method\u001b[0m\n",
       "    \u001b[0;36mclear:\u001b[0m \u001b[1;30mclass Bool with getter, setter, A boolean (True, False) trait.\u001b[0m\n",
       "    \u001b[0;36mclose_all:\u001b[0m \u001b[1;30mclass classmethod with getter, classmethod(function) -> method\u001b[0m\n",
       "    \u001b[0;36mcolor:\u001b[0m \u001b[1;30mclass Color with getter, setter, A string holding a valid HTML color such as 'blue', '#060482', '#A80'\u001b[0m\n",
       "    \u001b[0;36mcomm:\u001b[0m \u001b[1;30mclass Instance with getter, setter, A trait whose value must be an instance of a specified class.\u001b[0m\n",
       "    \u001b[0;36mcross_validation_lock:\u001b[0m \u001b[1;30m@property with getter, A contextmanager for running a block with our cross validation lock set\u001b[0m\n",
       "    \u001b[0;36mget_manager_state:\u001b[0m \u001b[1;30mclass staticmethod with getter, staticmethod(function) -> method\u001b[0m\n",
       "    \u001b[0;36mhandle_comm_opened:\u001b[0m \u001b[1;30mclass staticmethod with getter, staticmethod(function) -> method\u001b[0m\n",
       "    \u001b[0;36mkeys:\u001b[0m \u001b[1;30mclass List with getter, setter, An instance of a Python list.\u001b[0m\n",
       "    \u001b[0;36mlog:\u001b[0m \u001b[1;30mclass Instance with getter, setter, A trait whose value must be an instance of a specified class.\u001b[0m\n",
       "    \u001b[0;36mmarks:\u001b[0m \u001b[1;30mclass List with getter, setter, An instance of a Python list.\u001b[0m\n",
       "    \u001b[0;36mmodel_id:\u001b[0m \u001b[1;30m@property with getter, Gets the model id of this widget.\u001b[0m\n",
       "    \u001b[0;36mon_widget_constructed:\u001b[0m \u001b[1;30mclass staticmethod with getter, staticmethod(function) -> method\u001b[0m\n",
       "    \u001b[0;36mselected:\u001b[0m \u001b[1;30m@property with getter\u001b[0m\n",
       "    \u001b[0;36mselected_x:\u001b[0m \u001b[1;30mclass Array with getter, setter, A numpy array trait type.\u001b[0m\n",
       "    \u001b[0;36mselected_y:\u001b[0m \u001b[1;30mclass Array with getter, setter, A numpy array trait type.\u001b[0m\n",
       "    \u001b[0;36mtrait_events:\u001b[0m \u001b[1;30mclass classmethod with getter, classmethod(function) -> method\u001b[0m\n",
       "    \u001b[0;36mx_scale:\u001b[0m \u001b[1;30mclass Instance with getter, setter, A trait whose value must be an instance of a specified class.\u001b[0m\n",
       "    \u001b[0;36my_scale:\u001b[0m \u001b[1;30mclass Instance with getter, setter, A trait whose value must be an instance of a specified class.\u001b[0m\n",
       "\u001b[0;33mfunction:\u001b[0m\n",
       "    \u001b[0;36m_add_notifiers:\u001b[0m \u001b[1;30m\u001b[0m\n",
       "    \u001b[0;36m_compare:\u001b[0m \u001b[1;30m\u001b[0m\n",
       "    \u001b[0;36m_gen_repr_from_keys:\u001b[0m \u001b[1;30m\u001b[0m\n",
       "    \u001b[0;36m_get_embed_state:\u001b[0m \u001b[1;30m\u001b[0m\n",
       "    \u001b[0;36m_handle_custom_msg:\u001b[0m \u001b[1;30mCalled when a custom msg is received.\u001b[0m\n",
       "    \u001b[0;36m_handle_displayed:\u001b[0m \u001b[1;30mCalled when a view has been displayed for this widget instance\u001b[0m\n",
       "    \u001b[0;36m_handle_msg:\u001b[0m \u001b[1;30m\u001b[0m\n",
       "    \u001b[0;36m_is_numpy:\u001b[0m \u001b[1;30m\u001b[0m\n",
       "    \u001b[0;36m_lock_property:\u001b[0m \u001b[1;30mLock a property-value pair.\u001b[0m\n",
       "    \u001b[0;36m_notify_trait:\u001b[0m \u001b[1;30m\u001b[0m\n",
       "    \u001b[0;36m_register_validator:\u001b[0m \u001b[1;30mSetup a handler to be called when a trait should be cross validated.\u001b[0m\n",
       "    \u001b[0;36m_remove_notifiers:\u001b[0m \u001b[1;30m\u001b[0m\n",
       "    \u001b[0;36m_repr_keys:\u001b[0m \u001b[1;30m\u001b[0m\n",
       "    \u001b[0;36m_send:\u001b[0m \u001b[1;30mSends a message to the model in the front-end.\u001b[0m\n",
       "    \u001b[0;36m_should_send_property:\u001b[0m \u001b[1;30mCheck the property lock (property_lock)\u001b[0m\n",
       "    \u001b[0;36madd_traits:\u001b[0m \u001b[1;30mDynamically add trait attributes to the Widget.\u001b[0m\n",
       "    \u001b[0;36mclose:\u001b[0m \u001b[1;30mClose method.\u001b[0m\n",
       "    \u001b[0;36mget_state:\u001b[0m \u001b[1;30mGets the widget state, or a piece of it.\u001b[0m\n",
       "    \u001b[0;36mget_view_spec:\u001b[0m \u001b[1;30m\u001b[0m\n",
       "    \u001b[0;36mhas_trait:\u001b[0m \u001b[1;30mReturns True if the object has a trait with the specified name.\u001b[0m\n",
       "    \u001b[0;36mhold_sync:\u001b[0m \u001b[1;30mHold syncing any state until the outermost context manager exits\u001b[0m\n",
       "    \u001b[0;36mhold_trait_notifications:\u001b[0m \u001b[1;30mContext manager for bundling trait change notifications and cross\u001b[0m\n",
       "    \u001b[0;36mnotify_change:\u001b[0m \u001b[1;30mCalled when a property has changed.\u001b[0m\n",
       "    \u001b[0;36mobserve:\u001b[0m \u001b[1;30mSetup a handler to be called when a trait changes.\u001b[0m\n",
       "    \u001b[0;36mon_displayed:\u001b[0m \u001b[1;30m(Un)Register a widget displayed callback.\u001b[0m\n",
       "    \u001b[0;36mon_msg:\u001b[0m \u001b[1;30m(Un)Register a custom msg receive callback.\u001b[0m\n",
       "    \u001b[0;36mon_trait_change:\u001b[0m \u001b[1;30mDEPRECATED: Setup a handler to be called when a trait changes.\u001b[0m\n",
       "    \u001b[0;36mopen:\u001b[0m \u001b[1;30mOpen a comm to the frontend if one isn't already open.\u001b[0m\n",
       "    \u001b[0;36mreset:\u001b[0m \u001b[1;30m\u001b[0m\n",
       "    \u001b[0;36msend:\u001b[0m \u001b[1;30mSends a custom msg to the widget model in the front-end.\u001b[0m\n",
       "    \u001b[0;36msend_state:\u001b[0m \u001b[1;30mSends the widget state, or a piece of it, to the front-end, if it exists.\u001b[0m\n",
       "    \u001b[0;36mset_state:\u001b[0m \u001b[1;30mCalled when a state is received from the front-end.\u001b[0m\n",
       "    \u001b[0;36mset_trait:\u001b[0m \u001b[1;30mForcibly sets trait attribute, including read-only attributes.\u001b[0m\n",
       "    \u001b[0;36msetup_instance:\u001b[0m \u001b[1;30mThis is called **before** self.__init__ is called.\u001b[0m\n",
       "    \u001b[0;36mtrait_metadata:\u001b[0m \u001b[1;30mGet metadata values for trait by key.\u001b[0m\n",
       "    \u001b[0;36mtrait_names:\u001b[0m \u001b[1;30mGet a list of all the names of this class' traits.\u001b[0m\n",
       "    \u001b[0;36mtraits:\u001b[0m \u001b[1;30mGet a ``dict`` of all the traits of this class.  The dictionary\u001b[0m\n",
       "    \u001b[0;36munobserve:\u001b[0m \u001b[1;30mRemove a trait change handler.\u001b[0m\n",
       "    \u001b[0;36munobserve_all:\u001b[0m \u001b[1;30mRemove trait change handlers of any type for the specified name.\u001b[0m"
      ]
     },
     "execution_count": 70,
     "metadata": {},
     "output_type": "execute_result"
    }
   ],
   "source": [
    "pdir(myp.fig.interaction)"
   ]
  },
  {
   "cell_type": "code",
   "execution_count": 72,
   "metadata": {},
   "outputs": [
    {
     "data": {
      "text/plain": [
       "['brush']"
      ]
     },
     "execution_count": 72,
     "metadata": {},
     "output_type": "execute_result"
    }
   ],
   "source": [
    "myp.enabled"
   ]
  },
  {
   "cell_type": "code",
   "execution_count": null,
   "metadata": {},
   "outputs": [],
   "source": []
  },
  {
   "cell_type": "code",
   "execution_count": null,
   "metadata": {},
   "outputs": [],
   "source": []
  },
  {
   "cell_type": "code",
   "execution_count": 83,
   "metadata": {},
   "outputs": [],
   "source": []
  },
  {
   "cell_type": "code",
   "execution_count": 84,
   "metadata": {},
   "outputs": [
    {
     "data": {
      "application/vnd.jupyter.widget-view+json": {
       "model_id": "fa572bf5ebfe499bad26a0375b4d755d",
       "version_major": 2,
       "version_minor": 0
      },
      "text/plain": [
       "VBox(children=(Figure(animation_duration=1000, axes=[Axis(scale=LinearScale(), side='bottom'), Axis(orientatio…"
      ]
     },
     "metadata": {},
     "output_type": "display_data"
    }
   ],
   "source": []
  },
  {
   "cell_type": "code",
   "execution_count": 74,
   "metadata": {},
   "outputs": [
    {
     "data": {
      "text/plain": [
       "FastIntervalSelector(color='FireBrick', marks=[Image(image=Image(value=b'\\x89PNG\\r\\n\\x1a\\n\\x00\\x00\\x00\\rIHDR\\x00\\x00\\x01,\\x00\\x00\\x014\\x08\\x02\\x00\\x00\\x00\\x19\\x9a\\x99\\xd4\\x0...'), interactions={'hover': 'tooltip'}, scales={'x': LinearScale(), 'y': LinearScale()}, scales_metadata={'x': {'orientation': 'horizontal', 'dimension': 'x'}, 'y': {'orientation': 'vertical', 'dimension': 'y'}}, tooltip_style={'opacity': 0.9})], scale=LinearScale())"
      ]
     },
     "execution_count": 74,
     "metadata": {},
     "output_type": "execute_result"
    }
   ],
   "source": [
    "selection_interacts.value"
   ]
  },
  {
   "cell_type": "code",
   "execution_count": 2,
   "metadata": {},
   "outputs": [
    {
     "data": {
      "text/plain": [
       "<matplotlib.axes._subplots.AxesSubplot at 0x7f60428de0b8>"
      ]
     },
     "execution_count": 2,
     "metadata": {},
     "output_type": "execute_result"
    },
    {
     "data": {
      "image/png": "[encoded data removed]",
      "text/plain": [
       "<Figure size 792x648 with 2 Axes>"
      ]
     },
     "metadata": {},
     "output_type": "display_data"
    }
   ],
   "source": [
    "\n",
    "from string import ascii_letters\n",
    "import numpy as np\n",
    "import pandas as pd\n",
    "import seaborn as sns\n",
    "import matplotlib.pyplot as plt\n",
    "\n",
    "sns.set(style=\"white\")\n",
    "\n",
    "# Generate a large random dataset\n",
    "rs = np.random.RandomState(33)\n",
    "d = pd.DataFrame(data=rs.normal(size=(100, 26)),\n",
    "                 columns=list(ascii_letters[26:]))\n",
    "\n",
    "# Compute the correlation matrix\n",
    "corr = d.corr()\n",
    "\n",
    "# Generate a mask for the upper triangle\n",
    "mask = np.zeros_like(corr, dtype=np.bool)\n",
    "mask[np.triu_indices_from(mask)] = True\n",
    "\n",
    "# Set up the matplotlib figure\n",
    "f, ax = plt.subplots(figsize=(11, 9))\n",
    "\n",
    "# Generate a custom diverging colormap\n",
    "cmap = sns.diverging_palette(220, 10, as_cmap=True)\n",
    "\n",
    "# Draw the heatmap with the mask and correct aspect ratio\n",
    "sns.heatmap(corr, mask=mask, cmap=cmap, vmax=.3, center=0,\n",
    "            square=True, linewidths=.5, cbar_kws={\"shrink\": .5})"
   ]
  }
 ],
 "metadata": {
  "kernelspec": {
   "display_name": "Python 3",
   "language": "python",
   "name": "python3"
  },
  "language_info": {
   "codemirror_mode": {
    "name": "ipython",
    "version": 3
   },
   "file_extension": ".py",
   "mimetype": "text/x-python",
   "name": "python",
   "nbconvert_exporter": "python",
   "pygments_lexer": "ipython3",
   "version": "3.6.6"
  }
 },
 "nbformat": 4,
 "nbformat_minor": 2
}
