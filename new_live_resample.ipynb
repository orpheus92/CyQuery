{
 "cells": [
  {
   "cell_type": "code",
   "execution_count": 45,
   "metadata": {},
   "outputs": [],
   "source": [
    "import numpy as np\n",
    "from ipywidgets import interact, HTML\n",
    "import random\n",
    "import pdir\n",
    "\n",
    "\n",
    "from sidepanel import SidePanel\n",
    "\n",
    "import ipywidgets as widgets\n",
    "\n",
    "from regulus.utils import io\n",
    "from regulus.topo import * \n",
    "from regulus.alg import *\n",
    "from regulus.measures import *\n",
    "from regulus.models import *\n",
    "from regulus.tree import *\n",
    "\n",
    "from ipyregulus import TreeWidget, TreeView, DetailsView, DataWidget\n",
    "from ipyregulus.filters.filters import * \n",
    "from ipyregulus.filters.monitor import Monitor\n",
    "from ipyregulus.tree.has_tree import *\n",
    "from ipyregulus.alg.view import *\n",
    "\n",
    "\n",
    "from regulus.topo import morse_smale, Regulus\n",
    "from regulus.data.data import Data\n",
    "from regulus.measures import *\n",
    "from regulus.models import *\n",
    "import pandas as pd"
   ]
  },
  {
   "cell_type": "code",
   "execution_count": 109,
   "metadata": {},
   "outputs": [],
   "source": [
    "samples = 400\n",
    "\n",
    "# from test_functions import *\n",
    "# test_function = gerber_different_heights\n",
    "# X = np.random.rand(samples,2)\n",
    "# Y = test_function(X)\n",
    "# all_pts = np.hstack((X,np.expand_dims(Y, axis=1)))\n",
    "\n",
    "from Hartmann import create, calc_Hartmanny\n",
    "\n",
    "all_pts = create(samples)\n"
   ]
  },
  {
   "cell_type": "code",
   "execution_count": 89,
   "metadata": {},
   "outputs": [],
   "source": [
    "from sklearn.linear_model import LinearRegression\n",
    "from sklearn.metrics.pairwise import cosine_similarity\n",
    "from refine_topo import Refine\n",
    "from resample import Resample\n",
    "\n",
    "\n",
    "def create_reg(all_pts, k=8):\n",
    "    cols = ['x'+str(i) for i in range(all_pts.shape[1])]\n",
    "\n",
    "    cols[-1] = 'y'\n",
    "\n",
    "    df = pd.DataFrame(all_pts, columns=cols)\n",
    "\n",
    "    pts = Data.from_pts(df)\n",
    "\n",
    "    # Normalize here  \n",
    "    pts.normalize()\n",
    "\n",
    "    regulus = morse_smale(pts, knn=k)#**kwargs)\n",
    "\n",
    "    regulus.add_attr('linear', linear_model)\n",
    "    regulus.add_attr('fitness', fitness)\n",
    "    regulus.add_attr('relative_fitness', relative_fitness)\n",
    "\n",
    "    regulus.tree.add_attr('parent_fitness', parent_fitness)\n",
    "    regulus.tree.add_attr('child_fitness', child_fitness)\n",
    "    regulus.tree.add_attr('size', node_size)\n",
    "    regulus.tree.add_attr('rel_size', node_relative_size)\n",
    "    regulus.tree.add_attr('span', node_span)\n",
    "    return regulus\n",
    "\n",
    "\n",
    "\n",
    "def mymeasure(node):\n",
    "    attr=\"id\"\n",
    "    if hasattr(node, attr) and hasattr(node,'parent') and hasattr(node.parent,attr):\n",
    "        cid, pid = getattr(node, attr), getattr(node.parent, attr)\n",
    "        if cid >=0 and pid>=0: #check both are valid partitions\n",
    "\n",
    "            cx, cy = node.data.x.values, node.data.y.values\n",
    "            px, py = node.parent.data.x.values, node.parent.data.y.values\n",
    "            \n",
    "            # Linear coeff for both and similarity \n",
    "            creg, preg = LinearRegression().fit(cx, cy), \\\n",
    "                        LinearRegression().fit(px, py)\n",
    "\n",
    "            # fitness\n",
    "            cscore, pscore = creg.score(cx, cy), preg.score(px, py)\n",
    "            # sensitivity\n",
    "            ccoef, pcoef = creg.coef_, preg.coef_\n",
    "            # intercept\n",
    "            cint, pint = creg.intercept_, preg.intercept_\n",
    "\n",
    "            return cosine_similarity(ccoef.reshape(1, -1), pcoef.reshape(1, -1))[0][0]\n",
    "    return -1  \n",
    "\n",
    "\n",
    "def regenerate(all_pts, partitions, test_function, pids, step=5):\n",
    "    dims = all_pts.shape[1]-1\n",
    "    new_x = np.array([], dtype=np.float64).reshape(0,dims)\n",
    "    r = Resample()\n",
    "    \n",
    "    for ind in pids:\n",
    "        cur_x = partitions[ind].x.values\n",
    "        cur_y = partitions[ind].y.values.reshape(-1,1)\n",
    "        cur_p = np.hstack((cur_x, cur_y))\n",
    "        r.resample_data(cur_p, step)\n",
    "        out = r.newsamples\n",
    "        new_x = np.vstack((new_x, out))\n",
    "    new_y = test_function(new_x).reshape(-1,1)\n",
    "    new_pts = np.hstack((new_x,new_y))\n",
    "    all_pts2 = np.vstack((all_pts, new_pts))\n",
    "    return all_pts2\n"
   ]
  },
  {
   "cell_type": "code",
   "execution_count": 131,
   "metadata": {},
   "outputs": [
    {
     "name": "stderr",
     "output_type": "stream",
     "text": [
      "/media/orpheus92/OS/conda/envs/regulus/lib/python3.6/site-packages/numpy/core/fromnumeric.py:51: FutureWarning: 'argmin' is deprecated, use 'idxmin' instead. The behavior of 'argmin'\n",
      "will be corrected to return the positional minimum in the future.\n",
      "Use 'series.values.argmin' to get the position of the minimum now.\n",
      "  return getattr(obj, method)(*args, **kwds)\n",
      "/media/orpheus92/OS/conda/envs/regulus/lib/python3.6/site-packages/numpy/core/fromnumeric.py:51: FutureWarning: 'argmax' is deprecated, use 'idxmax' instead. The behavior of 'argmax'\n",
      "will be corrected to return the positional maximum in the future.\n",
      "Use 'series.values.argmax' to get the position of the maximum now.\n",
      "  return getattr(obj, method)(*args, **kwds)\n"
     ]
    },
    {
     "ename": "RuntimeError",
     "evalue": "Error: found 4 roots",
     "output_type": "error",
     "traceback": [
      "\u001b[0;31m---------------------------------------------------------------------------\u001b[0m",
      "\u001b[0;31mRuntimeError\u001b[0m                              Traceback (most recent call last)",
      "\u001b[0;32m<ipython-input-131-ebdde404d205>\u001b[0m in \u001b[0;36m<module>\u001b[0;34m()\u001b[0m\n\u001b[0;32m----> 1\u001b[0;31m \u001b[0mregulus\u001b[0m \u001b[0;34m=\u001b[0m \u001b[0mcreate_reg\u001b[0m\u001b[0;34m(\u001b[0m\u001b[0mall_pts\u001b[0m\u001b[0;34m,\u001b[0m \u001b[0mk\u001b[0m \u001b[0;34m=\u001b[0m \u001b[0;36m200\u001b[0m\u001b[0;34m)\u001b[0m\u001b[0;34m\u001b[0m\u001b[0m\n\u001b[0m\u001b[1;32m      2\u001b[0m \u001b[0;34m\u001b[0m\u001b[0m\n\u001b[1;32m      3\u001b[0m \u001b[0mpartitions\u001b[0m \u001b[0;34m=\u001b[0m \u001b[0mlist\u001b[0m\u001b[0;34m(\u001b[0m\u001b[0mregulus\u001b[0m\u001b[0;34m.\u001b[0m\u001b[0mpartitions\u001b[0m\u001b[0;34m(\u001b[0m\u001b[0;34m)\u001b[0m\u001b[0;34m)\u001b[0m\u001b[0;34m\u001b[0m\u001b[0m\n\u001b[1;32m      4\u001b[0m \u001b[0;34m\u001b[0m\u001b[0m\n\u001b[1;32m      5\u001b[0m \u001b[0mrt\u001b[0m \u001b[0;34m=\u001b[0m \u001b[0mRefine\u001b[0m\u001b[0;34m(\u001b[0m\u001b[0;36m0.4\u001b[0m\u001b[0;34m,\u001b[0m \u001b[0mtree\u001b[0m\u001b[0;34m=\u001b[0m\u001b[0mregulus\u001b[0m\u001b[0;34m.\u001b[0m\u001b[0mtree\u001b[0m\u001b[0;34m,\u001b[0m \u001b[0mtraverse\u001b[0m\u001b[0;34m=\u001b[0m\u001b[0;34m\"BFS\"\u001b[0m\u001b[0;34m,\u001b[0m \u001b[0mmeasure\u001b[0m\u001b[0;34m=\u001b[0m\u001b[0mmymeasure\u001b[0m\u001b[0;34m,\u001b[0m \u001b[0mcompare\u001b[0m\u001b[0;34m=\u001b[0m\u001b[0;34m\"less\"\u001b[0m\u001b[0;34m,\u001b[0m \u001b[0mreturn_attr\u001b[0m\u001b[0;34m=\u001b[0m\u001b[0;32mlambda\u001b[0m \u001b[0mx\u001b[0m\u001b[0;34m:\u001b[0m\u001b[0mx\u001b[0m\u001b[0;34m.\u001b[0m\u001b[0mid\u001b[0m\u001b[0;34m)\u001b[0m\u001b[0;34m\u001b[0m\u001b[0m\n",
      "\u001b[0;32m<ipython-input-89-836d32684dca>\u001b[0m in \u001b[0;36mcreate_reg\u001b[0;34m(all_pts, k)\u001b[0m\n\u001b[1;32m     17\u001b[0m     \u001b[0mpts\u001b[0m\u001b[0;34m.\u001b[0m\u001b[0mnormalize\u001b[0m\u001b[0;34m(\u001b[0m\u001b[0;34m)\u001b[0m\u001b[0;34m\u001b[0m\u001b[0m\n\u001b[1;32m     18\u001b[0m \u001b[0;34m\u001b[0m\u001b[0m\n\u001b[0;32m---> 19\u001b[0;31m     \u001b[0mregulus\u001b[0m \u001b[0;34m=\u001b[0m \u001b[0mmorse_smale\u001b[0m\u001b[0;34m(\u001b[0m\u001b[0mpts\u001b[0m\u001b[0;34m,\u001b[0m \u001b[0mknn\u001b[0m\u001b[0;34m=\u001b[0m\u001b[0mk\u001b[0m\u001b[0;34m)\u001b[0m\u001b[0;31m#**kwargs)\u001b[0m\u001b[0;34m\u001b[0m\u001b[0m\n\u001b[0m\u001b[1;32m     20\u001b[0m \u001b[0;34m\u001b[0m\u001b[0m\n\u001b[1;32m     21\u001b[0m     \u001b[0mregulus\u001b[0m\u001b[0;34m.\u001b[0m\u001b[0madd_attr\u001b[0m\u001b[0;34m(\u001b[0m\u001b[0;34m'linear'\u001b[0m\u001b[0;34m,\u001b[0m \u001b[0mlinear_model\u001b[0m\u001b[0;34m)\u001b[0m\u001b[0;34m\u001b[0m\u001b[0m\n",
      "\u001b[0;32m/media/orpheus92/OS/Viz/New_Reg/regulus/regulus/topo/morse.py\u001b[0m in \u001b[0;36mmorse_smale\u001b[0;34m(data, measure, knn, beta, norm, graph, gradient, aggregator, debug)\u001b[0m\n\u001b[1;32m     37\u001b[0m \u001b[0;34m\u001b[0m\u001b[0m\n\u001b[1;32m     38\u001b[0m     \u001b[0mbuilder\u001b[0m \u001b[0;34m=\u001b[0m \u001b[0mBuilder\u001b[0m\u001b[0;34m(\u001b[0m\u001b[0mdebug\u001b[0m\u001b[0;34m)\u001b[0m\u001b[0;34m.\u001b[0m\u001b[0mdata\u001b[0m\u001b[0;34m(\u001b[0m\u001b[0my\u001b[0m\u001b[0;34m)\u001b[0m\u001b[0;34m.\u001b[0m\u001b[0mmsc\u001b[0m\u001b[0;34m(\u001b[0m\u001b[0mmsc\u001b[0m\u001b[0;34m.\u001b[0m\u001b[0mbase_partitions\u001b[0m\u001b[0;34m,\u001b[0m \u001b[0mmsc\u001b[0m\u001b[0;34m.\u001b[0m\u001b[0mhierarchy\u001b[0m\u001b[0;34m)\u001b[0m\u001b[0;34m\u001b[0m\u001b[0m\n\u001b[0;32m---> 39\u001b[0;31m     \u001b[0mbuilder\u001b[0m\u001b[0;34m.\u001b[0m\u001b[0mbuild\u001b[0m\u001b[0;34m(\u001b[0m\u001b[0;34m)\u001b[0m\u001b[0;34m\u001b[0m\u001b[0m\n\u001b[0m\u001b[1;32m     40\u001b[0m     \u001b[0;32mif\u001b[0m \u001b[0mdebug\u001b[0m\u001b[0;34m:\u001b[0m\u001b[0;34m\u001b[0m\u001b[0m\n\u001b[1;32m     41\u001b[0m         \u001b[0mbuilder\u001b[0m\u001b[0;34m.\u001b[0m\u001b[0mverify\u001b[0m\u001b[0;34m(\u001b[0m\u001b[0;34m)\u001b[0m\u001b[0;34m\u001b[0m\u001b[0m\n",
      "\u001b[0;32m/media/orpheus92/OS/Viz/New_Reg/regulus/regulus/topo/builder.py\u001b[0m in \u001b[0;36mbuild\u001b[0;34m(self)\u001b[0m\n\u001b[1;32m     84\u001b[0m         \u001b[0;31m# get root\u001b[0m\u001b[0;34m\u001b[0m\u001b[0;34m\u001b[0m\u001b[0m\n\u001b[1;32m     85\u001b[0m         \u001b[0;32mif\u001b[0m \u001b[0mlen\u001b[0m\u001b[0;34m(\u001b[0m\u001b[0mself\u001b[0m\u001b[0;34m.\u001b[0m\u001b[0mactive\u001b[0m\u001b[0;34m)\u001b[0m \u001b[0;34m!=\u001b[0m \u001b[0;36m1\u001b[0m\u001b[0;34m:\u001b[0m\u001b[0;34m\u001b[0m\u001b[0m\n\u001b[0;32m---> 86\u001b[0;31m             \u001b[0;32mraise\u001b[0m \u001b[0mRuntimeError\u001b[0m\u001b[0;34m(\u001b[0m\u001b[0;34m'Error: found {} roots'\u001b[0m\u001b[0;34m.\u001b[0m\u001b[0mformat\u001b[0m\u001b[0;34m(\u001b[0m\u001b[0mlen\u001b[0m\u001b[0;34m(\u001b[0m\u001b[0mself\u001b[0m\u001b[0;34m.\u001b[0m\u001b[0mactive\u001b[0m\u001b[0;34m)\u001b[0m\u001b[0;34m)\u001b[0m\u001b[0;34m)\u001b[0m\u001b[0;34m\u001b[0m\u001b[0m\n\u001b[0m\u001b[1;32m     87\u001b[0m         \u001b[0mself\u001b[0m\u001b[0;34m.\u001b[0m\u001b[0mroot\u001b[0m \u001b[0;34m=\u001b[0m \u001b[0mself\u001b[0m\u001b[0;34m.\u001b[0m\u001b[0mactive\u001b[0m\u001b[0;34m.\u001b[0m\u001b[0mpop\u001b[0m\u001b[0;34m(\u001b[0m\u001b[0;34m)\u001b[0m\u001b[0;34m\u001b[0m\u001b[0m\n\u001b[1;32m     88\u001b[0m \u001b[0;34m\u001b[0m\u001b[0m\n",
      "\u001b[0;31mRuntimeError\u001b[0m: Error: found 4 roots"
     ]
    }
   ],
   "source": [
    "regulus = create_reg(all_pts, k = 100)\n",
    "\n",
    "partitions = list(regulus.partitions())\n",
    "\n",
    "rt = Refine(0.4, tree=regulus.tree, traverse=\"BFS\", measure=mymeasure, compare=\"less\", return_attr=lambda x:x.id)\n",
    "\n",
    "pids = rt.search()\n",
    "\n",
    "print(\"Partitions to resample\", pids)\n",
    "\n",
    "all_pts = regenerate(all_pts, partitions, calc_Hartmanny, pids, step=5)"
   ]
  },
  {
   "cell_type": "code",
   "execution_count": 90,
   "metadata": {},
   "outputs": [],
   "source": [
    "def process(regulus):\n",
    "    from ipyregulus import TreeWidget, TreeView, DetailsView, DataWidget\n",
    "\n",
    "    tree = TreeWidget(regulus.tree)\n",
    "    data = DataWidget(data=regulus)\n",
    "    return tree, data\n",
    "\n",
    "\n",
    "def draw_tree(tree):\n",
    "    treev = show_tree(tree)\n",
    "    w = widgets.Dropdown(\n",
    "        options=['span', 'fitness', 'parent_fitness', 'child_fitness'],\n",
    "        value='span',\n",
    "        description='Attribute:',\n",
    "        disabled=False,\n",
    "    )\n",
    "    panel = SidePanel(title='Fitness')#, side='split-bottom', ref='SidePanel')\n",
    "    with panel:\n",
    "        display(w, treev.view, treev.filter)\n",
    "    return treev\n",
    "\n",
    "\n",
    "def draw_details(data):\n",
    "    details = DetailsView(data=data)\n",
    "\n",
    "    p7 = SidePanel(title='details')\n",
    "    with p7:\n",
    "        display(details)\n",
    "    return details\n",
    "\n",
    "def link_views(treev, details):\n",
    "    widgets.link((treev.view, 'details'), (details, 'show'))"
   ]
  },
  {
   "cell_type": "code",
   "execution_count": 129,
   "metadata": {},
   "outputs": [
    {
     "data": {
      "application/vnd.jupyter.widget-view+json": {
       "model_id": "6c57db1e74a542bb961d3796aa6b55e8",
       "version_major": 2,
       "version_minor": 0
      },
      "text/plain": [
       "TreeView(field='span', tree_model=TreeWidget(attrs={'span': {0: 0.35172351374414945, 1: 0.14417694568712125, 2…"
      ]
     },
     "metadata": {},
     "output_type": "display_data"
    },
    {
     "data": {
      "application/vnd.jupyter.widget-view+json": {
       "model_id": "28e87cad05bd44c18dcf4888630e6c54",
       "version_major": 2,
       "version_minor": 0
      },
      "text/plain": [
       "HBox(children=(Label(value='span'), FloatSlider(value=0.0, max=1.0, step=0.01)))"
      ]
     },
     "metadata": {},
     "output_type": "display_data"
    }
   ],
   "source": [
    "tree, data = process(regulus)\n",
    "treev = draw_tree(tree)\n",
    "details = draw_details(data)\n",
    "link_views(treev, details)\n"
   ]
  },
  {
   "cell_type": "code",
   "execution_count": 72,
   "metadata": {},
   "outputs": [],
   "source": [
    "details.show = list(map(lambda x: x, pids))\n"
   ]
  },
  {
   "cell_type": "markdown",
   "metadata": {},
   "source": [
    "# Create resample class, resampling a user specified partition, for User-guided resampling"
   ]
  },
  {
   "cell_type": "code",
   "execution_count": 28,
   "metadata": {},
   "outputs": [],
   "source": [
    "from resample import get_pts, Resample\n",
    "\n",
    "# Change the following line to use differennt partition to resample\n",
    "ind = get_pts(data.partitions[0],data.pts_loc)\n",
    "\n",
    "selectP = df.loc[ind,:]\n",
    "r = Resample(selectP,pred_method=\"bounding_box\")"
   ]
  },
  {
   "cell_type": "markdown",
   "metadata": {},
   "source": [
    "# A line chart for a specified partition, different interactions could be added "
   ]
  },
  {
   "cell_type": "code",
   "execution_count": 29,
   "metadata": {},
   "outputs": [
    {
     "data": {
      "application/vnd.jupyter.widget-view+json": {
       "model_id": "e8d9a3051c2240b7b6a43e0247e800cc",
       "version_major": 2,
       "version_minor": 0
      },
      "text/plain": [
       "VBox(children=(ToggleButtons(description='Interaction: ', icons=('arrows-h', 'retweet'), layout=Layout(justify…"
      ]
     },
     "metadata": {},
     "output_type": "display_data"
    }
   ],
   "source": [
    "from cyplot import plot\n",
    "myp = plot(selectP,index = 'y',debug=True, dims=['x0','x1','y'])#ptype='PCA')#, ptype='line'/ PCA. line. dims=[]\n",
    "myp.enable(['brush_x','brush'])\n",
    "myp.on('brush_x', r.cb)\n",
    "myp.on('brush', r.cb)\n",
    "\n",
    "display(myp)"
   ]
  },
  {
   "cell_type": "code",
   "execution_count": 30,
   "metadata": {},
   "outputs": [
    {
     "data": {
      "application/vnd.jupyter.widget-view+json": {
       "model_id": "adfc585dbf7041db8dd9a5fe7933125d",
       "version_major": 2,
       "version_minor": 0
      },
      "text/plain": [
       "VBox(children=(ToggleButtons(description='Interaction: ', icons=('arrows-h', 'retweet'), layout=Layout(justify…"
      ]
     },
     "metadata": {},
     "output_type": "display_data"
    }
   ],
   "source": [
    "# from cyplot import plot\n",
    "myp2 = plot(selectP,index = 'y',debug=True, ptype='PCA')#, ptype='line'/ PCA. line. dims=[]\n",
    "myp2.enable(['brush_x','brush'])\n",
    "myp2.on('brush_x', r.cb)\n",
    "myp2.on('brush', r.cb)\n",
    "display(myp2)"
   ]
  },
  {
   "cell_type": "code",
   "execution_count": 31,
   "metadata": {},
   "outputs": [
    {
     "data": {
      "application/vnd.jupyter.widget-view+json": {
       "model_id": "adfc585dbf7041db8dd9a5fe7933125d",
       "version_major": 2,
       "version_minor": 0
      },
      "text/plain": [
       "VBox(children=(ToggleButtons(description='Interaction: ', icons=('arrows-h', 'retweet'), layout=Layout(justify…"
      ]
     },
     "metadata": {},
     "output_type": "display_data"
    }
   ],
   "source": [
    "myp2.enable('x_brush')\n",
    "display(myp2)"
   ]
  },
  {
   "cell_type": "markdown",
   "metadata": {},
   "source": [
    "# random generate pts based on user selected range of function value"
   ]
  },
  {
   "cell_type": "code",
   "execution_count": 32,
   "metadata": {},
   "outputs": [],
   "source": [
    "r.add_samples(5) # user's specified # of samples\n"
   ]
  },
  {
   "cell_type": "markdown",
   "metadata": {},
   "source": [
    "# When user adds enough samples, they could use regression to predict the point locations to resample "
   ]
  },
  {
   "cell_type": "code",
   "execution_count": 33,
   "metadata": {},
   "outputs": [],
   "source": [
    "# Would scale back if needed \n",
    "new_x = r.get_input()\n",
    "new_y = test_function(new_x).reshape(-1,1)\n",
    "new_pts = np.hstack((new_x,new_y))\n",
    "\n"
   ]
  },
  {
   "cell_type": "code",
   "execution_count": 34,
   "metadata": {},
   "outputs": [],
   "source": [
    "all_pts = np.vstack((all_pts, new_pts))"
   ]
  },
  {
   "cell_type": "code",
   "execution_count": null,
   "metadata": {},
   "outputs": [],
   "source": []
  }
 ],
 "metadata": {
  "kernelspec": {
   "display_name": "Python 3",
   "language": "python",
   "name": "python3"
  },
  "language_info": {
   "codemirror_mode": {
    "name": "ipython",
    "version": 3
   },
   "file_extension": ".py",
   "mimetype": "text/x-python",
   "name": "python",
   "nbconvert_exporter": "python",
   "pygments_lexer": "ipython3",
   "version": "3.6.6"
  }
 },
 "nbformat": 4,
 "nbformat_minor": 2
}
