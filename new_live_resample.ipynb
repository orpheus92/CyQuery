{
 "cells": [
  {
   "cell_type": "code",
   "execution_count": 18,
   "metadata": {},
   "outputs": [],
   "source": [
    "# import topopy\n",
    "from test_functions import *\n",
    "# import matplotlib.pyplot as plt\n",
    "# import samplers\n",
    "# import seaborn as sns\n",
    "# from matplotlib import patches, collections\n",
    "import numpy as np\n",
    "from ipywidgets import interact, HTML\n",
    "import random\n",
    "import pdir\n",
    "\n"
   ]
  },
  {
   "cell_type": "code",
   "execution_count": 19,
   "metadata": {},
   "outputs": [],
   "source": [
    "from sidepanel import SidePanel\n",
    "\n",
    "import ipywidgets as widgets\n",
    "\n",
    "from regulus.utils import io\n",
    "from regulus.topo import * \n",
    "from regulus.alg import *\n",
    "from regulus.measures import *\n",
    "from regulus.models import *\n",
    "from regulus.tree import *\n",
    "\n",
    "from ipyregulus import TreeWidget, TreeView, DetailsView, DataWidget\n",
    "from ipyregulus.filters.filters import * \n",
    "from ipyregulus.filters.monitor import Monitor\n",
    "from ipyregulus.tree.has_tree import *\n",
    "from ipyregulus.alg.view import *"
   ]
  },
  {
   "cell_type": "code",
   "execution_count": 20,
   "metadata": {},
   "outputs": [],
   "source": [
    "test_function = gerber_different_heights\n",
    "samples = 200\n",
    "X = np.random.rand(samples,2)\n",
    "Y = test_function(X)\n",
    "\n",
    "# Y = (Y - np.min(Y)) / (np.max(Y) - np.min(Y)) # Not sure whether this is needed \n",
    "\n",
    "all_pts = np.hstack((X,np.expand_dims(Y, axis=1)))\n",
    "\n",
    "# X = samplers.CVTSampler.generate_samples(samples, 2, 1)\n",
    "\n",
    "\n",
    "# msc = topopy.MorseSmaleComplex(graph=\"beta skeleton\", gradient=\"steepest\", max_neighbors=8, beta=1.0)\n",
    "# msc.build(X, Y)\n"
   ]
  },
  {
   "cell_type": "markdown",
   "metadata": {},
   "source": [
    "# NEW PART IN REG to create pts at runtime "
   ]
  },
  {
   "cell_type": "code",
   "execution_count": 21,
   "metadata": {},
   "outputs": [
    {
     "name": "stdout",
     "output_type": "stream",
     "text": [
      "found 7 singles\n",
      "len(idx)= 198\n"
     ]
    },
    {
     "name": "stderr",
     "output_type": "stream",
     "text": [
      "/media/orpheus92/OS/conda/envs/regulus/lib/python3.6/site-packages/numpy/core/fromnumeric.py:51: FutureWarning: 'argmin' is deprecated, use 'idxmin' instead. The behavior of 'argmin'\n",
      "will be corrected to return the positional minimum in the future.\n",
      "Use 'series.values.argmin' to get the position of the minimum now.\n",
      "  return getattr(obj, method)(*args, **kwds)\n",
      "/media/orpheus92/OS/conda/envs/regulus/lib/python3.6/site-packages/numpy/core/fromnumeric.py:51: FutureWarning: 'argmax' is deprecated, use 'idxmax' instead. The behavior of 'argmax'\n",
      "will be corrected to return the positional maximum in the future.\n",
      "Use 'series.values.argmax' to get the position of the maximum now.\n",
      "  return getattr(obj, method)(*args, **kwds)\n"
     ]
    }
   ],
   "source": [
    "from regulus.topo import morse_smale, Regulus\n",
    "from regulus.data.data import Data\n",
    "from regulus.measures import *\n",
    "from regulus.models import *\n",
    "import pandas as pd\n",
    "\n",
    "cols = ['x'+str(i) for i in range(all_pts.shape[1])]\n",
    "\n",
    "cols[-1] = 'y'\n",
    "\n",
    "df = pd.DataFrame(all_pts, columns=cols)\n",
    "\n",
    "pts = Data.from_pts(df)\n",
    "\n",
    "# Normalize here  \n",
    "pts.normalize()\n",
    "\n",
    "regulus = morse_smale(pts, knn=8)#**kwargs)\n",
    "\n",
    "regulus.add_attr('linear', linear_model)\n",
    "regulus.add_attr('fitness', fitness)\n",
    "regulus.add_attr('relative_fitness', relative_fitness)\n",
    "\n",
    "regulus.tree.add_attr('parent_fitness', parent_fitness)\n",
    "regulus.tree.add_attr('child_fitness', child_fitness)\n",
    "regulus.tree.add_attr('size', node_size)\n",
    "regulus.tree.add_attr('rel_size', node_relative_size)\n",
    "regulus.tree.add_attr('span', node_span)\n",
    "\n",
    "\n"
   ]
  },
  {
   "cell_type": "code",
   "execution_count": 22,
   "metadata": {},
   "outputs": [],
   "source": [
    "from ipyregulus import TreeWidget, TreeView, DetailsView, DataWidget\n",
    "\n",
    "tree = TreeWidget(regulus.tree)\n",
    "data = DataWidget(data=regulus)"
   ]
  },
  {
   "cell_type": "markdown",
   "metadata": {},
   "source": [
    "# Use compute paraent similarity in the tree structure, stop at the level where value is below threshold "
   ]
  },
  {
   "cell_type": "code",
   "execution_count": 23,
   "metadata": {},
   "outputs": [],
   "source": [
    "import refine_topo\n",
    "from resample import get_pts, Resample\n",
    "\n",
    "# new_x = np.vstack((X,X2))\n",
    "dims = all_pts.shape[1]-1\n",
    "new_x = np.array([], dtype=np.float64).reshape(0,dims)\n",
    "\n",
    "out = refine_topo.check_fit(0.5, tree=tree, reg_data = data, raw_data=all_pts)\n",
    "for i in out:\n",
    "    ind = i.id\n",
    "    ind = get_pts(data.partitions[ind],data.pts_loc)\n",
    "    cur_p = df.loc[ind,:]\n",
    "    r = Resample(cur_p)\n",
    "    r.add_samples(5)\n",
    "    out = r.get_input()\n",
    "    new_x = np.vstack((new_x, out))\n",
    "    # May need to rm duplicates \n",
    "\n",
    "new_y = test_function(new_x).reshape(-1,1)\n",
    "new_pts = np.hstack((new_x,new_y))\n",
    "\n",
    "all_pts2 = np.vstack((all_pts, new_pts))\n"
   ]
  },
  {
   "cell_type": "code",
   "execution_count": 24,
   "metadata": {},
   "outputs": [
    {
     "data": {
      "text/plain": [
       "(235, 3)"
      ]
     },
     "execution_count": 24,
     "metadata": {},
     "output_type": "execute_result"
    }
   ],
   "source": [
    "all_pts2.shape"
   ]
  },
  {
   "cell_type": "markdown",
   "metadata": {},
   "source": [
    "# TreeView"
   ]
  },
  {
   "cell_type": "code",
   "execution_count": 25,
   "metadata": {},
   "outputs": [
    {
     "data": {
      "application/vnd.jupyter.widget-view+json": {
       "model_id": "c13ba1b40ae1483d879866a077313cee",
       "version_major": 2,
       "version_minor": 0
      },
      "text/plain": [
       "TreeView(field='span', tree_model=TreeWidget(attrs={'span': {0: 0.6918890420958714, 1: 0.07275394057371509, 2:…"
      ]
     },
     "metadata": {},
     "output_type": "display_data"
    },
    {
     "data": {
      "application/vnd.jupyter.widget-view+json": {
       "model_id": "9c0354a1a32c4901b85f40bd426c442f",
       "version_major": 2,
       "version_minor": 0
      },
      "text/plain": [
       "HBox(children=(Label(value='span'), FloatSlider(value=0.0, max=1.0, step=0.01)))"
      ]
     },
     "metadata": {},
     "output_type": "display_data"
    },
    {
     "data": {
      "text/plain": [
       "<traitlets.traitlets.link at 0x7f5a415039b0>"
      ]
     },
     "execution_count": 25,
     "metadata": {},
     "output_type": "execute_result"
    }
   ],
   "source": [
    "v2 = show_tree(tree)\n",
    "\n",
    "w = widgets.Dropdown(\n",
    "    options=['span', 'fitness', 'parent_fitness', 'child_fitness'],\n",
    "    value='span',\n",
    "    description='Attribute:',\n",
    "    disabled=False,\n",
    ")\n",
    "panel = SidePanel(title='Fitness')#, side='split-bottom', ref='SidePanel')\n",
    "with panel:\n",
    "    display(w, v2.view, v2.filter)\n",
    "widgets.link((w, 'value'), (v2.view, 'field'))"
   ]
  },
  {
   "cell_type": "markdown",
   "metadata": {},
   "source": [
    "# Details View"
   ]
  },
  {
   "cell_type": "code",
   "execution_count": 26,
   "metadata": {},
   "outputs": [],
   "source": [
    "details = DetailsView(data=data)\n",
    "\n",
    "p7 = SidePanel(title='details')\n",
    "with p7:\n",
    "    display(details)"
   ]
  },
  {
   "cell_type": "markdown",
   "metadata": {},
   "source": [
    "# Linking Two Views"
   ]
  },
  {
   "cell_type": "code",
   "execution_count": 27,
   "metadata": {},
   "outputs": [
    {
     "data": {
      "text/plain": [
       "<traitlets.traitlets.link at 0x7f5a41503eb8>"
      ]
     },
     "execution_count": 27,
     "metadata": {},
     "output_type": "execute_result"
    }
   ],
   "source": [
    "\n",
    "widgets.link((v2.view, 'details'), (details, 'show'))\n"
   ]
  },
  {
   "cell_type": "markdown",
   "metadata": {},
   "source": [
    "# Create resample class, resampling a user specified partition, for User-guided resampling"
   ]
  },
  {
   "cell_type": "code",
   "execution_count": 28,
   "metadata": {},
   "outputs": [],
   "source": [
    "from resample import get_pts, Resample\n",
    "\n",
    "# Change the following line to use differennt partition to resample\n",
    "ind = get_pts(data.partitions[0],data.pts_loc)\n",
    "\n",
    "selectP = df.loc[ind,:]\n",
    "r = Resample(selectP,pred_method=\"bounding_box\")"
   ]
  },
  {
   "cell_type": "markdown",
   "metadata": {},
   "source": [
    "# A line chart for a specified partition, different interactions could be added "
   ]
  },
  {
   "cell_type": "code",
   "execution_count": 29,
   "metadata": {},
   "outputs": [
    {
     "data": {
      "application/vnd.jupyter.widget-view+json": {
       "model_id": "421b7ff1753b427f99bb116630c42fdd",
       "version_major": 2,
       "version_minor": 0
      },
      "text/plain": [
       "VBox(children=(ToggleButtons(description='Interaction: ', icons=('arrows-h', 'retweet'), layout=Layout(justify…"
      ]
     },
     "metadata": {},
     "output_type": "display_data"
    }
   ],
   "source": [
    "from cyplot import plot\n",
    "myp = plot(selectP,index = 'y',debug=True, dims=['x0','x1','y'])#ptype='PCA')#, ptype='line'/ PCA. line. dims=[]\n",
    "myp.enable(['brush_x','brush'])\n",
    "myp.on('brush_x', r.cb)\n",
    "myp.on('brush', r.cb)\n",
    "\n",
    "display(myp)"
   ]
  },
  {
   "cell_type": "code",
   "execution_count": 30,
   "metadata": {},
   "outputs": [
    {
     "data": {
      "application/vnd.jupyter.widget-view+json": {
       "model_id": "e043f2d6ee154acf8a9bed8b3b88714a",
       "version_major": 2,
       "version_minor": 0
      },
      "text/plain": [
       "VBox(children=(ToggleButtons(description='Interaction: ', icons=('arrows-h', 'retweet'), layout=Layout(justify…"
      ]
     },
     "metadata": {},
     "output_type": "display_data"
    }
   ],
   "source": [
    "# from cyplot import plot\n",
    "myp2 = plot(selectP,index = 'y',debug=True, ptype='PCA')#, ptype='line'/ PCA. line. dims=[]\n",
    "myp2.enable(['brush_x','brush'])\n",
    "myp2.on('brush_x', r.cb)\n",
    "myp2.on('brush', r.cb)\n",
    "display(myp2)"
   ]
  },
  {
   "cell_type": "code",
   "execution_count": 31,
   "metadata": {},
   "outputs": [
    {
     "data": {
      "application/vnd.jupyter.widget-view+json": {
       "model_id": "e043f2d6ee154acf8a9bed8b3b88714a",
       "version_major": 2,
       "version_minor": 0
      },
      "text/plain": [
       "VBox(children=(ToggleButtons(description='Interaction: ', icons=('arrows-h', 'retweet'), layout=Layout(justify…"
      ]
     },
     "metadata": {},
     "output_type": "display_data"
    }
   ],
   "source": [
    "myp2.enable('x_brush')\n",
    "display(myp2)"
   ]
  },
  {
   "cell_type": "markdown",
   "metadata": {},
   "source": [
    "# random generate pts based on user selected range of function value"
   ]
  },
  {
   "cell_type": "code",
   "execution_count": 32,
   "metadata": {},
   "outputs": [],
   "source": [
    "r.add_samples(5) # user's specified # of samples\n"
   ]
  },
  {
   "cell_type": "markdown",
   "metadata": {},
   "source": [
    "# When user adds enough samples, they could use regression to predict the point locations to resample "
   ]
  },
  {
   "cell_type": "code",
   "execution_count": 33,
   "metadata": {},
   "outputs": [],
   "source": [
    "# Would scale back if needed \n",
    "new_x = r.get_input()\n",
    "new_y = test_function(new_x).reshape(-1,1)\n",
    "new_pts = np.hstack((new_x,new_y))\n",
    "\n"
   ]
  },
  {
   "cell_type": "code",
   "execution_count": 34,
   "metadata": {},
   "outputs": [],
   "source": [
    "all_pts = np.vstack((all_pts, new_pts))"
   ]
  },
  {
   "cell_type": "code",
   "execution_count": null,
   "metadata": {},
   "outputs": [],
   "source": []
  }
 ],
 "metadata": {
  "kernelspec": {
   "display_name": "Python 3",
   "language": "python",
   "name": "python3"
  },
  "language_info": {
   "codemirror_mode": {
    "name": "ipython",
    "version": 3
   },
   "file_extension": ".py",
   "mimetype": "text/x-python",
   "name": "python",
   "nbconvert_exporter": "python",
   "pygments_lexer": "ipython3",
   "version": "3.6.6"
  }
 },
 "nbformat": 4,
 "nbformat_minor": 2
}
